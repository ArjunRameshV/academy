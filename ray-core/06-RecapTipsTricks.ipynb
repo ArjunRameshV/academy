{
 "cells": [
  {
   "cell_type": "markdown",
   "metadata": {},
   "source": [
    "# Recap, Tips, and Tricks\n",
    "\n",
    "This short lesson recaps what we've learned. It also expands on a few techniques covered in the previous lessons."
   ]
  },
  {
   "cell_type": "markdown",
   "metadata": {},
   "source": [
    "## For More Information on Ray and Anyscale\n",
    "\n",
    "* [ray.io](https://ray.io): The Ray website. In particular:\n",
    "    * [Documentation](https://ray.readthedocs.io/en/latest/): The full Ray documentation\n",
    "    * [Blog](https://medium.com/distributed-computing-with-ray): The Ray blog\n",
    "    * [GitHub](https://github.com/ray-project/ray): The source code for Ray\n",
    "* [anyscale.com](https://anyscale.com/): The company developing Ray and these tutorials. In particular:\n",
    "    * [Blog](https://anyscale.com/blog/): The Anyscale blog\n",
    "    * [Events](https://anyscale.com/events/): Online events, [Ray Summit](http://raysummit.org), and meetups   \n",
    "    * [Academy](https://anyscale.com/academy/): Training for Ray and Anyscale products    \n",
    "    * [Jobs](https://jobs.lever.co/anyscale): Yes, we're hiring!\n",
    "* Community:\n",
    "    * [Ray Slack](ray-distributed.slack.com): The best forum for help on Ray. Use the `#tutorials` channel to ask for help on these tutorials!\n",
    "    * [ray-dev mailing list](https://groups.google.com/forum/?nomobile=true#!forum/ray-dev)\n",
    "    * [@raydistributed](https://twitter.com/raydistributed)\n",
    "    * [@anyscalecompute](https://twitter.com/anyscalecompute)"
   ]
  },
  {
   "cell_type": "markdown",
   "metadata": {},
   "source": [
    "## General Task and Actor Tips\n",
    "\n",
    "* To create a task from a function or an actor from a class, annotate it with `@ray.remote`.\n",
    "* Invoke tasks and actor methods (including the constructor) with `foo.remote(...)`.\n",
    "* Invocations return an `ObjectID` for a _future_. Use `ray.get(id)` to return the value.\n",
    "* However, `ray.get()` blocks, so consider using `ray.wait()` when waiting for a collection of futures, so as they become available, you can retrieve them with `ray.get()` (which won't block on available results), then process the results, all while waiting for the rest to finish.\n",
    "* Pick functions to parallelize that do enough work so that the Ray \"remoting\" overhead is not significant. Very short functions will actually yield lower performance if convert to tasks. \n",
    "* Similarly, avoid too many actors, as each one is pinned to memory until no longer needed."
   ]
  },
  {
   "cell_type": "markdown",
   "metadata": {},
   "source": [
    "### Using Existing Functions and Classes\n",
    "\n",
    "An existing function can be used as a task by defining a new task function that calls. For example:\n",
    "\n",
    "```python\n",
    "def work(args):\n",
    "    do_work(...)\n",
    "    \n",
    "@ray.remote\n",
    "def remote_work(args):\n",
    "    do_work(args)\n",
    "```\n",
    "\n",
    "This allows you to use both versions as appropriate.\n",
    "\n",
    "Similarly, existing classes can be subclassed to create actors:\n",
    "\n",
    "```python\n",
    "class Counter():\n",
    "    def __init__(self, init_count):\n",
    "        self.count = init_count\n",
    "        \n",
    "    def increment():\n",
    "        self.count +=1\n",
    "        return self.count\n",
    "    \n",
    "@ray.remote\n",
    "class RemoteCounter(Counter):\n",
    "    def __init__(self, init_count):\n",
    "        super().__init__(init_count)\n",
    "        \n",
    "    def get_count():\n",
    "        return self.count\n",
    "```\n",
    "\n",
    "Note that we added a `get_count()` method, because member attributes can't be accessed directly, in contrast with normal classes.\n",
    "\n",
    "However, Ray currently doesn't support an actor subclassing another actor. Only regular Python classes can be used."
   ]
  },
  {
   "cell_type": "markdown",
   "metadata": {},
   "source": [
    "## Using the Ray Dashboard\n",
    "\n",
    "### Opening the Dashboard\n",
    "\n",
    "As it executes, `ray.init` prints the dashboard URL.\n",
    "\n",
    "You can get the URL later if needed using `ray.get_webui_url()`.\n",
    "\n",
    "### Profiling Actors\n",
    "\n",
    "The _Logical View_ offers a powerful and convenient way to profile actor performance using [flame graphs](http://www.brendangregg.com/flamegraphs.html). Details are in the [Dashboard docs](https://ray.readthedocs.io/en/latest/ray-dashboard.html#ray-dashboard).\n",
    "\n",
    "This feature uses [py-spy](https://github.com/benfred/py-spy) to instrument and profile the application. Unfortunately, you may be asked to enter the `sudo` password to use this feature, because of the way it instruments processes. Currently, the only way to get this to work with the Dashboard launched from notebooks is to use _passwordless sudo_. On MacOS and Linux systems, it should be sufficient to add a line like the following the `/etc/sudoers` (edited using `sudo visudo`!):\n",
    "\n",
    "```\n",
    "yourusername ALL = (ALL) NOPASSWD: ALL\n",
    "```\n",
    "\n",
    "Carefully the consider the security implications of this change!!\n",
    "\n",
    "The alternative is to run your Python application from a command line, then open the Dashboard. When you click a link to profile code, as discussed next, you'll be prompted for your password in the terminal. (The prompt could get mixed with other output from the program.) Enter your password there and the profiling will continue.\n",
    "\n",
    "Using either approach, to profile with the Dashboard, click the _Logical View_ tab. It shows a list of actors that have been run or are running. Find the running actor that appears to be the one you want to profile. You'll see a line like this:\n",
    "\n",
    "> Actor <hex_number> (Profile for 10s 30s 60s) Kill Actor\n",
    "\n",
    "The _10s, 30s, 60s_ are links. Click the time you want (pick one that's shorter than the remaining execution time). \n",
    "\n",
    "When it finishes, click _Profile results_. A new tab opens with the _speedscope_ view of the data, which shows a flame graph. You can learn more about navigating and using this tool at the [speedscope GitHub site](https://github.com/jlfwong/speedscope)."
   ]
  },
  {
   "cell_type": "markdown",
   "metadata": {},
   "source": [
    "A lot of the data will be related to actor messaging and not normally interesting. Look at the following screen shot, cropped from a screen shot in [lesson 4]():\n",
    "\n",
    "![Conway's GoL Flame Graph](../images/ConwaysGameOfLife-FlameGraph-crop.png)"
   ]
  },
  {
   "cell_type": "markdown",
   "metadata": {},
   "source": [
    "Note the arrow and pagination on the upper-right hand side. Sometimes navigating pages will take you to interesting data. Alto, the _Left Heavy_ button on the upper-left hand side is clicked, so the view is zoomed into the interesting data about the `step()` method profiled here."
   ]
  },
  {
   "cell_type": "markdown",
   "metadata": {},
   "source": [
    "## Profiling Code with ray.timeline()\n",
    "\n",
    "The other built-in way to profile performance uses `ray.timeline(file)` ([documentation](https://ray.readthedocs.io/en/latest/package-ref.html#ray.timeline)). It requires a Chrome web browser to view the data. This is the only way to profile tasks.\n",
    "\n",
    "Use it as follows:\n",
    "\n",
    "```\n",
    "ray.timeline('timeline.txt')\n",
    "my_long_task.remote(...)  # task to profile\n",
    "```\n",
    "\n",
    "Then, open chrome://tracing in the Chrome web browser (only Chrome is supported) and click the _load_ button to load the file. To zoom in or out, click the asymmetric up-down arrow button. To move around, click the crossed arrow and drag a section in view. Click on a box in the timeline to see details about it. \n",
    "\n",
    "Look for blocks corresponding to long-running tasks and look for idle periods, which reflect processing outside the context of Ray."
   ]
  },
  {
   "cell_type": "markdown",
   "metadata": {},
   "source": [
    "## Using Libraries\n",
    "\n",
    "If tasks or actors call (or subclass) library code in your project and that code isn't in a subdirectory of the driver, make sure that the process starting Ray has the correct `PYTHONPATH` set to the library location. For example,\n",
    "\n",
    "```python\n",
    "PYTHONPATH=$PYTHONPATH:/path/to/library python MyRayAppDriver.py\n",
    "```"
   ]
  },
  {
   "cell_type": "markdown",
   "metadata": {},
   "source": [
    "## Cleaning Up Actors\n",
    "\n",
    "Working in a constrained environment, you my find it useful to kill actors that are no longer needed, but still have references to them, such as in notebooks. More information is in the docs for [ray.kill()](https://ray.readthedocs.io/en/latest/package-ref.html#ray.kill).\n",
    "\n",
    "* `ray.kill(actor_id)`: Terminate abruptly\n",
    "* `actor_id.__ray_terminate__.remote()`: Clean up with a nicer termination"
   ]
  },
  {
   "cell_type": "markdown",
   "metadata": {},
   "source": [
    "## Debugging and Troubleshooting\n",
    "\n",
    "### ray.init() Fails\n",
    "\n",
    "If you get an error like `... INFO services.py:... -- Failed to connect to the redis server, retrying.`, it probably means you are running a VPN on your machine. [At this time](https://github.com/ray-project/ray/issues/6573), you can't use `ray.init()` with a VPN running. You'll have to stop your VPN to run `ray.init()`, then once it finishes, you can restart your VPN.\n",
    "\n",
    "### Annoyances\n",
    "\n",
    "If `ray.init()` worked (for example, you see a message like _View the Ray dashboard at localhost:8265_) and you're using a Mac, you may get several annoying dialogs asking you if you want to allow incoming connections for `python` and/or `redis-server`. Click \"Accept\" for each one and they shouldn't appear again during this lesson. MacOS is trying to verify if these executables have been properly signed. Ray uses Redis. If you installed Python using Anaconda or other mechanism, then it probably isn't properly signed from the point of view of MacOS. To permanently fix this problem, [see this StackExchange post](https://apple.stackexchange.com/questions/3271/how-to-get-rid-of-firewall-accept-incoming-connections-dialog)."
   ]
  }
 ],
 "metadata": {
  "kernelspec": {
   "display_name": "Python 3",
   "language": "python",
   "name": "python3"
  },
  "language_info": {
   "codemirror_mode": {
    "name": "ipython",
    "version": 3
   },
   "file_extension": ".py",
   "mimetype": "text/x-python",
   "name": "python",
   "nbconvert_exporter": "python",
   "pygments_lexer": "ipython3",
   "version": "3.7.6"
  },
  "toc": {
   "base_numbering": 1,
   "nav_menu": {},
   "number_sections": false,
   "sideBar": true,
   "skip_h1_title": false,
   "title_cell": "Table of Contents",
   "title_sidebar": "Contents",
   "toc_cell": false,
   "toc_position": {
    "height": "calc(100% - 180px)",
    "left": "10px",
    "top": "150px",
    "width": "382.391px"
   },
   "toc_section_display": true,
   "toc_window_display": true
  }
 },
 "nbformat": 4,
 "nbformat_minor": 4
}
