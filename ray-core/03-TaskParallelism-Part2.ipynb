{
 "cells": [
  {
   "cell_type": "markdown",
   "metadata": {},
   "source": [
    "# Ray Concepts - Task Parallelism (Part 2)\n",
    "\n",
    "The previous lesson explored Ray's core concepts and how they work. We learned how to define Ray _tasks_, run them, and retrieve the results. We also started learning about how Ray schedules tasks in a distributed environment.\n",
    "\n",
    "This lesson completes the discussion of Ray tasks by exploring how task dependencies are handled. We'll finish with a look under the hood at Ray's architecture and runtime behavior.\n",
    "\n",
    "> **Tip:** Recall that the [Ray Package Reference](https://ray.readthedocs.io/en/latest/package-ref.html) in the [Ray Docs](https://ray.readthedocs.io/en/latest/) is useful for exploring the API features we'll learn."
   ]
  },
  {
   "cell_type": "code",
   "execution_count": 1,
   "metadata": {},
   "outputs": [],
   "source": [
    "# Imports and initialize Ray. We're adding NumPy for the examples and the tutorial `util` library:\n",
    "\n",
    "import ray, time, sys    # New notebook, so new process\n",
    "import numpy as np       # Used for examples\n",
    "sys.path.append('..')    # Import our own libraries starting in the project root directory\n",
    "\n",
    "from util.printing import pnd, pd"
   ]
  },
  {
   "cell_type": "code",
   "execution_count": 2,
   "metadata": {},
   "outputs": [
    {
     "name": "stderr",
     "output_type": "stream",
     "text": [
      "2020-04-09 11:02:27,058\tINFO resource_spec.py:204 -- Starting Ray with 4.69 GiB memory available for workers and up to 2.36 GiB for objects. You can adjust these settings with ray.init(memory=<bytes>, object_store_memory=<bytes>).\n",
      "2020-04-09 11:02:27,410\tINFO services.py:1146 -- View the Ray dashboard at \u001b[1m\u001b[32mlocalhost:8265\u001b[39m\u001b[22m\n"
     ]
    },
    {
     "data": {
      "text/plain": [
       "{'node_ip_address': '192.168.1.149',\n",
       " 'redis_address': '192.168.1.149:26031',\n",
       " 'object_store_address': '/tmp/ray/session_2020-04-09_11-02-27_051258_29191/sockets/plasma_store',\n",
       " 'raylet_socket_name': '/tmp/ray/session_2020-04-09_11-02-27_051258_29191/sockets/raylet',\n",
       " 'webui_url': 'localhost:8265',\n",
       " 'session_dir': '/tmp/ray/session_2020-04-09_11-02-27_051258_29191'}"
      ]
     },
     "execution_count": 2,
     "metadata": {},
     "output_type": "execute_result"
    }
   ],
   "source": [
    "ray.init(ignore_reinit_error=True)"
   ]
  },
  {
   "cell_type": "markdown",
   "metadata": {},
   "source": [
    "Let's work with a new remote function. Previously, our `expensive` and `expensive_task` functions returned tuples that included time durations. Obviously the durations were useful for understanding how long the functions took to execute. Now, it will be more convenient to not return \"metadata\" like this, but just data values that we care about, because we are going to pass them to other functions. \n",
    "\n",
    "Hence, we'll define _dependentcy_ relationships between tasks. We'll learn how Ray handles these dependent, asynchronous computations.\n",
    "\n",
    "So, let's define a task to return a random NumPy array of some size `n`. As before, we'll add a sleep time, one tenth the size of `n`:"
   ]
  },
  {
   "cell_type": "code",
   "execution_count": 3,
   "metadata": {},
   "outputs": [],
   "source": [
    "@ray.remote\n",
    "def make_array(n):\n",
    "    time.sleep(n/10.0)\n",
    "    return np.random.standard_normal(n)"
   ]
  },
  {
   "cell_type": "markdown",
   "metadata": {},
   "source": [
    "Now define a task that can add two NumPy arrays together. The arrays need to be the same size, but we'll ignore any checking for this requirement."
   ]
  },
  {
   "cell_type": "code",
   "execution_count": 4,
   "metadata": {},
   "outputs": [],
   "source": [
    "@ray.remote\n",
    "def add_arrays(a1, a2):\n",
    "    time.sleep(a1.size/10.0)\n",
    "    return np.add(a1, a2)"
   ]
  },
  {
   "cell_type": "markdown",
   "metadata": {},
   "source": [
    "Now lets use them!"
   ]
  },
  {
   "cell_type": "code",
   "execution_count": 5,
   "metadata": {},
   "outputs": [
    {
     "name": "stdout",
     "output_type": "stream",
     "text": [
      "[ 1.19359074  0.80318181  2.59254066 -0.03606983 -0.64729178 -0.29704776\n",
      " -1.58681142 -0.84438872 -1.18256379  1.7343043  -0.86034226  1.5004233\n",
      "  0.73785033 -0.83608832  0.02295084 -1.21924252 -0.87437391 -2.08081722\n",
      " -0.40505855  0.61635172]\n",
      "Total time: duration:  4.028 seconds\n"
     ]
    }
   ],
   "source": [
    "start = time.time()\n",
    "id1 = make_array.remote(20)\n",
    "id2 = make_array.remote(20)\n",
    "id3 = add_arrays.remote(id1, id2)\n",
    "print(ray.get(id3))\n",
    "pd(time.time() - start, prefix=\"Total time:\")"
   ]
  },
  {
   "cell_type": "markdown",
   "metadata": {},
   "source": [
    "Something subtle and \"magical\" happened here; when we called `add_arrays`, we didn't need to call `ray.get()` first for `id1` and `id2`, since `add_arrays` expects NumPy arrays. Because `add_arrays` is a Ray task, Ray automatically does the extraction for us, so we can write code that looks more natural.\n",
    "\n",
    "Furthermore, note that the `add_arrays` task effectively depends on the outputs of the two `make_array` tasks. Ray won't run `add_arrays` until the other tasks are finished. Hence, _Ray handles task dependencies automatically for us._ \n",
    "\n",
    "This is why the elapsed time is about 4 seconds. We used a size of 20, so we slept 2 seconds in each call to `make_array`, but those happened in parallel, _followed_ by a second sleep of 2 seconds in `add_arrays`."
   ]
  },
  {
   "cell_type": "markdown",
   "metadata": {},
   "source": [
    "Recall from the previous lesson that we explored when to call `ray.get()` to avoid forcing tasks to become synchronous when they should be asynchronous. This additional example illustrates two key points:\n",
    "\n",
    "* _Don't ask for results you don't need._\n",
    "* _Don't ask for the results you need until you really need them._\n",
    "\n",
    "We don't need to see the objects for `id1` and `id2`. We only need the final array for `id3`."
   ]
  },
  {
   "cell_type": "markdown",
   "metadata": {},
   "source": [
    "## Using ray.wait() with ray.get()\n",
    "\n",
    "We've seen several examples of the best idiomatic way to use `ray.get()`. Here again is an example from the last lesson:\n",
    "\n",
    "```python\n",
    "start = time.time()\n",
    "ids = [expensive_task.remote(n) for n in range(5)]  # Fire off the asynchronous tasks\n",
    "for n2, duration in ray.get(ids):                   # Retrieve all the values from the list of futures\n",
    "    p(n2, duration)\n",
    "pd(time.time() - start, prefix=\"Total time:\")\n",
    "```\n",
    "\n",
    "Let's try it again with our new methods:"
   ]
  },
  {
   "cell_type": "code",
   "execution_count": 6,
   "metadata": {},
   "outputs": [
    {
     "name": "stdout",
     "output_type": "stream",
     "text": [
      "0: []\n",
      "10: [-0.00746376  1.51015548 -0.10346581  0.46925812 -3.18210131 -2.91379975\n",
      "  3.80864868 -1.11616834  0.11588832 -3.73226179]\n",
      "20: [ 1.54983569 -0.81686357  2.60341966 -0.42220452 -2.7620832   2.32624521\n",
      " -2.25088614  2.25651266 -2.54055303 -0.42301281 -0.67274209  0.04013319\n",
      "  1.63945981  0.35830606 -1.62811846 -0.95519253  0.33825708  1.24650194\n",
      "  1.32824537 -0.18716475]\n",
      "30: [ 0.18799548  1.24683295 -2.18709975 -2.21858195  0.01928234 -1.31068506\n",
      " -1.01383147  4.06966548 -1.84651065  0.44773329 -0.028698    3.76742277\n",
      " -1.029437    0.54344869 -0.43253629 -1.20158117 -1.02505303  1.18738617\n",
      "  0.14005394  2.69288496  3.50965665  0.09535116 -0.54410202 -0.99200292\n",
      "  1.50944276  3.9124867  -1.72262906  0.74173623  3.96187394 -1.59007863]\n",
      "40: [-0.7242384  -2.29397812  0.91929684  1.17995228 -2.06601651 -0.38821553\n",
      "  1.17720197 -0.90278466 -3.7564516   3.37721051  0.29695218 -1.22411161\n",
      "  4.1542128  -0.56829646 -1.04566615  2.29113107  1.80499828 -1.13590126\n",
      " -0.34820494 -2.77249547 -1.96428506  3.2697764   0.06161492 -0.72938757\n",
      " -6.21956756  0.05876201  1.38330304 -0.04230159 -1.89201649  1.6756059\n",
      " -4.38905273  2.10313942 -4.13863102 -0.11867584 -1.6844004  -1.06967049\n",
      "  1.84401898 -2.9542249  -2.9024731   0.75504781]\n",
      "Total time: duration:  8.023 seconds\n"
     ]
    }
   ],
   "source": [
    "start = time.time()\n",
    "array_ids = [make_array.remote(n*10) for n in range(5)]\n",
    "added_array_ids = [add_arrays.remote(id, id) for id in array_ids]\n",
    "for array in ray.get(added_array_ids):\n",
    "    print(f'{array.size}: {array}')\n",
    "pd(time.time() - start, prefix=\"Total time:\")"
   ]
  },
  {
   "cell_type": "markdown",
   "metadata": {},
   "source": [
    "On my machine, I waited 8 seconds and then everything was printed at once."
   ]
  },
  {
   "cell_type": "markdown",
   "metadata": {},
   "source": [
    "There are two fundamental problems with the way we've used `ray.get()` so far:\n",
    "\n",
    "1. There's no timeout, in case something gets \"hung\".\n",
    "2. We have to wait for _all_ the objects to be available before `ray.get()` returns.\n",
    "\n",
    "The ability to specify a timeout is essential in production code as a defensive measure. Many potential problems could happen in a real production system, any one of which could cause the task we're waiting on to take an abnormally long time to complete or never complete. Our application would be deadlocked waiting on this task. Hence, it's **strongly recommended** in production software to always use timeouts on blocking calls, so that the application can attempt some sort of recovery in situations like this, or at least report the error and \"degrade gracefully\".\n",
    "\n",
    "Actually, there _is_ a `timeout=<value>` option you can pass to `ray.get()` ([documentation](https://ray.readthedocs.io/en/latest/package-ref.html#ray.get)), but it will most likely be removed in a future release of Ray. Why remove it if timeouts are important? This change will simplify the implementation of `ray.get()` and encourage the use of `ray.wait()` for waiting ([documentation](https://ray.readthedocs.io/en/latest/package-ref.html#ray.wait)) instead, followed by using `ray.get()` to retrieve values for tasks that `ray.wait()` tells us are finished. \n",
    "\n",
    "Using `ray.wait()` is also the way to fix the second problem with using `ray.get()` by itself, that we have to wait for all tasks to finish before we get any values back. Some of those tasks might finish quickly, like our contrived examples that sleep for short durations compared to other invocations. \n",
    "\n",
    "When you have a list of asynchronous tasks, you want to process the results of them as soon they become available, even while others continue to run. Use `ray.wait()` for this purpose.\n",
    "\n",
    "Therefore, while `ray.get()` is simple and convenient, for _production code_, we recommend using `ray.wait()`, **with** timeouts, for blocking on running tasks. Then use `ray.get()` to retrieve values of completed tasks. Now we'll learn how to use these two together. For a longer discussion on `ray.wait()`, see [this blog post](https://medium.com/distributed-computing-with-ray/ray-tips-and-tricks-part-i-ray-wait-9ed7a0b9836d).\n",
    "\n",
    "Here is the previous example rewritten to use `ray.wait()`:"
   ]
  },
  {
   "cell_type": "code",
   "execution_count": 7,
   "metadata": {},
   "outputs": [
    {
     "name": "stdout",
     "output_type": "stream",
     "text": [
      "Returned   1 completed tasks. (elapsed time:  0.004)\n",
      "0: []\n",
      "Returned   1 completed tasks. (elapsed time:  2.010)\n",
      "10: [ 1.83806876 -4.96113183  0.51568549 -3.72069353 -0.79526441  2.51089464\n",
      "  0.07560527 -1.73313779 -0.27586426  1.36562054]\n",
      "Returned   1 completed tasks. (elapsed time:  4.013)\n",
      "20: [-1.11741918  0.30588653 -1.46338788 -0.9312212   2.67575836  2.05884653\n",
      "  1.06104454 -0.16983274  3.12908962  0.88389943 -4.21013914  6.456811\n",
      "  0.4912645   0.25362622  3.29218034  1.05894825 -0.50409912  4.10455236\n",
      " -2.67594573  0.0854673 ]\n",
      "Returned   1 completed tasks. (elapsed time:  6.015)\n",
      "30: [-3.57984093 -0.81773609 -4.20217648  0.13934324 -0.73219012  0.83268106\n",
      "  0.60210076 -0.84958173 -0.43063911 -2.19425422  1.68319933  1.7211223\n",
      "  0.73145622  3.16717009 -0.56633676  2.09332714 -2.95193651  1.14809513\n",
      "  0.35415109  0.91777087  2.79533238  0.83691489  2.61802381 -3.34685928\n",
      "  1.8350518  -1.74699111 -3.00123569 -1.88022392  0.25658696 -3.12006269]\n",
      "Returned   1 completed tasks. (elapsed time:  8.010)\n",
      "40: [ 0.79106716 -0.81954901 -0.33036802 -2.11548523  0.23823655 -3.31275633\n",
      "  0.85721124  0.16494184  2.26840141 -0.49581266  1.70427365 -0.84669223\n",
      "  1.85330903 -3.61001067  1.6682893   0.8211157   1.00853048  0.39376335\n",
      " -3.26366824 -5.00511956 -1.41722744  1.64818     0.04859971  1.7446734\n",
      "  1.82535661 -0.69070427  1.17152023 -3.62221619  4.12121887  0.81002598\n",
      " -0.80779338  2.72042488  1.8471057  -0.95606889 -0.3542233  -0.03816013\n",
      " -0.30792519 -0.94153977 -0.97950362 -5.58144557]\n",
      "\n",
      "all arrays: [array([], dtype=float64), array([ 1.83806876, -4.96113183,  0.51568549, -3.72069353, -0.79526441,\n",
      "        2.51089464,  0.07560527, -1.73313779, -0.27586426,  1.36562054]), array([-1.11741918,  0.30588653, -1.46338788, -0.9312212 ,  2.67575836,\n",
      "        2.05884653,  1.06104454, -0.16983274,  3.12908962,  0.88389943,\n",
      "       -4.21013914,  6.456811  ,  0.4912645 ,  0.25362622,  3.29218034,\n",
      "        1.05894825, -0.50409912,  4.10455236, -2.67594573,  0.0854673 ]), array([-3.57984093, -0.81773609, -4.20217648,  0.13934324, -0.73219012,\n",
      "        0.83268106,  0.60210076, -0.84958173, -0.43063911, -2.19425422,\n",
      "        1.68319933,  1.7211223 ,  0.73145622,  3.16717009, -0.56633676,\n",
      "        2.09332714, -2.95193651,  1.14809513,  0.35415109,  0.91777087,\n",
      "        2.79533238,  0.83691489,  2.61802381, -3.34685928,  1.8350518 ,\n",
      "       -1.74699111, -3.00123569, -1.88022392,  0.25658696, -3.12006269]), array([ 0.79106716, -0.81954901, -0.33036802, -2.11548523,  0.23823655,\n",
      "       -3.31275633,  0.85721124,  0.16494184,  2.26840141, -0.49581266,\n",
      "        1.70427365, -0.84669223,  1.85330903, -3.61001067,  1.6682893 ,\n",
      "        0.8211157 ,  1.00853048,  0.39376335, -3.26366824, -5.00511956,\n",
      "       -1.41722744,  1.64818   ,  0.04859971,  1.7446734 ,  1.82535661,\n",
      "       -0.69070427,  1.17152023, -3.62221619,  4.12121887,  0.81002598,\n",
      "       -0.80779338,  2.72042488,  1.8471057 , -0.95606889, -0.3542233 ,\n",
      "       -0.03816013, -0.30792519, -0.94153977, -0.97950362, -5.58144557])]\n",
      "Total time: duration:  8.013 seconds\n"
     ]
    }
   ],
   "source": [
    "start = time.time()\n",
    "array_ids = [make_array.remote(n*10) for n in range(5)]\n",
    "added_array_ids = [add_arrays.remote(id, id) for id in array_ids]\n",
    "\n",
    "arrays = []\n",
    "waiting_ids = list(added_array_ids)        # Assign a working list to the full list of ids\n",
    "while len(waiting_ids) > 0:                # Loop until all tasks have completed\n",
    "    # Call ray.wait with:\n",
    "    #   1. the list of ids we're still waiting to complete,\n",
    "    #   2. tell it to return immediately as soon as one of them completes,\n",
    "    #   3. tell it wait up to 10 seconds before timing out.\n",
    "    ready_ids, remaining_ids = ray.wait(waiting_ids, num_returns=1, timeout=10.0)\n",
    "    print('Returned {:3d} completed tasks. (elapsed time: {:6.3f})'.format(len(ready_ids), time.time() - start))\n",
    "    new_arrays = ray.get(ready_ids)\n",
    "    arrays.extend(new_arrays)\n",
    "    for array in new_arrays:\n",
    "        print(f'{array.size}: {array}')\n",
    "    waiting_ids = remaining_ids  # Reset this list; don't include the completed ids in the list again!\n",
    "    \n",
    "print(f\"\\nall arrays: {arrays}\")\n",
    "pd(time.time() - start, prefix=\"Total time:\")"
   ]
  },
  {
   "cell_type": "markdown",
   "metadata": {},
   "source": [
    "Now it still takes about 8 seconds to complete, 4 seconds for the longest invocation of `make_array` and 4 seconds for the invocation of `add_arrays`, but since the others complete more quickly, we see their results as soon as they become available, at 0, 2, 4, and 6 second intervals.\n",
    "\n",
    "> **Warning:** For each call to `ray.wait()` in a loop like this, it's important to remove the ids that have completed. Otherwise, `ray.wait()` will return immediately with the same list containg the first completed item, over and over again; you'll loop forever!! Resetting the list is easy, since the second list returned by `ray.wait()` is the rest of the items that are still running. So, that's what we use.\n",
    "\n",
    "Now let's try it with `num_returns = 2`:"
   ]
  },
  {
   "cell_type": "code",
   "execution_count": 8,
   "metadata": {},
   "outputs": [
    {
     "name": "stdout",
     "output_type": "stream",
     "text": [
      "Returned   2 completed tasks. (elapsed time:  2.013)\n",
      "0: []\n",
      "10: [ 0.48505409 -2.08703879  1.33139831 -0.96397336  1.0099965   2.18098649\n",
      " -1.93973323  0.06238183  0.4540442   2.03157975]\n",
      "Returned   2 completed tasks. (elapsed time:  6.010)\n",
      "20: [ 3.46703945 -3.64272894 -0.39183821  1.24488608  0.15267756  1.00855068\n",
      "  0.10061789  1.84261435 -1.38836964  2.37984148  4.67564279  0.4303022\n",
      " -2.02106666  1.01263646  2.12259866  1.44237974  0.04913943 -1.58249979\n",
      "  0.42736538  1.60706635]\n",
      "30: [-3.25126357 -1.21868205 -1.41183486 -0.78789907  0.5290288   3.6543227\n",
      "  2.18011217 -1.83013921  1.76036858  5.62626519 -0.63223152 -1.8645452\n",
      " -2.30985655  3.78432571 -0.9774471   0.53505625 -0.20474847 -1.57810876\n",
      "  0.65342757 -0.90194972 -0.52021854 -0.4161014   0.94925814  0.52472455\n",
      " -0.23822253 -0.92932931  3.07378238  0.10969498 -1.27984261  4.74758404]\n",
      "Returned   1 completed tasks. (elapsed time:  8.009)\n",
      "40: [ 2.7185277   0.87476927  0.31747447 -0.84252592  1.42260659  2.41055141\n",
      "  2.12871571 -2.05140879  0.21706316  2.34698867 -1.94598886  1.14831265\n",
      " -1.7497892   6.30951158 -0.83124796  1.90519251  2.21193223 -2.59272355\n",
      " -0.26194583 -1.43943714 -0.1303531  -3.74531983  0.99534866 -1.4067326\n",
      "  2.07741458  1.00385699  0.31331196  1.86954132  0.77463882  2.02011063\n",
      "  1.61776445  1.0975273   1.644068   -0.13511144 -2.02221649 -3.95655757\n",
      "  0.92504591 -1.00404201  0.55040005  2.47965928]\n",
      "\n",
      "all arrays: [array([], dtype=float64), array([ 0.48505409, -2.08703879,  1.33139831, -0.96397336,  1.0099965 ,\n",
      "        2.18098649, -1.93973323,  0.06238183,  0.4540442 ,  2.03157975]), array([ 3.46703945, -3.64272894, -0.39183821,  1.24488608,  0.15267756,\n",
      "        1.00855068,  0.10061789,  1.84261435, -1.38836964,  2.37984148,\n",
      "        4.67564279,  0.4303022 , -2.02106666,  1.01263646,  2.12259866,\n",
      "        1.44237974,  0.04913943, -1.58249979,  0.42736538,  1.60706635]), array([-3.25126357, -1.21868205, -1.41183486, -0.78789907,  0.5290288 ,\n",
      "        3.6543227 ,  2.18011217, -1.83013921,  1.76036858,  5.62626519,\n",
      "       -0.63223152, -1.8645452 , -2.30985655,  3.78432571, -0.9774471 ,\n",
      "        0.53505625, -0.20474847, -1.57810876,  0.65342757, -0.90194972,\n",
      "       -0.52021854, -0.4161014 ,  0.94925814,  0.52472455, -0.23822253,\n",
      "       -0.92932931,  3.07378238,  0.10969498, -1.27984261,  4.74758404]), array([ 2.7185277 ,  0.87476927,  0.31747447, -0.84252592,  1.42260659,\n",
      "        2.41055141,  2.12871571, -2.05140879,  0.21706316,  2.34698867,\n",
      "       -1.94598886,  1.14831265, -1.7497892 ,  6.30951158, -0.83124796,\n",
      "        1.90519251,  2.21193223, -2.59272355, -0.26194583, -1.43943714,\n",
      "       -0.1303531 , -3.74531983,  0.99534866, -1.4067326 ,  2.07741458,\n",
      "        1.00385699,  0.31331196,  1.86954132,  0.77463882,  2.02011063,\n",
      "        1.61776445,  1.0975273 ,  1.644068  , -0.13511144, -2.02221649,\n",
      "       -3.95655757,  0.92504591, -1.00404201,  0.55040005,  2.47965928])]\n",
      "Total time: duration:  8.014 seconds\n"
     ]
    }
   ],
   "source": [
    "start = time.time()\n",
    "array_ids = [make_array.remote(n*10) for n in range(5)]\n",
    "added_array_ids = [add_arrays.remote(id, id) for id in array_ids]\n",
    "\n",
    "arrays = []\n",
    "waiting_ids = list(added_array_ids)        # Assign a working list to the full list of ids\n",
    "while len(waiting_ids) > 0:                # Loop until all tasks have completed\n",
    "    # Call ray.wait with:\n",
    "    #   1. the list of ids we're still waiting to complete,\n",
    "    #   2. tell it to return immediately as soon as TWO of them complete,\n",
    "    #   3. tell it wait up to 10 seconds before timing out.\n",
    "    return_n = 2 if len(waiting_ids) > 1 else 1\n",
    "    ready_ids, remaining_ids = ray.wait(waiting_ids, num_returns=return_n, timeout=10.0)\n",
    "    print('Returned {:3d} completed tasks. (elapsed time: {:6.3f})'.format(len(ready_ids), time.time() - start))\n",
    "    new_arrays = ray.get(ready_ids)\n",
    "    arrays.extend(new_arrays)\n",
    "    for array in new_arrays:\n",
    "        print(f'{array.size}: {array}')\n",
    "    waiting_ids = remaining_ids  # Reset this list; don't include the completed ids in the list again!\n",
    "    \n",
    "print(f\"\\nall arrays: {arrays}\")\n",
    "pd(time.time() - start, prefix=\"Total time:\")"
   ]
  },
  {
   "cell_type": "markdown",
   "metadata": {},
   "source": [
    "Now we get two at a time output. Note that we don't actually pass `num_returns=2` every time. If you ask for more items than the length of the input list, you get an error. So, we compute `num_returns`, using `2` except when there's only one task to wait on, in which case we use `1`. So, in fact, the output for `40` was a single task result, because we started with `5` and processed two at a time."
   ]
  },
  {
   "cell_type": "markdown",
   "metadata": {},
   "source": [
    "## Exercise 2\n",
    "\n",
    "The following cell is identical to the last one. Modify it to use a timeout of `2.5` seconds, shorter than our longest tasks. What happens now? Try using other times."
   ]
  },
  {
   "cell_type": "code",
   "execution_count": 9,
   "metadata": {},
   "outputs": [
    {
     "name": "stdout",
     "output_type": "stream",
     "text": [
      "Returned   2 completed tasks. (elapsed time:  2.011)\n",
      "0: []\n",
      "10: [ 0.69182274  0.75867389  1.78036329 -0.87307422 -0.5442487  -0.16660188\n",
      " -5.19344479 -2.61279514 -1.35402879 -0.78964219]\n",
      "Returned   2 completed tasks. (elapsed time:  6.015)\n",
      "20: [-0.75825869 -0.04060735  2.62383677  2.00237471 -1.25487905 -0.84205285\n",
      " -1.44992225  2.57733202 -2.1633298   2.83485841  2.51319668  1.03793965\n",
      " -1.00110417 -1.57940368  1.32318568  2.5178875  -1.26190019  0.47609738\n",
      "  2.5295883  -3.26841857]\n",
      "30: [-0.39372451 -1.97998123 -1.89219034  0.94306718  2.61281957  1.74432369\n",
      "  0.21304768 -1.9756494  -2.29869625  3.08188033  0.14693249 -4.43019766\n",
      "  1.7351367   0.13475153 -3.11276612 -1.79539333 -2.6040562  -1.62332495\n",
      "  1.28054004  2.00302429  2.31407782  0.08498056  0.07054166  0.85831582\n",
      "  0.64051028  1.80203325 -0.35486994  1.102035   -0.2704127  -0.34755119]\n",
      "Returned   1 completed tasks. (elapsed time:  8.015)\n",
      "40: [ 0.63900911 -0.14046437  1.67720352  0.37711616 -3.6861706   3.14080746\n",
      "  0.38948485 -2.45113652 -4.48693819  0.76911474 -1.53681679  2.58020245\n",
      " -1.40368631 -0.0769976  -1.50639674 -2.89802097 -0.12804197 -0.72583901\n",
      " -0.1580679   2.23043137 -1.30397987  4.14012753  0.91068421 -0.94844965\n",
      "  1.81037802 -0.33332107  0.67888826  0.21313486 -0.01045556 -0.6990581\n",
      " -0.37145644  1.33038894  0.24689237 -3.60129051  0.16521884 -2.76619059\n",
      "  1.93644652  2.79986132 -1.07704194  0.11707252]\n",
      "\n",
      "all arrays: [array([], dtype=float64), array([ 0.69182274,  0.75867389,  1.78036329, -0.87307422, -0.5442487 ,\n",
      "       -0.16660188, -5.19344479, -2.61279514, -1.35402879, -0.78964219]), array([-0.75825869, -0.04060735,  2.62383677,  2.00237471, -1.25487905,\n",
      "       -0.84205285, -1.44992225,  2.57733202, -2.1633298 ,  2.83485841,\n",
      "        2.51319668,  1.03793965, -1.00110417, -1.57940368,  1.32318568,\n",
      "        2.5178875 , -1.26190019,  0.47609738,  2.5295883 , -3.26841857]), array([-0.39372451, -1.97998123, -1.89219034,  0.94306718,  2.61281957,\n",
      "        1.74432369,  0.21304768, -1.9756494 , -2.29869625,  3.08188033,\n",
      "        0.14693249, -4.43019766,  1.7351367 ,  0.13475153, -3.11276612,\n",
      "       -1.79539333, -2.6040562 , -1.62332495,  1.28054004,  2.00302429,\n",
      "        2.31407782,  0.08498056,  0.07054166,  0.85831582,  0.64051028,\n",
      "        1.80203325, -0.35486994,  1.102035  , -0.2704127 , -0.34755119]), array([ 0.63900911, -0.14046437,  1.67720352,  0.37711616, -3.6861706 ,\n",
      "        3.14080746,  0.38948485, -2.45113652, -4.48693819,  0.76911474,\n",
      "       -1.53681679,  2.58020245, -1.40368631, -0.0769976 , -1.50639674,\n",
      "       -2.89802097, -0.12804197, -0.72583901, -0.1580679 ,  2.23043137,\n",
      "       -1.30397987,  4.14012753,  0.91068421, -0.94844965,  1.81037802,\n",
      "       -0.33332107,  0.67888826,  0.21313486, -0.01045556, -0.6990581 ,\n",
      "       -0.37145644,  1.33038894,  0.24689237, -3.60129051,  0.16521884,\n",
      "       -2.76619059,  1.93644652,  2.79986132, -1.07704194,  0.11707252])]\n",
      "Total time: duration:  8.020 seconds\n"
     ]
    }
   ],
   "source": [
    "start = time.time()\n",
    "array_ids = [make_array.remote(n*10) for n in range(5)]\n",
    "added_array_ids = [add_arrays.remote(id, id) for id in array_ids]\n",
    "\n",
    "arrays = []\n",
    "waiting_ids = list(added_array_ids)        # Assign a working list to the full list of ids\n",
    "while len(waiting_ids) > 0:                # Loop until all tasks have completed\n",
    "    # Call ray.wait with:\n",
    "    #   1. the list of ids we're still waiting to complete,\n",
    "    #   2. tell it to return immediately as soon as TWO of them complete,\n",
    "    #   3. tell it wait up to 10 seconds before timing out.\n",
    "    return_n = 2 if len(waiting_ids) > 1 else 1\n",
    "    ready_ids, remaining_ids = ray.wait(waiting_ids, num_returns=return_n, timeout=10.0)\n",
    "    print('Returned {:3d} completed tasks. (elapsed time: {:6.3f})'.format(len(ready_ids), time.time() - start))\n",
    "    new_arrays = ray.get(ready_ids)\n",
    "    arrays.extend(new_arrays)\n",
    "    for array in new_arrays:\n",
    "        print(f'{array.size}: {array}')\n",
    "    waiting_ids = remaining_ids  # Reset this list; don't include the completed ids in the list again!\n",
    "    \n",
    "print(f\"\\nall arrays: {arrays}\")\n",
    "pd(time.time() - start, prefix=\"Total time:\")"
   ]
  },
  {
   "cell_type": "markdown",
   "metadata": {},
   "source": [
    "In conclusion:\n",
    "\n",
    "> **Tips:**\n",
    ">\n",
    "> 1. Use `ray.wait()` with a timeout to wait for one or more running tasks. Then use `ray.get()` to retrieve the values for the finished tasks.\n",
    "> 2. Don't ask for results you don't need.\n",
    "> 3. Don't ask for the results you need until you really need them."
   ]
  },
  {
   "cell_type": "markdown",
   "metadata": {},
   "source": [
    "## Exercise 3\n",
    "\n",
    "Let's make sure you understand how to use `ray.wait()`. The definitions from Exercise 1 in the previous lesson are repeated in the next cell. Change the definitions to use Ray. In particular, use `ray.wait()` as we used it above. You can just use the default values for `num_returns` and `timeout` if you want. The second cell uses `assert` statements to check your work.\n",
    "\n",
    "> **Tip:** The solution is in the `solutions` folder."
   ]
  },
  {
   "cell_type": "code",
   "execution_count": 10,
   "metadata": {},
   "outputs": [],
   "source": [
    "def slow_square(n):\n",
    "    time.sleep(n)\n",
    "    return n*n\n",
    "\n",
    "start = time.time()\n",
    "squares = [slow_square(n) for n in range(4)]\n",
    "duration = time.time() - start"
   ]
  },
  {
   "cell_type": "code",
   "execution_count": 11,
   "metadata": {},
   "outputs": [
    {
     "ename": "AssertionError",
     "evalue": "Did you use Ray to parallelize the work? duration = 6.007925987243652",
     "output_type": "error",
     "traceback": [
      "\u001b[0;31m---------------------------------------------------------------------------\u001b[0m",
      "\u001b[0;31mAssertionError\u001b[0m                            Traceback (most recent call last)",
      "\u001b[0;32m<ipython-input-11-f1c71df1ba8d>\u001b[0m in \u001b[0;36m<module>\u001b[0;34m\u001b[0m\n\u001b[1;32m      1\u001b[0m \u001b[0;32massert\u001b[0m \u001b[0msquares\u001b[0m \u001b[0;34m==\u001b[0m \u001b[0;34m[\u001b[0m\u001b[0;36m0\u001b[0m\u001b[0;34m,\u001b[0m \u001b[0;36m1\u001b[0m\u001b[0;34m,\u001b[0m \u001b[0;36m4\u001b[0m\u001b[0;34m,\u001b[0m \u001b[0;36m9\u001b[0m\u001b[0;34m]\u001b[0m\u001b[0;34m,\u001b[0m \u001b[0;34mf'Did you use ray.get() to retrieve the values? squares = {squares}'\u001b[0m\u001b[0;34m\u001b[0m\u001b[0;34m\u001b[0m\u001b[0m\n\u001b[0;32m----> 2\u001b[0;31m \u001b[0;32massert\u001b[0m \u001b[0mduration\u001b[0m \u001b[0;34m<\u001b[0m \u001b[0;36m4.1\u001b[0m\u001b[0;34m,\u001b[0m \u001b[0;34mf'Did you use Ray to parallelize the work? duration = {duration}'\u001b[0m\u001b[0;34m\u001b[0m\u001b[0;34m\u001b[0m\u001b[0m\n\u001b[0m",
      "\u001b[0;31mAssertionError\u001b[0m: Did you use Ray to parallelize the work? duration = 6.007925987243652"
     ]
    }
   ],
   "source": [
    "assert squares == [0, 1, 4, 9], f'Did you use ray.get() to retrieve the values? squares = {squares}'\n",
    "assert duration < 4.1, f'Did you use Ray to parallelize the work? duration = {duration}' "
   ]
  },
  {
   "cell_type": "markdown",
   "metadata": {},
   "source": [
    "## What Is the Optimal Task Granularity\n",
    "\n",
    "How fine-grained should Ray tasks be? There's no fixed rule of thumb, but Ray clearly adds some overhead for task management and using object stores in a cluster. Therefore, it makes sense that tasks which are too small will perform poorly.\n",
    "\n",
    "We'll explore this topic over several more lessons, but for now, let's get a sense of the overhead while running in your setup.\n",
    "\n",
    "We'll continue to use NumPy arrays to create \"load\", but remove the `sleep` calls:"
   ]
  },
  {
   "cell_type": "code",
   "execution_count": 12,
   "metadata": {},
   "outputs": [],
   "source": [
    "def noop(n):\n",
    "    return n\n",
    "\n",
    "def local_make_array(n):\n",
    "    return np.random.standard_normal(n)\n",
    "\n",
    "@ray.remote\n",
    "def remote_make_array(n):\n",
    "    return local_make_array(n)"
   ]
  },
  {
   "cell_type": "markdown",
   "metadata": {},
   "source": [
    "Let's do `trials` runs for each experiment, to average out background noise:"
   ]
  },
  {
   "cell_type": "code",
   "execution_count": 13,
   "metadata": {},
   "outputs": [],
   "source": [
    "trials=100"
   ]
  },
  {
   "cell_type": "markdown",
   "metadata": {},
   "source": [
    "First, let's use `noop` to baseline local function calls. Note that we call `print` for the duration, rathern than `pd`, because the overhead is so low the `pd` formatting will print `0.000`:"
   ]
  },
  {
   "cell_type": "code",
   "execution_count": 14,
   "metadata": {},
   "outputs": [
    {
     "name": "stdout",
     "output_type": "stream",
     "text": [
      "0.00013589859008789062 seconds\n"
     ]
    }
   ],
   "source": [
    "start = time.time()\n",
    "[noop(t) for t in range(trials)]\n",
    "print(f'{time.time() - start} seconds')"
   ]
  },
  {
   "cell_type": "markdown",
   "metadata": {},
   "source": [
    "Let's try the same run with `local_make_array(n)` for `n = 100000`:"
   ]
  },
  {
   "cell_type": "code",
   "execution_count": 15,
   "metadata": {},
   "outputs": [
    {
     "name": "stdout",
     "output_type": "stream",
     "text": [
      "0.27163124084472656 seconds\n"
     ]
    }
   ],
   "source": [
    "start = time.time()\n",
    "[local_make_array(100000) for _ in range(trials)]\n",
    "print(f'{time.time() - start} seconds')"
   ]
  },
  {
   "cell_type": "markdown",
   "metadata": {},
   "source": [
    "So, we can safely ignore the \"noop\" overhead for now. For completeness, here's what happens with remote execution:"
   ]
  },
  {
   "cell_type": "code",
   "execution_count": 16,
   "metadata": {},
   "outputs": [
    {
     "name": "stdout",
     "output_type": "stream",
     "text": [
      "0.10001182556152344 seconds\n"
     ]
    }
   ],
   "source": [
    "start = time.time()\n",
    "ids = [remote_make_array.remote(100000) for _ in range(trials)]\n",
    "ray.get(ids)\n",
    "print(f'{time.time() - start} seconds')"
   ]
  },
  {
   "cell_type": "markdown",
   "metadata": {},
   "source": [
    "For arrays of 100000, using Ray is faster (at least on this test machine). The benefits of parallel computation, rather than synchronous, already outweight the Ray overhead.\n",
    "\n",
    "So, let's run some trials with increasingly large array sizes, to compare the performance with local vs. remote execution. First, we'll set up `matplotlib`:"
   ]
  },
  {
   "cell_type": "code",
   "execution_count": 17,
   "metadata": {},
   "outputs": [
    {
     "data": {
      "text/plain": [
       "([100,\n",
       "  200,\n",
       "  300,\n",
       "  500,\n",
       "  800,\n",
       "  1000,\n",
       "  2000,\n",
       "  3000,\n",
       "  5000,\n",
       "  8000,\n",
       "  10000,\n",
       "  20000,\n",
       "  30000,\n",
       "  50000,\n",
       "  80000],\n",
       " [0.001489877700805664,\n",
       "  0.0010769367218017578,\n",
       "  0.0009431838989257812,\n",
       "  0.0014388561248779297,\n",
       "  0.002299070358276367,\n",
       "  0.0028460025787353516,\n",
       "  0.0050029754638671875,\n",
       "  0.008249998092651367,\n",
       "  0.015505075454711914,\n",
       "  0.024491071701049805,\n",
       "  0.03491997718811035,\n",
       "  0.05433201789855957,\n",
       "  0.07851409912109375,\n",
       "  0.13427305221557617,\n",
       "  0.2106318473815918],\n",
       " [0.028757095336914062,\n",
       "  0.022654056549072266,\n",
       "  0.0196988582611084,\n",
       "  0.01858806610107422,\n",
       "  0.01920795440673828,\n",
       "  0.019514799118041992,\n",
       "  0.01967000961303711,\n",
       "  0.02035689353942871,\n",
       "  0.026332378387451172,\n",
       "  0.02686476707458496,\n",
       "  0.027003765106201172,\n",
       "  0.03647923469543457,\n",
       "  0.0460667610168457,\n",
       "  0.05334877967834473,\n",
       "  0.08004593849182129])"
      ]
     },
     "execution_count": 17,
     "metadata": {},
     "output_type": "execute_result"
    }
   ],
   "source": [
    "local_durations = []\n",
    "remote_durations = []\n",
    "# These n values were determined by experimentation on this test machine. \n",
    "# If you are using an old machine, and this cell takes a long time to execute,\n",
    "# you could set the `trials` value above to a smaller number. \n",
    "ns = [i*(10**j) for j in range(2,5) for i in [1,2,3,5,8]]\n",
    "for n in ns:\n",
    "    start_local = time.time()\n",
    "    [local_make_array(n) for _ in range(trials)]\n",
    "    local_durations.append(time.time() - start_local)\n",
    "    \n",
    "    start_remote = time.time()\n",
    "    ids = [remote_make_array.remote(n) for _ in range(trials)]\n",
    "    ray.get(ids)\n",
    "    remote_durations.append(time.time() - start_remote)\n",
    "(ns, local_durations, remote_durations)"
   ]
  },
  {
   "cell_type": "code",
   "execution_count": 27,
   "metadata": {},
   "outputs": [
    {
     "data": {
      "text/html": [
       "\n",
       "    <div class=\"bk-root\">\n",
       "        <a href=\"https://bokeh.org\" target=\"_blank\" class=\"bk-logo bk-logo-small bk-logo-notebook\"></a>\n",
       "        <span id=\"2416\">Loading BokehJS ...</span>\n",
       "    </div>"
      ]
     },
     "metadata": {},
     "output_type": "display_data"
    },
    {
     "data": {
      "application/javascript": [
       "\n",
       "(function(root) {\n",
       "  function now() {\n",
       "    return new Date();\n",
       "  }\n",
       "\n",
       "  var force = true;\n",
       "\n",
       "  if (typeof root._bokeh_onload_callbacks === \"undefined\" || force === true) {\n",
       "    root._bokeh_onload_callbacks = [];\n",
       "    root._bokeh_is_loading = undefined;\n",
       "  }\n",
       "\n",
       "  var JS_MIME_TYPE = 'application/javascript';\n",
       "  var HTML_MIME_TYPE = 'text/html';\n",
       "  var EXEC_MIME_TYPE = 'application/vnd.bokehjs_exec.v0+json';\n",
       "  var CLASS_NAME = 'output_bokeh rendered_html';\n",
       "\n",
       "  /**\n",
       "   * Render data to the DOM node\n",
       "   */\n",
       "  function render(props, node) {\n",
       "    var script = document.createElement(\"script\");\n",
       "    node.appendChild(script);\n",
       "  }\n",
       "\n",
       "  /**\n",
       "   * Handle when an output is cleared or removed\n",
       "   */\n",
       "  function handleClearOutput(event, handle) {\n",
       "    var cell = handle.cell;\n",
       "\n",
       "    var id = cell.output_area._bokeh_element_id;\n",
       "    var server_id = cell.output_area._bokeh_server_id;\n",
       "    // Clean up Bokeh references\n",
       "    if (id != null && id in Bokeh.index) {\n",
       "      Bokeh.index[id].model.document.clear();\n",
       "      delete Bokeh.index[id];\n",
       "    }\n",
       "\n",
       "    if (server_id !== undefined) {\n",
       "      // Clean up Bokeh references\n",
       "      var cmd = \"from bokeh.io.state import curstate; print(curstate().uuid_to_server['\" + server_id + \"'].get_sessions()[0].document.roots[0]._id)\";\n",
       "      cell.notebook.kernel.execute(cmd, {\n",
       "        iopub: {\n",
       "          output: function(msg) {\n",
       "            var id = msg.content.text.trim();\n",
       "            if (id in Bokeh.index) {\n",
       "              Bokeh.index[id].model.document.clear();\n",
       "              delete Bokeh.index[id];\n",
       "            }\n",
       "          }\n",
       "        }\n",
       "      });\n",
       "      // Destroy server and session\n",
       "      var cmd = \"import bokeh.io.notebook as ion; ion.destroy_server('\" + server_id + \"')\";\n",
       "      cell.notebook.kernel.execute(cmd);\n",
       "    }\n",
       "  }\n",
       "\n",
       "  /**\n",
       "   * Handle when a new output is added\n",
       "   */\n",
       "  function handleAddOutput(event, handle) {\n",
       "    var output_area = handle.output_area;\n",
       "    var output = handle.output;\n",
       "\n",
       "    // limit handleAddOutput to display_data with EXEC_MIME_TYPE content only\n",
       "    if ((output.output_type != \"display_data\") || (!output.data.hasOwnProperty(EXEC_MIME_TYPE))) {\n",
       "      return\n",
       "    }\n",
       "\n",
       "    var toinsert = output_area.element.find(\".\" + CLASS_NAME.split(' ')[0]);\n",
       "\n",
       "    if (output.metadata[EXEC_MIME_TYPE][\"id\"] !== undefined) {\n",
       "      toinsert[toinsert.length - 1].firstChild.textContent = output.data[JS_MIME_TYPE];\n",
       "      // store reference to embed id on output_area\n",
       "      output_area._bokeh_element_id = output.metadata[EXEC_MIME_TYPE][\"id\"];\n",
       "    }\n",
       "    if (output.metadata[EXEC_MIME_TYPE][\"server_id\"] !== undefined) {\n",
       "      var bk_div = document.createElement(\"div\");\n",
       "      bk_div.innerHTML = output.data[HTML_MIME_TYPE];\n",
       "      var script_attrs = bk_div.children[0].attributes;\n",
       "      for (var i = 0; i < script_attrs.length; i++) {\n",
       "        toinsert[toinsert.length - 1].firstChild.setAttribute(script_attrs[i].name, script_attrs[i].value);\n",
       "        toinsert[toinsert.length - 1].firstChild.textContent = bk_div.children[0].textContent\n",
       "      }\n",
       "      // store reference to server id on output_area\n",
       "      output_area._bokeh_server_id = output.metadata[EXEC_MIME_TYPE][\"server_id\"];\n",
       "    }\n",
       "  }\n",
       "\n",
       "  function register_renderer(events, OutputArea) {\n",
       "\n",
       "    function append_mime(data, metadata, element) {\n",
       "      // create a DOM node to render to\n",
       "      var toinsert = this.create_output_subarea(\n",
       "        metadata,\n",
       "        CLASS_NAME,\n",
       "        EXEC_MIME_TYPE\n",
       "      );\n",
       "      this.keyboard_manager.register_events(toinsert);\n",
       "      // Render to node\n",
       "      var props = {data: data, metadata: metadata[EXEC_MIME_TYPE]};\n",
       "      render(props, toinsert[toinsert.length - 1]);\n",
       "      element.append(toinsert);\n",
       "      return toinsert\n",
       "    }\n",
       "\n",
       "    /* Handle when an output is cleared or removed */\n",
       "    events.on('clear_output.CodeCell', handleClearOutput);\n",
       "    events.on('delete.Cell', handleClearOutput);\n",
       "\n",
       "    /* Handle when a new output is added */\n",
       "    events.on('output_added.OutputArea', handleAddOutput);\n",
       "\n",
       "    /**\n",
       "     * Register the mime type and append_mime function with output_area\n",
       "     */\n",
       "    OutputArea.prototype.register_mime_type(EXEC_MIME_TYPE, append_mime, {\n",
       "      /* Is output safe? */\n",
       "      safe: true,\n",
       "      /* Index of renderer in `output_area.display_order` */\n",
       "      index: 0\n",
       "    });\n",
       "  }\n",
       "\n",
       "  // register the mime type if in Jupyter Notebook environment and previously unregistered\n",
       "  if (root.Jupyter !== undefined) {\n",
       "    var events = require('base/js/events');\n",
       "    var OutputArea = require('notebook/js/outputarea').OutputArea;\n",
       "\n",
       "    if (OutputArea.prototype.mime_types().indexOf(EXEC_MIME_TYPE) == -1) {\n",
       "      register_renderer(events, OutputArea);\n",
       "    }\n",
       "  }\n",
       "\n",
       "  \n",
       "  if (typeof (root._bokeh_timeout) === \"undefined\" || force === true) {\n",
       "    root._bokeh_timeout = Date.now() + 5000;\n",
       "    root._bokeh_failed_load = false;\n",
       "  }\n",
       "\n",
       "  var NB_LOAD_WARNING = {'data': {'text/html':\n",
       "     \"<div style='background-color: #fdd'>\\n\"+\n",
       "     \"<p>\\n\"+\n",
       "     \"BokehJS does not appear to have successfully loaded. If loading BokehJS from CDN, this \\n\"+\n",
       "     \"may be due to a slow or bad network connection. Possible fixes:\\n\"+\n",
       "     \"</p>\\n\"+\n",
       "     \"<ul>\\n\"+\n",
       "     \"<li>re-rerun `output_notebook()` to attempt to load from CDN again, or</li>\\n\"+\n",
       "     \"<li>use INLINE resources instead, as so:</li>\\n\"+\n",
       "     \"</ul>\\n\"+\n",
       "     \"<code>\\n\"+\n",
       "     \"from bokeh.resources import INLINE\\n\"+\n",
       "     \"output_notebook(resources=INLINE)\\n\"+\n",
       "     \"</code>\\n\"+\n",
       "     \"</div>\"}};\n",
       "\n",
       "  function display_loaded() {\n",
       "    var el = document.getElementById(\"2416\");\n",
       "    if (el != null) {\n",
       "      el.textContent = \"BokehJS is loading...\";\n",
       "    }\n",
       "    if (root.Bokeh !== undefined) {\n",
       "      if (el != null) {\n",
       "        el.textContent = \"BokehJS \" + root.Bokeh.version + \" successfully loaded.\";\n",
       "      }\n",
       "    } else if (Date.now() < root._bokeh_timeout) {\n",
       "      setTimeout(display_loaded, 100)\n",
       "    }\n",
       "  }\n",
       "\n",
       "\n",
       "  function run_callbacks() {\n",
       "    try {\n",
       "      root._bokeh_onload_callbacks.forEach(function(callback) {\n",
       "        if (callback != null)\n",
       "          callback();\n",
       "      });\n",
       "    } finally {\n",
       "      delete root._bokeh_onload_callbacks\n",
       "    }\n",
       "    console.debug(\"Bokeh: all callbacks have finished\");\n",
       "  }\n",
       "\n",
       "  function load_libs(css_urls, js_urls, callback) {\n",
       "    if (css_urls == null) css_urls = [];\n",
       "    if (js_urls == null) js_urls = [];\n",
       "\n",
       "    root._bokeh_onload_callbacks.push(callback);\n",
       "    if (root._bokeh_is_loading > 0) {\n",
       "      console.debug(\"Bokeh: BokehJS is being loaded, scheduling callback at\", now());\n",
       "      return null;\n",
       "    }\n",
       "    if (js_urls == null || js_urls.length === 0) {\n",
       "      run_callbacks();\n",
       "      return null;\n",
       "    }\n",
       "    console.debug(\"Bokeh: BokehJS not loaded, scheduling load and callback at\", now());\n",
       "    root._bokeh_is_loading = css_urls.length + js_urls.length;\n",
       "\n",
       "    function on_load() {\n",
       "      root._bokeh_is_loading--;\n",
       "      if (root._bokeh_is_loading === 0) {\n",
       "        console.debug(\"Bokeh: all BokehJS libraries/stylesheets loaded\");\n",
       "        run_callbacks()\n",
       "      }\n",
       "    }\n",
       "\n",
       "    function on_error() {\n",
       "      console.error(\"failed to load \" + url);\n",
       "    }\n",
       "\n",
       "    for (var i = 0; i < css_urls.length; i++) {\n",
       "      var url = css_urls[i];\n",
       "      const element = document.createElement(\"link\");\n",
       "      element.onload = on_load;\n",
       "      element.onerror = on_error;\n",
       "      element.rel = \"stylesheet\";\n",
       "      element.type = \"text/css\";\n",
       "      element.href = url;\n",
       "      console.debug(\"Bokeh: injecting link tag for BokehJS stylesheet: \", url);\n",
       "      document.body.appendChild(element);\n",
       "    }\n",
       "\n",
       "    const hashes = {\"https://cdn.bokeh.org/bokeh/release/bokeh-2.0.1.min.js\": \"JpP8FXbgAZLkfur7LiK3j9AGBhHNIvF742meBJrjO2ShJDhCG2I1uVvW+0DUtrmc\", \"https://cdn.bokeh.org/bokeh/release/bokeh-widgets-2.0.1.min.js\": \"xZlADit0Q04ISQEdKg2k3L4W9AwQBAuDs9nJL9fM/WwzL1tEU9VPNezOFX0nLEAz\", \"https://cdn.bokeh.org/bokeh/release/bokeh-tables-2.0.1.min.js\": \"4BuPRZkdMKSnj3zoxiNrQ86XgNw0rYmBOxe7nshquXwwcauupgBF2DHLVG1WuZlV\", \"https://cdn.bokeh.org/bokeh/release/bokeh-gl-2.0.1.min.js\": \"Dv1SQ87hmDqK6S5OhBf0bCuwAEvL5QYL0PuR/F1SPVhCS/r/abjkbpKDYL2zeM19\"};\n",
       "\n",
       "    for (var i = 0; i < js_urls.length; i++) {\n",
       "      var url = js_urls[i];\n",
       "      var element = document.createElement('script');\n",
       "      element.onload = on_load;\n",
       "      element.onerror = on_error;\n",
       "      element.async = false;\n",
       "      element.src = url;\n",
       "      if (url in hashes) {\n",
       "        element.crossOrigin = \"anonymous\";\n",
       "        element.integrity = \"sha384-\" + hashes[url];\n",
       "      }\n",
       "      console.debug(\"Bokeh: injecting script tag for BokehJS library: \", url);\n",
       "      document.head.appendChild(element);\n",
       "    }\n",
       "  };var element = document.getElementById(\"2416\");\n",
       "  if (element == null) {\n",
       "    console.error(\"Bokeh: ERROR: autoload.js configured with elementid '2416' but no matching script tag was found. \")\n",
       "    return false;\n",
       "  }\n",
       "\n",
       "  function inject_raw_css(css) {\n",
       "    const element = document.createElement(\"style\");\n",
       "    element.appendChild(document.createTextNode(css));\n",
       "    document.body.appendChild(element);\n",
       "  }\n",
       "\n",
       "  \n",
       "  var js_urls = [\"https://cdn.bokeh.org/bokeh/release/bokeh-2.0.1.min.js\", \"https://cdn.bokeh.org/bokeh/release/bokeh-widgets-2.0.1.min.js\", \"https://cdn.bokeh.org/bokeh/release/bokeh-tables-2.0.1.min.js\", \"https://cdn.bokeh.org/bokeh/release/bokeh-gl-2.0.1.min.js\"];\n",
       "  var css_urls = [];\n",
       "  \n",
       "\n",
       "  var inline_js = [\n",
       "    function(Bokeh) {\n",
       "      Bokeh.set_log_level(\"info\");\n",
       "    },\n",
       "    function(Bokeh) {\n",
       "    \n",
       "    \n",
       "    }\n",
       "  ];\n",
       "\n",
       "  function run_inline_js() {\n",
       "    \n",
       "    if (root.Bokeh !== undefined || force === true) {\n",
       "      \n",
       "    for (var i = 0; i < inline_js.length; i++) {\n",
       "      inline_js[i].call(root, root.Bokeh);\n",
       "    }\n",
       "    if (force === true) {\n",
       "        display_loaded();\n",
       "      }} else if (Date.now() < root._bokeh_timeout) {\n",
       "      setTimeout(run_inline_js, 100);\n",
       "    } else if (!root._bokeh_failed_load) {\n",
       "      console.log(\"Bokeh: BokehJS failed to load within specified timeout.\");\n",
       "      root._bokeh_failed_load = true;\n",
       "    } else if (force !== true) {\n",
       "      var cell = $(document.getElementById(\"2416\")).parents('.cell').data().cell;\n",
       "      cell.output_area.append_execute_result(NB_LOAD_WARNING)\n",
       "    }\n",
       "\n",
       "  }\n",
       "\n",
       "  if (root._bokeh_is_loading === 0) {\n",
       "    console.debug(\"Bokeh: BokehJS loaded, going straight to plotting\");\n",
       "    run_inline_js();\n",
       "  } else {\n",
       "    load_libs(css_urls, js_urls, function() {\n",
       "      console.debug(\"Bokeh: BokehJS plotting callback run at\", now());\n",
       "      run_inline_js();\n",
       "    });\n",
       "  }\n",
       "}(window));"
      ],
      "application/vnd.bokehjs_load.v0+json": "\n(function(root) {\n  function now() {\n    return new Date();\n  }\n\n  var force = true;\n\n  if (typeof root._bokeh_onload_callbacks === \"undefined\" || force === true) {\n    root._bokeh_onload_callbacks = [];\n    root._bokeh_is_loading = undefined;\n  }\n\n  \n\n  \n  if (typeof (root._bokeh_timeout) === \"undefined\" || force === true) {\n    root._bokeh_timeout = Date.now() + 5000;\n    root._bokeh_failed_load = false;\n  }\n\n  var NB_LOAD_WARNING = {'data': {'text/html':\n     \"<div style='background-color: #fdd'>\\n\"+\n     \"<p>\\n\"+\n     \"BokehJS does not appear to have successfully loaded. If loading BokehJS from CDN, this \\n\"+\n     \"may be due to a slow or bad network connection. Possible fixes:\\n\"+\n     \"</p>\\n\"+\n     \"<ul>\\n\"+\n     \"<li>re-rerun `output_notebook()` to attempt to load from CDN again, or</li>\\n\"+\n     \"<li>use INLINE resources instead, as so:</li>\\n\"+\n     \"</ul>\\n\"+\n     \"<code>\\n\"+\n     \"from bokeh.resources import INLINE\\n\"+\n     \"output_notebook(resources=INLINE)\\n\"+\n     \"</code>\\n\"+\n     \"</div>\"}};\n\n  function display_loaded() {\n    var el = document.getElementById(\"2416\");\n    if (el != null) {\n      el.textContent = \"BokehJS is loading...\";\n    }\n    if (root.Bokeh !== undefined) {\n      if (el != null) {\n        el.textContent = \"BokehJS \" + root.Bokeh.version + \" successfully loaded.\";\n      }\n    } else if (Date.now() < root._bokeh_timeout) {\n      setTimeout(display_loaded, 100)\n    }\n  }\n\n\n  function run_callbacks() {\n    try {\n      root._bokeh_onload_callbacks.forEach(function(callback) {\n        if (callback != null)\n          callback();\n      });\n    } finally {\n      delete root._bokeh_onload_callbacks\n    }\n    console.debug(\"Bokeh: all callbacks have finished\");\n  }\n\n  function load_libs(css_urls, js_urls, callback) {\n    if (css_urls == null) css_urls = [];\n    if (js_urls == null) js_urls = [];\n\n    root._bokeh_onload_callbacks.push(callback);\n    if (root._bokeh_is_loading > 0) {\n      console.debug(\"Bokeh: BokehJS is being loaded, scheduling callback at\", now());\n      return null;\n    }\n    if (js_urls == null || js_urls.length === 0) {\n      run_callbacks();\n      return null;\n    }\n    console.debug(\"Bokeh: BokehJS not loaded, scheduling load and callback at\", now());\n    root._bokeh_is_loading = css_urls.length + js_urls.length;\n\n    function on_load() {\n      root._bokeh_is_loading--;\n      if (root._bokeh_is_loading === 0) {\n        console.debug(\"Bokeh: all BokehJS libraries/stylesheets loaded\");\n        run_callbacks()\n      }\n    }\n\n    function on_error() {\n      console.error(\"failed to load \" + url);\n    }\n\n    for (var i = 0; i < css_urls.length; i++) {\n      var url = css_urls[i];\n      const element = document.createElement(\"link\");\n      element.onload = on_load;\n      element.onerror = on_error;\n      element.rel = \"stylesheet\";\n      element.type = \"text/css\";\n      element.href = url;\n      console.debug(\"Bokeh: injecting link tag for BokehJS stylesheet: \", url);\n      document.body.appendChild(element);\n    }\n\n    const hashes = {\"https://cdn.bokeh.org/bokeh/release/bokeh-2.0.1.min.js\": \"JpP8FXbgAZLkfur7LiK3j9AGBhHNIvF742meBJrjO2ShJDhCG2I1uVvW+0DUtrmc\", \"https://cdn.bokeh.org/bokeh/release/bokeh-widgets-2.0.1.min.js\": \"xZlADit0Q04ISQEdKg2k3L4W9AwQBAuDs9nJL9fM/WwzL1tEU9VPNezOFX0nLEAz\", \"https://cdn.bokeh.org/bokeh/release/bokeh-tables-2.0.1.min.js\": \"4BuPRZkdMKSnj3zoxiNrQ86XgNw0rYmBOxe7nshquXwwcauupgBF2DHLVG1WuZlV\", \"https://cdn.bokeh.org/bokeh/release/bokeh-gl-2.0.1.min.js\": \"Dv1SQ87hmDqK6S5OhBf0bCuwAEvL5QYL0PuR/F1SPVhCS/r/abjkbpKDYL2zeM19\"};\n\n    for (var i = 0; i < js_urls.length; i++) {\n      var url = js_urls[i];\n      var element = document.createElement('script');\n      element.onload = on_load;\n      element.onerror = on_error;\n      element.async = false;\n      element.src = url;\n      if (url in hashes) {\n        element.crossOrigin = \"anonymous\";\n        element.integrity = \"sha384-\" + hashes[url];\n      }\n      console.debug(\"Bokeh: injecting script tag for BokehJS library: \", url);\n      document.head.appendChild(element);\n    }\n  };var element = document.getElementById(\"2416\");\n  if (element == null) {\n    console.error(\"Bokeh: ERROR: autoload.js configured with elementid '2416' but no matching script tag was found. \")\n    return false;\n  }\n\n  function inject_raw_css(css) {\n    const element = document.createElement(\"style\");\n    element.appendChild(document.createTextNode(css));\n    document.body.appendChild(element);\n  }\n\n  \n  var js_urls = [\"https://cdn.bokeh.org/bokeh/release/bokeh-2.0.1.min.js\", \"https://cdn.bokeh.org/bokeh/release/bokeh-widgets-2.0.1.min.js\", \"https://cdn.bokeh.org/bokeh/release/bokeh-tables-2.0.1.min.js\", \"https://cdn.bokeh.org/bokeh/release/bokeh-gl-2.0.1.min.js\"];\n  var css_urls = [];\n  \n\n  var inline_js = [\n    function(Bokeh) {\n      Bokeh.set_log_level(\"info\");\n    },\n    function(Bokeh) {\n    \n    \n    }\n  ];\n\n  function run_inline_js() {\n    \n    if (root.Bokeh !== undefined || force === true) {\n      \n    for (var i = 0; i < inline_js.length; i++) {\n      inline_js[i].call(root, root.Bokeh);\n    }\n    if (force === true) {\n        display_loaded();\n      }} else if (Date.now() < root._bokeh_timeout) {\n      setTimeout(run_inline_js, 100);\n    } else if (!root._bokeh_failed_load) {\n      console.log(\"Bokeh: BokehJS failed to load within specified timeout.\");\n      root._bokeh_failed_load = true;\n    } else if (force !== true) {\n      var cell = $(document.getElementById(\"2416\")).parents('.cell').data().cell;\n      cell.output_area.append_execute_result(NB_LOAD_WARNING)\n    }\n\n  }\n\n  if (root._bokeh_is_loading === 0) {\n    console.debug(\"Bokeh: BokehJS loaded, going straight to plotting\");\n    run_inline_js();\n  } else {\n    load_libs(css_urls, js_urls, function() {\n      console.debug(\"Bokeh: BokehJS plotting callback run at\", now());\n      run_inline_js();\n    });\n  }\n}(window));"
     },
     "metadata": {},
     "output_type": "display_data"
    },
    {
     "data": {
      "text/html": [
       "\n",
       "\n",
       "\n",
       "\n",
       "\n",
       "\n",
       "  <div class=\"bk-root\" id=\"78c0c604-2769-4e22-98db-134af583e994\" data-root-id=\"2509\"></div>\n"
      ]
     },
     "metadata": {},
     "output_type": "display_data"
    },
    {
     "data": {
      "application/javascript": [
       "(function(root) {\n",
       "  function embed_document(root) {\n",
       "    \n",
       "  var docs_json = {\"a8cdeb43-0c76-44b9-a111-0d1e443d49a2\":{\"roots\":{\"references\":[{\"attributes\":{\"children\":[{\"id\":\"2508\"},{\"id\":\"2506\"}]},\"id\":\"2509\",\"type\":\"Column\"},{\"attributes\":{\"items\":[{\"id\":\"2464\"},{\"id\":\"2485\"}],\"location\":\"top_left\"},\"id\":\"2463\",\"type\":\"Legend\"},{\"attributes\":{},\"id\":\"2439\",\"type\":\"SaveTool\"},{\"attributes\":{\"label\":{\"value\":\"local\"},\"renderers\":[{\"id\":\"2455\"}]},\"id\":\"2464\",\"type\":\"LegendItem\"},{\"attributes\":{\"label\":{\"value\":\"remote\"},\"renderers\":[{\"id\":\"2473\"}]},\"id\":\"2485\",\"type\":\"LegendItem\"},{\"attributes\":{\"overlay\":{\"id\":\"2442\"}},\"id\":\"2438\",\"type\":\"BoxZoomTool\"},{\"attributes\":{\"line_alpha\":0.1,\"line_color\":\"#B2DF8A\",\"x\":{\"field\":\"x\"},\"y\":{\"field\":\"y\"}},\"id\":\"2472\",\"type\":\"Line\"},{\"attributes\":{\"line_alpha\":0.1,\"line_color\":\"#A6CEE3\",\"x\":{\"field\":\"x\"},\"y\":{\"field\":\"y\"}},\"id\":\"2454\",\"type\":\"Line\"},{\"attributes\":{\"fill_color\":{\"value\":\"darkgrey\"},\"line_color\":{\"value\":\"darkgrey\"},\"x\":{\"field\":\"x\"},\"y\":{\"field\":\"y\"}},\"id\":\"2487\",\"type\":\"Square\"},{\"attributes\":{},\"id\":\"2437\",\"type\":\"WheelZoomTool\"},{\"attributes\":{\"line_color\":\"#A6CEE3\",\"x\":{\"field\":\"x\"},\"y\":{\"field\":\"y\"}},\"id\":\"2453\",\"type\":\"Line\"},{\"attributes\":{\"source\":{\"id\":\"2465\"}},\"id\":\"2469\",\"type\":\"CDSView\"},{\"attributes\":{},\"id\":\"2501\",\"type\":\"UnionRenderers\"},{\"attributes\":{\"source\":{\"id\":\"2470\"}},\"id\":\"2474\",\"type\":\"CDSView\"},{\"attributes\":{\"num_minor_ticks\":10},\"id\":\"2433\",\"type\":\"LogTicker\"},{\"attributes\":{},\"id\":\"2500\",\"type\":\"Selection\"},{\"attributes\":{\"toolbar\":{\"id\":\"2507\"},\"toolbar_location\":\"above\"},\"id\":\"2508\",\"type\":\"ToolbarBox\"},{\"attributes\":{\"below\":[{\"id\":\"2428\"}],\"center\":[{\"id\":\"2431\"},{\"id\":\"2435\"},{\"id\":\"2463\"}],\"left\":[{\"id\":\"2432\"}],\"plot_height\":400,\"plot_width\":800,\"renderers\":[{\"id\":\"2455\"},{\"id\":\"2468\"},{\"id\":\"2473\"},{\"id\":\"2489\"}],\"title\":{\"id\":\"2418\"},\"toolbar\":{\"id\":\"2444\"},\"toolbar_location\":null,\"x_range\":{\"id\":\"2420\"},\"x_scale\":{\"id\":\"2424\"},\"y_range\":{\"id\":\"2422\"},\"y_scale\":{\"id\":\"2426\"}},\"id\":\"2417\",\"subtype\":\"Figure\",\"type\":\"Plot\"},{\"attributes\":{},\"id\":\"2436\",\"type\":\"PanTool\"},{\"attributes\":{\"axis\":{\"id\":\"2428\"},\"grid_line_alpha\":0.3,\"ticker\":null},\"id\":\"2431\",\"type\":\"Grid\"},{\"attributes\":{\"num_minor_ticks\":10},\"id\":\"2429\",\"type\":\"LogTicker\"},{\"attributes\":{},\"id\":\"2440\",\"type\":\"ResetTool\"},{\"attributes\":{},\"id\":\"2503\",\"type\":\"UnionRenderers\"},{\"attributes\":{},\"id\":\"2482\",\"type\":\"Selection\"},{\"attributes\":{},\"id\":\"2441\",\"type\":\"HelpTool\"},{\"attributes\":{},\"id\":\"2502\",\"type\":\"Selection\"},{\"attributes\":{},\"id\":\"2480\",\"type\":\"Selection\"},{\"attributes\":{\"data\":{\"x\":[100,200,300,500,800,1000,2000,3000,5000,8000,10000,20000,30000,50000,80000],\"y\":[0.001489877700805664,0.0010769367218017578,0.0009431838989257812,0.0014388561248779297,0.002299070358276367,0.0028460025787353516,0.0050029754638671875,0.008249998092651367,0.015505075454711914,0.024491071701049805,0.03491997718811035,0.05433201789855957,0.07851409912109375,0.13427305221557617,0.2106318473815918]},\"selected\":{\"id\":\"2480\"},\"selection_policy\":{\"id\":\"2481\"}},\"id\":\"2452\",\"type\":\"ColumnDataSource\"},{\"attributes\":{\"data_source\":{\"id\":\"2465\"},\"glyph\":{\"id\":\"2466\"},\"hover_glyph\":null,\"muted_glyph\":null,\"nonselection_glyph\":{\"id\":\"2467\"},\"selection_glyph\":null,\"view\":{\"id\":\"2469\"}},\"id\":\"2468\",\"type\":\"GlyphRenderer\"},{\"attributes\":{\"ticker\":null},\"id\":\"2461\",\"type\":\"LogTickFormatter\"},{\"attributes\":{\"fill_alpha\":{\"value\":0.1},\"fill_color\":{\"value\":\"darkgrey\"},\"line_alpha\":{\"value\":0.1},\"line_color\":{\"value\":\"darkgrey\"},\"x\":{\"field\":\"x\"},\"y\":{\"field\":\"y\"}},\"id\":\"2467\",\"type\":\"Circle\"},{\"attributes\":{},\"id\":\"2424\",\"type\":\"LogScale\"},{\"attributes\":{\"active_drag\":\"auto\",\"active_inspect\":\"auto\",\"active_multi\":null,\"active_scroll\":\"auto\",\"active_tap\":\"auto\",\"tools\":[{\"id\":\"2436\"},{\"id\":\"2437\"},{\"id\":\"2438\"},{\"id\":\"2439\"},{\"id\":\"2440\"},{\"id\":\"2441\"},{\"id\":\"2443\"}]},\"id\":\"2444\",\"type\":\"Toolbar\"},{\"attributes\":{\"toolbars\":[{\"id\":\"2444\"}],\"tools\":[{\"id\":\"2436\"},{\"id\":\"2437\"},{\"id\":\"2438\"},{\"id\":\"2439\"},{\"id\":\"2440\"},{\"id\":\"2441\"},{\"id\":\"2443\"}]},\"id\":\"2507\",\"type\":\"ProxyToolbar\"},{\"attributes\":{\"axis_label\":\"time\",\"formatter\":{\"id\":\"2461\"},\"ticker\":{\"id\":\"2433\"}},\"id\":\"2432\",\"type\":\"LogAxis\"},{\"attributes\":{\"axis_label\":\"array size\",\"formatter\":{\"id\":\"2459\"},\"ticker\":{\"id\":\"2429\"}},\"id\":\"2428\",\"type\":\"LogAxis\"},{\"attributes\":{\"data\":{\"x\":[100,200,300,500,800,1000,2000,3000,5000,8000,10000,20000,30000,50000,80000],\"y\":[0.028757095336914062,0.022654056549072266,0.0196988582611084,0.01858806610107422,0.01920795440673828,0.019514799118041992,0.01967000961303711,0.02035689353942871,0.026332378387451172,0.02686476707458496,0.027003765106201172,0.03647923469543457,0.0460667610168457,0.05334877967834473,0.08004593849182129]},\"selected\":{\"id\":\"2500\"},\"selection_policy\":{\"id\":\"2501\"}},\"id\":\"2470\",\"type\":\"ColumnDataSource\"},{\"attributes\":{\"data\":{\"x\":[100,200,300,500,800,1000,2000,3000,5000,8000,10000,20000,30000,50000,80000],\"y\":[0.001489877700805664,0.0010769367218017578,0.0009431838989257812,0.0014388561248779297,0.002299070358276367,0.0028460025787353516,0.0050029754638671875,0.008249998092651367,0.015505075454711914,0.024491071701049805,0.03491997718811035,0.05433201789855957,0.07851409912109375,0.13427305221557617,0.2106318473815918]},\"selected\":{\"id\":\"2482\"},\"selection_policy\":{\"id\":\"2483\"}},\"id\":\"2465\",\"type\":\"ColumnDataSource\"},{\"attributes\":{\"source\":{\"id\":\"2486\"}},\"id\":\"2490\",\"type\":\"CDSView\"},{\"attributes\":{\"data\":{\"x\":[100,200,300,500,800,1000,2000,3000,5000,8000,10000,20000,30000,50000,80000],\"y\":[0.028757095336914062,0.022654056549072266,0.0196988582611084,0.01858806610107422,0.01920795440673828,0.019514799118041992,0.01967000961303711,0.02035689353942871,0.026332378387451172,0.02686476707458496,0.027003765106201172,0.03647923469543457,0.0460667610168457,0.05334877967834473,0.08004593849182129]},\"selected\":{\"id\":\"2502\"},\"selection_policy\":{\"id\":\"2503\"}},\"id\":\"2486\",\"type\":\"ColumnDataSource\"},{\"attributes\":{\"data_source\":{\"id\":\"2486\"},\"glyph\":{\"id\":\"2487\"},\"hover_glyph\":null,\"muted_glyph\":null,\"nonselection_glyph\":{\"id\":\"2488\"},\"selection_glyph\":null,\"view\":{\"id\":\"2490\"}},\"id\":\"2489\",\"type\":\"GlyphRenderer\"},{\"attributes\":{},\"id\":\"2426\",\"type\":\"LogScale\"},{\"attributes\":{},\"id\":\"2422\",\"type\":\"DataRange1d\"},{\"attributes\":{\"bottom_units\":\"screen\",\"fill_alpha\":0.5,\"fill_color\":\"lightgrey\",\"left_units\":\"screen\",\"level\":\"overlay\",\"line_alpha\":1.0,\"line_color\":\"black\",\"line_dash\":[4,4],\"line_width\":2,\"render_mode\":\"css\",\"right_units\":\"screen\",\"top_units\":\"screen\"},\"id\":\"2442\",\"type\":\"BoxAnnotation\"},{\"attributes\":{},\"id\":\"2420\",\"type\":\"DataRange1d\"},{\"attributes\":{},\"id\":\"2481\",\"type\":\"UnionRenderers\"},{\"attributes\":{\"data_source\":{\"id\":\"2452\"},\"glyph\":{\"id\":\"2453\"},\"hover_glyph\":null,\"muted_glyph\":null,\"name\":\"local\",\"nonselection_glyph\":{\"id\":\"2454\"},\"selection_glyph\":null,\"view\":{\"id\":\"2456\"}},\"id\":\"2455\",\"type\":\"GlyphRenderer\"},{\"attributes\":{\"axis\":{\"id\":\"2432\"},\"dimension\":1,\"grid_line_alpha\":0.3,\"ticker\":null},\"id\":\"2435\",\"type\":\"Grid\"},{\"attributes\":{\"fill_color\":{\"value\":\"darkgrey\"},\"line_color\":{\"value\":\"darkgrey\"},\"x\":{\"field\":\"x\"},\"y\":{\"field\":\"y\"}},\"id\":\"2466\",\"type\":\"Circle\"},{\"attributes\":{\"data_source\":{\"id\":\"2470\"},\"glyph\":{\"id\":\"2471\"},\"hover_glyph\":null,\"muted_glyph\":null,\"name\":\"remote\",\"nonselection_glyph\":{\"id\":\"2472\"},\"selection_glyph\":null,\"view\":{\"id\":\"2474\"}},\"id\":\"2473\",\"type\":\"GlyphRenderer\"},{\"attributes\":{\"source\":{\"id\":\"2452\"}},\"id\":\"2456\",\"type\":\"CDSView\"},{\"attributes\":{\"text\":\"Execution Times\"},\"id\":\"2418\",\"type\":\"Title\"},{\"attributes\":{\"line_color\":\"#B2DF8A\",\"x\":{\"field\":\"x\"},\"y\":{\"field\":\"y\"}},\"id\":\"2471\",\"type\":\"Line\"},{\"attributes\":{},\"id\":\"2483\",\"type\":\"UnionRenderers\"},{\"attributes\":{\"ticker\":null},\"id\":\"2459\",\"type\":\"LogTickFormatter\"},{\"attributes\":{\"callback\":null,\"tooltips\":[[\"name\",\"$name\"],[\"array size\",\"$x\"],[\"time\",\"$y\"]]},\"id\":\"2443\",\"type\":\"HoverTool\"},{\"attributes\":{\"fill_alpha\":{\"value\":0.1},\"fill_color\":{\"value\":\"darkgrey\"},\"line_alpha\":{\"value\":0.1},\"line_color\":{\"value\":\"darkgrey\"},\"x\":{\"field\":\"x\"},\"y\":{\"field\":\"y\"}},\"id\":\"2488\",\"type\":\"Square\"},{\"attributes\":{\"children\":[[{\"id\":\"2417\"},0,0]]},\"id\":\"2506\",\"type\":\"GridBox\"}],\"root_ids\":[\"2509\"]},\"title\":\"Bokeh Application\",\"version\":\"2.0.1\"}};\n",
       "  var render_items = [{\"docid\":\"a8cdeb43-0c76-44b9-a111-0d1e443d49a2\",\"root_ids\":[\"2509\"],\"roots\":{\"2509\":\"78c0c604-2769-4e22-98db-134af583e994\"}}];\n",
       "  root.Bokeh.embed.embed_items_notebook(docs_json, render_items);\n",
       "\n",
       "  }\n",
       "  if (root.Bokeh !== undefined) {\n",
       "    embed_document(root);\n",
       "  } else {\n",
       "    var attempts = 0;\n",
       "    var timer = setInterval(function(root) {\n",
       "      if (root.Bokeh !== undefined) {\n",
       "        clearInterval(timer);\n",
       "        embed_document(root);\n",
       "      } else {\n",
       "        attempts++;\n",
       "        if (attempts > 100) {\n",
       "          clearInterval(timer);\n",
       "          console.log(\"Bokeh: ERROR: Unable to run BokehJS code because BokehJS library is missing\");\n",
       "        }\n",
       "      }\n",
       "    }, 10, root)\n",
       "  }\n",
       "})(window);"
      ],
      "application/vnd.bokehjs_exec.v0+json": ""
     },
     "metadata": {
      "application/vnd.bokehjs_exec.v0+json": {
       "id": "2509"
      }
     },
     "output_type": "display_data"
    }
   ],
   "source": [
    "import numpy as np\n",
    "\n",
    "from bokeh.layouts import gridplot\n",
    "from bokeh.plotting import figure, output_file, show\n",
    "\n",
    "import bokeh.io\n",
    "# The next two lines prevent Bokeh from opening the graph in a new window.\n",
    "bokeh.io.reset_output()\n",
    "bokeh.io.output_notebook()\n",
    "\n",
    "tooltips = [\n",
    "    (\"name\", \"$name\"),\n",
    "    (\"array size\", \"$x\"),\n",
    "    (\"time\", \"$y\")]\n",
    "p1 = figure(x_axis_type=\"log\", y_axis_type=\"log\", title=\"Execution Times\", tooltips=tooltips)\n",
    "p1.grid.grid_line_alpha=0.3\n",
    "p1.xaxis.axis_label = 'array size'\n",
    "p1.yaxis.axis_label = 'time'\n",
    "\n",
    "p1.line(ns, local_durations, color='#A6CEE3', legend_label='local', name='local')\n",
    "p1.circle(ns, local_durations, color='darkgrey', size=4)\n",
    "p1.line(ns, remote_durations, color='#B2DF8A', legend_label='remote', name='remote')\n",
    "p1.square(ns, remote_durations, color='darkgrey', size=4)\n",
    "p1.legend.location = \"top_left\"\n",
    "\n",
    "show(gridplot([[p1]], plot_width=800, plot_height=400))"
   ]
  },
  {
   "cell_type": "markdown",
   "metadata": {},
   "source": [
    "Let's confirm what the graph shows as the crossing point:"
   ]
  },
  {
   "cell_type": "code",
   "execution_count": 19,
   "metadata": {},
   "outputs": [
    {
     "name": "stdout",
     "output_type": "stream",
     "text": [
      "The Ray times are faster starting at n = 10000, local =  0.035 vs. remote =  0.027\n"
     ]
    }
   ],
   "source": [
    "i=0\n",
    "while i < len(ns) and local_durations[i] < remote_durations[i]:\n",
    "    i=i+1\n",
    "print('The Ray times are faster starting at n = {:d}, local = {:6.3f} vs. remote = {:6.3f}'.format(\n",
    "    ns[i], local_durations[i], remote_durations[i]))"
   ]
  },
  {
   "cell_type": "markdown",
   "metadata": {},
   "source": [
    "**TODO:** add an exploration of tasks/second limits?"
   ]
  },
  {
   "cell_type": "markdown",
   "metadata": {},
   "source": [
    "## How Distributed Task Management Works\n",
    "\n",
    "> **Note:** If you just want to learn the Ray API, you can safely skip the rest of this lesson (notebook) for now. It continues the exploration of how Ray works internally, which we started in the previous lesson. However, you should come back to this material at some point, so you'll develop a better understanding of how Ray works."
   ]
  },
  {
   "cell_type": "markdown",
   "metadata": {},
   "source": [
    "At the end of the last lesson, we examined Ray task scheduling at a high-level, by watching the Ray Dashboard and analyzing the performance times. Now we'll walk through some images that show the process Ray follows to place tasks around a cluster. "
   ]
  },
  {
   "cell_type": "markdown",
   "metadata": {},
   "source": [
    "Assume we will invoke the `make_array` task twice, then invoke `add_arrays` to sum the returned NumPy arrays. Graphically, it looks as follows:\n",
    "![Ray under the hood 1](../images/Ray-Cluster/Ray-Cluster.001.jpeg)"
   ]
  },
  {
   "cell_type": "markdown",
   "metadata": {},
   "source": [
    "How does this get scheduled in a cluster? Here we'll assume a three-node cluster that has resources for running two Ray worker tasks per node (under powered compared to what we learned using Ray Dashboard last lesson!).\n",
    "![Ray under the hood 2](../images/Ray-Cluster/Ray-Cluster.002.jpeg)"
   ]
  },
  {
   "cell_type": "markdown",
   "metadata": {},
   "source": [
    "First, assume that the driver program is running on Node1. So it will invoke the local scheduler to schedule the three tasks.\n",
    "![Ray under the hood 3](../images/Ray-Cluster/Ray-Cluster.003.jpeg)"
   ]
  },
  {
   "cell_type": "markdown",
   "metadata": {},
   "source": [
    "Immediately the ids for the task futures are returned. The _Global Control Store_ tracks where every task is running and every object is stored in the local _Object Stores_.\n",
    "![Ray under the hood 4](../images/Ray-Cluster/Ray-Cluster.004.jpeg)"
   ]
  },
  {
   "cell_type": "markdown",
   "metadata": {},
   "source": [
    "Suppose the local scheduler has available capacity in the first worker on the same node. It schedules the first `make_array` task there.\n",
    "![Ray under the hood 5](../images/Ray-Cluster/Ray-Cluster.005.jpeg)"
   ]
  },
  {
   "cell_type": "markdown",
   "metadata": {},
   "source": [
    "It decides to schedule the second `make_array` task in a worker on node 2.\n",
    "![Ray under the hood 6](../images/Ray-Cluster/Ray-Cluster.006.jpeg)"
   ]
  },
  {
   "cell_type": "markdown",
   "metadata": {},
   "source": [
    "When the two tasks finish, they place their result objects in their local object stores.\n",
    "![Ray under the hood 7](../images/Ray-Cluster/Ray-Cluster.007.jpeg)"
   ]
  },
  {
   "cell_type": "markdown",
   "metadata": {},
   "source": [
    "Now `add_array` can be scheduled, because the two tasks it depends on are done. Let's suppose it gets scheduled in the second worker on Node 1.\n",
    "![Ray under the hood 8](../images/Ray-Cluster/Ray-Cluster.008.jpeg)"
   ]
  },
  {
   "cell_type": "markdown",
   "metadata": {},
   "source": [
    "The first object it needs is already on the same node, in the object store, so the `add_arrays` task can _read it directly from shared memory_. No copying is required to the worker's process space.\n",
    "![Ray under the hood 9](../images/Ray-Cluster/Ray-Cluster.009.jpeg)"
   ]
  },
  {
   "cell_type": "markdown",
   "metadata": {},
   "source": [
    "However, the second object is on a different node, so Ray copies it to the local object store. \n",
    "![Ray under the hood 10](../images/Ray-Cluster/Ray-Cluster.010.jpeg)"
   ]
  },
  {
   "cell_type": "markdown",
   "metadata": {},
   "source": [
    "Now it can also be read from shared memory.\n",
    "![Ray under the hood 11](../images/Ray-Cluster/Ray-Cluster.011.jpeg)"
   ]
  },
  {
   "cell_type": "markdown",
   "metadata": {},
   "source": [
    "When `add_arrays` is finished, it writes its results to the local object store.\n",
    "![Ray under the hood 12](../images/Ray-Cluster/Ray-Cluster.012.jpeg)"
   ]
  },
  {
   "cell_type": "markdown",
   "metadata": {},
   "source": [
    "At this point, if the driver calls `ray.get(id3)`, it will return `obj3`.\n",
    "![Ray under the hood 13](../images/Ray-Cluster/Ray-Cluster.013.jpeg)"
   ]
  },
  {
   "cell_type": "markdown",
   "metadata": {},
   "source": [
    "Whew! Hopefully you have a better sense of what Ray does under the hood. Scheduling tasks on other nodes and copying objects between object stores is efficient, but incurs unavoidable network overhead."
   ]
  }
 ],
 "metadata": {
  "kernelspec": {
   "display_name": "Python 3",
   "language": "python",
   "name": "python3"
  },
  "language_info": {
   "codemirror_mode": {
    "name": "ipython",
    "version": 3
   },
   "file_extension": ".py",
   "mimetype": "text/x-python",
   "name": "python",
   "nbconvert_exporter": "python",
   "pygments_lexer": "ipython3",
   "version": "3.8.2"
  },
  "toc": {
   "base_numbering": 1,
   "nav_menu": {},
   "number_sections": false,
   "sideBar": true,
   "skip_h1_title": false,
   "title_cell": "Table of Contents",
   "title_sidebar": "Contents",
   "toc_cell": false,
   "toc_position": {
    "height": "calc(100% - 180px)",
    "left": "10px",
    "top": "150px",
    "width": "382.391px"
   },
   "toc_section_display": true,
   "toc_window_display": true
  }
 },
 "nbformat": 4,
 "nbformat_minor": 4
}
