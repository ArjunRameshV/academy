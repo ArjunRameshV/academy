{
 "cells": [
  {
   "cell_type": "markdown",
   "metadata": {},
   "source": [
    "# Ray Concepts - Task Parallelism (Part 2)\n",
    "\n",
    "The previous lesson explored Ray's core concepts and how they work. We learned how to define Ray _tasks_, run them, and retrieve the results. We  also started learning about how Ray schedules tasks in a distributed environment.\n",
    "\n",
    "This lesson completes the discussion of Ray tasks by exploring how task dependencies are handled. We'll also look under the hood at Ray's architecture and runtime behavior.\n",
    "\n",
    "> **Tip:** Recall that the [Ray Package Reference](https://ray.readthedocs.io/en/latest/package-ref.html) in the [Ray Docs](https://ray.readthedocs.io/en/latest/) is useful for exploring the API features we'll learn."
   ]
  },
  {
   "cell_type": "code",
   "execution_count": 1,
   "metadata": {},
   "outputs": [],
   "source": [
    "# Imports and initialize Ray. We're adding NumPy for the examples and the tutorial `util` library:\n",
    "\n",
    "import ray, time, sys    # New notebook, so new process\n",
    "import numpy as np       # Used for examples\n",
    "sys.path.append('..')    # Import our own libraries starting in the project root directory\n",
    "\n",
    "from util.printing import pnd, pd"
   ]
  },
  {
   "cell_type": "code",
   "execution_count": 2,
   "metadata": {},
   "outputs": [
    {
     "name": "stderr",
     "output_type": "stream",
     "text": [
      "2020-04-07 10:31:13,818\tINFO resource_spec.py:204 -- Starting Ray with 5.76 GiB memory available for workers and up to 2.9 GiB for objects. You can adjust these settings with ray.init(memory=<bytes>, object_store_memory=<bytes>).\n",
      "2020-04-07 10:31:14,158\tINFO services.py:1146 -- View the Ray dashboard at \u001b[1m\u001b[32mlocalhost:8265\u001b[39m\u001b[22m\n"
     ]
    },
    {
     "data": {
      "text/plain": [
       "{'node_ip_address': '192.168.1.149',\n",
       " 'redis_address': '192.168.1.149:41516',\n",
       " 'object_store_address': '/tmp/ray/session_2020-04-07_10-31-13_811695_72091/sockets/plasma_store',\n",
       " 'raylet_socket_name': '/tmp/ray/session_2020-04-07_10-31-13_811695_72091/sockets/raylet',\n",
       " 'webui_url': 'localhost:8265',\n",
       " 'session_dir': '/tmp/ray/session_2020-04-07_10-31-13_811695_72091'}"
      ]
     },
     "execution_count": 2,
     "metadata": {},
     "output_type": "execute_result"
    }
   ],
   "source": [
    "ray.init(ignore_reinit_error=True)"
   ]
  },
  {
   "cell_type": "markdown",
   "metadata": {},
   "source": [
    "Let's work with a new remote function. Previously, our `expensive` and `expensive_task` functions returned tuples that included time durations. Obviously the durations were useful for understanding how long the functions took to execute. Now, it will be more convenient to not return \"metadata\" like this, but just data values that we care about, because we are going to pass them to other functions. \n",
    "\n",
    "Hence, we'll define _dependentcy_ relationships between tasks. We'll learn how Ray handles these dependent, asynchronous computations.\n",
    "\n",
    "So, let's define a task to return a random NumPy array of some size `n`. As before, we'll add a sleep time, one tenth the size of `n`:"
   ]
  },
  {
   "cell_type": "code",
   "execution_count": 3,
   "metadata": {},
   "outputs": [],
   "source": [
    "@ray.remote\n",
    "def make_array(n):\n",
    "    time.sleep(n/10.0)\n",
    "    return np.random.standard_normal(n)"
   ]
  },
  {
   "cell_type": "markdown",
   "metadata": {},
   "source": [
    "Now define a task that can add two NumPy arrays together. The arrays need to be the same size, but we'll ignore any checking for this requirement."
   ]
  },
  {
   "cell_type": "code",
   "execution_count": 4,
   "metadata": {},
   "outputs": [],
   "source": [
    "@ray.remote\n",
    "def add_arrays(a1, a2):\n",
    "    time.sleep(a1.size/10.0)\n",
    "    return np.add(a1, a2)"
   ]
  },
  {
   "cell_type": "markdown",
   "metadata": {},
   "source": [
    "Now lets use them!"
   ]
  },
  {
   "cell_type": "code",
   "execution_count": 5,
   "metadata": {},
   "outputs": [
    {
     "name": "stdout",
     "output_type": "stream",
     "text": [
      "[-0.92900629  0.28904398 -1.07096964 -2.5296009   1.50764446  2.4188372\n",
      " -0.85552723 -0.75164429  0.20511419  1.51509312 -1.26188206  0.41259856\n",
      "  1.87627381  0.39031787 -0.30669317  0.00659595  1.53900995  0.70826332\n",
      " -0.38235873  0.7622296 ]\n",
      "Total time: duration:  4.024 seconds\n"
     ]
    }
   ],
   "source": [
    "start = time.time()\n",
    "id1 = make_array.remote(20)\n",
    "id2 = make_array.remote(20)\n",
    "id3 = add_arrays.remote(id1, id2)\n",
    "print(ray.get(id3))\n",
    "pd(time.time() - start, prefix=\"Total time:\")"
   ]
  },
  {
   "cell_type": "markdown",
   "metadata": {},
   "source": [
    "Something subtle and \"magical\" happened here; when we called `add_arrays`, we didn't need to call `ray.get()` first for `id1` and `id2`, since `add_arrays` expects NumPy arrays. Because `add_arrays` is a Ray task, Ray automatically does the extraction for us, so we can write code that looks more natural.\n",
    "\n",
    "Furthermore, note that the `add_arrays` task effectively depends on the outputs of the two `make_array` tasks. Ray won't run `add_arrays` until the other tasks are finished. Hence, _Ray handles task dependencies automatically for us._ \n",
    "\n",
    "This is why the elapsed time is about 4 seconds. We used a size of 20, so we slept 2 seconds in each call to `make_array`, but those happened in parallel, _followed_ by a second sleep of 2 seconds in `add_arrays`."
   ]
  },
  {
   "cell_type": "markdown",
   "metadata": {},
   "source": [
    "Recall from the previous lesson that we explored when to call `ray.get()` to avoid forcing tasks to become synchronous when they should be asynchronous. This additional example illustrates two key points:\n",
    "\n",
    "* _Don't ask for results you don't need._\n",
    "* _Don't ask for the results you need until you really need them._\n",
    "\n",
    "We don't need to see the objects for `id1` and `id2`. We only need the final array for `id3`."
   ]
  },
  {
   "cell_type": "markdown",
   "metadata": {},
   "source": [
    "## Using ray.wait() with ray.get()\n",
    "\n",
    "We've seen several examples of the best idiomatic way to use `ray.get()`. Here again is an example from the last lesson:\n",
    "\n",
    "```python\n",
    "start = time.time()\n",
    "ids = [expensive_task.remote(n) for n in range(5)]  # Fire off the asynchronous tasks\n",
    "for n2, duration in ray.get(ids):                   # Retrieve all the values from the list of futures\n",
    "    p(n2, duration)\n",
    "pd(time.time() - start, prefix=\"Total time:\")\n",
    "```\n",
    "\n",
    "Let's try it again with our new methods:"
   ]
  },
  {
   "cell_type": "code",
   "execution_count": 6,
   "metadata": {},
   "outputs": [
    {
     "name": "stdout",
     "output_type": "stream",
     "text": [
      "0: []\n",
      "10: [-1.28521667  1.26558629  2.39937045 -1.51618858 -0.63292281  1.21087438\n",
      "  0.4026137  -0.13121685  1.25820152 -0.25434667]\n",
      "20: [-2.96502132  0.43833885  3.39653803  1.84590608  0.97448447  0.17863497\n",
      " -2.76859471  1.13233276  0.40424164  3.24151925  1.47777294 -0.44786472\n",
      "  0.04608181  0.07562737 -0.92047336  0.1449865   0.73483947 -0.73677343\n",
      " -0.23823027 -3.9818802 ]\n",
      "30: [ 1.52497016  0.55501739  0.38781228  2.15907634  1.90902178 -4.7781606\n",
      "  3.75800758  3.99353092  2.13657905 -1.44246518 -1.45340331 -2.50227053\n",
      "  5.02785726 -0.30112174 -1.34993663  1.30102372  0.51863938 -1.32379222\n",
      "  0.360588    0.08009505 -1.69305149 -2.89418832 -0.8262835  -2.20247908\n",
      " -1.03967996 -2.68040573  2.86863223 -1.65785085  0.14207972  2.78305   ]\n",
      "40: [ 1.39202784 -0.28546437 -1.33538397 -1.20455682  3.62194578 -4.2478989\n",
      " -3.43274135 -0.65863866 -0.96586936 -1.26179936  2.4455379  -0.62949832\n",
      "  1.38512699  2.52576169 -0.99245834  0.01076307 -0.55646388  0.18512492\n",
      " -2.80733186 -2.62947634  0.70456048 -2.05297817  0.31174114 -0.17386222\n",
      "  3.46258045 -1.80061756  1.81150541 -0.82876438  0.56674823  2.58825412\n",
      "  2.84054828 -0.44314105 -0.09391956  2.49335161  0.94241704  2.00224446\n",
      "  1.7897478   0.56725946 -1.80404182  0.51510012]\n",
      "Total time: duration:  8.014 seconds\n"
     ]
    }
   ],
   "source": [
    "start = time.time()\n",
    "array_ids = [make_array.remote(n*10) for n in range(5)]\n",
    "added_array_ids = [add_arrays.remote(id, id) for id in array_ids]\n",
    "for array in ray.get(added_array_ids):\n",
    "    print(f'{array.size}: {array}')\n",
    "pd(time.time() - start, prefix=\"Total time:\")"
   ]
  },
  {
   "cell_type": "markdown",
   "metadata": {},
   "source": [
    "On my machine, I waited 8 seconds and then everything was printed at once."
   ]
  },
  {
   "cell_type": "markdown",
   "metadata": {},
   "source": [
    "There are two fundamental problems with the way we've used `ray.get()` so far:\n",
    "\n",
    "1. There's no timeout, in case something gets \"hung\".\n",
    "2. We have to wait for _all_ the objects to be available before `ray.get()` returns.\n",
    "\n",
    "The ability to specify a timeout is essential in production code as a defensive measure. Many potential problems could happen in a real production system, any one of which could cause the task we're waiting on to take an abnormally long time to complete or never complete. Our application would be deadlocked waiting on this task. Hence, it's **strongly recommended** in production software to always use timeouts on blocking calls, so that the application can attempt some sort of recovery in situations like this, or at least report the error and \"degrade gracefully\".\n",
    "\n",
    "Actually, there _is_ a `timeout=<value>` option you can pass to `ray.get()` ([documentation](https://ray.readthedocs.io/en/latest/package-ref.html#ray.get)), but it will most likely be removed in a future release of Ray. Why remove it if timeouts are important? This change will simplify the implementation of `ray.get()` and encourage the use of `ray.wait()` for waiting ([documentation](https://ray.readthedocs.io/en/latest/package-ref.html#ray.wait)) instead, followed by using `ray.get()` to retrieve values for tasks that `ray.wait()` tells us are finished. \n",
    "\n",
    "Using `ray.wait()` is also the way to fix the second problem with using `ray.get()` by itself, that we have to wait for all tasks to finish before we get any values back. Some of those tasks might finish quickly, like our contrived examples that sleep for short durations compared to other invocations. \n",
    "\n",
    "When you have a list of asynchronous tasks, you want to process the results of them as soon they become available, even while others continue to run. Use `ray.wait()` for this purpose.\n",
    "\n",
    "Therefore, while `ray.get()` is simple and convenient, for _production code_, we recommend using `ray.wait()`, **with** timeouts, for blocking on running tasks. Then use `ray.get()` to retrieve values of completed tasks. Now we'll learn how to use these two together. For a longer discussion on `ray.wait()`, see [this blog post](https://medium.com/distributed-computing-with-ray/ray-tips-and-tricks-part-i-ray-wait-9ed7a0b9836d).\n",
    "\n",
    "Here is the previous example rewritten to use `ray.wait()`:"
   ]
  },
  {
   "cell_type": "code",
   "execution_count": 7,
   "metadata": {},
   "outputs": [
    {
     "name": "stdout",
     "output_type": "stream",
     "text": [
      "Returned   1 completed tasks. (elapsed time:  0.006)\n",
      "0: []\n",
      "Returned   1 completed tasks. (elapsed time:  2.012)\n",
      "10: [ 4.37754862 -1.02590609 -1.68254241  2.33495923  3.54804578  0.35393678\n",
      " -0.54709416 -2.17506922  1.22213426 -2.37065039]\n",
      "Returned   1 completed tasks. (elapsed time:  4.008)\n",
      "20: [ 1.56663724 -2.34833082  1.59149292 -0.33014161 -1.02004453  2.87469325\n",
      " -4.16367098  1.04141674  0.50473669  2.50781868  2.23925251 -3.12342622\n",
      " -1.69920683 -0.14504243  0.81697685 -0.70844537 -1.09033079 -1.07665526\n",
      "  2.43589054 -1.47329542]\n",
      "Returned   1 completed tasks. (elapsed time:  6.011)\n",
      "30: [-0.85774983 -1.13884571 -0.25658309 -1.18223521  1.4843025   0.06712266\n",
      " -2.19242163 -2.16328539 -1.61968612  0.43222729 -0.17777361  0.91608206\n",
      "  2.81284324  0.48293915 -0.49168513 -1.45702508  1.58489628  1.19219043\n",
      "  1.57105747 -4.22667127  1.59453551  1.46912239 -3.45294313 -1.91154354\n",
      "  0.06362904 -2.04744221  0.76687402 -0.00997488  2.60191129 -2.16324354]\n",
      "Returned   1 completed tasks. (elapsed time:  8.014)\n",
      "40: [-0.42234493 -0.64562141 -2.10135408 -2.27643515  0.97371149 -0.91898188\n",
      " -1.92914951 -0.08790729  2.10404461  0.95709496  0.27558159 -1.51729509\n",
      "  4.87608044  0.89401014 -1.60357621  1.99062413  0.41305956 -1.26041159\n",
      " -1.32160478 -2.9191041   0.55363894  4.17127902  2.81918733  0.13989202\n",
      "  0.2444331  -0.41625913  0.30458971 -1.30019023 -0.54750209 -1.95863842\n",
      "  1.09915352  0.43132274 -1.93240722 -2.51245926  1.36195175  0.03438165\n",
      " -2.45202996  2.47182065  1.07926933  0.77694707]\n",
      "\n",
      "all arrays: [array([], dtype=float64), array([ 4.37754862, -1.02590609, -1.68254241,  2.33495923,  3.54804578,\n",
      "        0.35393678, -0.54709416, -2.17506922,  1.22213426, -2.37065039]), array([ 1.56663724, -2.34833082,  1.59149292, -0.33014161, -1.02004453,\n",
      "        2.87469325, -4.16367098,  1.04141674,  0.50473669,  2.50781868,\n",
      "        2.23925251, -3.12342622, -1.69920683, -0.14504243,  0.81697685,\n",
      "       -0.70844537, -1.09033079, -1.07665526,  2.43589054, -1.47329542]), array([-0.85774983, -1.13884571, -0.25658309, -1.18223521,  1.4843025 ,\n",
      "        0.06712266, -2.19242163, -2.16328539, -1.61968612,  0.43222729,\n",
      "       -0.17777361,  0.91608206,  2.81284324,  0.48293915, -0.49168513,\n",
      "       -1.45702508,  1.58489628,  1.19219043,  1.57105747, -4.22667127,\n",
      "        1.59453551,  1.46912239, -3.45294313, -1.91154354,  0.06362904,\n",
      "       -2.04744221,  0.76687402, -0.00997488,  2.60191129, -2.16324354]), array([-0.42234493, -0.64562141, -2.10135408, -2.27643515,  0.97371149,\n",
      "       -0.91898188, -1.92914951, -0.08790729,  2.10404461,  0.95709496,\n",
      "        0.27558159, -1.51729509,  4.87608044,  0.89401014, -1.60357621,\n",
      "        1.99062413,  0.41305956, -1.26041159, -1.32160478, -2.9191041 ,\n",
      "        0.55363894,  4.17127902,  2.81918733,  0.13989202,  0.2444331 ,\n",
      "       -0.41625913,  0.30458971, -1.30019023, -0.54750209, -1.95863842,\n",
      "        1.09915352,  0.43132274, -1.93240722, -2.51245926,  1.36195175,\n",
      "        0.03438165, -2.45202996,  2.47182065,  1.07926933,  0.77694707])]\n",
      "Total time: duration:  8.018 seconds\n"
     ]
    }
   ],
   "source": [
    "start = time.time()\n",
    "array_ids = [make_array.remote(n*10) for n in range(5)]\n",
    "added_array_ids = [add_arrays.remote(id, id) for id in array_ids]\n",
    "\n",
    "arrays = []\n",
    "waiting_ids = list(added_array_ids)        # Assign a working list to the full list of ids\n",
    "while len(waiting_ids) > 0:                # Loop until all tasks have completed\n",
    "    # Call ray.wait with:\n",
    "    #   1. the list of ids we're still waiting to complete,\n",
    "    #   2. tell it to return immediately as soon as one of them completes,\n",
    "    #   3. tell it wait up to 10 seconds before timing out.\n",
    "    ready_ids, remaining_ids = ray.wait(waiting_ids, num_returns=1, timeout=10.0)\n",
    "    print('Returned {:3d} completed tasks. (elapsed time: {:6.3f})'.format(len(ready_ids), time.time() - start))\n",
    "    new_arrays = ray.get(ready_ids)\n",
    "    arrays.extend(new_arrays)\n",
    "    for array in new_arrays:\n",
    "        print(f'{array.size}: {array}')\n",
    "    waiting_ids = remaining_ids  # Reset this list; don't include the completed ids in the list again!\n",
    "    \n",
    "print(f\"\\nall arrays: {arrays}\")\n",
    "pd(time.time() - start, prefix=\"Total time:\")"
   ]
  },
  {
   "cell_type": "markdown",
   "metadata": {},
   "source": [
    "Now it still takes about 8 seconds to complete, 4 seconds for the longest invocation of `make_array` and 4 seconds for the invocation of `add_arrays`, but since the others complete more quickly, we see their results as soon as they become available, at 0, 2, 4, and 6 second intervals.\n",
    "\n",
    "> **Warning:** For each call to `ray.wait()` in a loop like this, it's important to remove the ids that have completed. Otherwise, `ray.wait()` will return immediately with the same list containg the first completed item, over and over again; you'll loop forever!! Resetting the list is easy, since the second list returned by `ray.wait()` is the rest of the items that are still running. So, that's what we use.\n",
    "\n",
    "Now let's try it with `num_returns = 2`:"
   ]
  },
  {
   "cell_type": "code",
   "execution_count": 8,
   "metadata": {},
   "outputs": [
    {
     "name": "stdout",
     "output_type": "stream",
     "text": [
      "Returned   2 completed tasks. (elapsed time:  2.011)\n",
      "0: []\n",
      "10: [ 2.32587808  0.82081304  2.9989117  -1.33997147 -0.26643259  1.22837907\n",
      "  1.53030884  1.06810398  0.47756821  0.08559873]\n",
      "Returned   2 completed tasks. (elapsed time:  6.009)\n",
      "20: [ 0.04686546  1.01922614 -3.96177706 -5.07743723  1.59315458 -1.72849098\n",
      " -4.1063426  -3.62077657  3.64399788  1.36173483 -1.73825402 -2.78345861\n",
      "  0.84605929  1.14917603  3.00051432  0.71238277  4.0761519  -2.88021332\n",
      "  1.5112388   1.27605218]\n",
      "30: [ 0.24564884 -3.2056104  -2.02551124  1.34561076  0.92004979  0.35295672\n",
      " -0.5291997  -0.35103231 -1.90190146 -0.69428032 -1.52584985 -0.08200455\n",
      "  0.68416971  1.43915754 -0.45470125  0.5556991   3.37083264 -0.57751254\n",
      "  2.09951144  0.90027113 -1.69638456 -2.18414622  0.46947156 -0.11223115\n",
      "  0.73788965 -1.87241626  0.52417064 -0.206582    3.12787474  1.34327805]\n",
      "Returned   1 completed tasks. (elapsed time:  8.015)\n",
      "40: [-0.49855643  0.06036861  0.85994166  3.42091071 -5.12520426 -0.40020654\n",
      "  5.31167768  2.39248834  0.43817803  0.09119014 -1.68514852 -1.13716438\n",
      " -1.01144941  0.84667809  1.40044812 -0.18928328  2.49258558  1.06442277\n",
      "  0.89017077 -0.16913343  1.52533287 -0.03903603  0.45648565  1.40486167\n",
      " -2.78599491  4.67176035 -0.35221803  0.15136083 -1.00812125  1.64829183\n",
      " -0.92837946 -1.89081631 -0.91593286 -2.66964275  2.60652557 -1.33057808\n",
      " -2.54132075 -1.18480416 -0.09481902 -0.0206008 ]\n",
      "\n",
      "all arrays: [array([], dtype=float64), array([ 2.32587808,  0.82081304,  2.9989117 , -1.33997147, -0.26643259,\n",
      "        1.22837907,  1.53030884,  1.06810398,  0.47756821,  0.08559873]), array([ 0.04686546,  1.01922614, -3.96177706, -5.07743723,  1.59315458,\n",
      "       -1.72849098, -4.1063426 , -3.62077657,  3.64399788,  1.36173483,\n",
      "       -1.73825402, -2.78345861,  0.84605929,  1.14917603,  3.00051432,\n",
      "        0.71238277,  4.0761519 , -2.88021332,  1.5112388 ,  1.27605218]), array([ 0.24564884, -3.2056104 , -2.02551124,  1.34561076,  0.92004979,\n",
      "        0.35295672, -0.5291997 , -0.35103231, -1.90190146, -0.69428032,\n",
      "       -1.52584985, -0.08200455,  0.68416971,  1.43915754, -0.45470125,\n",
      "        0.5556991 ,  3.37083264, -0.57751254,  2.09951144,  0.90027113,\n",
      "       -1.69638456, -2.18414622,  0.46947156, -0.11223115,  0.73788965,\n",
      "       -1.87241626,  0.52417064, -0.206582  ,  3.12787474,  1.34327805]), array([-0.49855643,  0.06036861,  0.85994166,  3.42091071, -5.12520426,\n",
      "       -0.40020654,  5.31167768,  2.39248834,  0.43817803,  0.09119014,\n",
      "       -1.68514852, -1.13716438, -1.01144941,  0.84667809,  1.40044812,\n",
      "       -0.18928328,  2.49258558,  1.06442277,  0.89017077, -0.16913343,\n",
      "        1.52533287, -0.03903603,  0.45648565,  1.40486167, -2.78599491,\n",
      "        4.67176035, -0.35221803,  0.15136083, -1.00812125,  1.64829183,\n",
      "       -0.92837946, -1.89081631, -0.91593286, -2.66964275,  2.60652557,\n",
      "       -1.33057808, -2.54132075, -1.18480416, -0.09481902, -0.0206008 ])]\n",
      "Total time: duration:  8.020 seconds\n"
     ]
    }
   ],
   "source": [
    "start = time.time()\n",
    "array_ids = [make_array.remote(n*10) for n in range(5)]\n",
    "added_array_ids = [add_arrays.remote(id, id) for id in array_ids]\n",
    "\n",
    "arrays = []\n",
    "waiting_ids = list(added_array_ids)        # Assign a working list to the full list of ids\n",
    "while len(waiting_ids) > 0:                # Loop until all tasks have completed\n",
    "    # Call ray.wait with:\n",
    "    #   1. the list of ids we're still waiting to complete,\n",
    "    #   2. tell it to return immediately as soon as TWO of them complete,\n",
    "    #   3. tell it wait up to 10 seconds before timing out.\n",
    "    return_n = 2 if len(waiting_ids) > 1 else 1\n",
    "    ready_ids, remaining_ids = ray.wait(waiting_ids, num_returns=return_n, timeout=10.0)\n",
    "    print('Returned {:3d} completed tasks. (elapsed time: {:6.3f})'.format(len(ready_ids), time.time() - start))\n",
    "    new_arrays = ray.get(ready_ids)\n",
    "    arrays.extend(new_arrays)\n",
    "    for array in new_arrays:\n",
    "        print(f'{array.size}: {array}')\n",
    "    waiting_ids = remaining_ids  # Reset this list; don't include the completed ids in the list again!\n",
    "    \n",
    "print(f\"\\nall arrays: {arrays}\")\n",
    "pd(time.time() - start, prefix=\"Total time:\")"
   ]
  },
  {
   "cell_type": "markdown",
   "metadata": {},
   "source": [
    "Now we get two at a time output. Note that we don't actually pass `num_returns=2` every time. If you ask for more items than the length of the input list, you get an error. So, we compute `num_returns`, using `2` except when there's only one task to wait on, in which case we use `1`. So, in fact, the output for `40` was a single task result, because we started with `5` and processed two at a time."
   ]
  },
  {
   "cell_type": "markdown",
   "metadata": {},
   "source": [
    "## Exercise 2\n",
    "\n",
    "The following cell is identical to the last one. Modify it to use a timeout of `2.5` seconds, shorter than our longest tasks. What happens now? Try using other times."
   ]
  },
  {
   "cell_type": "code",
   "execution_count": null,
   "metadata": {},
   "outputs": [],
   "source": [
    "start = time.time()\n",
    "array_ids = [make_array.remote(n*10) for n in range(5)]\n",
    "added_array_ids = [add_arrays.remote(id, id) for id in array_ids]\n",
    "\n",
    "arrays = []\n",
    "waiting_ids = list(added_array_ids)        # Assign a working list to the full list of ids\n",
    "while len(waiting_ids) > 0:                # Loop until all tasks have completed\n",
    "    # Call ray.wait with:\n",
    "    #   1. the list of ids we're still waiting to complete,\n",
    "    #   2. tell it to return immediately as soon as TWO of them complete,\n",
    "    #   3. tell it wait up to 10 seconds before timing out.\n",
    "    return_n = 2 if len(waiting_ids) > 1 else 1\n",
    "    ready_ids, remaining_ids = ray.wait(waiting_ids, num_returns=return_n, timeout=10.0)\n",
    "    print('Returned {:3d} completed tasks. (elapsed time: {:6.3f})'.format(len(ready_ids), time.time() - start))\n",
    "    new_arrays = ray.get(ready_ids)\n",
    "    arrays.extend(new_arrays)\n",
    "    for array in new_arrays:\n",
    "        print(f'{array.size}: {array}')\n",
    "    waiting_ids = remaining_ids  # Reset this list; don't include the completed ids in the list again!\n",
    "    \n",
    "print(f\"\\nall arrays: {arrays}\")\n",
    "pd(time.time() - start, prefix=\"Total time:\")"
   ]
  },
  {
   "cell_type": "markdown",
   "metadata": {},
   "source": [
    "In conclusion:\n",
    "\n",
    "> **Tips:**\n",
    ">\n",
    "> 1. Use `ray.wait()` with a timeout to wait for one or more running tasks. Then use `ray.get()` to retrieve the values for the finished tasks.\n",
    "> 2. Don't ask for results you don't need.\n",
    "> 3. Don't ask for the results you need until you really need them."
   ]
  },
  {
   "cell_type": "markdown",
   "metadata": {},
   "source": [
    "## Exercise 3\n",
    "\n",
    "Let's make sure you understand how to use `ray.wait()`. The definitions from Exercise 1 in the previous lesson are repeated in the next cell. Change the definitions to use Ray. In particular, use `ray.wait()` as we used it above. You can just use the default values for `num_returns` and `timeout` if you want. The second cell uses `assert` statements to check your work.\n",
    "\n",
    "> **Tip:** The solution is in the `solutions` folder."
   ]
  },
  {
   "cell_type": "code",
   "execution_count": 9,
   "metadata": {},
   "outputs": [],
   "source": [
    "def slow_square(n):\n",
    "    time.sleep(n)\n",
    "    return n*n\n",
    "\n",
    "start = time.time()\n",
    "squares = [slow_square(n) for n in range(4)]\n",
    "duration = time.time() - start"
   ]
  },
  {
   "cell_type": "code",
   "execution_count": 10,
   "metadata": {},
   "outputs": [
    {
     "ename": "AssertionError",
     "evalue": "duration = 6.0105907917022705",
     "output_type": "error",
     "traceback": [
      "\u001b[0;31m---------------------------------------------------------------------------\u001b[0m",
      "\u001b[0;31mAssertionError\u001b[0m                            Traceback (most recent call last)",
      "\u001b[0;32m<ipython-input-10-d0ddd616ba15>\u001b[0m in \u001b[0;36m<module>\u001b[0;34m\u001b[0m\n\u001b[1;32m      1\u001b[0m \u001b[0;32massert\u001b[0m \u001b[0msquares\u001b[0m \u001b[0;34m==\u001b[0m \u001b[0;34m[\u001b[0m\u001b[0;36m0\u001b[0m\u001b[0;34m,\u001b[0m \u001b[0;36m1\u001b[0m\u001b[0;34m,\u001b[0m \u001b[0;36m4\u001b[0m\u001b[0;34m,\u001b[0m \u001b[0;36m9\u001b[0m\u001b[0;34m]\u001b[0m\u001b[0;34m\u001b[0m\u001b[0;34m\u001b[0m\u001b[0m\n\u001b[0;32m----> 2\u001b[0;31m \u001b[0;32massert\u001b[0m \u001b[0mduration\u001b[0m \u001b[0;34m<\u001b[0m \u001b[0;36m4.1\u001b[0m\u001b[0;34m,\u001b[0m \u001b[0;34mf'duration = {duration}'\u001b[0m\u001b[0;34m\u001b[0m\u001b[0;34m\u001b[0m\u001b[0m\n\u001b[0m",
      "\u001b[0;31mAssertionError\u001b[0m: duration = 6.0105907917022705"
     ]
    }
   ],
   "source": [
    "assert squares == [0, 1, 4, 9]\n",
    "assert duration < 4.1, f'duration = {duration}' "
   ]
  },
  {
   "cell_type": "markdown",
   "metadata": {},
   "source": [
    "## What Is the Optimal Task Granularity\n",
    "\n",
    "How fine-grained should Ray tasks be? There's no fixed rule of thumb, but Ray clearly adds some overhead for task management and using object stores in a cluster. Therefore, it makes sense that tasks which are too small will perform poorly.\n",
    "\n",
    "We'll explore this topic over several more lessons, but for now, let's get a sense of the overhead while running in your setup.\n",
    "\n",
    "We'll continue to use NumPy arrays to create \"load\", but remove the `sleep` calls:"
   ]
  },
  {
   "cell_type": "code",
   "execution_count": 31,
   "metadata": {},
   "outputs": [],
   "source": [
    "def noop(n):\n",
    "    return n\n",
    "\n",
    "def local_make_array(n):\n",
    "    return np.random.standard_normal(n)\n",
    "\n",
    "@ray.remote\n",
    "def remote_make_array(n):\n",
    "    return local_make_array(n)"
   ]
  },
  {
   "cell_type": "markdown",
   "metadata": {},
   "source": [
    "Let's do `trials` runs for each experiment, to average out background noise:"
   ]
  },
  {
   "cell_type": "code",
   "execution_count": 32,
   "metadata": {},
   "outputs": [],
   "source": [
    "trials=100"
   ]
  },
  {
   "cell_type": "markdown",
   "metadata": {},
   "source": [
    "First, let's use `noop` to baseline local function calls. Note that we call `print` for the duration, rathern than `pd`, because the overhead is so low the `pd` formatting will print `0.000`:"
   ]
  },
  {
   "cell_type": "code",
   "execution_count": 33,
   "metadata": {},
   "outputs": [
    {
     "name": "stdout",
     "output_type": "stream",
     "text": [
      "0.00010919570922851562 seconds\n"
     ]
    }
   ],
   "source": [
    "start = time.time()\n",
    "[noop(t) for t in range(trials)]\n",
    "print(f'{time.time() - start} seconds')"
   ]
  },
  {
   "cell_type": "markdown",
   "metadata": {},
   "source": [
    "Let's try the same run with `local_make_array(n)` for `n = 100000`:"
   ]
  },
  {
   "cell_type": "code",
   "execution_count": 34,
   "metadata": {},
   "outputs": [
    {
     "name": "stdout",
     "output_type": "stream",
     "text": [
      "0.28737783432006836 seconds\n"
     ]
    }
   ],
   "source": [
    "start = time.time()\n",
    "[local_make_array(100000) for _ in range(trials)]\n",
    "print(f'{time.time() - start} seconds')"
   ]
  },
  {
   "cell_type": "markdown",
   "metadata": {},
   "source": [
    "So, we can safely ignore the \"noop\" overhead for now. For completeness, here's what happens with remote execution:"
   ]
  },
  {
   "cell_type": "code",
   "execution_count": 91,
   "metadata": {},
   "outputs": [
    {
     "name": "stdout",
     "output_type": "stream",
     "text": [
      "0.09033918380737305 seconds\n"
     ]
    }
   ],
   "source": [
    "start = time.time()\n",
    "ids = [remote_make_array.remote(100000) for _ in range(trials)]\n",
    "ray.get(ids)\n",
    "print(f'{time.time() - start} seconds')"
   ]
  },
  {
   "cell_type": "markdown",
   "metadata": {},
   "source": [
    "For arrays of 100000, using Ray is faster (at least on this test machine). The benefits of parallel computation, rather than synchronous, already outweight the Ray overhead.\n",
    "\n",
    "So, let's run some trials with increasingly large array sizes, to compare the performance with local vs. remote execution. First, we'll set up `matplotlib`:"
   ]
  },
  {
   "cell_type": "code",
   "execution_count": 48,
   "metadata": {},
   "outputs": [],
   "source": [
    "%matplotlib inline\n",
    "\n",
    "import matplotlib\n",
    "import numpy as np\n",
    "import matplotlib.pyplot as plt"
   ]
  },
  {
   "cell_type": "code",
   "execution_count": 92,
   "metadata": {},
   "outputs": [
    {
     "data": {
      "text/plain": [
       "([100,\n",
       "  200,\n",
       "  300,\n",
       "  500,\n",
       "  800,\n",
       "  1000,\n",
       "  2000,\n",
       "  3000,\n",
       "  5000,\n",
       "  8000,\n",
       "  10000,\n",
       "  20000,\n",
       "  30000,\n",
       "  50000,\n",
       "  80000],\n",
       " [0.004708051681518555,\n",
       "  0.0010590553283691406,\n",
       "  0.0013260841369628906,\n",
       "  0.0027418136596679688,\n",
       "  0.0033631324768066406,\n",
       "  0.0035648345947265625,\n",
       "  0.0074920654296875,\n",
       "  0.008372068405151367,\n",
       "  0.017646074295043945,\n",
       "  0.023675203323364258,\n",
       "  0.028787851333618164,\n",
       "  0.056818246841430664,\n",
       "  0.08687710762023926,\n",
       "  0.14353370666503906,\n",
       "  0.22215485572814941],\n",
       " [0.03618168830871582,\n",
       "  0.04517507553100586,\n",
       "  0.07246994972229004,\n",
       "  0.04045391082763672,\n",
       "  0.0312647819519043,\n",
       "  0.031016826629638672,\n",
       "  0.05475807189941406,\n",
       "  0.0349278450012207,\n",
       "  0.029898881912231445,\n",
       "  0.030705928802490234,\n",
       "  0.03058481216430664,\n",
       "  0.05123114585876465,\n",
       "  0.05099296569824219,\n",
       "  0.04856395721435547,\n",
       "  0.0609431266784668])"
      ]
     },
     "execution_count": 92,
     "metadata": {},
     "output_type": "execute_result"
    }
   ],
   "source": [
    "local_durations = []\n",
    "remote_durations = []\n",
    "# These n values were determined by experimentation on this test machine. \n",
    "# If you are using an old machine, and this cell takes a long time to execute,\n",
    "# you could set the `trials` value above to a smaller number. \n",
    "ns = [i*(10**j) for j in range(2,5) for i in [1,2,3,5,8]]\n",
    "for n in ns:\n",
    "    start_local = time.time()\n",
    "    [local_make_array(n) for _ in range(trials)]\n",
    "    local_durations.append(time.time() - start_local)\n",
    "    \n",
    "    start_remote = time.time()\n",
    "    ids = [remote_make_array.remote(n) for _ in range(trials)]\n",
    "    ray.get(ids)\n",
    "    remote_durations.append(time.time() - start_remote)\n",
    "(ns, local_durations, remote_durations)"
   ]
  },
  {
   "cell_type": "code",
   "execution_count": 93,
   "metadata": {},
   "outputs": [
    {
     "data": {
      "image/png": "[encoded data removed]",
      "text/plain": [
       "<Figure size 432x288 with 1 Axes>"
      ]
     },
     "metadata": {
      "needs_background": "light"
     },
     "output_type": "display_data"
    }
   ],
   "source": [
    "plt.xlabel('Array Size')\n",
    "plt.ylabel('Seconds')\n",
    "plt.xscale('log')\n",
    "plt.yscale('log')\n",
    "plt.plot(ns, local_durations, 'bs', ns, remote_durations, 'g^')\n",
    "local_line = plt.plot(ns, local_durations, 'b')\n",
    "remote_line = plt.plot(ns, remote_durations, 'g')\n",
    "plt.setp(local_line, label='local')\n",
    "plt.setp(remote_line, label='remote')\n",
    "\n",
    "plt.title('Local vs. Remote Performance Times')\n",
    "plt.show()"
   ]
  },
  {
   "cell_type": "markdown",
   "metadata": {},
   "source": [
    "Let's find the crossing point:"
   ]
  },
  {
   "cell_type": "code",
   "execution_count": 94,
   "metadata": {},
   "outputs": [
    {
     "name": "stdout",
     "output_type": "stream",
     "text": [
      "The Ray times are faster starting at n = 20000, local =  0.057 vs. remote =  0.051\n"
     ]
    }
   ],
   "source": [
    "i=0\n",
    "while i < len(ns) and local_durations[i] < remote_durations[i]:\n",
    "    i=i+1\n",
    "print('The Ray times are faster starting at n = {:d}, local = {:6.3f} vs. remote = {:6.3f}'.format(\n",
    "    ns[i], local_durations[i], remote_durations[i]))"
   ]
  },
  {
   "cell_type": "markdown",
   "metadata": {},
   "source": [
    "## How Distributed Task Management Works\n",
    "\n",
    "> **Note:** If you just want to learn the Ray API, you can safely skip the rest of this lesson (notebook) for now. It continues the exploration of how Ray works internally, which we started in the previous lesson. However, you should come back to this material at some point, so you'll develop a better understanding of how Ray works."
   ]
  },
  {
   "cell_type": "markdown",
   "metadata": {},
   "source": [
    "At the end of the last lesson, we examined Ray task scheduling at a high-level, by watching the Ray Dashboard and analyzing the performance times. Now we'll walk through some images that show the process Ray follows to place tasks around a cluster. "
   ]
  },
  {
   "cell_type": "markdown",
   "metadata": {},
   "source": [
    "Assume we will invoke the `make_array` task twice, then invoke `add_arrays` to sum the returned NumPy arrays. Graphically, it looks as follows:\n",
    "![Ray under the hood 1](../images/Ray-Cluster/Ray-Cluster.001.jpeg)"
   ]
  },
  {
   "cell_type": "markdown",
   "metadata": {},
   "source": [
    "How does this get scheduled in a cluster? Here we'll assume a three-node cluster that has resources for running two Ray worker tasks per node (under powered compared to what we learned using Ray Dashboard last lesson!).\n",
    "![Ray under the hood 2](../images/Ray-Cluster/Ray-Cluster.002.jpeg)"
   ]
  },
  {
   "cell_type": "markdown",
   "metadata": {},
   "source": [
    "First, assume that the driver program is running on Node1. So it will invoke the local scheduler to schedule the three tasks.\n",
    "![Ray under the hood 3](../images/Ray-Cluster/Ray-Cluster.003.jpeg)"
   ]
  },
  {
   "cell_type": "markdown",
   "metadata": {},
   "source": [
    "Immediately the ids for the task futures are returned. The _Global Control Store_ tracks where every task is running and every object is stored in the local _Object Stores_.\n",
    "![Ray under the hood 4](../images/Ray-Cluster/Ray-Cluster.004.jpeg)"
   ]
  },
  {
   "cell_type": "markdown",
   "metadata": {},
   "source": [
    "Suppose the local scheduler has available capacity in the first worker on the same node. It schedules the first `make_array` task there.\n",
    "![Ray under the hood 5](../images/Ray-Cluster/Ray-Cluster.005.jpeg)"
   ]
  },
  {
   "cell_type": "markdown",
   "metadata": {},
   "source": [
    "It decides to schedule the second `make_array` task in a worker on node 2.\n",
    "![Ray under the hood 6](../images/Ray-Cluster/Ray-Cluster.006.jpeg)"
   ]
  },
  {
   "cell_type": "markdown",
   "metadata": {},
   "source": [
    "When the two tasks finish, they place their result objects in their local object stores.\n",
    "![Ray under the hood 7](../images/Ray-Cluster/Ray-Cluster.007.jpeg)"
   ]
  },
  {
   "cell_type": "markdown",
   "metadata": {},
   "source": [
    "Now `add_array` can be scheduled, because the two tasks it depends on are done. Let's suppose it gets scheduled in the second worker on Node 1.\n",
    "![Ray under the hood 8](../images/Ray-Cluster/Ray-Cluster.008.jpeg)"
   ]
  },
  {
   "cell_type": "markdown",
   "metadata": {},
   "source": [
    "The first object it needs is already on the same node, in the object store, so the `add_arrays` task can _read it directly from shared memory_. No copying is required to the worker's process space.\n",
    "![Ray under the hood 9](../images/Ray-Cluster/Ray-Cluster.009.jpeg)"
   ]
  },
  {
   "cell_type": "markdown",
   "metadata": {},
   "source": [
    "However, the second object is on a different node, so Ray copies it to the local object store. \n",
    "![Ray under the hood 10](../images/Ray-Cluster/Ray-Cluster.010.jpeg)"
   ]
  },
  {
   "cell_type": "markdown",
   "metadata": {},
   "source": [
    "Now it can also be read from shared memory.\n",
    "![Ray under the hood 11](../images/Ray-Cluster/Ray-Cluster.011.jpeg)"
   ]
  },
  {
   "cell_type": "markdown",
   "metadata": {},
   "source": [
    "When `add_arrays` is finished, it writes its results to the local object store.\n",
    "![Ray under the hood 12](../images/Ray-Cluster/Ray-Cluster.012.jpeg)"
   ]
  },
  {
   "cell_type": "markdown",
   "metadata": {},
   "source": [
    "At this point, if the driver calls `ray.get(id3)`, it will return `obj3`.\n",
    "![Ray under the hood 13](../images/Ray-Cluster/Ray-Cluster.013.jpeg)"
   ]
  },
  {
   "cell_type": "markdown",
   "metadata": {},
   "source": [
    "Whew! Hopefully you have a better sense of what Ray does under the hood. Scheduling tasks on other nodes and copying objects between object stores is efficient, but incurs unavoidable network overhead."
   ]
  },
  {
   "cell_type": "code",
   "execution_count": null,
   "metadata": {},
   "outputs": [],
   "source": []
  }
 ],
 "metadata": {
  "kernelspec": {
   "display_name": "Python 3",
   "language": "python",
   "name": "python3"
  },
  "language_info": {
   "codemirror_mode": {
    "name": "ipython",
    "version": 3
   },
   "file_extension": ".py",
   "mimetype": "text/x-python",
   "name": "python",
   "nbconvert_exporter": "python",
   "pygments_lexer": "ipython3",
   "version": "3.8.2"
  },
  "toc": {
   "base_numbering": 1,
   "nav_menu": {},
   "number_sections": false,
   "sideBar": true,
   "skip_h1_title": false,
   "title_cell": "Table of Contents",
   "title_sidebar": "Contents",
   "toc_cell": false,
   "toc_position": {
    "height": "calc(100% - 180px)",
    "left": "10px",
    "top": "150px",
    "width": "382.391px"
   },
   "toc_section_display": true,
   "toc_window_display": true
  }
 },
 "nbformat": 4,
 "nbformat_minor": 4
}
