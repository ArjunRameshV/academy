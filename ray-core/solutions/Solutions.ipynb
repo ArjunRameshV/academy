{
 "cells": [
  {
   "cell_type": "markdown",
   "metadata": {},
   "source": [
    "# Solutions to exercises in the `ray-core` Lessons"
   ]
  },
  {
   "cell_type": "markdown",
   "metadata": {},
   "source": [
    "First, import everything we'll need and start Ray:"
   ]
  },
  {
   "cell_type": "code",
   "execution_count": 1,
   "metadata": {},
   "outputs": [],
   "source": [
    "import ray, time, sys\n",
    "import numpy as np\n",
    "sys.path.append('../..')\n",
    "from util.printing import pnd, pd"
   ]
  },
  {
   "cell_type": "code",
   "execution_count": 2,
   "metadata": {},
   "outputs": [
    {
     "name": "stderr",
     "output_type": "stream",
     "text": [
      "2020-04-09 16:05:04,209\tINFO resource_spec.py:204 -- Starting Ray with 4.49 GiB memory available for workers and up to 2.27 GiB for objects. You can adjust these settings with ray.init(memory=<bytes>, object_store_memory=<bytes>).\n",
      "2020-04-09 16:05:04,563\tINFO services.py:1146 -- View the Ray dashboard at \u001b[1m\u001b[32mlocalhost:8266\u001b[39m\u001b[22m\n"
     ]
    },
    {
     "data": {
      "text/plain": [
       "{'node_ip_address': '192.168.1.149',\n",
       " 'redis_address': '192.168.1.149:10675',\n",
       " 'object_store_address': '/tmp/ray/session_2020-04-09_16-05-04_200827_36742/sockets/plasma_store',\n",
       " 'raylet_socket_name': '/tmp/ray/session_2020-04-09_16-05-04_200827_36742/sockets/raylet',\n",
       " 'webui_url': 'localhost:8266',\n",
       " 'session_dir': '/tmp/ray/session_2020-04-09_16-05-04_200827_36742'}"
      ]
     },
     "execution_count": 2,
     "metadata": {},
     "output_type": "execute_result"
    }
   ],
   "source": [
    "ray.init(ignore_reinit_error=True)"
   ]
  },
  {
   "cell_type": "markdown",
   "metadata": {},
   "source": [
    "## Exercise 1 in 02-TaskParallelism-Part1\n",
    "\n",
    "You were asked to convert the regular Python code to Ray code. Here are the three cells appropriately modified.\n",
    "\n",
    "First, we need the appropriate imports and `ray.init()`."
   ]
  },
  {
   "cell_type": "code",
   "execution_count": 3,
   "metadata": {},
   "outputs": [],
   "source": [
    "@ray.remote\n",
    "def slow_square(n):\n",
    "    time.sleep(n)\n",
    "    return n*n"
   ]
  },
  {
   "cell_type": "code",
   "execution_count": 4,
   "metadata": {},
   "outputs": [],
   "source": [
    "start = time.time()\n",
    "ids = [slow_square.remote(n) for n in range(4)]\n",
    "squares = ray.get(ids)\n",
    "duration = time.time() - start"
   ]
  },
  {
   "cell_type": "code",
   "execution_count": 5,
   "metadata": {},
   "outputs": [],
   "source": [
    "assert squares == [0, 1, 4, 9]\n",
    "# should fail until the code modifications are made:\n",
    "assert duration < 4.1, f'duration = {duration}' "
   ]
  },
  {
   "cell_type": "markdown",
   "metadata": {},
   "source": [
    "## Exercise 2 in 03-TaskParallelism-Part2\n",
    "\n",
    "You were asked to use `ray.wait()` with a shorter timeout, `2.5` seconds. First we need to redefine in this notebook the remote functions we used in that lesson:"
   ]
  },
  {
   "cell_type": "code",
   "execution_count": 6,
   "metadata": {},
   "outputs": [],
   "source": [
    "@ray.remote\n",
    "def make_array(n):\n",
    "    time.sleep(n/10.0)\n",
    "    return np.random.standard_normal(n)\n",
    "\n",
    "@ray.remote\n",
    "def add_arrays(a1, a2):\n",
    "    time.sleep(a1.size/10.0)\n",
    "    return np.add(a1, a2)"
   ]
  },
  {
   "cell_type": "code",
   "execution_count": 7,
   "metadata": {},
   "outputs": [
    {
     "name": "stdout",
     "output_type": "stream",
     "text": [
      "Returned   2 completed tasks. (elapsed time:  2.024)\n",
      "0: []\n",
      "10: [ 3.51983479  0.94445356  3.68859664  1.26042292 -0.10789851  2.17373424\n",
      "  3.00150713 -1.04821399  2.23492285  3.82278505]\n",
      "Returned   1 completed tasks. (elapsed time:  5.542)\n",
      "20: [ 1.90913868 -0.66160134  0.79828434 -1.44480661  2.23747017  0.52514003\n",
      "  1.26983756 -1.66983646  3.123945   -0.32368274 -2.94656064  0.35264673\n",
      "  2.46192772 -0.42426448  1.36852146 -0.84023993 -0.45143809  2.49641169\n",
      " -3.53041769 -0.53494207]\n",
      "Returned   2 completed tasks. (elapsed time:  8.026)\n",
      "30: [ 0.24828713  4.48862214  2.04706808 -0.52998407 -1.84999128  1.32390107\n",
      " -1.02822613 -1.04734946 -5.28314685 -2.68462863  2.96015075 -1.30092952\n",
      " -1.42989006  2.99289148 -0.72597118 -0.28928593  0.59180701 -0.81810978\n",
      "  2.94739147  2.27211834  3.07881366 -3.37212919  1.03798083  2.3012059\n",
      "  1.60353497 -2.26633163  1.29095693  0.22765221 -0.62767614 -1.22440643]\n",
      "40: [-1.4085726   0.60818398 -1.92229757 -2.6291242  -1.09167228  0.99462429\n",
      " -2.13531126 -0.66930075  2.79781069 -3.28110677  3.86629895  1.2652279\n",
      "  0.50979446  1.69605142 -1.41249838 -0.66508959  0.02602689  0.07537499\n",
      " -2.54336273 -2.97893775  1.81482407 -0.49276231  3.70320126  2.23135102\n",
      "  0.12104613  1.50631944  1.61010229 -1.4956513  -0.35175039 -0.5471758\n",
      " -0.20125516  2.61606491 -3.05021843  1.89379292 -3.01715389 -3.34388373\n",
      "  3.19240075  0.0214747  -5.03789824 -1.06368297]\n",
      "\n",
      "all arrays: [array([], dtype=float64), array([ 3.51983479,  0.94445356,  3.68859664,  1.26042292, -0.10789851,\n",
      "        2.17373424,  3.00150713, -1.04821399,  2.23492285,  3.82278505]), array([ 1.90913868, -0.66160134,  0.79828434, -1.44480661,  2.23747017,\n",
      "        0.52514003,  1.26983756, -1.66983646,  3.123945  , -0.32368274,\n",
      "       -2.94656064,  0.35264673,  2.46192772, -0.42426448,  1.36852146,\n",
      "       -0.84023993, -0.45143809,  2.49641169, -3.53041769, -0.53494207]), array([ 0.24828713,  4.48862214,  2.04706808, -0.52998407, -1.84999128,\n",
      "        1.32390107, -1.02822613, -1.04734946, -5.28314685, -2.68462863,\n",
      "        2.96015075, -1.30092952, -1.42989006,  2.99289148, -0.72597118,\n",
      "       -0.28928593,  0.59180701, -0.81810978,  2.94739147,  2.27211834,\n",
      "        3.07881366, -3.37212919,  1.03798083,  2.3012059 ,  1.60353497,\n",
      "       -2.26633163,  1.29095693,  0.22765221, -0.62767614, -1.22440643]), array([-1.4085726 ,  0.60818398, -1.92229757, -2.6291242 , -1.09167228,\n",
      "        0.99462429, -2.13531126, -0.66930075,  2.79781069, -3.28110677,\n",
      "        3.86629895,  1.2652279 ,  0.50979446,  1.69605142, -1.41249838,\n",
      "       -0.66508959,  0.02602689,  0.07537499, -2.54336273, -2.97893775,\n",
      "        1.81482407, -0.49276231,  3.70320126,  2.23135102,  0.12104613,\n",
      "        1.50631944,  1.61010229, -1.4956513 , -0.35175039, -0.5471758 ,\n",
      "       -0.20125516,  2.61606491, -3.05021843,  1.89379292, -3.01715389,\n",
      "       -3.34388373,  3.19240075,  0.0214747 , -5.03789824, -1.06368297])]\n",
      "Total time: duration:  8.029 seconds\n"
     ]
    }
   ],
   "source": [
    "start = time.time()\n",
    "array_ids = [make_array.remote(n*10) for n in range(5)]\n",
    "added_array_ids = [add_arrays.remote(id, id) for id in array_ids]\n",
    "\n",
    "arrays = []\n",
    "waiting_ids = list(added_array_ids)        # Assign a working list to the full list of ids\n",
    "while len(waiting_ids) > 0:                # Loop until all tasks have completed\n",
    "    # Call ray.wait with:\n",
    "    #   1. the list of ids we're still waiting to complete,\n",
    "    #   2. tell it to return immediately as soon as TWO of them complete,\n",
    "    #   3. tell it wait up to 10 seconds before timing out.\n",
    "    return_n = 2 if len(waiting_ids) > 1 else 1\n",
    "    ready_ids, remaining_ids = ray.wait(waiting_ids, num_returns=return_n, timeout=2.5)\n",
    "    print('Returned {:3d} completed tasks. (elapsed time: {:6.3f})'.format(len(ready_ids), time.time() - start))\n",
    "    new_arrays = ray.get(ready_ids)\n",
    "    arrays.extend(new_arrays)\n",
    "    for array in new_arrays:\n",
    "        print(f'{array.size}: {array}')\n",
    "    waiting_ids = remaining_ids  # Reset this list; don't include the completed ids in the list again!\n",
    "    \n",
    "print(f\"\\nall arrays: {arrays}\")\n",
    "pd(time.time() - start, prefix=\"Total time:\")"
   ]
  },
  {
   "cell_type": "markdown",
   "metadata": {},
   "source": [
    "For a timeout of `2.5` seconds, the second call to `ray.wait()` times out before two tasks finish, so it only returns one completed task. Why did the third and last iteration not time out? (That is, they both successfully returned two items.) It's because all the tasks were running in parallel so they had time to finish. If you use a shorter timeout, you'll see more time outs, where zero or one items are returned. \n",
    "\n",
    "Try `1.5` seconds, where all but one iteration times out and returns one item. The first iteration returns two items.\n",
    "Try `0.5` seconds, where you'll get several iterations that time out and return zero items, while all the other iterations time out and return one item."
   ]
  },
  {
   "cell_type": "markdown",
   "metadata": {},
   "source": [
    "## Exercise 3 in 03-TaskParallelism-Part2\n",
    "\n",
    "You were asked to convert the code to use Ray, especially `ray.wait()`."
   ]
  },
  {
   "cell_type": "code",
   "execution_count": 8,
   "metadata": {},
   "outputs": [],
   "source": [
    "@ray.remote\n",
    "def slow_square(n):\n",
    "    time.sleep(n)\n",
    "    return n*n\n",
    "\n",
    "start = time.time()\n",
    "ids = [slow_square.remote(n) for n in range(4)]\n",
    "squares = []\n",
    "waiting_ids = ids\n",
    "while len(waiting_ids) > 0:\n",
    "    finished_ids, waiting_ids = ray.wait(waiting_ids)  # We just assign the second list to waiting_ids...\n",
    "    squares.extend(ray.get(finished_ids))\n",
    "duration = time.time() - start"
   ]
  },
  {
   "cell_type": "code",
   "execution_count": 9,
   "metadata": {},
   "outputs": [],
   "source": [
    "assert squares == [0, 1, 4, 9]\n",
    "assert duration < 4.1, f'duration = {duration}' "
   ]
  }
 ],
 "metadata": {
  "kernelspec": {
   "display_name": "Python 3",
   "language": "python",
   "name": "python3"
  },
  "language_info": {
   "codemirror_mode": {
    "name": "ipython",
    "version": 3
   },
   "file_extension": ".py",
   "mimetype": "text/x-python",
   "name": "python",
   "nbconvert_exporter": "python",
   "pygments_lexer": "ipython3",
   "version": "3.8.2"
  }
 },
 "nbformat": 4,
 "nbformat_minor": 4
}
