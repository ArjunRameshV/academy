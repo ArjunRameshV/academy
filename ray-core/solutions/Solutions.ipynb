{
 "cells": [
  {
   "cell_type": "markdown",
   "metadata": {},
   "source": [
    "# Solutions to exercises in the `ray-core` Lessons"
   ]
  },
  {
   "cell_type": "markdown",
   "metadata": {},
   "source": [
    "First, import everything we'll need and start Ray:"
   ]
  },
  {
   "cell_type": "code",
   "execution_count": 1,
   "metadata": {},
   "outputs": [],
   "source": [
    "import ray, time, sys\n",
    "import numpy as np"
   ]
  },
  {
   "cell_type": "code",
   "execution_count": 2,
   "metadata": {},
   "outputs": [],
   "source": [
    "def pnd(n, duration, prefix=''):\n",
    "    \"\"\"Print an integer and a time duration, with an optional prefix.\"\"\"\n",
    "    prefix2 = prefix if len(prefix) == 0 else prefix+' '\n",
    "    print('{:s}n: {:2d}, duration: {:6.3f} seconds'.format(prefix2, n, duration))\n",
    "\n",
    "def pd(duration, prefix=''):\n",
    "    \"\"\"Print a time duration, with an optional prefix.\"\"\"\n",
    "    prefix2 = prefix if len(prefix) == 0 else prefix+' '\n",
    "    print('{:s}duration: {:6.3f} seconds'.format(prefix2, duration))"
   ]
  },
  {
   "cell_type": "code",
   "execution_count": 3,
   "metadata": {},
   "outputs": [
    {
     "name": "stderr",
     "output_type": "stream",
     "text": [
      "2020-04-15 09:27:21,679\tINFO resource_spec.py:212 -- Starting Ray with 4.54 GiB memory available for workers and up to 2.29 GiB for objects. You can adjust these settings with ray.init(memory=<bytes>, object_store_memory=<bytes>).\n",
      "2020-04-15 09:27:22,021\tINFO services.py:1148 -- View the Ray dashboard at \u001b[1m\u001b[32mlocalhost:8265\u001b[39m\u001b[22m\n"
     ]
    },
    {
     "data": {
      "text/plain": [
       "{'node_ip_address': '192.168.1.149',\n",
       " 'redis_address': '192.168.1.149:11486',\n",
       " 'object_store_address': '/tmp/ray/session_2020-04-15_09-27-21_670092_4807/sockets/plasma_store',\n",
       " 'raylet_socket_name': '/tmp/ray/session_2020-04-15_09-27-21_670092_4807/sockets/raylet',\n",
       " 'webui_url': 'localhost:8265',\n",
       " 'session_dir': '/tmp/ray/session_2020-04-15_09-27-21_670092_4807'}"
      ]
     },
     "execution_count": 3,
     "metadata": {},
     "output_type": "execute_result"
    }
   ],
   "source": [
    "ray.init(ignore_reinit_error=True)"
   ]
  },
  {
   "cell_type": "markdown",
   "metadata": {},
   "source": [
    "## Exercise 1 in 02-TaskParallelism-Part1\n",
    "\n",
    "You were asked to convert the regular Python code to Ray code. Here are the three cells appropriately modified.\n",
    "\n",
    "First, we need the appropriate imports and `ray.init()`."
   ]
  },
  {
   "cell_type": "code",
   "execution_count": 4,
   "metadata": {},
   "outputs": [],
   "source": [
    "@ray.remote\n",
    "def slow_square(n):\n",
    "    time.sleep(n)\n",
    "    return n*n"
   ]
  },
  {
   "cell_type": "code",
   "execution_count": 5,
   "metadata": {},
   "outputs": [],
   "source": [
    "start = time.time()\n",
    "ids = [slow_square.remote(n) for n in range(4)]\n",
    "squares = ray.get(ids)\n",
    "duration = time.time() - start"
   ]
  },
  {
   "cell_type": "code",
   "execution_count": 6,
   "metadata": {},
   "outputs": [],
   "source": [
    "assert squares == [0, 1, 4, 9]\n",
    "# should fail until the code modifications are made:\n",
    "assert duration < 4.1, f'duration = {duration}' "
   ]
  },
  {
   "cell_type": "markdown",
   "metadata": {},
   "source": [
    "## Exercise 2 in 03-TaskParallelism-Part2\n",
    "\n",
    "You were asked to use `ray.wait()` with a shorter timeout, `2.5` seconds. First we need to redefine in this notebook the remote functions we used in that lesson:"
   ]
  },
  {
   "cell_type": "code",
   "execution_count": 7,
   "metadata": {},
   "outputs": [],
   "source": [
    "@ray.remote\n",
    "def make_array(n):\n",
    "    time.sleep(n/10.0)\n",
    "    return np.random.standard_normal(n)\n",
    "\n",
    "@ray.remote\n",
    "def add_arrays(a1, a2):\n",
    "    time.sleep(a1.size/10.0)\n",
    "    return np.add(a1, a2)"
   ]
  },
  {
   "cell_type": "code",
   "execution_count": 8,
   "metadata": {},
   "outputs": [
    {
     "name": "stdout",
     "output_type": "stream",
     "text": [
      "Returned   2 completed tasks. (elapsed time:  2.018)\n",
      "0: []\n",
      "10: [ 1.86775352  2.9454727  -5.04052366 -4.33534297  1.6263961   0.39691723\n",
      " -1.25821447 -0.29963352 -2.3948451   3.30066021]\n",
      "Returned   1 completed tasks. (elapsed time:  5.537)\n",
      "20: [ 1.47778499  2.54213133 -0.78084779  0.46153321  0.60669328 -1.42004875\n",
      "  0.25173278  0.83958007 -3.21123112 -3.46694075  0.24307297 -0.62017288\n",
      " -0.71827436  0.80699748 -0.17335598 -1.11008536  2.80218211 -2.01117915\n",
      " -3.20214683 -2.39029264]\n",
      "Returned   2 completed tasks. (elapsed time:  8.016)\n",
      "30: [ 0.79918898  1.41123412  0.80206555  1.57553845 -1.22381679 -0.01631308\n",
      "  0.09983679  1.4726712   3.00156156 -0.9257089   2.37555648  1.77130338\n",
      " -1.67851542  0.80422592 -3.30197833 -0.09043308  1.55741247 -0.09579186\n",
      "  5.74481545 -2.21937375  0.10755704 -0.20810047 -4.62367772 -5.12056826\n",
      "  1.30345284  1.27297868  3.98460268  1.82273513  3.09241094  0.37172731]\n",
      "40: [-1.31749739 -0.48467903  3.29539476  1.52684404 -3.04442408 -0.77205294\n",
      "  3.61668242  5.17561164  4.54586479  3.86634932  1.2627146  -1.55678784\n",
      "  0.51676254  1.8860181   3.13712241  1.10584059  2.59475056 -2.48426622\n",
      "  0.19116759 -1.41014135  0.81281711 -1.63363802  0.12685201  0.43679531\n",
      "  0.78767328 -3.575837    4.08589969 -0.72037563 -4.16355902  0.59522002\n",
      "  3.16122492 -1.61853418  1.5672012  -0.1227901  -0.48364664 -0.78241022\n",
      " -1.58180544 -1.74994503 -0.76809718 -2.53970429]\n",
      "\n",
      "all arrays: [array([], dtype=float64), array([ 1.86775352,  2.9454727 , -5.04052366, -4.33534297,  1.6263961 ,\n",
      "        0.39691723, -1.25821447, -0.29963352, -2.3948451 ,  3.30066021]), array([ 1.47778499,  2.54213133, -0.78084779,  0.46153321,  0.60669328,\n",
      "       -1.42004875,  0.25173278,  0.83958007, -3.21123112, -3.46694075,\n",
      "        0.24307297, -0.62017288, -0.71827436,  0.80699748, -0.17335598,\n",
      "       -1.11008536,  2.80218211, -2.01117915, -3.20214683, -2.39029264]), array([ 0.79918898,  1.41123412,  0.80206555,  1.57553845, -1.22381679,\n",
      "       -0.01631308,  0.09983679,  1.4726712 ,  3.00156156, -0.9257089 ,\n",
      "        2.37555648,  1.77130338, -1.67851542,  0.80422592, -3.30197833,\n",
      "       -0.09043308,  1.55741247, -0.09579186,  5.74481545, -2.21937375,\n",
      "        0.10755704, -0.20810047, -4.62367772, -5.12056826,  1.30345284,\n",
      "        1.27297868,  3.98460268,  1.82273513,  3.09241094,  0.37172731]), array([-1.31749739, -0.48467903,  3.29539476,  1.52684404, -3.04442408,\n",
      "       -0.77205294,  3.61668242,  5.17561164,  4.54586479,  3.86634932,\n",
      "        1.2627146 , -1.55678784,  0.51676254,  1.8860181 ,  3.13712241,\n",
      "        1.10584059,  2.59475056, -2.48426622,  0.19116759, -1.41014135,\n",
      "        0.81281711, -1.63363802,  0.12685201,  0.43679531,  0.78767328,\n",
      "       -3.575837  ,  4.08589969, -0.72037563, -4.16355902,  0.59522002,\n",
      "        3.16122492, -1.61853418,  1.5672012 , -0.1227901 , -0.48364664,\n",
      "       -0.78241022, -1.58180544, -1.74994503, -0.76809718, -2.53970429])]\n",
      "Total time: duration:  8.022 seconds\n"
     ]
    }
   ],
   "source": [
    "start = time.time()\n",
    "array_ids = [make_array.remote(n*10) for n in range(5)]\n",
    "added_array_ids = [add_arrays.remote(id, id) for id in array_ids]\n",
    "\n",
    "arrays = []\n",
    "waiting_ids = list(added_array_ids)        # Assign a working list to the full list of ids\n",
    "while len(waiting_ids) > 0:                # Loop until all tasks have completed\n",
    "    # Call ray.wait with:\n",
    "    #   1. the list of ids we're still waiting to complete,\n",
    "    #   2. tell it to return immediately as soon as TWO of them complete,\n",
    "    #   3. tell it wait up to 10 seconds before timing out.\n",
    "    return_n = 2 if len(waiting_ids) > 1 else 1\n",
    "    ready_ids, remaining_ids = ray.wait(waiting_ids, num_returns=return_n, timeout=2.5)\n",
    "    print('Returned {:3d} completed tasks. (elapsed time: {:6.3f})'.format(len(ready_ids), time.time() - start))\n",
    "    new_arrays = ray.get(ready_ids)\n",
    "    arrays.extend(new_arrays)\n",
    "    for array in new_arrays:\n",
    "        print(f'{array.size}: {array}')\n",
    "    waiting_ids = remaining_ids  # Reset this list; don't include the completed ids in the list again!\n",
    "    \n",
    "print(f\"\\nall arrays: {arrays}\")\n",
    "pd(time.time() - start, prefix=\"Total time:\")"
   ]
  },
  {
   "cell_type": "markdown",
   "metadata": {},
   "source": [
    "For a timeout of `2.5` seconds, the second call to `ray.wait()` times out before two tasks finish, so it only returns one completed task. Why did the third and last iteration not time out? (That is, they both successfully returned two items.) It's because all the tasks were running in parallel so they had time to finish. If you use a shorter timeout, you'll see more time outs, where zero or one items are returned. \n",
    "\n",
    "Try `1.5` seconds, where all but one iteration times out and returns one item. The first iteration returns two items.\n",
    "Try `0.5` seconds, where you'll get several iterations that time out and return zero items, while all the other iterations time out and return one item."
   ]
  },
  {
   "cell_type": "markdown",
   "metadata": {},
   "source": [
    "## Exercise 3 in 03-TaskParallelism-Part2\n",
    "\n",
    "You were asked to convert the code to use Ray, especially `ray.wait()`."
   ]
  },
  {
   "cell_type": "code",
   "execution_count": 9,
   "metadata": {},
   "outputs": [],
   "source": [
    "@ray.remote\n",
    "def slow_square(n):\n",
    "    time.sleep(n)\n",
    "    return n*n\n",
    "\n",
    "start = time.time()\n",
    "ids = [slow_square.remote(n) for n in range(4)]\n",
    "squares = []\n",
    "waiting_ids = ids\n",
    "while len(waiting_ids) > 0:\n",
    "    finished_ids, waiting_ids = ray.wait(waiting_ids)  # We just assign the second list to waiting_ids...\n",
    "    squares.extend(ray.get(finished_ids))\n",
    "duration = time.time() - start"
   ]
  },
  {
   "cell_type": "code",
   "execution_count": 10,
   "metadata": {},
   "outputs": [],
   "source": [
    "assert squares == [0, 1, 4, 9]\n",
    "assert duration < 4.1, f'duration = {duration}' "
   ]
  },
  {
   "cell_type": "markdown",
   "metadata": {},
   "source": [
    "## Exercise 4 - \"Homework\" - in 04-DistributedStateWithActors\n",
    "\n",
    "Since profiling shows that `live_neighbors` is the bottleneck, what could be done to reduce its execution time? The solution shown here reduces its overhead by about 40%. Not bad. \n",
    "\n",
    "The solution also implements parallel invocations grid updates, rather doing the whole grid in sequential steps.\n",
    "\n",
    "As discussed in lesson 4, these kinds of optimizations make sense when you _really_ have a compelling reason to squeeze optimal performance out of the code. Hence, this optimization exercise will mostly appeal to those of you with such requirements or who low-level performance optimizations like this. \n",
    "\n",
    "Note that the `util` directory has standalone Python scripts you can play with, such as `util/micro-perf-tests.py`, which tests three variants of _live_neighbors_, including the original version. Also, `util/Ex4-GameOfLife.py` is the program used to develop the solution show here.\n",
    "\n",
    "If you tried the \"easier experiments\" suggested, such as enhancing `RayConwaysRules.step()` to accept a `num_steps` argument, you probably found that they didn't improve performance. As for the non-Ray game, this change only moves processing around but doesn't parallelize it more than before, so performance is about the same."
   ]
  },
  {
   "cell_type": "markdown",
   "metadata": {},
   "source": [
    "> **Note:** This solution is only partially done. For a work in progress, see `../../util/Ex4-GameOfLife.py`."
   ]
  },
  {
   "cell_type": "markdown",
   "metadata": {},
   "source": [
    "First, let's redefine a few things we need from that notebook, including the exercise code we need."
   ]
  },
  {
   "cell_type": "code",
   "execution_count": 11,
   "metadata": {},
   "outputs": [],
   "source": [
    "grid_size = 100\n",
    "max_steps = 200\n",
    "\n",
    "def cleanup(ids):\n",
    "    for id in ids: \n",
    "        id.__ray_terminate__.remote()"
   ]
  },
  {
   "cell_type": "code",
   "execution_count": 12,
   "metadata": {},
   "outputs": [
    {
     "name": "stdout",
     "output_type": "stream",
     "text": [
      "http://localhost:8265\n"
     ]
    }
   ],
   "source": [
    "print(f'http://{ray.get_webui_url()}')"
   ]
  },
  {
   "cell_type": "markdown",
   "metadata": {},
   "source": [
    "For comparison, my runs with the exercise code before improvements were about 12 to 12.5 seconds.\n",
    "\n",
    "If you look at `RayGame2.step`, it calls `RayConwaysRules.step` one step at a time, using remote calls. This seems like a good place for improvement. Let's extend `RayConwaysRules.step` to do more than one step, just like `RayGame2.step` already supports.\n",
    "\n",
    "Changes are indicated with comments."
   ]
  },
  {
   "cell_type": "code",
   "execution_count": 13,
   "metadata": {},
   "outputs": [],
   "source": [
    "class State:\n",
    "    \"\"\"\n",
    "    Represents a grid of game cells.\n",
    "    For simplicity, require square grids.\n",
    "    Each instance is considered immutable.\n",
    "    \"\"\"\n",
    "    def __init__(self, grid = None, size = 10):\n",
    "        \"\"\"\n",
    "        Create a State. Specify either a grid of cells or a size, for\n",
    "        which an size x size grid will be computed with random values.\n",
    "        (For simplicity, only use square grids.)\n",
    "        \"\"\"\n",
    "        if type(grid) != type(None): # avoid annoying AttributeError\n",
    "            assert grid.shape[0] == grid.shape[1]\n",
    "            self.size = grid.shape[0]\n",
    "            self.grid = grid.copy()\n",
    "        else:\n",
    "            self.size = size\n",
    "            # Seed: random initialization\n",
    "            self.grid = np.random.random(size*size).reshape((size, size)).round()\n",
    "\n",
    "    def living_cells(self):\n",
    "        \"\"\"\n",
    "        Returns ([x1, x2, ...], [y1, y2, ...]) for all living cells.\n",
    "        Simplifies graphing.\n",
    "        \"\"\"\n",
    "        cells = [(i,j) for i in range(self.size) for j in range(self.size) if self.grid[i][j] == 1]\n",
    "        return zip(*cells)\n",
    "\n",
    "    def __str__(self):\n",
    "        s = ' |\\n| '.join([' '.join(map(lambda x: '*' if x else ' ', self.grid[i])) for i in range(self.size)])\n",
    "        return '| ' + s + ' |'"
   ]
  },
  {
   "cell_type": "code",
   "execution_count": 14,
   "metadata": {},
   "outputs": [],
   "source": [
    "@ray.remote\n",
    "class RayConwaysRules:\n",
    "    \"\"\"\n",
    "    Apply the rules to a state and return a new state.\n",
    "    \"\"\"\n",
    "    def step(self, state, num_steps = 1):\n",
    "        \"\"\"\n",
    "        Determine the next values for all the cells, based on the current\n",
    "        state. Creates a new State with the changes and returns a one-elemen array\n",
    "        of new states, supporting num_steps > 1.\n",
    "        \"\"\"\n",
    "        new_states = []\n",
    "        for n in range(num_steps):\n",
    "            new_grid = state.grid.copy()\n",
    "            for i in range(state.size):\n",
    "                for j in range(state.size):\n",
    "                    lns = self.live_neighbors(i, j, state)\n",
    "                    new_grid[i][j] = self.apply_rules(i, j, lns, state)\n",
    "            new_states.append(State(grid = new_grid))\n",
    "        return new_states\n",
    "\n",
    "    def apply_rules(self, i, j, live_neighbors, state):\n",
    "        \"\"\"\n",
    "        Determine next value for a cell, which could be the same.\n",
    "        The rules for Conway's Game of Life:\n",
    "            Any live cell with fewer than two live neighbours dies, as if by underpopulation.\n",
    "            Any live cell with two or three live neighbours lives on to the next generation.\n",
    "            Any live cell with more than three live neighbours dies, as if by overpopulation.\n",
    "            Any dead cell with exactly three live neighbours becomes a live cell, as if by reproduction.\n",
    "        \"\"\"\n",
    "        cell = state.grid[i][j]  # default value is no change in state\n",
    "        if cell == 1:\n",
    "            if live_neighbors < 2 or live_neighbors > 3:\n",
    "                cell = 0\n",
    "        elif live_neighbors == 3:\n",
    "            cell = 1\n",
    "        return cell\n",
    "\n",
    "    def live_neighbors(self, i, j, state):\n",
    "        \"\"\"\n",
    "        This is the faster implementation than the original one.\n",
    "        Wrap at boundaries (i.e., treat the grid as a 2-dim \"toroid\")\n",
    "        \"\"\"\n",
    "        s = state.size\n",
    "        g = state.grid\n",
    "        im1 = i-1 if i > 0   else s-1\n",
    "        ip1 = i+1 if i < s-1 else 0\n",
    "        jm1 = j-1 if j > 0   else s-1\n",
    "        jp1 = j+1 if j < s-1 else 0\n",
    "        return g[im1][jm1] + g[im1][j] + g[im1][jp1] + g[i][jm1] + g[i][jp1] + g[ip1][jm1] + g[ip1][j] + g[ip1][jp1]"
   ]
  },
  {
   "cell_type": "code",
   "execution_count": 15,
   "metadata": {},
   "outputs": [],
   "source": [
    "@ray.remote\n",
    "class RayGame2:\n",
    "    # TODO: Game memory grows unbounded; trim older states?\n",
    "    def __init__(self, initial_state, rules_id):\n",
    "        self.states = [initial_state]\n",
    "        self.rules_id = rules_id\n",
    "\n",
    "    def step(self, num_steps = 1):\n",
    "        \"\"\"Take 1 or more steps, returning a list of new states.\"\"\"\n",
    "        start_index = len(self.states)\n",
    "        new_state_ids = self.rules_id.step.remote(self.states[-1], num_steps)\n",
    "        self.states.extend(ray.get(new_state_ids))\n",
    "        return self.states[start_index:-1]  # return the new states only!"
   ]
  },
  {
   "cell_type": "code",
   "execution_count": 16,
   "metadata": {},
   "outputs": [],
   "source": [
    "def time_ray_games2(num_games = 10, max_steps = max_steps, batch_size = 1, grid_size = grid_size):\n",
    "    game_ids = [RayGame2.remote(State(size = grid_size), RayConwaysRules.remote()) for i in range(num_games)]\n",
    "    start = time.time()\n",
    "    state_ids = []\n",
    "    for game_id in game_ids:\n",
    "        for i in range(int(max_steps/batch_size)):  # Do a total of max_steps game steps, which is max_steps/delta_steps\n",
    "            state_ids.append(game_id.step.remote(batch_size))\n",
    "    ray.get(state_ids)  # wait for everything to finish! We are ignoring what ray.get() returns, but what will it be??\n",
    "    pd(time.time() - start, prefix = f'Total time for {num_games} games (max_steps = {max_steps}, batch_size = {batch_size})')\n",
    "    return game_ids  # for cleanup afterwards"
   ]
  },
  {
   "cell_type": "code",
   "execution_count": 17,
   "metadata": {},
   "outputs": [
    {
     "name": "stdout",
     "output_type": "stream",
     "text": [
      "Total time for 1 games (max_steps = 200, batch_size = 1) duration:  7.174 seconds\n",
      "Total time for 1 games (max_steps = 200, batch_size = 50) duration:  6.871 seconds\n"
     ]
    }
   ],
   "source": [
    "ids1 = time_ray_games2(num_games = 1, max_steps = max_steps, batch_size=1, grid_size=grid_size)\n",
    "ids2 = time_ray_games2(num_games = 1, max_steps = max_steps, batch_size=50, grid_size=grid_size)"
   ]
  },
  {
   "cell_type": "code",
   "execution_count": 18,
   "metadata": {},
   "outputs": [],
   "source": [
    "cleanup(ids1)\n",
    "cleanup(ids2)"
   ]
  },
  {
   "cell_type": "markdown",
   "metadata": {},
   "source": [
    "The new implementation of `live_neighbors` has a noticable benefit, but batching doesn't make a large different.\n",
    "\n",
    "In this same `solutions` directory, you'll find standalone Python scripts used to explore optimizations. All have a `--help` option that describes command-line options, e.g., `python micro-perf-tests.py --help`.\n",
    "\n",
    "* The new `live_neighbors` implementation was tested separately using the standalone python script `micro-perf-tests.py`.\n",
    "* The updated Game of Life implementation above was explored in `Ex4-GameOfLife.py`.\n",
    "* A more aggressive refactoring that processes the grid updates in async (parallel) blocks is `Ex4-GameOfLife-blocks.py`. The comments at the top of this file compare how will it performs vs. `Ex4-GameOfLife.py`. As written, it only improves performance about 3%.\n",
    "\n",
    "Therefore, the big win is optimizing `live_neighbors`."
   ]
  }
 ],
 "metadata": {
  "kernelspec": {
   "display_name": "Python 3",
   "language": "python",
   "name": "python3"
  },
  "language_info": {
   "codemirror_mode": {
    "name": "ipython",
    "version": 3
   },
   "file_extension": ".py",
   "mimetype": "text/x-python",
   "name": "python",
   "nbconvert_exporter": "python",
   "pygments_lexer": "ipython3",
   "version": "3.7.6"
  }
 },
 "nbformat": 4,
 "nbformat_minor": 4
}
