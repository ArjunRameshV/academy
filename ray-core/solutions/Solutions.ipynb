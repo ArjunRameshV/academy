{
 "cells": [
  {
   "cell_type": "markdown",
   "metadata": {},
   "source": [
    "# Solutions to exercises in the `ray-core` Lessons"
   ]
  },
  {
   "cell_type": "markdown",
   "metadata": {},
   "source": [
    "First, import everything we'll need and start Ray:"
   ]
  },
  {
   "cell_type": "code",
   "execution_count": 2,
   "metadata": {},
   "outputs": [],
   "source": [
    "import ray, time, sys\n",
    "import numpy as np\n",
    "sys.path.append('../..')\n",
    "from util.printing import pnd, pd"
   ]
  },
  {
   "cell_type": "code",
   "execution_count": 2,
   "metadata": {},
   "outputs": [
    {
     "name": "stderr",
     "output_type": "stream",
     "text": [
      "2020-04-06 13:44:01,589\tINFO resource_spec.py:204 -- Starting Ray with 4.0 GiB memory available for workers and up to 2.02 GiB for objects. You can adjust these settings with ray.init(memory=<bytes>, object_store_memory=<bytes>).\n",
      "2020-04-06 13:44:01,947\tINFO services.py:1146 -- View the Ray dashboard at \u001b[1m\u001b[32mlocalhost:8267\u001b[39m\u001b[22m\n"
     ]
    },
    {
     "data": {
      "text/plain": [
       "{'node_ip_address': '192.168.1.149',\n",
       " 'redis_address': '192.168.1.149:15803',\n",
       " 'object_store_address': '/tmp/ray/session_2020-04-06_13-44-01_581721_30006/sockets/plasma_store',\n",
       " 'raylet_socket_name': '/tmp/ray/session_2020-04-06_13-44-01_581721_30006/sockets/raylet',\n",
       " 'webui_url': 'localhost:8267',\n",
       " 'session_dir': '/tmp/ray/session_2020-04-06_13-44-01_581721_30006'}"
      ]
     },
     "execution_count": 2,
     "metadata": {},
     "output_type": "execute_result"
    }
   ],
   "source": [
    "ray.init(ignore_reinit_error=True)"
   ]
  },
  {
   "cell_type": "markdown",
   "metadata": {},
   "source": [
    "## Exercise 1 in 02-DataParallelism-Part1\n",
    "\n",
    "You were asked to convert the regular Python code to Ray code. Here are the three cells appropriately modified.\n",
    "\n",
    "First, we need the appropriate imports and `ray.init()`."
   ]
  },
  {
   "cell_type": "code",
   "execution_count": 3,
   "metadata": {},
   "outputs": [],
   "source": [
    "@ray.remote\n",
    "def slow_square(n):\n",
    "    time.sleep(n)\n",
    "    return n*n"
   ]
  },
  {
   "cell_type": "code",
   "execution_count": 4,
   "metadata": {},
   "outputs": [],
   "source": [
    "start = time.time()\n",
    "ids = [slow_square.remote(n) for n in range(4)]\n",
    "squares = ray.get(ids)\n",
    "duration = time.time() - start"
   ]
  },
  {
   "cell_type": "code",
   "execution_count": 5,
   "metadata": {},
   "outputs": [],
   "source": [
    "assert squares == [0, 1, 4, 9]\n",
    "# should fail until the code modifications are made:\n",
    "assert duration < 4.1, f'duration = {duration}' "
   ]
  },
  {
   "cell_type": "markdown",
   "metadata": {},
   "source": [
    "## Exercise 2 in 03-DataParallelism-Part2\n",
    "\n",
    "You were asked to use `ray.wait()` with a shorter timeout, `2.5` seconds. First we need to define the remote functions we used in that lesson:"
   ]
  },
  {
   "cell_type": "code",
   "execution_count": 6,
   "metadata": {},
   "outputs": [],
   "source": [
    "@ray.remote\n",
    "def make_array(n):\n",
    "    time.sleep(n/10.0)\n",
    "    return np.random.standard_normal(n)\n",
    "\n",
    "@ray.remote\n",
    "def add_arrays(a1, a2):\n",
    "    time.sleep(a1.size/10.0)\n",
    "    return np.add(a1, a2)"
   ]
  },
  {
   "cell_type": "code",
   "execution_count": 10,
   "metadata": {},
   "outputs": [
    {
     "name": "stdout",
     "output_type": "stream",
     "text": [
      "Returned   1 completed tasks. (elapsed time:  1.012)\n",
      "0: []\n",
      "Returned   1 completed tasks. (elapsed time:  2.022)\n",
      "10: [-0.20901075 -0.72949182 -0.28642699  0.22743713  3.95596187 -0.88017923\n",
      " -3.34731201  0.43302113 -0.47698767  1.78129132]\n",
      "Returned   0 completed tasks. (elapsed time:  3.032)\n",
      "Returned   1 completed tasks. (elapsed time:  4.033)\n",
      "20: [-1.13928061 -3.50407667  2.38028826  0.32258259 -1.96872189 -2.06495504\n",
      " -0.47164318  2.3409099   0.21522455  5.64403487  0.57652634  0.92022058\n",
      " -0.20882429 -0.2094916  -1.90197131  0.90725176 -0.42482058 -1.60838073\n",
      "  0.65295721 -1.30397866]\n",
      "Returned   0 completed tasks. (elapsed time:  5.040)\n",
      "Returned   1 completed tasks. (elapsed time:  6.049)\n",
      "30: [ 0.27803524  0.83967401  1.09990838  2.63662949 -1.36933238 -2.82048063\n",
      " -0.93562439  1.90033255 -1.80210399  1.17175202  1.41702166  3.68647442\n",
      " -2.11658026 -1.67363274 -1.78038492  0.80202995 -0.56110565 -1.10746302\n",
      "  1.36555112 -0.6232434   0.77354945  2.06223836 -0.70719446 -2.05362656\n",
      " -1.56919975 -0.64422823 -1.52226542 -1.30711116  1.50821394 -1.06891335]\n",
      "Returned   0 completed tasks. (elapsed time:  7.062)\n",
      "Returned   1 completed tasks. (elapsed time:  8.011)\n",
      "40: [-1.13931407 -0.61930356  2.94453851 -3.32743643  1.01186768  0.69512987\n",
      " -0.70840862 -3.61589447 -0.81552803  0.34956039 -2.23455211  1.39921717\n",
      "  2.33992097  0.10896049 -0.10138495  0.91080548  2.54458809  0.55216405\n",
      "  1.24825157 -1.3930282   2.91585766  1.26876743  1.77956411  4.00307008\n",
      " -0.05418614  0.3666216   0.15050281  2.05333636  0.84009748 -3.14502523\n",
      "  2.39147394  0.83527633  1.81003295  1.46379255 -0.91892098 -0.37286608\n",
      " -0.50235809  2.10035498 -5.54424982 -2.02347905]\n",
      "Total time: duration:  8.013 seconds\n"
     ]
    }
   ],
   "source": [
    "start = time.time()\n",
    "array_ids = [make_array.remote(n*10) for n in range(5)]\n",
    "added_array_ids = [add_arrays.remote(id, id) for id in array_ids]\n",
    "\n",
    "waiting_ids = list(added_array_ids)        # Assign a working list to the full list of ids\n",
    "while len(waiting_ids) > 0:                # Loop until all tasks have completed\n",
    "    # Call ray.wait with:\n",
    "    #   1. the list of ids we're still waiting to complete,\n",
    "    #   2. tell it to return immediately as soon as TWO of them complete,\n",
    "    #   3. tell it wait up to 10 seconds before timing out.\n",
    "    return_n = 2 if len(waiting_ids) >= 2 else 1   # See discussion in the next cell\n",
    "    ready_ids, remaining_ids = ray.wait(waiting_ids, num_returns=return_n, timeout=0.5)\n",
    "    print('Returned {:3d} completed tasks. (elapsed time: {:6.3f})'.format(len(ready_ids), time.time() - start))\n",
    "    for array in ray.get(ready_ids):\n",
    "        print(f'{array.size}: {array}')\n",
    "        \n",
    "    waiting_ids = remaining_ids  # Reset this list; don't include the completed ids in the list again!\n",
    "    \n",
    "pd(time.time() - start, prefix=\"Total time:\")"
   ]
  },
  {
   "cell_type": "markdown",
   "metadata": {},
   "source": [
    "For a timeout of `2.5` seconds, the second call to `ray.wait()` times out before two tasks finish, so it only returns one completed task. Why did the third and last iteration not time out? (That is, they both successfully returned two items.) It's because all the tasks were running in parallel so they had time to finish. If you use a shorter timeout, you'll see more time outs, where zero or one items are returned. \n",
    "\n",
    "Try `1.5` seconds, where all but one iteration times out and returns one item. The first iteration returns two items.\n",
    "Try `0.5` seconds, where you'll get several iterations that time out and return zero items, while the all the other iterations time out and returns one item."
   ]
  },
  {
   "cell_type": "code",
   "execution_count": null,
   "metadata": {},
   "outputs": [],
   "source": []
  }
 ],
 "metadata": {
  "kernelspec": {
   "display_name": "Python 3",
   "language": "python",
   "name": "python3"
  },
  "language_info": {
   "codemirror_mode": {
    "name": "ipython",
    "version": 3
   },
   "file_extension": ".py",
   "mimetype": "text/x-python",
   "name": "python",
   "nbconvert_exporter": "python",
   "pygments_lexer": "ipython3",
   "version": "3.8.2"
  }
 },
 "nbformat": 4,
 "nbformat_minor": 4
}
