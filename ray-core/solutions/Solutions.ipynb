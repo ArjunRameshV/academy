{
 "cells": [
  {
   "cell_type": "markdown",
   "metadata": {},
   "source": [
    "# Solutions to exercises in the `ray-core` Lessons"
   ]
  },
  {
   "cell_type": "markdown",
   "metadata": {},
   "source": [
    "First, import everything we'll need and start Ray:"
   ]
  },
  {
   "cell_type": "code",
   "execution_count": 2,
   "metadata": {},
   "outputs": [],
   "source": [
    "import ray, time, sys\n",
    "import numpy as np"
   ]
  },
  {
   "cell_type": "code",
   "execution_count": 3,
   "metadata": {},
   "outputs": [],
   "source": [
    "def pnd(n, duration, prefix=''):\n",
    "    \"\"\"Print an integer and a time duration, with an optional prefix.\"\"\"\n",
    "    prefix2 = prefix if len(prefix) == 0 else prefix+' '\n",
    "    print('{:s}n: {:2d}, duration: {:6.3f} seconds'.format(prefix2, n, duration))\n",
    "\n",
    "def pd(duration, prefix=''):\n",
    "    \"\"\"Print a time duration, with an optional prefix.\"\"\"\n",
    "    prefix2 = prefix if len(prefix) == 0 else prefix+' '\n",
    "    print('{:s}duration: {:6.3f} seconds'.format(prefix2, duration))"
   ]
  },
  {
   "cell_type": "code",
   "execution_count": 4,
   "metadata": {},
   "outputs": [
    {
     "name": "stderr",
     "output_type": "stream",
     "text": [
      "2020-04-13 15:44:56,553\tINFO resource_spec.py:212 -- Starting Ray with 4.74 GiB memory available for workers and up to 2.37 GiB for objects. You can adjust these settings with ray.init(memory=<bytes>, object_store_memory=<bytes>).\n",
      "2020-04-13 15:44:56,928\tINFO services.py:1148 -- View the Ray dashboard at \u001b[1m\u001b[32mlocalhost:8266\u001b[39m\u001b[22m\n"
     ]
    },
    {
     "data": {
      "text/plain": [
       "{'node_ip_address': '192.168.1.149',\n",
       " 'redis_address': '192.168.1.149:13814',\n",
       " 'object_store_address': '/tmp/ray/session_2020-04-13_15-44-56_546186_64542/sockets/plasma_store',\n",
       " 'raylet_socket_name': '/tmp/ray/session_2020-04-13_15-44-56_546186_64542/sockets/raylet',\n",
       " 'webui_url': 'localhost:8266',\n",
       " 'session_dir': '/tmp/ray/session_2020-04-13_15-44-56_546186_64542'}"
      ]
     },
     "execution_count": 4,
     "metadata": {},
     "output_type": "execute_result"
    }
   ],
   "source": [
    "ray.init(ignore_reinit_error=True)"
   ]
  },
  {
   "cell_type": "markdown",
   "metadata": {},
   "source": [
    "## Exercise 1 in 02-TaskParallelism-Part1\n",
    "\n",
    "You were asked to convert the regular Python code to Ray code. Here are the three cells appropriately modified.\n",
    "\n",
    "First, we need the appropriate imports and `ray.init()`."
   ]
  },
  {
   "cell_type": "code",
   "execution_count": 3,
   "metadata": {},
   "outputs": [],
   "source": [
    "@ray.remote\n",
    "def slow_square(n):\n",
    "    time.sleep(n)\n",
    "    return n*n"
   ]
  },
  {
   "cell_type": "code",
   "execution_count": 4,
   "metadata": {},
   "outputs": [],
   "source": [
    "start = time.time()\n",
    "ids = [slow_square.remote(n) for n in range(4)]\n",
    "squares = ray.get(ids)\n",
    "duration = time.time() - start"
   ]
  },
  {
   "cell_type": "code",
   "execution_count": 5,
   "metadata": {},
   "outputs": [],
   "source": [
    "assert squares == [0, 1, 4, 9]\n",
    "# should fail until the code modifications are made:\n",
    "assert duration < 4.1, f'duration = {duration}' "
   ]
  },
  {
   "cell_type": "markdown",
   "metadata": {},
   "source": [
    "## Exercise 2 in 03-TaskParallelism-Part2\n",
    "\n",
    "You were asked to use `ray.wait()` with a shorter timeout, `2.5` seconds. First we need to redefine in this notebook the remote functions we used in that lesson:"
   ]
  },
  {
   "cell_type": "code",
   "execution_count": 6,
   "metadata": {},
   "outputs": [],
   "source": [
    "@ray.remote\n",
    "def make_array(n):\n",
    "    time.sleep(n/10.0)\n",
    "    return np.random.standard_normal(n)\n",
    "\n",
    "@ray.remote\n",
    "def add_arrays(a1, a2):\n",
    "    time.sleep(a1.size/10.0)\n",
    "    return np.add(a1, a2)"
   ]
  },
  {
   "cell_type": "code",
   "execution_count": 7,
   "metadata": {},
   "outputs": [
    {
     "name": "stdout",
     "output_type": "stream",
     "text": [
      "Returned   2 completed tasks. (elapsed time:  2.024)\n",
      "0: []\n",
      "10: [ 3.51983479  0.94445356  3.68859664  1.26042292 -0.10789851  2.17373424\n",
      "  3.00150713 -1.04821399  2.23492285  3.82278505]\n",
      "Returned   1 completed tasks. (elapsed time:  5.542)\n",
      "20: [ 1.90913868 -0.66160134  0.79828434 -1.44480661  2.23747017  0.52514003\n",
      "  1.26983756 -1.66983646  3.123945   -0.32368274 -2.94656064  0.35264673\n",
      "  2.46192772 -0.42426448  1.36852146 -0.84023993 -0.45143809  2.49641169\n",
      " -3.53041769 -0.53494207]\n",
      "Returned   2 completed tasks. (elapsed time:  8.026)\n",
      "30: [ 0.24828713  4.48862214  2.04706808 -0.52998407 -1.84999128  1.32390107\n",
      " -1.02822613 -1.04734946 -5.28314685 -2.68462863  2.96015075 -1.30092952\n",
      " -1.42989006  2.99289148 -0.72597118 -0.28928593  0.59180701 -0.81810978\n",
      "  2.94739147  2.27211834  3.07881366 -3.37212919  1.03798083  2.3012059\n",
      "  1.60353497 -2.26633163  1.29095693  0.22765221 -0.62767614 -1.22440643]\n",
      "40: [-1.4085726   0.60818398 -1.92229757 -2.6291242  -1.09167228  0.99462429\n",
      " -2.13531126 -0.66930075  2.79781069 -3.28110677  3.86629895  1.2652279\n",
      "  0.50979446  1.69605142 -1.41249838 -0.66508959  0.02602689  0.07537499\n",
      " -2.54336273 -2.97893775  1.81482407 -0.49276231  3.70320126  2.23135102\n",
      "  0.12104613  1.50631944  1.61010229 -1.4956513  -0.35175039 -0.5471758\n",
      " -0.20125516  2.61606491 -3.05021843  1.89379292 -3.01715389 -3.34388373\n",
      "  3.19240075  0.0214747  -5.03789824 -1.06368297]\n",
      "\n",
      "all arrays: [array([], dtype=float64), array([ 3.51983479,  0.94445356,  3.68859664,  1.26042292, -0.10789851,\n",
      "        2.17373424,  3.00150713, -1.04821399,  2.23492285,  3.82278505]), array([ 1.90913868, -0.66160134,  0.79828434, -1.44480661,  2.23747017,\n",
      "        0.52514003,  1.26983756, -1.66983646,  3.123945  , -0.32368274,\n",
      "       -2.94656064,  0.35264673,  2.46192772, -0.42426448,  1.36852146,\n",
      "       -0.84023993, -0.45143809,  2.49641169, -3.53041769, -0.53494207]), array([ 0.24828713,  4.48862214,  2.04706808, -0.52998407, -1.84999128,\n",
      "        1.32390107, -1.02822613, -1.04734946, -5.28314685, -2.68462863,\n",
      "        2.96015075, -1.30092952, -1.42989006,  2.99289148, -0.72597118,\n",
      "       -0.28928593,  0.59180701, -0.81810978,  2.94739147,  2.27211834,\n",
      "        3.07881366, -3.37212919,  1.03798083,  2.3012059 ,  1.60353497,\n",
      "       -2.26633163,  1.29095693,  0.22765221, -0.62767614, -1.22440643]), array([-1.4085726 ,  0.60818398, -1.92229757, -2.6291242 , -1.09167228,\n",
      "        0.99462429, -2.13531126, -0.66930075,  2.79781069, -3.28110677,\n",
      "        3.86629895,  1.2652279 ,  0.50979446,  1.69605142, -1.41249838,\n",
      "       -0.66508959,  0.02602689,  0.07537499, -2.54336273, -2.97893775,\n",
      "        1.81482407, -0.49276231,  3.70320126,  2.23135102,  0.12104613,\n",
      "        1.50631944,  1.61010229, -1.4956513 , -0.35175039, -0.5471758 ,\n",
      "       -0.20125516,  2.61606491, -3.05021843,  1.89379292, -3.01715389,\n",
      "       -3.34388373,  3.19240075,  0.0214747 , -5.03789824, -1.06368297])]\n",
      "Total time: duration:  8.029 seconds\n"
     ]
    }
   ],
   "source": [
    "start = time.time()\n",
    "array_ids = [make_array.remote(n*10) for n in range(5)]\n",
    "added_array_ids = [add_arrays.remote(id, id) for id in array_ids]\n",
    "\n",
    "arrays = []\n",
    "waiting_ids = list(added_array_ids)        # Assign a working list to the full list of ids\n",
    "while len(waiting_ids) > 0:                # Loop until all tasks have completed\n",
    "    # Call ray.wait with:\n",
    "    #   1. the list of ids we're still waiting to complete,\n",
    "    #   2. tell it to return immediately as soon as TWO of them complete,\n",
    "    #   3. tell it wait up to 10 seconds before timing out.\n",
    "    return_n = 2 if len(waiting_ids) > 1 else 1\n",
    "    ready_ids, remaining_ids = ray.wait(waiting_ids, num_returns=return_n, timeout=2.5)\n",
    "    print('Returned {:3d} completed tasks. (elapsed time: {:6.3f})'.format(len(ready_ids), time.time() - start))\n",
    "    new_arrays = ray.get(ready_ids)\n",
    "    arrays.extend(new_arrays)\n",
    "    for array in new_arrays:\n",
    "        print(f'{array.size}: {array}')\n",
    "    waiting_ids = remaining_ids  # Reset this list; don't include the completed ids in the list again!\n",
    "    \n",
    "print(f\"\\nall arrays: {arrays}\")\n",
    "pd(time.time() - start, prefix=\"Total time:\")"
   ]
  },
  {
   "cell_type": "markdown",
   "metadata": {},
   "source": [
    "For a timeout of `2.5` seconds, the second call to `ray.wait()` times out before two tasks finish, so it only returns one completed task. Why did the third and last iteration not time out? (That is, they both successfully returned two items.) It's because all the tasks were running in parallel so they had time to finish. If you use a shorter timeout, you'll see more time outs, where zero or one items are returned. \n",
    "\n",
    "Try `1.5` seconds, where all but one iteration times out and returns one item. The first iteration returns two items.\n",
    "Try `0.5` seconds, where you'll get several iterations that time out and return zero items, while all the other iterations time out and return one item."
   ]
  },
  {
   "cell_type": "markdown",
   "metadata": {},
   "source": [
    "## Exercise 3 in 03-TaskParallelism-Part2\n",
    "\n",
    "You were asked to convert the code to use Ray, especially `ray.wait()`."
   ]
  },
  {
   "cell_type": "code",
   "execution_count": 8,
   "metadata": {},
   "outputs": [],
   "source": [
    "@ray.remote\n",
    "def slow_square(n):\n",
    "    time.sleep(n)\n",
    "    return n*n\n",
    "\n",
    "start = time.time()\n",
    "ids = [slow_square.remote(n) for n in range(4)]\n",
    "squares = []\n",
    "waiting_ids = ids\n",
    "while len(waiting_ids) > 0:\n",
    "    finished_ids, waiting_ids = ray.wait(waiting_ids)  # We just assign the second list to waiting_ids...\n",
    "    squares.extend(ray.get(finished_ids))\n",
    "duration = time.time() - start"
   ]
  },
  {
   "cell_type": "code",
   "execution_count": 9,
   "metadata": {},
   "outputs": [],
   "source": [
    "assert squares == [0, 1, 4, 9]\n",
    "assert duration < 4.1, f'duration = {duration}' "
   ]
  },
  {
   "cell_type": "markdown",
   "metadata": {},
   "source": [
    "## Exercise 4 in 04-DistributedStateWithActors\n",
    "\n",
    "Let's see if we can achieve better performance results than our last run. For your convenience, here are new versions of `RayGame` (called `RayGame2`) and `ConwaysRules` (called `RayConwaysRules`), both declared as actors. What about `State`? It actually _doesn't_ make sense to make it an actor, because it is really just an _immutable_ holder of data, so making it an actor is not going to bring any benefit."
   ]
  },
  {
   "cell_type": "markdown",
   "metadata": {},
   "source": [
    "First, let's redefine a few things we need from that notebook, including the exercise code we need."
   ]
  },
  {
   "cell_type": "code",
   "execution_count": 5,
   "metadata": {},
   "outputs": [],
   "source": [
    "grid_size = 100\n",
    "max_steps = 200\n",
    "\n",
    "def cleanup(ids):\n",
    "    for id in ids: \n",
    "        id.__ray_terminate__.remote()"
   ]
  },
  {
   "cell_type": "code",
   "execution_count": 6,
   "metadata": {},
   "outputs": [
    {
     "name": "stdout",
     "output_type": "stream",
     "text": [
      "http://localhost:8266\n"
     ]
    }
   ],
   "source": [
    "print(f'http://{ray.get_webui_url()}')"
   ]
  },
  {
   "cell_type": "markdown",
   "metadata": {},
   "source": [
    "For comparison, my runs with the exercise code before improvements were about 12 to 12.5 seconds.\n",
    "\n",
    "If you look at `RayGame2.step`, it calls `RayConwaysRules.step` one step at a time, using remote calls. This seems like a good place for improvement. Let's extend `RayConwaysRules.step` to do more than one step, just like `RayGame2.step` already supports.\n",
    "\n",
    "Changes are indicated with comments."
   ]
  },
  {
   "cell_type": "code",
   "execution_count": 11,
   "metadata": {},
   "outputs": [],
   "source": [
    "class State:\n",
    "    \"\"\"\n",
    "    Represents a grid of game cells.\n",
    "    For simplicity, require square grids.\n",
    "    Each instance is considered immutable.\n",
    "    \"\"\"\n",
    "    def __init__(self, grid = None, size = 10):\n",
    "        \"\"\"\n",
    "        Create a State. Specify either a grid of cells or a size, for\n",
    "        which an size x size grid will be computed with random values.\n",
    "        (For simplicity, only use square grids.)\n",
    "        \"\"\"\n",
    "        if type(grid) != type(None): # avoid annoying AttributeError\n",
    "            assert grid.shape[0] == grid.shape[1]\n",
    "            self.size = grid.shape[0]\n",
    "            self.grid = grid.copy()\n",
    "        else:\n",
    "            self.size = size\n",
    "            # Seed: random initialization\n",
    "            self.grid = np.random.random(size*size).reshape((size, size)).round()\n",
    "\n",
    "    def living_cells(self):\n",
    "        \"\"\"\n",
    "        Returns ([x1, x2, ...], [y1, y2, ...]) for all living cells.\n",
    "        Simplifies graphing.\n",
    "        \"\"\"\n",
    "        cells = [(i,j) for i in range(self.size) for j in range(self.size) if self.grid[i][j] == 1]\n",
    "        return zip(*cells)\n",
    "\n",
    "    def __str__(self):\n",
    "        s = ' |\\n| '.join([' '.join(map(lambda x: '*' if x else ' ', self.grid[i])) for i in range(self.size)])\n",
    "        return '| ' + s + ' |'"
   ]
  },
  {
   "cell_type": "code",
   "execution_count": 7,
   "metadata": {},
   "outputs": [],
   "source": [
    "@ray.remote\n",
    "class RayConwaysRules:\n",
    "    \"\"\"\n",
    "    Apply the rules to a state and return a new state.\n",
    "    \"\"\"\n",
    "    def step(self, state, num_steps = 1):\n",
    "        \"\"\"\n",
    "        Determine the next values for all the cells, based on the current\n",
    "        state. Creates a new State with the changes and returns a one-elemen array\n",
    "        of new states, supporting num_steps > 1.\n",
    "        \"\"\"\n",
    "        new_states = []\n",
    "        for n in range(num_steps):\n",
    "            new_grid = state.grid.copy()\n",
    "            for i in range(state.size):\n",
    "                for j in range(state.size):\n",
    "                    lns = self.live_neighbors(i, j, state)\n",
    "                    new_grid[i][j] = self.apply_rules(i, j, lns, state)\n",
    "            new_states.append(State(grid = new_grid))\n",
    "        return new_states\n",
    "\n",
    "    def apply_rules(self, i, j, live_neighbors, state):\n",
    "        \"\"\"\n",
    "        Determine next value for a cell, which could be the same.\n",
    "        The rules for Conway's Game of Life:\n",
    "            Any live cell with fewer than two live neighbours dies, as if by underpopulation.\n",
    "            Any live cell with two or three live neighbours lives on to the next generation.\n",
    "            Any live cell with more than three live neighbours dies, as if by overpopulation.\n",
    "            Any dead cell with exactly three live neighbours becomes a live cell, as if by reproduction.\n",
    "        \"\"\"\n",
    "        cell = state.grid[i][j]  # default value is no change in state\n",
    "        if cell == 1:\n",
    "            if live_neighbors < 2 or live_neighbors > 3:\n",
    "                cell = 0\n",
    "        elif live_neighbors == 3:\n",
    "            cell = 1\n",
    "        return cell\n",
    "\n",
    "    def live_neighbors(self, i, j, state):\n",
    "        \"\"\"\n",
    "        Wrap at boundaries (i.e., treat the grid as a 2-dim \"toroid\")\n",
    "        To wrap at boundaries, when k-1=-1, that wraps itself;\n",
    "        for k+1=state.size, we mod it (which works for -1, too)\n",
    "        For simplicity, we count the cell itself, then subtact it\n",
    "        \"\"\"\n",
    "        s = state.size\n",
    "        g = state.grid\n",
    "        return sum([g[i2%s][j2%s] for i2 in [i-1,i,i+1] for j2 in [j-1,j,j+1]]) - g[i][j]"
   ]
  },
  {
   "cell_type": "code",
   "execution_count": 8,
   "metadata": {},
   "outputs": [],
   "source": [
    "@ray.remote\n",
    "class RayGame2:\n",
    "    # TODO: Game memory grows unbounded; trim older states?\n",
    "    def __init__(self, initial_state, rules_id):\n",
    "        self.states = [initial_state]\n",
    "        self.rules_id = rules_id\n",
    "\n",
    "    def step(self, num_steps = 1):\n",
    "        \"\"\"Take 1 or more steps, returning a list of new states.\"\"\"\n",
    "        start_index = len(self.states)\n",
    "        new_state_ids = self.rules_id.step.remote(self.states[-1], num_steps)\n",
    "        self.states.extend(ray.get(new_state_ids))\n",
    "        return self.states[start_index:-1]  # return the new states only!"
   ]
  },
  {
   "cell_type": "code",
   "execution_count": 16,
   "metadata": {},
   "outputs": [],
   "source": [
    "def time_ray_games2(num_games = 10, max_steps = max_steps, batch_size = 1, grid_size = grid_size):\n",
    "    game_ids = [RayGame2.remote(State(size = grid_size), RayConwaysRules.remote()) for i in range(num_games)]\n",
    "    start = time.time()\n",
    "    state_ids = []\n",
    "    for game_id in game_ids:\n",
    "        for i in range(int(max_steps/batch_size)):  # Do a total of max_steps game steps, which is max_steps/delta_steps\n",
    "            state_ids.append(game_id.step.remote(batch_size))\n",
    "    ray.get(state_ids)  # wait for everything to finish! We are ignoring what ray.get() returns, but what will it be??\n",
    "    pd(time.time() - start, prefix = f'Total time for {num_games} games (max_steps = {max_steps}, batch_size = {batch_size})')\n",
    "    return game_ids  # for cleanup afterwards"
   ]
  },
  {
   "cell_type": "code",
   "execution_count": 19,
   "metadata": {},
   "outputs": [
    {
     "name": "stdout",
     "output_type": "stream",
     "text": [
      "Total time for 1 games (max_steps = 200, batch_size = 1) duration: 12.495 seconds\n",
      "Total time for 1 games (max_steps = 200, batch_size = 50) duration: 12.275 seconds\n"
     ]
    }
   ],
   "source": [
    "ids1 = time_ray_games2(num_games = 1, max_steps = max_steps, batch_size=1, grid_size=grid_size)\n",
    "ids2 = time_ray_games2(num_games = 1, max_steps = max_steps, batch_size=50, grid_size=grid_size)"
   ]
  },
  {
   "cell_type": "code",
   "execution_count": 20,
   "metadata": {},
   "outputs": [],
   "source": [
    "cleanup(ids1)\n",
    "cleanup(ids2)"
   ]
  },
  {
   "cell_type": "markdown",
   "metadata": {},
   "source": [
    "Sanity check; does the order of the nested looping in `time_ray_games2` make a difference? Let's see..."
   ]
  },
  {
   "cell_type": "code",
   "execution_count": 17,
   "metadata": {},
   "outputs": [],
   "source": [
    "def time_ray_games3(num_games = 10, max_steps = max_steps, batch_size = 1, grid_size = grid_size):\n",
    "    game_ids = [RayGame2.remote(State(size = grid_size), RayConwaysRules2.remote()) for i in range(num_games)]\n",
    "    start = time.time()\n",
    "    state_ids = []\n",
    "    for i in range(int(max_steps/batch_size)):  # Do a total of max_steps game steps, which is max_steps/delta_steps\n",
    "        for game_id in game_ids:\n",
    "            state_ids.append(game_id.step.remote(batch_size))\n",
    "    ray.get(state_ids)  # wait for everything to finish! We are ignoring what ray.get() returns, but what will it be??\n",
    "    pd(time.time() - start, prefix = f'Total time for {num_games} games (max_steps = {max_steps}, batch_size = {batch_size})')\n",
    "    return game_ids  # for cleanup afterwards"
   ]
  },
  {
   "cell_type": "code",
   "execution_count": 21,
   "metadata": {},
   "outputs": [
    {
     "name": "stdout",
     "output_type": "stream",
     "text": [
      "Total time for 1 games (max_steps = 200, batch_size = 1) duration: 12.130 seconds\n",
      "Total time for 1 games (max_steps = 200, batch_size = 50) duration: 11.957 seconds\n"
     ]
    }
   ],
   "source": [
    "ids1 = time_ray_games3(num_games = 1, max_steps = max_steps, batch_size=1, grid_size=grid_size)\n",
    "ids2 = time_ray_games3(num_games = 1, max_steps = max_steps, batch_size=50, grid_size=grid_size)"
   ]
  },
  {
   "cell_type": "code",
   "execution_count": 25,
   "metadata": {},
   "outputs": [],
   "source": [
    "cleanup(ids1)\n",
    "cleanup(ids2)"
   ]
  },
  {
   "cell_type": "markdown",
   "metadata": {},
   "source": [
    "No, it doesn't matter."
   ]
  },
  {
   "cell_type": "markdown",
   "metadata": {},
   "source": [
    "So, this didn't help. In both runs, one core was pegged, as discussed in the lesson; we are bottlenecked in `RayConwaysRules.step()`. Now let's try parallizing that. \n",
    "\n",
    "We saw already that must compute the evolution of the game serially, because each state depends on the previous state, so we can't parallelize that. However, each _cell_ only depends on its eight neighbors and we have a grid of cells. So, we can break up the grid into smaller grids and compute their changes in parallel.\n",
    "\n",
    "This is a nontrivial refactoring. This notebook will update in GitHub soon with the solution. "
   ]
  }
 ],
 "metadata": {
  "kernelspec": {
   "display_name": "Python 3",
   "language": "python",
   "name": "python3"
  },
  "language_info": {
   "codemirror_mode": {
    "name": "ipython",
    "version": 3
   },
   "file_extension": ".py",
   "mimetype": "text/x-python",
   "name": "python",
   "nbconvert_exporter": "python",
   "pygments_lexer": "ipython3",
   "version": "3.7.6"
  }
 },
 "nbformat": 4,
 "nbformat_minor": 4
}
