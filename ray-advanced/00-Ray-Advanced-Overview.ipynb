{
 "cells": [
  {
   "cell_type": "markdown",
   "metadata": {},
   "source": [
    "# Ray Core - A Deeper Dive - Overview"
   ]
  },
  {
   "cell_type": "code",
   "execution_count": 1,
   "metadata": {
    "jupyter": {
     "source_hidden": true
    }
   },
   "outputs": [
    {
     "data": {
      "text/html": [
       "<style>\n",
       "    table {margin-left: 0 !important;}\n",
       "</style>\n"
      ],
      "text/plain": [
       "<IPython.core.display.HTML object>"
      ]
     },
     "metadata": {},
     "output_type": "display_data"
    }
   ],
   "source": [
    "%%html \n",
    "<style>\n",
    "    table {margin-left: 0 !important;}\n",
    "</style>"
   ]
  },
  {
   "cell_type": "markdown",
   "metadata": {},
   "source": [
    "© 2019-2020, Anyscale. All Rights Reserved\n",
    "\n",
    "This tutorial, part of [Anyscale Academy](https://anyscale.com/academy), picks up where the [Ray Crash Course](../ray-crash-course/00-Ray-Crash-Course-Overview.ipynb) left off. It explores the rest of the core [Ray](https://ray.io) API ([documentation](https://ray.readthedocs.io/en/latest/package-ref.html)).\n",
    "\n",
    "See the instructions in the [README](../README.md) for setting up your environment to use this tutorial.\n",
    "\n",
    "Go [here](../Overview.ipynb) for an overview of all tutorials."
   ]
  },
  {
   "cell_type": "markdown",
   "metadata": {},
   "source": [
    "## Ray Core Tutorial Guide\n",
    "\n",
    "| #  | Lesson | Description |\n",
    "| :- | :----- | :---------- |\n",
    "| 00 | [Overview](00-Overview.ipynb) | A _table of contents_ for this tutorial. |\n",
    "| 01 | [Introduction](01-Introduction.ipynb) | Start in this notebook if you want an explanation of the origin and motivations for Ray. |\n",
    "| 02 | [Task Parallelism - Part1](02-TaskParallelism-Part1.ipynb) | Part 1 of the introduction to several of the Ray API calls and how to use them to turn synchronous python _functions_ into asynchronous Ray _tasks_. |\n",
    "| 03 | [Task Parallelism - Part2](03-TaskParallelism-Part2.ipynb) | Part 2 of the exploration of Ray _tasks_. |\n",
    "| 04 | [Distributed State with Actors](04-DistributedStateWithActors.ipynb) | Ray _actors_ are the asynchronous analog of Python classes, used to extend the concept of a _task_ to support management of distributed state. |\n",
    "| 05 | [Exploring Ray API Calls](05-ExploringRayAPICalls.ipynb) | The Ray API has other API calls for more advanced scenarios, which are surveyed in this optional lesson. We'll also look at options you can pass to the API calls we've already learned. |\n",
    "| 06 | [Recap Tips and Tricks](06-RecapAndTipsTricks.ipynb) | The final lesson recaps what we've learned and summarizes the tips and tricks we've covered, plus adds a few more. |"
   ]
  },
  {
   "cell_type": "markdown",
   "metadata": {},
   "source": [
    "## Getting Help\n",
    "\n",
    "* The [#tutorial channel](https://ray-distributed.slack.com/archives/C011ML23W5B) on the [Ray Slack](https://ray-distributed.slack.com)\n",
    "* [Email](mailto:academy@anyscale.com)\n",
    "\n",
    "Find an issue? Please report it!\n",
    "\n",
    "* [GitHub issues](https://github.com/anyscale/academy/issues)"
   ]
  },
  {
   "cell_type": "code",
   "execution_count": null,
   "metadata": {},
   "outputs": [],
   "source": []
  }
 ],
 "metadata": {
  "kernelspec": {
   "display_name": "Python 3",
   "language": "python",
   "name": "python3"
  },
  "language_info": {
   "codemirror_mode": {
    "name": "ipython",
    "version": 3
   },
   "file_extension": ".py",
   "mimetype": "text/x-python",
   "name": "python",
   "nbconvert_exporter": "python",
   "pygments_lexer": "ipython3",
   "version": "3.7.6"
  }
 },
 "nbformat": 4,
 "nbformat_minor": 4
}
