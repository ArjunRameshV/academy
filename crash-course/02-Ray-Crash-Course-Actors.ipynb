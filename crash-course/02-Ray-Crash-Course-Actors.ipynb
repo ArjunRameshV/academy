{
 "cells": [
  {
   "cell_type": "markdown",
   "metadata": {},
   "source": [
    "## What We Mean by Distributed State\n",
    "\n",
    "If you've worked with data processing libraries like [Pandas](https://pandas.pydata.org/) or big data tools like [Apache Spark](https://spark.apache.org), you know that they provide rich features for manipulating large, structured _data sets_, i.e., the analogs of tables in a database. Some tools even support partitioning of these data sets over clusters for scalability.\n",
    "\n",
    "This isn't the kind of distributed \"state\" Ray addresses. Instead, it's the more open-ended _graph of objects_ found in more general-purpose applications. For example, it could be the state of a game engine used in a reinforcement learning (RL) application or the total set of parameters in a giant neural network, some of which now have hundreds of millions of parameters."
   ]
  },
  {
   "cell_type": "markdown",
   "metadata": {},
   "source": [
    "## Conway's Game of Life\n",
    "\n",
    "Let's explore Ray's actor model using [Conway's Game of Life](https://en.wikipedia.org/wiki/Conway's_Game_of_Life), a famous _cellular automaton_.\n",
    "\n",
    "Here is an example of a notable pattern of game evolution, _Gospers glider gun_: \n",
    "\n",
    "![Example Gospers glider gun](../images/Gospers_glider_gun.gif)\n",
    "\n",
    "(credit: Lucas Vieira - Own work, CC BY-SA 3.0, https://commons.wikimedia.org/w/index.php?curid=101736)\n",
    "\n",
    "We'll use an implementation of Conway's Game of Life as a nontrivial example of maintaining state, the current grid of living and dead cells. We'll see how to leverage Ray to scale it.\n",
    "\n",
    "> **Note:** Sadly, [John Horton Conway](https://en.wikipedia.org/wiki/John_Horton_Conway), the inventor of this automaton, passed away from COVID-19 on April 11, 2020"
   ]
  },
  {
   "cell_type": "markdown",
   "metadata": {},
   "source": [
    "Let's start with some imports"
   ]
  },
  {
   "cell_type": "code",
   "execution_count": null,
   "metadata": {},
   "outputs": [],
   "source": [
    "import ray, time, sys, os\n",
    "import numpy as np\n",
    "import os\n",
    "sys.path.append(\"..\")         # For library helper functions\n",
    "from util.printing import pd  # Printing results helper function"
   ]
  },
  {
   "cell_type": "code",
   "execution_count": null,
   "metadata": {},
   "outputs": [],
   "source": [
    "from GameOfLife import Game, State, ConwaysRules"
   ]
  },
  {
   "cell_type": "code",
   "execution_count": null,
   "metadata": {},
   "outputs": [],
   "source": [
    "# Utility functions for plotting using Holoviews and Bokeh, as well as running and timing games\n",
    "from actor_lesson_util import new_game_of_life_graph, new_game_of_life_grid, run_games, run_ray_games"
   ]
  },
  {
   "cell_type": "markdown",
   "metadata": {},
   "source": [
    "The implementation is a bit long, so all the code is contained in [`GameOfLife.py`](GameOfLife.py). We'll summarize parts of it here. \n",
    "\n",
    "(You can also run that file as a standalone script from the command line, try `python GameOfLife.py --help`. On MacOS and Linux machines, the script is executable; you can omit the `python`)."
   ]
  },
  {
   "cell_type": "markdown",
   "metadata": {},
   "source": [
    "The first class is the `State`, which encapsulates the board state as an `N x N` grid of _cells_, where `N` is specified by the user. (For simplicity, we just use square grids.) There are two ways to initialize the game, specifying a starting grid or a size, in which case the cells are set randomly. The sample below just shows the size option. `State` instances are _immutable_, because the `Game` (discussed below) keeps a sequence of them, representing the lifetime states of the game.\n",
    "\n",
    "For smaller grids, it's often possible that the game reaches a terminal state where it stops evolving. Larger grids are more likely to exhibit different cyclic patterns that would evolve forever, thereby making those runs appear to be _immortal_, except they eventually get disrupted by evolving neighbors. \n",
    "\n",
    "```python\n",
    "class State:\n",
    "    def __init__(self, size = 10):  \n",
    "        # The version in the file also lets you pass in a grid of initial cells.\n",
    "        self.size = size\n",
    "        self.grid = np.random.randint(2, size = size*size).reshape((size, size))\n",
    "\n",
    "    def living_cells(self):\n",
    "        cells = [(i,j) for i in range(self.size) for j in range(self.size) if self.grid[i][j] == 1]\n",
    "        return zip(*cells)\n",
    "```"
   ]
  },
  {
   "cell_type": "markdown",
   "metadata": {},
   "source": [
    "Next, `ConwaysRules` encapsulates the logic of computing the new state of a game from the current state, using the update rules defined as follows:\n",
    "\n",
    "* Any live cell with fewer than two live neighbours dies, as if by underpopulation.\n",
    "* Any live cell with two or three live neighbours lives on to the next generation.\n",
    "* Any live cell with more than three live neighbours dies, as if by overpopulation.\n",
    "* Any dead cell with exactly three live neighbours becomes a live cell, as if by reproduction.\n",
    "\n",
    "This class is stateless; `step()` is passed a `State` instance and it returns a new instance for the udpated state.\n",
    "\n",
    "```python\n",
    "class ConwaysRules:\n",
    "    def step(self, state):\n",
    "        \"\"\"\n",
    "        Determine the next values for all the cells, based on the current\n",
    "        state. Creates a new State with the changes.\n",
    "        \"\"\"\n",
    "        new_grid = state.grid.copy()\n",
    "        for i in range(state.size):\n",
    "            for j in range(state.size):\n",
    "                new_grid[i][j] = self.apply_rules(i, j, state)\n",
    "        new_state = State(grid = new_grid)\n",
    "        return new_state\n",
    "\n",
    "    def apply_rules(self, i, j, state):\n",
    "        # Computes the next state for grid[i][j]\n",
    "```"
   ]
  },
  {
   "cell_type": "markdown",
   "metadata": {},
   "source": [
    "Finally, the game holds a sequence of states and the rules \"engine\".\n",
    "\n",
    "```python\n",
    "class Game:\n",
    "    def __init__(self, initial_state, rules):\n",
    "        self.states = [initial_state]\n",
    "        self.rules = rules\n",
    "\n",
    "    def step(self, num_steps = 1):\n",
    "        \"\"\"Take 1 or more steps, returning a list of new states.\"\"\"\n",
    "        new_states = [self.rules.step(self.states[-1]) for _ in range(num_steps)]\n",
    "        self.states.extend(new_states)\n",
    "        return new_states\n",
    "```"
   ]
  },
  {
   "cell_type": "markdown",
   "metadata": {},
   "source": [
    "Okay, let's try it out!!"
   ]
  },
  {
   "cell_type": "code",
   "execution_count": 4,
   "metadata": {},
   "outputs": [],
   "source": [
    "steps     =  50  # Use a larger number for a long-running game.\n",
    "game_size = 100\n",
    "plot_size = 800"
   ]
  },
  {
   "cell_type": "code",
   "execution_count": 5,
   "metadata": {},
   "outputs": [],
   "source": [
    "def new_game(game_size):\n",
    "    initial_state = State(size = game_size)\n",
    "    rules = ConwaysRules()\n",
    "    game  = Game(initial_state=initial_state, rules=rules)\n",
    "    return game"
   ]
  },
  {
   "cell_type": "code",
   "execution_count": 6,
   "metadata": {},
   "outputs": [
    {
     "name": "stdout",
     "output_type": "stream",
     "text": [
      "| *         * * *     |\n",
      "| * * *       * *   * |\n",
      "| * * *   *   *     * |\n",
      "| *       *     * * * |\n",
      "|     *   *   * *     |\n",
      "|   *   * *   * *     |\n",
      "|         *       *   |\n",
      "| * *   * * *       * |\n",
      "| *   * *       *     |\n",
      "|   * * *       * * * |\n"
     ]
    }
   ],
   "source": [
    "game = new_game(10)\n",
    "print(game.states[0])"
   ]
  },
  {
   "cell_type": "markdown",
   "metadata": {},
   "source": [
    "Now let's create a graph for a game of life using the imported utility function, `new_game_of_life_grid` (with only one graph in the \"grid\" for now).\n",
    "\n",
    "**Note:** It will be empty for now."
   ]
  },
  {
   "cell_type": "code",
   "execution_count": 7,
   "metadata": {},
   "outputs": [
    {
     "data": {},
     "metadata": {},
     "output_type": "display_data"
    },
    {
     "data": {
      "application/vnd.holoviews_exec.v0+json": "",
      "text/html": [
       "<div id='1001'>\n",
       "\n",
       "\n",
       "\n",
       "\n",
       "\n",
       "  <div class=\"bk-root\" id=\"f191d597-94be-47bd-9220-e994cca02463\" data-root-id=\"1001\"></div>\n",
       "</div>\n",
       "<script type=\"application/javascript\">(function(root) {\n",
       "  function embed_document(root) {\n",
       "  var docs_json = {\"3bea463a-a637-4af9-b8fa-72ed967277c9\":{\"roots\":{\"references\":[{\"attributes\":{},\"id\":\"1023\",\"type\":\"PanTool\"},{\"attributes\":{},\"id\":\"1024\",\"type\":\"WheelZoomTool\"},{\"attributes\":{\"overlay\":{\"id\":\"1027\"}},\"id\":\"1025\",\"type\":\"BoxZoomTool\"},{\"attributes\":{\"text\":\"\",\"text_color\":{\"value\":\"black\"},\"text_font_size\":{\"value\":\"12pt\"}},\"id\":\"1006\",\"type\":\"Title\"},{\"attributes\":{},\"id\":\"1026\",\"type\":\"ResetTool\"},{\"attributes\":{\"axis_label\":\"y\",\"bounds\":\"auto\",\"formatter\":{\"id\":\"1045\"},\"major_label_orientation\":\"horizontal\",\"ticker\":{\"id\":\"1019\"}},\"id\":\"1018\",\"type\":\"LinearAxis\"},{\"attributes\":{},\"id\":\"1010\",\"type\":\"LinearScale\"},{\"attributes\":{\"children\":[{\"id\":\"1002\"},{\"id\":\"1005\"},{\"id\":\"1054\"}],\"margin\":[0,0,0,0],\"name\":\"Row01460\"},\"id\":\"1001\",\"type\":\"Row\"},{\"attributes\":{\"data\":{\"x\":{\"__ndarray__\":\"\",\"dtype\":\"float64\",\"shape\":[0]},\"y\":{\"__ndarray__\":\"\",\"dtype\":\"float64\",\"shape\":[0]}},\"selected\":{\"id\":\"1035\"},\"selection_policy\":{\"id\":\"1051\"}},\"id\":\"1034\",\"type\":\"ColumnDataSource\"},{\"attributes\":{},\"id\":\"1045\",\"type\":\"BasicTickFormatter\"},{\"attributes\":{},\"id\":\"1035\",\"type\":\"Selection\"},{\"attributes\":{},\"id\":\"1022\",\"type\":\"SaveTool\"},{\"attributes\":{\"axis_label\":\"x\",\"bounds\":\"auto\",\"formatter\":{\"id\":\"1043\"},\"major_label_orientation\":\"horizontal\",\"ticker\":{\"id\":\"1015\"}},\"id\":\"1014\",\"type\":\"LinearAxis\"},{\"attributes\":{\"end\":100,\"reset_end\":100,\"reset_start\":0,\"tags\":[[[\"y\",\"y\",null]]]},\"id\":\"1004\",\"type\":\"Range1d\"},{\"attributes\":{\"end\":100,\"reset_end\":100,\"reset_start\":0,\"tags\":[[[\"x\",\"x\",null]]]},\"id\":\"1003\",\"type\":\"Range1d\"},{\"attributes\":{},\"id\":\"1043\",\"type\":\"BasicTickFormatter\"},{\"attributes\":{},\"id\":\"1019\",\"type\":\"BasicTicker\"},{\"attributes\":{},\"id\":\"1051\",\"type\":\"UnionRenderers\"},{\"attributes\":{\"align\":null,\"below\":[{\"id\":\"1014\"}],\"center\":[{\"id\":\"1017\"},{\"id\":\"1021\"}],\"left\":[{\"id\":\"1018\"}],\"margin\":null,\"min_border_bottom\":10,\"min_border_left\":10,\"min_border_right\":10,\"min_border_top\":10,\"plot_height\":800,\"plot_width\":800,\"renderers\":[{\"id\":\"1040\"}],\"sizing_mode\":\"fixed\",\"title\":{\"id\":\"1006\"},\"toolbar\":{\"id\":\"1028\"},\"x_range\":{\"id\":\"1003\"},\"x_scale\":{\"id\":\"1010\"},\"y_range\":{\"id\":\"1004\"},\"y_scale\":{\"id\":\"1012\"}},\"id\":\"1005\",\"subtype\":\"Figure\",\"type\":\"Plot\"},{\"attributes\":{\"axis\":{\"id\":\"1014\"},\"grid_line_color\":null,\"ticker\":null},\"id\":\"1017\",\"type\":\"Grid\"},{\"attributes\":{\"active_drag\":\"auto\",\"active_inspect\":\"auto\",\"active_multi\":null,\"active_scroll\":\"auto\",\"active_tap\":\"auto\",\"tools\":[{\"id\":\"1022\"},{\"id\":\"1023\"},{\"id\":\"1024\"},{\"id\":\"1025\"},{\"id\":\"1026\"}]},\"id\":\"1028\",\"type\":\"Toolbar\"},{\"attributes\":{\"margin\":[5,5,5,5],\"name\":\"HSpacer01464\",\"sizing_mode\":\"stretch_width\"},\"id\":\"1002\",\"type\":\"Spacer\"},{\"attributes\":{},\"id\":\"1012\",\"type\":\"LinearScale\"},{\"attributes\":{},\"id\":\"1015\",\"type\":\"BasicTicker\"},{\"attributes\":{\"margin\":[5,5,5,5],\"name\":\"HSpacer01465\",\"sizing_mode\":\"stretch_width\"},\"id\":\"1054\",\"type\":\"Spacer\"},{\"attributes\":{\"data_source\":{\"id\":\"1034\"},\"glyph\":{\"id\":\"1037\"},\"hover_glyph\":null,\"muted_glyph\":{\"id\":\"1039\"},\"nonselection_glyph\":{\"id\":\"1038\"},\"selection_glyph\":null,\"view\":{\"id\":\"1041\"}},\"id\":\"1040\",\"type\":\"GlyphRenderer\"},{\"attributes\":{\"bottom_units\":\"screen\",\"fill_alpha\":0.5,\"fill_color\":\"lightgrey\",\"left_units\":\"screen\",\"level\":\"overlay\",\"line_alpha\":1.0,\"line_color\":\"black\",\"line_dash\":[4,4],\"line_width\":2,\"render_mode\":\"css\",\"right_units\":\"screen\",\"top_units\":\"screen\"},\"id\":\"1027\",\"type\":\"BoxAnnotation\"},{\"attributes\":{\"fill_alpha\":{\"value\":0.2},\"fill_color\":{\"value\":\"Grey\"},\"line_alpha\":{\"value\":0.2},\"line_color\":{\"value\":\"Grey\"},\"x\":{\"field\":\"x\"},\"y\":{\"field\":\"y\"}},\"id\":\"1039\",\"type\":\"Scatter\"},{\"attributes\":{\"axis\":{\"id\":\"1018\"},\"dimension\":1,\"grid_line_color\":null,\"ticker\":null},\"id\":\"1021\",\"type\":\"Grid\"},{\"attributes\":{\"client_comm_id\":\"941ccc8390ff445197cbf70cac848730\",\"comm_id\":\"a56d25fe43534d1c81a1cafc9e28afdc\",\"plot_id\":\"1001\"},\"id\":\"1079\",\"type\":\"panel.models.comm_manager.CommManager\"},{\"attributes\":{\"fill_alpha\":{\"value\":0.1},\"fill_color\":{\"value\":\"Grey\"},\"line_alpha\":{\"value\":0.1},\"line_color\":{\"value\":\"Grey\"},\"x\":{\"field\":\"x\"},\"y\":{\"field\":\"y\"}},\"id\":\"1038\",\"type\":\"Scatter\"},{\"attributes\":{\"source\":{\"id\":\"1034\"}},\"id\":\"1041\",\"type\":\"CDSView\"},{\"attributes\":{\"fill_color\":{\"value\":\"Grey\"},\"line_color\":{\"value\":\"Grey\"},\"x\":{\"field\":\"x\"},\"y\":{\"field\":\"y\"}},\"id\":\"1037\",\"type\":\"Scatter\"}],\"root_ids\":[\"1001\",\"1079\"]},\"title\":\"Bokeh Application\",\"version\":\"2.0.1\"}};\n",
       "  var render_items = [{\"docid\":\"3bea463a-a637-4af9-b8fa-72ed967277c9\",\"root_ids\":[\"1001\"],\"roots\":{\"1001\":\"f191d597-94be-47bd-9220-e994cca02463\"}}];\n",
       "  root.Bokeh.embed.embed_items_notebook(docs_json, render_items);\n",
       "  }\n",
       "if (root.Bokeh !== undefined) {\n",
       "    embed_document(root);\n",
       "  } else {\n",
       "    var attempts = 0;\n",
       "    var timer = setInterval(function(root) {\n",
       "      if (root.Bokeh !== undefined) {\n",
       "        clearInterval(timer);\n",
       "        embed_document(root);\n",
       "      } else if (document.readyState == \"complete\") {\n",
       "        attempts++;\n",
       "        if (attempts > 100) {\n",
       "          clearInterval(timer);\n",
       "          console.log(\"Bokeh: ERROR: Unable to run BokehJS code because BokehJS library is missing\");\n",
       "        }\n",
       "      }\n",
       "    }, 10, root)\n",
       "  }\n",
       "})(window);</script>"
      ],
      "text/plain": [
       ":DynamicMap   []\n",
       "   :Points   [x,y]"
      ]
     },
     "execution_count": 7,
     "metadata": {
      "application/vnd.holoviews_exec.v0+json": {
       "id": "1001"
      }
     },
     "output_type": "execute_result"
    }
   ],
   "source": [
    "_, graphs = new_game_of_life_grid(game_size, plot_size, x_grid=1, y_grid=1, shrink_factor=1.0)\n",
    "graphs[0]"
   ]
  },
  {
   "cell_type": "markdown",
   "metadata": {},
   "source": [
    "To make sure we don't consume too much driver memory, since games can grow large, let's write a function, `do_trial`, to run the experiment, then when it returns, the games will go out of scope and their memory will be reclaimed. It will use a library function we imported, `run_games` and the `new_game` function above to do most of the work. \n",
    "\n",
    "(You might wonder why we don't create the `graphs` inside the function. It's essentially impossible to show the grid **before** the games run **and** to do the update visualization after it's shown inside one function inside a notebook cell. We have to build the grid, render it separately, then call `do_trial`.)"
   ]
  },
  {
   "cell_type": "code",
   "execution_count": 8,
   "metadata": {},
   "outputs": [],
   "source": [
    "def do_trial(graphs, num_games=1, steps=steps, batch_size=1, game_size_for_each=game_size, pause_between_batches=0.0):\n",
    "    games = [new_game(game_size_for_each) for _ in range(num_games)]\n",
    "    run_games(games, graphs, steps, batch_size, pause_between_batches)"
   ]
  },
  {
   "cell_type": "code",
   "execution_count": 9,
   "metadata": {},
   "outputs": [
    {
     "name": "stdout",
     "output_type": "stream",
     "text": [
      "Total time for 1 games,    50 steps,     1 batch size:  9.173 seconds\n",
      "CPU times: user 3.94 s, sys: 42.9 ms, total: 3.98 s\n",
      "Wall time: 9.17 s\n"
     ]
    }
   ],
   "source": [
    "%time do_trial(graphs, pause_between_batches=0.1)"
   ]
  },
  {
   "cell_type": "markdown",
   "metadata": {},
   "source": [
    "(If you can't see the plot or see it update, click [here](../images/ConwaysGameOfLife-Snapshot.png) for a screen shot.)"
   ]
  },
  {
   "cell_type": "markdown",
   "metadata": {},
   "source": [
    "How much time did it take? Note that there were `steps*0.1` seconds of sleep time between steps, so the rest is compute time. Does that account for the difference between the _user_ time and the _wall_ time?"
   ]
  },
  {
   "cell_type": "code",
   "execution_count": 10,
   "metadata": {},
   "outputs": [
    {
     "data": {
      "text/plain": [
       "5.0"
      ]
     },
     "execution_count": 10,
     "metadata": {},
     "output_type": "execute_result"
    }
   ],
   "source": [
    "steps*0.1"
   ]
  },
  {
   "cell_type": "markdown",
   "metadata": {},
   "source": [
    "### Running Lots of Games\n",
    "\n",
    "Suppose we wanted to run many of these games at the same time. For example, we might use reinforcement learning to find the initial state that maximizes some _reward_, like the most live cells after `N` steps or for immortal games. You could try writing a loop that starts `M` games and run the previous step loop interleaving games. Let's try that, with smaller grids."
   ]
  },
  {
   "cell_type": "code",
   "execution_count": 11,
   "metadata": {},
   "outputs": [],
   "source": [
    "x_grid = 5\n",
    "y_grid = 3\n",
    "shrink_factor = y_grid  # Instead of 1 N-size game, build N/shrinkfactor size games\n",
    "small_game_size = round(game_size/shrink_factor)"
   ]
  },
  {
   "cell_type": "markdown",
   "metadata": {},
   "source": [
    "First build a grid of graphs, like before:"
   ]
  },
  {
   "cell_type": "code",
   "execution_count": 12,
   "metadata": {},
   "outputs": [
    {
     "data": {},
     "metadata": {},
     "output_type": "display_data"
    },
    {
     "data": {
      "application/vnd.holoviews_exec.v0+json": "",
      "text/html": [
       "<div id='1371'>\n",
       "\n",
       "\n",
       "\n",
       "\n",
       "\n",
       "  <div class=\"bk-root\" id=\"643e8338-f215-45e5-b0b5-f5eee4768fa4\" data-root-id=\"1371\"></div>\n",
       "</div>\n",
       "<script type=\"application/javascript\">(function(root) {\n",
       "  function embed_document(root) {\n",
       "  var docs_json = {\"89874ce6-1c30-4efe-bedf-60f5338c518d\":{\"roots\":{\"references\":[{\"attributes\":{\"axis\":{\"id\":\"1716\"},\"dimension\":1,\"grid_line_color\":null,\"ticker\":null},\"id\":\"1719\",\"type\":\"Grid\"},{\"attributes\":{},\"id\":\"1635\",\"type\":\"BasicTicker\"},{\"attributes\":{\"axis_label\":\"x\",\"bounds\":\"auto\",\"formatter\":{\"id\":\"1740\"},\"major_label_orientation\":\"horizontal\",\"ticker\":{\"id\":\"1713\"},\"visible\":false},\"id\":\"1712\",\"type\":\"LinearAxis\"},{\"attributes\":{},\"id\":\"1804\",\"type\":\"WheelZoomTool\"},{\"attributes\":{},\"id\":\"1710\",\"type\":\"LinearScale\"},{\"attributes\":{\"source\":{\"id\":\"3246\"}},\"id\":\"1616\",\"type\":\"CDSView\"},{\"attributes\":{\"fill_alpha\":{\"value\":0.2},\"fill_color\":{\"value\":\"Grey\"},\"line_alpha\":{\"value\":0.2},\"line_color\":{\"value\":\"Grey\"},\"x\":{\"field\":\"x\"},\"y\":{\"field\":\"y\"}},\"id\":\"1819\",\"type\":\"Scatter\"},{\"attributes\":{\"bottom_units\":\"screen\",\"fill_alpha\":0.5,\"fill_color\":\"lightgrey\",\"left_units\":\"screen\",\"level\":\"overlay\",\"line_alpha\":1.0,\"line_color\":\"black\",\"line_dash\":[4,4],\"line_width\":2,\"render_mode\":\"css\",\"right_units\":\"screen\",\"top_units\":\"screen\"},\"id\":\"1807\",\"type\":\"BoxAnnotation\"},{\"attributes\":{\"fill_alpha\":{\"value\":0.2},\"fill_color\":{\"value\":\"Grey\"},\"line_alpha\":{\"value\":0.2},\"line_color\":{\"value\":\"Grey\"},\"x\":{\"field\":\"x\"},\"y\":{\"field\":\"y\"}},\"id\":\"1614\",\"type\":\"Scatter\"},{\"attributes\":{},\"id\":\"1708\",\"type\":\"LinearScale\"},{\"attributes\":{\"source\":{\"id\":\"3246\"}},\"id\":\"1698\",\"type\":\"CDSView\"},{\"attributes\":{\"source\":{\"id\":\"3248\"}},\"id\":\"1739\",\"type\":\"CDSView\"},{\"attributes\":{\"fill_color\":{\"value\":\"Grey\"},\"line_color\":{\"value\":\"Grey\"},\"x\":{\"field\":\"x\"},\"y\":{\"field\":\"y\"}},\"id\":\"1448\",\"type\":\"Scatter\"},{\"attributes\":{\"fill_alpha\":{\"value\":0.2},\"fill_color\":{\"value\":\"Grey\"},\"line_alpha\":{\"value\":0.2},\"line_color\":{\"value\":\"Grey\"},\"x\":{\"field\":\"x\"},\"y\":{\"field\":\"y\"}},\"id\":\"1696\",\"type\":\"Scatter\"},{\"attributes\":{},\"id\":\"1833\",\"type\":\"LinearScale\"},{\"attributes\":{},\"id\":\"1742\",\"type\":\"BasicTickFormatter\"},{\"attributes\":{},\"id\":\"1836\",\"type\":\"BasicTicker\"},{\"attributes\":{},\"id\":\"1783\",\"type\":\"BasicTickFormatter\"},{\"attributes\":{\"axis\":{\"id\":\"1425\"},\"grid_line_color\":null,\"ticker\":null},\"id\":\"1428\",\"type\":\"Grid\"},{\"attributes\":{\"source\":{\"id\":\"1978\"}},\"id\":\"1985\",\"type\":\"CDSView\"},{\"attributes\":{\"data_source\":{\"id\":\"1978\"},\"glyph\":{\"id\":\"1981\"},\"hover_glyph\":null,\"muted_glyph\":{\"id\":\"1983\"},\"nonselection_glyph\":{\"id\":\"1982\"},\"selection_glyph\":null,\"view\":{\"id\":\"1985\"}},\"id\":\"1984\",\"type\":\"GlyphRenderer\"},{\"attributes\":{},\"id\":\"1435\",\"type\":\"WheelZoomTool\"},{\"attributes\":{},\"id\":\"1803\",\"type\":\"PanTool\"},{\"attributes\":{\"axis\":{\"id\":\"1429\"},\"dimension\":1,\"grid_line_color\":null,\"ticker\":null},\"id\":\"1432\",\"type\":\"Grid\"},{\"attributes\":{\"fill_alpha\":{\"value\":0.1},\"fill_color\":{\"value\":\"Grey\"},\"line_alpha\":{\"value\":0.1},\"line_color\":{\"value\":\"Grey\"},\"x\":{\"field\":\"x\"},\"y\":{\"field\":\"y\"}},\"id\":\"1736\",\"type\":\"Scatter\"},{\"attributes\":{\"bottom_units\":\"screen\",\"fill_alpha\":0.5,\"fill_color\":\"lightgrey\",\"left_units\":\"screen\",\"level\":\"overlay\",\"line_alpha\":1.0,\"line_color\":\"black\",\"line_dash\":[4,4],\"line_width\":2,\"render_mode\":\"css\",\"right_units\":\"screen\",\"top_units\":\"screen\"},\"id\":\"1684\",\"type\":\"BoxAnnotation\"},{\"attributes\":{},\"id\":\"1430\",\"type\":\"BasicTicker\"},{\"attributes\":{\"fill_alpha\":{\"value\":0.1},\"fill_color\":{\"value\":\"Grey\"},\"line_alpha\":{\"value\":0.1},\"line_color\":{\"value\":\"Grey\"},\"x\":{\"field\":\"x\"},\"y\":{\"field\":\"y\"}},\"id\":\"1818\",\"type\":\"Scatter\"},{\"attributes\":{\"children\":[{\"id\":\"2125\"}]},\"id\":\"2128\",\"type\":\"Column\"},{\"attributes\":{},\"id\":\"1740\",\"type\":\"BasicTickFormatter\"},{\"attributes\":{\"overlay\":{\"id\":\"1438\"}},\"id\":\"1436\",\"type\":\"BoxZoomTool\"},{\"attributes\":{\"text\":\"\",\"text_color\":{\"value\":\"black\"},\"text_font_size\":{\"value\":\"12pt\"}},\"id\":\"1704\",\"type\":\"Title\"},{\"attributes\":{},\"id\":\"3361\",\"type\":\"Selection\"},{\"attributes\":{\"active_drag\":\"auto\",\"active_inspect\":\"auto\",\"active_multi\":null,\"active_scroll\":\"auto\",\"active_tap\":\"auto\",\"tools\":[{\"id\":\"1802\"},{\"id\":\"1803\"},{\"id\":\"1804\"},{\"id\":\"1805\"},{\"id\":\"1806\"}]},\"id\":\"1808\",\"type\":\"Toolbar\"},{\"attributes\":{\"data_source\":{\"id\":\"3246\"},\"glyph\":{\"id\":\"1612\"},\"hover_glyph\":null,\"muted_glyph\":{\"id\":\"1614\"},\"nonselection_glyph\":{\"id\":\"1613\"},\"selection_glyph\":null,\"view\":{\"id\":\"1616\"}},\"id\":\"1615\",\"type\":\"GlyphRenderer\"},{\"attributes\":{\"fill_color\":{\"value\":\"Grey\"},\"line_color\":{\"value\":\"Grey\"},\"x\":{\"field\":\"x\"},\"y\":{\"field\":\"y\"}},\"id\":\"1858\",\"type\":\"Scatter\"},{\"attributes\":{\"data_source\":{\"id\":\"3246\"},\"glyph\":{\"id\":\"1694\"},\"hover_glyph\":null,\"muted_glyph\":{\"id\":\"1696\"},\"nonselection_glyph\":{\"id\":\"1695\"},\"selection_glyph\":null,\"view\":{\"id\":\"1698\"}},\"id\":\"1697\",\"type\":\"GlyphRenderer\"},{\"attributes\":{\"axis\":{\"id\":\"1835\"},\"grid_line_color\":null,\"ticker\":null},\"id\":\"1838\",\"type\":\"Grid\"},{\"attributes\":{},\"id\":\"1988\",\"type\":\"BasicTickFormatter\"},{\"attributes\":{\"data_source\":{\"id\":\"3248\"},\"glyph\":{\"id\":\"1735\"},\"hover_glyph\":null,\"muted_glyph\":{\"id\":\"1737\"},\"nonselection_glyph\":{\"id\":\"1736\"},\"selection_glyph\":null,\"view\":{\"id\":\"1739\"}},\"id\":\"1738\",\"type\":\"GlyphRenderer\"},{\"attributes\":{},\"id\":\"1437\",\"type\":\"ResetTool\"},{\"attributes\":{\"axis_label\":\"x\",\"bounds\":\"auto\",\"formatter\":{\"id\":\"1863\"},\"major_label_orientation\":\"horizontal\",\"ticker\":{\"id\":\"1836\"},\"visible\":false},\"id\":\"1835\",\"type\":\"LinearAxis\"},{\"attributes\":{\"fill_alpha\":{\"value\":0.2},\"fill_color\":{\"value\":\"Grey\"},\"line_alpha\":{\"value\":0.2},\"line_color\":{\"value\":\"Grey\"},\"x\":{\"field\":\"x\"},\"y\":{\"field\":\"y\"}},\"id\":\"1737\",\"type\":\"Scatter\"},{\"attributes\":{\"align\":null,\"below\":[{\"id\":\"1712\"}],\"center\":[{\"id\":\"1715\"},{\"id\":\"1719\"}],\"frame_height\":120,\"frame_width\":120,\"left\":[{\"id\":\"1716\"}],\"margin\":null,\"min_border_bottom\":3,\"min_border_left\":3,\"min_border_right\":3,\"min_border_top\":3,\"plot_height\":null,\"plot_width\":null,\"renderers\":[{\"id\":\"1738\"}],\"sizing_mode\":\"fixed\",\"title\":{\"id\":\"1704\"},\"toolbar\":{\"id\":\"1726\"},\"toolbar_location\":null,\"x_range\":{\"id\":\"1373\"},\"x_scale\":{\"id\":\"1708\"},\"y_range\":{\"id\":\"1374\"},\"y_scale\":{\"id\":\"1710\"}},\"id\":\"1703\",\"subtype\":\"Figure\",\"type\":\"Plot\"},{\"attributes\":{},\"id\":\"1831\",\"type\":\"LinearScale\"},{\"attributes\":{},\"id\":\"1806\",\"type\":\"ResetTool\"},{\"attributes\":{\"fill_alpha\":{\"value\":0.2},\"fill_color\":{\"value\":\"Grey\"},\"line_alpha\":{\"value\":0.2},\"line_color\":{\"value\":\"Grey\"},\"x\":{\"field\":\"x\"},\"y\":{\"field\":\"y\"}},\"id\":\"1983\",\"type\":\"Scatter\"},{\"attributes\":{\"overlay\":{\"id\":\"1807\"}},\"id\":\"1805\",\"type\":\"BoxZoomTool\"},{\"attributes\":{},\"id\":\"1986\",\"type\":\"BasicTickFormatter\"},{\"attributes\":{\"axis\":{\"id\":\"1634\"},\"dimension\":1,\"grid_line_color\":null,\"ticker\":null},\"id\":\"1637\",\"type\":\"Grid\"},{\"attributes\":{\"align\":null,\"below\":[{\"id\":\"1835\"}],\"center\":[{\"id\":\"1838\"},{\"id\":\"1842\"}],\"frame_height\":120,\"frame_width\":120,\"left\":[{\"id\":\"1839\"}],\"margin\":null,\"min_border_bottom\":3,\"min_border_left\":3,\"min_border_right\":3,\"min_border_top\":3,\"plot_height\":null,\"plot_width\":null,\"renderers\":[{\"id\":\"1861\"}],\"sizing_mode\":\"fixed\",\"title\":{\"id\":\"1827\"},\"toolbar\":{\"id\":\"1849\"},\"toolbar_location\":null,\"x_range\":{\"id\":\"1373\"},\"x_scale\":{\"id\":\"1831\"},\"y_range\":{\"id\":\"1374\"},\"y_scale\":{\"id\":\"1833\"}},\"id\":\"1826\",\"subtype\":\"Figure\",\"type\":\"Plot\"},{\"attributes\":{\"text\":\"\",\"text_color\":{\"value\":\"black\"},\"text_font_size\":{\"value\":\"12pt\"}},\"id\":\"1827\",\"type\":\"Title\"},{\"attributes\":{\"active_drag\":\"auto\",\"active_inspect\":\"auto\",\"active_multi\":null,\"active_scroll\":\"auto\",\"active_tap\":\"auto\",\"tools\":[{\"id\":\"1433\"},{\"id\":\"1434\"},{\"id\":\"1435\"},{\"id\":\"1436\"},{\"id\":\"1437\"}]},\"id\":\"1439\",\"type\":\"Toolbar\"},{\"attributes\":{},\"id\":\"1699\",\"type\":\"BasicTickFormatter\"},{\"attributes\":{},\"id\":\"1781\",\"type\":\"BasicTickFormatter\"},{\"attributes\":{},\"id\":\"2086\",\"type\":\"UnionRenderers\"},{\"attributes\":{\"align\":null,\"below\":[{\"id\":\"1671\"}],\"center\":[{\"id\":\"1674\"},{\"id\":\"1678\"}],\"frame_height\":120,\"frame_width\":120,\"left\":[{\"id\":\"1675\"}],\"margin\":null,\"min_border_bottom\":3,\"min_border_left\":3,\"min_border_right\":3,\"min_border_top\":3,\"plot_height\":null,\"plot_width\":null,\"renderers\":[{\"id\":\"1697\"}],\"sizing_mode\":\"fixed\",\"title\":{\"id\":\"1663\"},\"toolbar\":{\"id\":\"1685\"},\"toolbar_location\":null,\"x_range\":{\"id\":\"1373\"},\"x_scale\":{\"id\":\"1667\"},\"y_range\":{\"id\":\"1374\"},\"y_scale\":{\"id\":\"1669\"}},\"id\":\"1662\",\"subtype\":\"Figure\",\"type\":\"Plot\"},{\"attributes\":{},\"id\":\"1802\",\"type\":\"SaveTool\"},{\"attributes\":{\"axis_label\":\"y\",\"bounds\":\"auto\",\"formatter\":{\"id\":\"1455\"},\"major_label_orientation\":\"horizontal\",\"ticker\":{\"id\":\"1430\"},\"visible\":false},\"id\":\"1429\",\"type\":\"LinearAxis\"},{\"attributes\":{},\"id\":\"3362\",\"type\":\"UnionRenderers\"},{\"attributes\":{},\"id\":\"1701\",\"type\":\"BasicTickFormatter\"},{\"attributes\":{},\"id\":\"1434\",\"type\":\"PanTool\"},{\"attributes\":{\"data_source\":{\"id\":\"3248\"},\"glyph\":{\"id\":\"1817\"},\"hover_glyph\":null,\"muted_glyph\":{\"id\":\"1819\"},\"nonselection_glyph\":{\"id\":\"1818\"},\"selection_glyph\":null,\"view\":{\"id\":\"1821\"}},\"id\":\"1820\",\"type\":\"GlyphRenderer\"},{\"attributes\":{},\"id\":\"1713\",\"type\":\"BasicTicker\"},{\"attributes\":{},\"id\":\"1824\",\"type\":\"BasicTickFormatter\"},{\"attributes\":{},\"id\":\"1619\",\"type\":\"BasicTickFormatter\"},{\"attributes\":{},\"id\":\"1433\",\"type\":\"SaveTool\"},{\"attributes\":{\"bottom_units\":\"screen\",\"fill_alpha\":0.5,\"fill_color\":\"lightgrey\",\"left_units\":\"screen\",\"level\":\"overlay\",\"line_alpha\":1.0,\"line_color\":\"black\",\"line_dash\":[4,4],\"line_width\":2,\"render_mode\":\"css\",\"right_units\":\"screen\",\"top_units\":\"screen\"},\"id\":\"1971\",\"type\":\"BoxAnnotation\"},{\"attributes\":{\"axis\":{\"id\":\"1712\"},\"grid_line_color\":null,\"ticker\":null},\"id\":\"1715\",\"type\":\"Grid\"},{\"attributes\":{},\"id\":\"1617\",\"type\":\"BasicTickFormatter\"},{\"attributes\":{},\"id\":\"1822\",\"type\":\"BasicTickFormatter\"},{\"attributes\":{},\"id\":\"1717\",\"type\":\"BasicTicker\"},{\"attributes\":{\"axis_label\":\"y\",\"bounds\":\"auto\",\"formatter\":{\"id\":\"1742\"},\"major_label_orientation\":\"horizontal\",\"ticker\":{\"id\":\"1717\"},\"visible\":false},\"id\":\"1716\",\"type\":\"LinearAxis\"},{\"attributes\":{\"source\":{\"id\":\"3248\"}},\"id\":\"1821\",\"type\":\"CDSView\"},{\"attributes\":{\"active_drag\":\"auto\",\"active_inspect\":\"auto\",\"active_multi\":null,\"active_scroll\":\"auto\",\"active_tap\":\"auto\"},\"id\":\"2146\",\"type\":\"Toolbar\"},{\"attributes\":{\"fill_color\":{\"value\":\"Grey\"},\"line_color\":{\"value\":\"Grey\"},\"x\":{\"field\":\"x\"},\"y\":{\"field\":\"y\"}},\"id\":\"1489\",\"type\":\"Scatter\"},{\"attributes\":{},\"id\":\"1478\",\"type\":\"ResetTool\"},{\"attributes\":{\"fill_alpha\":{\"value\":0.2},\"fill_color\":{\"value\":\"Grey\"},\"line_alpha\":{\"value\":0.2},\"line_color\":{\"value\":\"Grey\"},\"x\":{\"field\":\"x\"},\"y\":{\"field\":\"y\"}},\"id\":\"1655\",\"type\":\"Scatter\"},{\"attributes\":{},\"id\":\"1453\",\"type\":\"BasicTickFormatter\"},{\"attributes\":{},\"id\":\"1843\",\"type\":\"SaveTool\"},{\"attributes\":{\"align\":null,\"below\":[{\"id\":\"1548\"}],\"center\":[{\"id\":\"1551\"},{\"id\":\"1555\"}],\"frame_height\":120,\"frame_width\":120,\"left\":[{\"id\":\"1552\"}],\"margin\":null,\"min_border_bottom\":3,\"min_border_left\":3,\"min_border_right\":3,\"min_border_top\":3,\"plot_height\":null,\"plot_width\":null,\"renderers\":[{\"id\":\"1574\"}],\"sizing_mode\":\"fixed\",\"title\":{\"id\":\"1540\"},\"toolbar\":{\"id\":\"1562\"},\"toolbar_location\":null,\"x_range\":{\"id\":\"1373\"},\"x_scale\":{\"id\":\"1544\"},\"y_range\":{\"id\":\"1374\"},\"y_scale\":{\"id\":\"1546\"}},\"id\":\"1539\",\"subtype\":\"Figure\",\"type\":\"Plot\"},{\"attributes\":{\"data_source\":{\"id\":\"3244\"},\"glyph\":{\"id\":\"1530\"},\"hover_glyph\":null,\"muted_glyph\":{\"id\":\"1532\"},\"nonselection_glyph\":{\"id\":\"1531\"},\"selection_glyph\":null,\"view\":{\"id\":\"1534\"}},\"id\":\"1533\",\"type\":\"GlyphRenderer\"},{\"attributes\":{\"axis_label\":\"x\",\"bounds\":\"auto\",\"formatter\":{\"id\":\"1658\"},\"major_label_orientation\":\"horizontal\",\"ticker\":{\"id\":\"1631\"},\"visible\":false},\"id\":\"1630\",\"type\":\"LinearAxis\"},{\"attributes\":{\"data\":{\"x\":{\"__ndarray__\":\"\",\"dtype\":\"float64\",\"shape\":[0]},\"y\":{\"__ndarray__\":\"\",\"dtype\":\"float64\",\"shape\":[0]}},\"selected\":{\"id\":\"3355\"},\"selection_policy\":{\"id\":\"3356\"}},\"id\":\"3248\",\"type\":\"ColumnDataSource\"},{\"attributes\":{},\"id\":\"1476\",\"type\":\"WheelZoomTool\"},{\"attributes\":{\"data\":{\"x\":{\"__ndarray__\":\"\",\"dtype\":\"float64\",\"shape\":[0]},\"y\":{\"__ndarray__\":\"\",\"dtype\":\"float64\",\"shape\":[0]}},\"selected\":{\"id\":\"3357\"},\"selection_policy\":{\"id\":\"3358\"}},\"id\":\"3247\",\"type\":\"ColumnDataSource\"},{\"attributes\":{},\"id\":\"1396\",\"type\":\"ResetTool\"},{\"attributes\":{\"overlay\":{\"id\":\"1479\"}},\"id\":\"1477\",\"type\":\"BoxZoomTool\"},{\"attributes\":{},\"id\":\"1380\",\"type\":\"LinearScale\"},{\"attributes\":{\"children\":[[{\"id\":\"2150\"},0,0],[{\"id\":\"2128\"},0,1],[{\"id\":\"2132\"},1,1]]},\"id\":\"2314\",\"type\":\"GridBox\"},{\"attributes\":{\"data_source\":{\"id\":\"3245\"},\"glyph\":{\"id\":\"1653\"},\"hover_glyph\":null,\"muted_glyph\":{\"id\":\"1655\"},\"nonselection_glyph\":{\"id\":\"1654\"},\"selection_glyph\":null,\"view\":{\"id\":\"1657\"}},\"id\":\"1656\",\"type\":\"GlyphRenderer\"},{\"attributes\":{},\"id\":\"1658\",\"type\":\"BasicTickFormatter\"},{\"attributes\":{\"align\":null,\"below\":[{\"id\":\"1507\"}],\"center\":[{\"id\":\"1510\"},{\"id\":\"1514\"}],\"frame_height\":120,\"frame_width\":120,\"left\":[{\"id\":\"1511\"}],\"margin\":null,\"min_border_bottom\":3,\"min_border_left\":3,\"min_border_right\":3,\"min_border_top\":3,\"plot_height\":null,\"plot_width\":null,\"renderers\":[{\"id\":\"1533\"}],\"sizing_mode\":\"fixed\",\"title\":{\"id\":\"1499\"},\"toolbar\":{\"id\":\"1521\"},\"toolbar_location\":null,\"x_range\":{\"id\":\"1373\"},\"x_scale\":{\"id\":\"1503\"},\"y_range\":{\"id\":\"1374\"},\"y_scale\":{\"id\":\"1505\"}},\"id\":\"1498\",\"subtype\":\"Figure\",\"type\":\"Plot\"},{\"attributes\":{\"data\":{\"x\":{\"__ndarray__\":\"\",\"dtype\":\"float64\",\"shape\":[0]},\"y\":{\"__ndarray__\":\"\",\"dtype\":\"float64\",\"shape\":[0]}},\"selected\":{\"id\":\"3361\"},\"selection_policy\":{\"id\":\"3362\"}},\"id\":\"3244\",\"type\":\"ColumnDataSource\"},{\"attributes\":{\"bottom_units\":\"screen\",\"fill_alpha\":0.5,\"fill_color\":\"lightgrey\",\"left_units\":\"screen\",\"level\":\"overlay\",\"line_alpha\":1.0,\"line_color\":\"black\",\"line_dash\":[4,4],\"line_width\":2,\"render_mode\":\"css\",\"right_units\":\"screen\",\"top_units\":\"screen\"},\"id\":\"1479\",\"type\":\"BoxAnnotation\"},{\"attributes\":{\"style\":{\"white-space\":\"nowrap\"},\"text\":\"<span style=\\\"color:black;font-family:Arial;font-style:bold;font-weight:bold;font-size:16pt\\\">Games</span>\",\"width\":450},\"id\":\"2318\",\"type\":\"Div\"},{\"attributes\":{},\"id\":\"1844\",\"type\":\"PanTool\"},{\"attributes\":{},\"id\":\"1385\",\"type\":\"BasicTicker\"},{\"attributes\":{\"fill_color\":{\"value\":\"Grey\"},\"line_color\":{\"value\":\"Grey\"},\"x\":{\"field\":\"x\"},\"y\":{\"field\":\"y\"}},\"id\":\"1940\",\"type\":\"Scatter\"},{\"attributes\":{},\"id\":\"1503\",\"type\":\"LinearScale\"},{\"attributes\":{},\"id\":\"2148\",\"type\":\"Range1d\"},{\"attributes\":{\"text\":\"\",\"text_color\":{\"value\":\"black\"},\"text_font_size\":{\"value\":\"12pt\"}},\"id\":\"1663\",\"type\":\"Title\"},{\"attributes\":{\"axis\":{\"id\":\"1507\"},\"grid_line_color\":null,\"ticker\":null},\"id\":\"1510\",\"type\":\"Grid\"},{\"attributes\":{\"args\":{\"range\":{\"id\":\"2147\"}},\"code\":\"range.setv({start: 0, end: range.factors.length})\"},\"id\":\"2149\",\"type\":\"CustomJS\"},{\"attributes\":{\"source\":{\"id\":\"3245\"}},\"id\":\"1493\",\"type\":\"CDSView\"},{\"attributes\":{},\"id\":\"1947\",\"type\":\"BasicTickFormatter\"},{\"attributes\":{},\"id\":\"2153\",\"type\":\"LinearScale\"},{\"attributes\":{\"below\":[{\"id\":\"2157\"}],\"center\":[{\"id\":\"2160\"},{\"id\":\"2163\"}],\"left\":[{\"id\":\"2161\"}],\"outline_line_alpha\":0,\"plot_height\":378,\"plot_width\":66,\"title\":{\"id\":\"2165\"},\"toolbar\":{\"id\":\"2164\"},\"toolbar_location\":null,\"x_range\":{\"id\":\"2148\"},\"x_scale\":{\"id\":\"2153\"},\"y_range\":{\"id\":\"2147\"},\"y_scale\":{\"id\":\"2155\"}},\"id\":\"2150\",\"subtype\":\"Figure\",\"type\":\"Plot\"},{\"attributes\":{},\"id\":\"1474\",\"type\":\"SaveTool\"},{\"attributes\":{},\"id\":\"1660\",\"type\":\"BasicTickFormatter\"},{\"attributes\":{\"active_drag\":\"auto\",\"active_inspect\":\"auto\",\"active_multi\":null,\"active_scroll\":\"auto\",\"active_tap\":\"auto\",\"tools\":[{\"id\":\"1843\"},{\"id\":\"1844\"},{\"id\":\"1845\"},{\"id\":\"1846\"},{\"id\":\"1847\"}]},\"id\":\"1849\",\"type\":\"Toolbar\"},{\"attributes\":{\"axis_label\":\"x\",\"bounds\":\"auto\",\"formatter\":{\"id\":\"1412\"},\"major_label_orientation\":\"horizontal\",\"ticker\":{\"id\":\"1385\"},\"visible\":false},\"id\":\"1384\",\"type\":\"LinearAxis\"},{\"attributes\":{\"end\":33,\"reset_end\":33,\"reset_start\":0,\"tags\":[[[\"x\",\"x\",null]]]},\"id\":\"1373\",\"type\":\"Range1d\"},{\"attributes\":{\"fill_alpha\":{\"value\":0.2},\"fill_color\":{\"value\":\"Grey\"},\"line_alpha\":{\"value\":0.2},\"line_color\":{\"value\":\"Grey\"},\"x\":{\"field\":\"x\"},\"y\":{\"field\":\"y\"}},\"id\":\"1532\",\"type\":\"Scatter\"},{\"attributes\":{},\"id\":\"1508\",\"type\":\"BasicTicker\"},{\"attributes\":{\"formatter\":{\"id\":\"2170\"},\"ticker\":{\"id\":\"2158\"},\"visible\":false},\"id\":\"2157\",\"type\":\"LinearAxis\"},{\"attributes\":{},\"id\":\"1512\",\"type\":\"BasicTicker\"},{\"attributes\":{},\"id\":\"2155\",\"type\":\"CategoricalScale\"},{\"attributes\":{},\"id\":\"1394\",\"type\":\"WheelZoomTool\"},{\"attributes\":{},\"id\":\"1628\",\"type\":\"LinearScale\"},{\"attributes\":{\"fill_alpha\":{\"value\":0.2},\"fill_color\":{\"value\":\"Grey\"},\"line_alpha\":{\"value\":0.2},\"line_color\":{\"value\":\"Grey\"},\"x\":{\"field\":\"x\"},\"y\":{\"field\":\"y\"}},\"id\":\"1491\",\"type\":\"Scatter\"},{\"attributes\":{},\"id\":\"1475\",\"type\":\"PanTool\"},{\"attributes\":{},\"id\":\"1847\",\"type\":\"ResetTool\"},{\"attributes\":{},\"id\":\"2162\",\"type\":\"CategoricalTicker\"},{\"attributes\":{\"source\":{\"id\":\"3245\"}},\"id\":\"1657\",\"type\":\"CDSView\"},{\"attributes\":{},\"id\":\"2158\",\"type\":\"BasicTicker\"},{\"attributes\":{},\"id\":\"1393\",\"type\":\"PanTool\"},{\"attributes\":{\"axis\":{\"id\":\"2157\"},\"grid_line_alpha\":0,\"ticker\":null},\"id\":\"2160\",\"type\":\"Grid\"},{\"attributes\":{\"align\":null,\"below\":[{\"id\":\"1876\"}],\"center\":[{\"id\":\"1879\"},{\"id\":\"1883\"}],\"frame_height\":120,\"frame_width\":120,\"left\":[{\"id\":\"1880\"}],\"margin\":null,\"min_border_bottom\":3,\"min_border_left\":3,\"min_border_right\":3,\"min_border_top\":3,\"plot_height\":null,\"plot_width\":null,\"renderers\":[{\"id\":\"1902\"}],\"sizing_mode\":\"fixed\",\"title\":{\"id\":\"1868\"},\"toolbar\":{\"id\":\"1890\"},\"toolbar_location\":null,\"x_range\":{\"id\":\"1373\"},\"x_scale\":{\"id\":\"1872\"},\"y_range\":{\"id\":\"1374\"},\"y_scale\":{\"id\":\"1874\"}},\"id\":\"1867\",\"subtype\":\"Figure\",\"type\":\"Plot\"},{\"attributes\":{\"active_drag\":\"auto\",\"active_inspect\":\"auto\",\"active_multi\":null,\"active_scroll\":\"auto\",\"active_tap\":\"auto\",\"tools\":[{\"id\":\"1392\"},{\"id\":\"1393\"},{\"id\":\"1394\"},{\"id\":\"1395\"},{\"id\":\"1396\"}]},\"id\":\"1398\",\"type\":\"Toolbar\"},{\"attributes\":{\"axis\":{\"id\":\"2161\"},\"dimension\":1,\"grid_line_alpha\":0,\"ticker\":null},\"id\":\"2163\",\"type\":\"Grid\"},{\"attributes\":{\"active_drag\":\"auto\",\"active_inspect\":\"auto\",\"active_multi\":null,\"active_scroll\":\"auto\",\"active_tap\":\"auto\",\"tools\":[{\"id\":\"1474\"},{\"id\":\"1475\"},{\"id\":\"1476\"},{\"id\":\"1477\"},{\"id\":\"1478\"}]},\"id\":\"1480\",\"type\":\"Toolbar\"},{\"attributes\":{},\"id\":\"1845\",\"type\":\"WheelZoomTool\"},{\"attributes\":{\"overlay\":{\"id\":\"1397\"}},\"id\":\"1395\",\"type\":\"BoxZoomTool\"},{\"attributes\":{\"axis_label\":\"j\",\"formatter\":{\"id\":\"2168\"},\"major_label_orientation\":0.0,\"major_label_text_align\":\"right\",\"major_label_text_baseline\":\"middle\",\"ticker\":{\"id\":\"2162\"}},\"id\":\"2161\",\"type\":\"CategoricalAxis\"},{\"attributes\":{\"text\":\"\",\"text_color\":{\"value\":\"black\"},\"text_font_size\":{\"value\":\"12pt\"}},\"id\":\"1499\",\"type\":\"Title\"},{\"attributes\":{\"toolbars\":[{\"id\":\"2164\"},{\"id\":\"1726\"},{\"id\":\"1849\"},{\"id\":\"1931\"},{\"id\":\"1767\"},{\"id\":\"1972\"},{\"id\":\"1398\"},{\"id\":\"1439\"},{\"id\":\"1603\"},{\"id\":\"1644\"},{\"id\":\"1480\"},{\"id\":\"1685\"},{\"id\":\"1562\"},{\"id\":\"1521\"},{\"id\":\"1890\"},{\"id\":\"1808\"},{\"id\":\"2146\"}],\"tools\":[{\"id\":\"1720\"},{\"id\":\"1721\"},{\"id\":\"1722\"},{\"id\":\"1723\"},{\"id\":\"1724\"},{\"id\":\"1843\"},{\"id\":\"1844\"},{\"id\":\"1845\"},{\"id\":\"1846\"},{\"id\":\"1847\"},{\"id\":\"1925\"},{\"id\":\"1926\"},{\"id\":\"1927\"},{\"id\":\"1928\"},{\"id\":\"1929\"},{\"id\":\"1761\"},{\"id\":\"1762\"},{\"id\":\"1763\"},{\"id\":\"1764\"},{\"id\":\"1765\"},{\"id\":\"1966\"},{\"id\":\"1967\"},{\"id\":\"1968\"},{\"id\":\"1969\"},{\"id\":\"1970\"},{\"id\":\"1392\"},{\"id\":\"1393\"},{\"id\":\"1394\"},{\"id\":\"1395\"},{\"id\":\"1396\"},{\"id\":\"1433\"},{\"id\":\"1434\"},{\"id\":\"1435\"},{\"id\":\"1436\"},{\"id\":\"1437\"},{\"id\":\"1597\"},{\"id\":\"1598\"},{\"id\":\"1599\"},{\"id\":\"1600\"},{\"id\":\"1601\"},{\"id\":\"1638\"},{\"id\":\"1639\"},{\"id\":\"1640\"},{\"id\":\"1641\"},{\"id\":\"1642\"},{\"id\":\"1474\"},{\"id\":\"1475\"},{\"id\":\"1476\"},{\"id\":\"1477\"},{\"id\":\"1478\"},{\"id\":\"1679\"},{\"id\":\"1680\"},{\"id\":\"1681\"},{\"id\":\"1682\"},{\"id\":\"1683\"},{\"id\":\"1556\"},{\"id\":\"1557\"},{\"id\":\"1558\"},{\"id\":\"1559\"},{\"id\":\"1560\"},{\"id\":\"1515\"},{\"id\":\"1516\"},{\"id\":\"1517\"},{\"id\":\"1518\"},{\"id\":\"1519\"},{\"id\":\"1884\"},{\"id\":\"1885\"},{\"id\":\"1886\"},{\"id\":\"1887\"},{\"id\":\"1888\"},{\"id\":\"1802\"},{\"id\":\"1803\"},{\"id\":\"1804\"},{\"id\":\"1805\"},{\"id\":\"1806\"}]},\"id\":\"2315\",\"type\":\"ProxyToolbar\"},{\"attributes\":{\"bottom_units\":\"screen\",\"fill_alpha\":0.5,\"fill_color\":\"lightgrey\",\"left_units\":\"screen\",\"level\":\"overlay\",\"line_alpha\":1.0,\"line_color\":\"black\",\"line_dash\":[4,4],\"line_width\":2,\"render_mode\":\"css\",\"right_units\":\"screen\",\"top_units\":\"screen\"},\"id\":\"1643\",\"type\":\"BoxAnnotation\"},{\"attributes\":{},\"id\":\"1667\",\"type\":\"LinearScale\"},{\"attributes\":{\"axis\":{\"id\":\"1511\"},\"dimension\":1,\"grid_line_color\":null,\"ticker\":null},\"id\":\"1514\",\"type\":\"Grid\"},{\"attributes\":{},\"id\":\"1392\",\"type\":\"SaveTool\"},{\"attributes\":{},\"id\":\"1505\",\"type\":\"LinearScale\"},{\"attributes\":{\"active_drag\":\"auto\",\"active_inspect\":\"auto\",\"active_multi\":null,\"active_scroll\":\"auto\",\"active_tap\":\"auto\"},\"id\":\"2164\",\"type\":\"Toolbar\"},{\"attributes\":{},\"id\":\"1496\",\"type\":\"BasicTickFormatter\"},{\"attributes\":{\"fill_color\":{\"value\":\"Grey\"},\"line_color\":{\"value\":\"Grey\"},\"x\":{\"field\":\"x\"},\"y\":{\"field\":\"y\"}},\"id\":\"1407\",\"type\":\"Scatter\"},{\"attributes\":{},\"id\":\"1494\",\"type\":\"BasicTickFormatter\"},{\"attributes\":{\"text\":\"\",\"text_color\":{\"value\":\"black\"},\"text_font_size\":{\"value\":\"12pt\"}},\"id\":\"2165\",\"type\":\"Title\"},{\"attributes\":{\"data_source\":{\"id\":\"3245\"},\"glyph\":{\"id\":\"1489\"},\"hover_glyph\":null,\"muted_glyph\":{\"id\":\"1491\"},\"nonselection_glyph\":{\"id\":\"1490\"},\"selection_glyph\":null,\"view\":{\"id\":\"1493\"}},\"id\":\"1492\",\"type\":\"GlyphRenderer\"},{\"attributes\":{\"axis_label\":\"y\",\"bounds\":\"auto\",\"formatter\":{\"id\":\"1537\"},\"major_label_orientation\":\"horizontal\",\"ticker\":{\"id\":\"1512\"},\"visible\":false},\"id\":\"1511\",\"type\":\"LinearAxis\"},{\"attributes\":{\"overlay\":{\"id\":\"1848\"}},\"id\":\"1846\",\"type\":\"BoxZoomTool\"},{\"attributes\":{\"fill_alpha\":{\"value\":0.1},\"fill_color\":{\"value\":\"Grey\"},\"line_alpha\":{\"value\":0.1},\"line_color\":{\"value\":\"Grey\"},\"x\":{\"field\":\"x\"},\"y\":{\"field\":\"y\"}},\"id\":\"1490\",\"type\":\"Scatter\"},{\"attributes\":{\"children\":[{\"id\":\"2318\"},{\"id\":\"2317\"}]},\"id\":\"2319\",\"type\":\"Column\"},{\"attributes\":{\"axis\":{\"id\":\"1384\"},\"grid_line_color\":null,\"ticker\":null},\"id\":\"1387\",\"type\":\"Grid\"},{\"attributes\":{},\"id\":\"1669\",\"type\":\"LinearScale\"},{\"attributes\":{\"data\":{\"x\":{\"__ndarray__\":\"\",\"dtype\":\"float64\",\"shape\":[0]},\"y\":{\"__ndarray__\":\"\",\"dtype\":\"float64\",\"shape\":[0]}},\"selected\":{\"id\":\"3351\"},\"selection_policy\":{\"id\":\"3352\"}},\"id\":\"3245\",\"type\":\"ColumnDataSource\"},{\"attributes\":{\"children\":[[{\"id\":\"1457\"},0,0],[{\"id\":\"1580\"},0,1],[{\"id\":\"1703\"},0,2],[{\"id\":\"1826\"},0,3],[{\"id\":\"1949\"},0,4],[{\"id\":\"1416\"},1,0],[{\"id\":\"1539\"},1,1],[{\"id\":\"1662\"},1,2],[{\"id\":\"1785\"},1,3],[{\"id\":\"1908\"},1,4],[{\"id\":\"1375\"},2,0],[{\"id\":\"1498\"},2,1],[{\"id\":\"1621\"},2,2],[{\"id\":\"1744\"},2,3],[{\"id\":\"1867\"},2,4]]},\"id\":\"2125\",\"type\":\"GridBox\"},{\"attributes\":{\"data\":{\"x\":{\"__ndarray__\":\"\",\"dtype\":\"float64\",\"shape\":[0]},\"y\":{\"__ndarray__\":\"\",\"dtype\":\"float64\",\"shape\":[0]}},\"selected\":{\"id\":\"3353\"},\"selection_policy\":{\"id\":\"3354\"}},\"id\":\"3246\",\"type\":\"ColumnDataSource\"},{\"attributes\":{\"source\":{\"id\":\"3244\"}},\"id\":\"1534\",\"type\":\"CDSView\"},{\"attributes\":{\"toolbar\":{\"id\":\"2315\"},\"toolbar_location\":\"above\"},\"id\":\"2316\",\"type\":\"ToolbarBox\"},{\"attributes\":{\"align\":null,\"below\":[{\"id\":\"1794\"}],\"center\":[{\"id\":\"1797\"},{\"id\":\"1801\"}],\"frame_height\":120,\"frame_width\":120,\"left\":[{\"id\":\"1798\"}],\"margin\":null,\"min_border_bottom\":3,\"min_border_left\":3,\"min_border_right\":3,\"min_border_top\":3,\"plot_height\":null,\"plot_width\":null,\"renderers\":[{\"id\":\"1820\"}],\"sizing_mode\":\"fixed\",\"title\":{\"id\":\"1786\"},\"toolbar\":{\"id\":\"1808\"},\"toolbar_location\":null,\"x_range\":{\"id\":\"1373\"},\"x_scale\":{\"id\":\"1790\"},\"y_range\":{\"id\":\"1374\"},\"y_scale\":{\"id\":\"1792\"}},\"id\":\"1785\",\"subtype\":\"Figure\",\"type\":\"Plot\"},{\"attributes\":{},\"id\":\"1626\",\"type\":\"LinearScale\"},{\"attributes\":{\"axis_label\":\"x\",\"bounds\":\"auto\",\"formatter\":{\"id\":\"1535\"},\"major_label_orientation\":\"horizontal\",\"ticker\":{\"id\":\"1508\"},\"visible\":false},\"id\":\"1507\",\"type\":\"LinearAxis\"},{\"attributes\":{\"children\":[{\"id\":\"2316\"},{\"id\":\"2314\"}]},\"id\":\"2317\",\"type\":\"Column\"},{\"attributes\":{},\"id\":\"1389\",\"type\":\"BasicTicker\"},{\"attributes\":{\"axis_label\":\"y\",\"bounds\":\"auto\",\"formatter\":{\"id\":\"1414\"},\"major_label_orientation\":\"horizontal\",\"ticker\":{\"id\":\"1389\"},\"visible\":false},\"id\":\"1388\",\"type\":\"LinearAxis\"},{\"attributes\":{},\"id\":\"2310\",\"type\":\"BasicTickFormatter\"},{\"attributes\":{\"axis\":{\"id\":\"1388\"},\"dimension\":1,\"grid_line_color\":null,\"ticker\":null},\"id\":\"1391\",\"type\":\"Grid\"},{\"attributes\":{},\"id\":\"1382\",\"type\":\"LinearScale\"},{\"attributes\":{},\"id\":\"2312\",\"type\":\"CategoricalTickFormatter\"},{\"attributes\":{\"text\":\"\",\"text_color\":{\"value\":\"black\"},\"text_font_size\":{\"value\":\"12pt\"}},\"id\":\"1622\",\"type\":\"Title\"},{\"attributes\":{\"fill_color\":{\"value\":\"Grey\"},\"line_color\":{\"value\":\"Grey\"},\"x\":{\"field\":\"x\"},\"y\":{\"field\":\"y\"}},\"id\":\"1530\",\"type\":\"Scatter\"},{\"attributes\":{},\"id\":\"1516\",\"type\":\"PanTool\"},{\"attributes\":{\"align\":null,\"below\":[{\"id\":\"1917\"}],\"center\":[{\"id\":\"1920\"},{\"id\":\"1924\"}],\"frame_height\":120,\"frame_width\":120,\"left\":[{\"id\":\"1921\"}],\"margin\":null,\"min_border_bottom\":3,\"min_border_left\":3,\"min_border_right\":3,\"min_border_top\":3,\"plot_height\":null,\"plot_width\":null,\"renderers\":[{\"id\":\"1943\"}],\"sizing_mode\":\"fixed\",\"title\":{\"id\":\"1909\"},\"toolbar\":{\"id\":\"1931\"},\"toolbar_location\":null,\"x_range\":{\"id\":\"1373\"},\"x_scale\":{\"id\":\"1913\"},\"y_range\":{\"id\":\"1374\"},\"y_scale\":{\"id\":\"1915\"}},\"id\":\"1908\",\"subtype\":\"Figure\",\"type\":\"Plot\"},{\"attributes\":{},\"id\":\"1888\",\"type\":\"ResetTool\"},{\"attributes\":{},\"id\":\"2170\",\"type\":\"BasicTickFormatter\"},{\"attributes\":{},\"id\":\"1462\",\"type\":\"LinearScale\"},{\"attributes\":{},\"id\":\"1926\",\"type\":\"PanTool\"},{\"attributes\":{\"axis_label\":\"x\",\"bounds\":\"auto\",\"formatter\":{\"id\":\"1904\"},\"major_label_orientation\":\"horizontal\",\"ticker\":{\"id\":\"1877\"},\"visible\":false},\"id\":\"1876\",\"type\":\"LinearAxis\"},{\"attributes\":{},\"id\":\"1467\",\"type\":\"BasicTicker\"},{\"attributes\":{},\"id\":\"3351\",\"type\":\"Selection\"},{\"attributes\":{},\"id\":\"2130\",\"type\":\"Range1d\"},{\"attributes\":{},\"id\":\"2168\",\"type\":\"CategoricalTickFormatter\"},{\"attributes\":{\"source\":{\"id\":\"3244\"}},\"id\":\"1452\",\"type\":\"CDSView\"},{\"attributes\":{\"text\":\"\",\"text_color\":{\"value\":\"black\"},\"text_font_size\":{\"value\":\"12pt\"}},\"id\":\"1909\",\"type\":\"Title\"},{\"attributes\":{},\"id\":\"1471\",\"type\":\"BasicTicker\"},{\"attributes\":{},\"id\":\"1877\",\"type\":\"BasicTicker\"},{\"attributes\":{},\"id\":\"1517\",\"type\":\"WheelZoomTool\"},{\"attributes\":{\"fill_alpha\":{\"value\":0.2},\"fill_color\":{\"value\":\"Grey\"},\"line_alpha\":{\"value\":0.2},\"line_color\":{\"value\":\"Grey\"},\"x\":{\"field\":\"x\"},\"y\":{\"field\":\"y\"}},\"id\":\"1450\",\"type\":\"Scatter\"},{\"attributes\":{\"source\":{\"id\":\"3247\"}},\"id\":\"1944\",\"type\":\"CDSView\"},{\"attributes\":{\"text\":\"\",\"text_color\":{\"value\":\"black\"},\"text_font_size\":{\"value\":\"12pt\"}},\"id\":\"2307\",\"type\":\"Title\"},{\"attributes\":{\"source\":{\"id\":\"3248\"}},\"id\":\"1903\",\"type\":\"CDSView\"},{\"attributes\":{},\"id\":\"3356\",\"type\":\"UnionRenderers\"},{\"attributes\":{},\"id\":\"1874\",\"type\":\"LinearScale\"},{\"attributes\":{\"fill_alpha\":{\"value\":0.1},\"fill_color\":{\"value\":\"Grey\"},\"line_alpha\":{\"value\":0.1},\"line_color\":{\"value\":\"Grey\"},\"x\":{\"field\":\"x\"},\"y\":{\"field\":\"y\"}},\"id\":\"1859\",\"type\":\"Scatter\"},{\"attributes\":{},\"id\":\"1515\",\"type\":\"SaveTool\"},{\"attributes\":{},\"id\":\"1954\",\"type\":\"LinearScale\"},{\"attributes\":{\"bottom_units\":\"screen\",\"fill_alpha\":0.5,\"fill_color\":\"lightgrey\",\"left_units\":\"screen\",\"level\":\"overlay\",\"line_alpha\":1.0,\"line_color\":\"black\",\"line_dash\":[4,4],\"line_width\":2,\"render_mode\":\"css\",\"right_units\":\"screen\",\"top_units\":\"screen\"},\"id\":\"1930\",\"type\":\"BoxAnnotation\"},{\"attributes\":{\"axis\":{\"id\":\"1880\"},\"dimension\":1,\"grid_line_color\":null,\"ticker\":null},\"id\":\"1883\",\"type\":\"Grid\"},{\"attributes\":{\"fill_alpha\":{\"value\":0.1},\"fill_color\":{\"value\":\"Grey\"},\"line_alpha\":{\"value\":0.1},\"line_color\":{\"value\":\"Grey\"},\"x\":{\"field\":\"x\"},\"y\":{\"field\":\"y\"}},\"id\":\"1982\",\"type\":\"Scatter\"},{\"attributes\":{\"align\":null,\"below\":[{\"id\":\"1753\"}],\"center\":[{\"id\":\"1756\"},{\"id\":\"1760\"}],\"frame_height\":120,\"frame_width\":120,\"left\":[{\"id\":\"1757\"}],\"margin\":null,\"min_border_bottom\":3,\"min_border_left\":3,\"min_border_right\":3,\"min_border_top\":3,\"plot_height\":null,\"plot_width\":null,\"renderers\":[{\"id\":\"1779\"}],\"sizing_mode\":\"fixed\",\"title\":{\"id\":\"1745\"},\"toolbar\":{\"id\":\"1767\"},\"toolbar_location\":null,\"x_range\":{\"id\":\"1373\"},\"x_scale\":{\"id\":\"1749\"},\"y_range\":{\"id\":\"1374\"},\"y_scale\":{\"id\":\"1751\"}},\"id\":\"1744\",\"subtype\":\"Figure\",\"type\":\"Plot\"},{\"attributes\":{\"text\":\"\",\"text_color\":{\"value\":\"black\"},\"text_font_size\":{\"value\":\"12pt\"}},\"id\":\"1868\",\"type\":\"Title\"},{\"attributes\":{},\"id\":\"1872\",\"type\":\"LinearScale\"},{\"attributes\":{\"source\":{\"id\":\"3247\"}},\"id\":\"1862\",\"type\":\"CDSView\"},{\"attributes\":{\"text\":\"\",\"text_color\":{\"value\":\"black\"},\"text_font_size\":{\"value\":\"12pt\"}},\"id\":\"1458\",\"type\":\"Title\"},{\"attributes\":{\"active_drag\":\"auto\",\"active_inspect\":\"auto\",\"active_multi\":null,\"active_scroll\":\"auto\",\"active_tap\":\"auto\",\"tools\":[{\"id\":\"1925\"},{\"id\":\"1926\"},{\"id\":\"1927\"},{\"id\":\"1928\"},{\"id\":\"1929\"}]},\"id\":\"1931\",\"type\":\"Toolbar\"},{\"attributes\":{},\"id\":\"1464\",\"type\":\"LinearScale\"},{\"attributes\":{\"margin\":[5,5,5,5],\"name\":\"HSpacer05746\",\"sizing_mode\":\"stretch_width\"},\"id\":\"3365\",\"type\":\"Spacer\"},{\"attributes\":{\"text\":\"\",\"text_color\":{\"value\":\"black\"},\"text_font_size\":{\"value\":\"12pt\"}},\"id\":\"1745\",\"type\":\"Title\"},{\"attributes\":{},\"id\":\"1639\",\"type\":\"PanTool\"},{\"attributes\":{\"fill_alpha\":{\"value\":0.2},\"fill_color\":{\"value\":\"Grey\"},\"line_alpha\":{\"value\":0.2},\"line_color\":{\"value\":\"Grey\"},\"x\":{\"field\":\"x\"},\"y\":{\"field\":\"y\"}},\"id\":\"1860\",\"type\":\"Scatter\"},{\"attributes\":{},\"id\":\"1865\",\"type\":\"BasicTickFormatter\"},{\"attributes\":{\"fill_alpha\":{\"value\":0.1},\"fill_color\":{\"value\":\"Grey\"},\"line_alpha\":{\"value\":0.1},\"line_color\":{\"value\":\"Grey\"},\"x\":{\"field\":\"x\"},\"y\":{\"field\":\"y\"}},\"id\":\"1941\",\"type\":\"Scatter\"},{\"attributes\":{},\"id\":\"2135\",\"type\":\"CategoricalScale\"},{\"attributes\":{},\"id\":\"1863\",\"type\":\"BasicTickFormatter\"},{\"attributes\":{\"fill_alpha\":{\"value\":0.1},\"fill_color\":{\"value\":\"Grey\"},\"line_alpha\":{\"value\":0.1},\"line_color\":{\"value\":\"Grey\"},\"x\":{\"field\":\"x\"},\"y\":{\"field\":\"y\"}},\"id\":\"1900\",\"type\":\"Scatter\"},{\"attributes\":{\"bottom_units\":\"screen\",\"fill_alpha\":0.5,\"fill_color\":\"lightgrey\",\"left_units\":\"screen\",\"level\":\"overlay\",\"line_alpha\":1.0,\"line_color\":\"black\",\"line_dash\":[4,4],\"line_width\":2,\"render_mode\":\"css\",\"right_units\":\"screen\",\"top_units\":\"screen\"},\"id\":\"1889\",\"type\":\"BoxAnnotation\"},{\"attributes\":{\"end\":33,\"reset_end\":33,\"reset_start\":0,\"tags\":[[[\"y\",\"y\",null]]]},\"id\":\"1374\",\"type\":\"Range1d\"},{\"attributes\":{\"axis_label\":\"x\",\"bounds\":\"auto\",\"formatter\":{\"id\":\"1986\"},\"major_label_orientation\":\"horizontal\",\"ticker\":{\"id\":\"1959\"},\"visible\":false},\"id\":\"1958\",\"type\":\"LinearAxis\"},{\"attributes\":{\"bottom_units\":\"screen\",\"fill_alpha\":0.5,\"fill_color\":\"lightgrey\",\"left_units\":\"screen\",\"level\":\"overlay\",\"line_alpha\":1.0,\"line_color\":\"black\",\"line_dash\":[4,4],\"line_width\":2,\"render_mode\":\"css\",\"right_units\":\"screen\",\"top_units\":\"screen\"},\"id\":\"1397\",\"type\":\"BoxAnnotation\"},{\"attributes\":{},\"id\":\"1906\",\"type\":\"BasicTickFormatter\"},{\"attributes\":{},\"id\":\"1925\",\"type\":\"SaveTool\"},{\"attributes\":{},\"id\":\"1557\",\"type\":\"PanTool\"},{\"attributes\":{\"align\":null,\"below\":[{\"id\":\"1958\"}],\"center\":[{\"id\":\"1961\"},{\"id\":\"1965\"}],\"frame_height\":120,\"frame_width\":120,\"left\":[{\"id\":\"1962\"}],\"margin\":null,\"min_border_bottom\":3,\"min_border_left\":3,\"min_border_right\":3,\"min_border_top\":3,\"plot_height\":null,\"plot_width\":null,\"renderers\":[{\"id\":\"1984\"}],\"sizing_mode\":\"fixed\",\"title\":{\"id\":\"1950\"},\"toolbar\":{\"id\":\"1972\"},\"toolbar_location\":null,\"x_range\":{\"id\":\"1373\"},\"x_scale\":{\"id\":\"1954\"},\"y_range\":{\"id\":\"1374\"},\"y_scale\":{\"id\":\"1956\"}},\"id\":\"1949\",\"subtype\":\"Figure\",\"type\":\"Plot\"},{\"attributes\":{},\"id\":\"1904\",\"type\":\"BasicTickFormatter\"},{\"attributes\":{\"text\":\"\",\"text_color\":{\"value\":\"black\"},\"text_font_size\":{\"value\":\"12pt\"}},\"id\":\"1950\",\"type\":\"Title\"},{\"attributes\":{\"bottom_units\":\"screen\",\"fill_alpha\":0.5,\"fill_color\":\"lightgrey\",\"left_units\":\"screen\",\"level\":\"overlay\",\"line_alpha\":1.0,\"line_color\":\"black\",\"line_dash\":[4,4],\"line_width\":2,\"render_mode\":\"css\",\"right_units\":\"screen\",\"top_units\":\"screen\"},\"id\":\"1766\",\"type\":\"BoxAnnotation\"},{\"attributes\":{},\"id\":\"1913\",\"type\":\"LinearScale\"},{\"attributes\":{\"data_source\":{\"id\":\"3247\"},\"glyph\":{\"id\":\"1940\"},\"hover_glyph\":null,\"muted_glyph\":{\"id\":\"1942\"},\"nonselection_glyph\":{\"id\":\"1941\"},\"selection_glyph\":null,\"view\":{\"id\":\"1944\"}},\"id\":\"1943\",\"type\":\"GlyphRenderer\"},{\"attributes\":{},\"id\":\"1642\",\"type\":\"ResetTool\"},{\"attributes\":{\"overlay\":{\"id\":\"1520\"}},\"id\":\"1518\",\"type\":\"BoxZoomTool\"},{\"attributes\":{\"axis\":{\"id\":\"2142\"},\"dimension\":1,\"grid_line_alpha\":0,\"ticker\":null},\"id\":\"2145\",\"type\":\"Grid\"},{\"attributes\":{},\"id\":\"3352\",\"type\":\"UnionRenderers\"},{\"attributes\":{\"axis_label\":\"x\",\"bounds\":\"auto\",\"formatter\":{\"id\":\"1945\"},\"major_label_orientation\":\"horizontal\",\"ticker\":{\"id\":\"1918\"},\"visible\":false},\"id\":\"1917\",\"type\":\"LinearAxis\"},{\"attributes\":{},\"id\":\"3357\",\"type\":\"Selection\"},{\"attributes\":{},\"id\":\"1945\",\"type\":\"BasicTickFormatter\"},{\"attributes\":{},\"id\":\"1640\",\"type\":\"WheelZoomTool\"},{\"attributes\":{},\"id\":\"3358\",\"type\":\"UnionRenderers\"},{\"attributes\":{\"data_source\":{\"id\":\"3244\"},\"glyph\":{\"id\":\"1448\"},\"hover_glyph\":null,\"muted_glyph\":{\"id\":\"1450\"},\"nonselection_glyph\":{\"id\":\"1449\"},\"selection_glyph\":null,\"view\":{\"id\":\"1452\"}},\"id\":\"1451\",\"type\":\"GlyphRenderer\"},{\"attributes\":{},\"id\":\"1915\",\"type\":\"LinearScale\"},{\"attributes\":{},\"id\":\"3355\",\"type\":\"Selection\"},{\"attributes\":{\"data_source\":{\"id\":\"3247\"},\"glyph\":{\"id\":\"1858\"},\"hover_glyph\":null,\"muted_glyph\":{\"id\":\"1860\"},\"nonselection_glyph\":{\"id\":\"1859\"},\"selection_glyph\":null,\"view\":{\"id\":\"1862\"}},\"id\":\"1861\",\"type\":\"GlyphRenderer\"},{\"attributes\":{\"fill_color\":{\"value\":\"Grey\"},\"line_color\":{\"value\":\"Grey\"},\"x\":{\"field\":\"x\"},\"y\":{\"field\":\"y\"}},\"id\":\"1612\",\"type\":\"Scatter\"},{\"attributes\":{},\"id\":\"1918\",\"type\":\"BasicTicker\"},{\"attributes\":{},\"id\":\"1638\",\"type\":\"SaveTool\"},{\"attributes\":{},\"id\":\"1749\",\"type\":\"LinearScale\"},{\"attributes\":{},\"id\":\"1455\",\"type\":\"BasicTickFormatter\"},{\"attributes\":{},\"id\":\"1929\",\"type\":\"ResetTool\"},{\"attributes\":{},\"id\":\"1956\",\"type\":\"LinearScale\"},{\"attributes\":{\"client_comm_id\":\"8fa7b00f91464b8b935770ef0f79f799\",\"comm_id\":\"e4ba9de1cb664286a441479643e513ca\",\"plot_id\":\"1371\"},\"id\":\"3714\",\"type\":\"panel.models.comm_manager.CommManager\"},{\"attributes\":{\"axis_label\":\"x\",\"bounds\":\"auto\",\"formatter\":{\"id\":\"1781\"},\"major_label_orientation\":\"horizontal\",\"ticker\":{\"id\":\"1754\"},\"visible\":false},\"id\":\"1753\",\"type\":\"LinearAxis\"},{\"attributes\":{\"axis\":{\"id\":\"1876\"},\"grid_line_color\":null,\"ticker\":null},\"id\":\"1879\",\"type\":\"Grid\"},{\"attributes\":{},\"id\":\"1412\",\"type\":\"BasicTickFormatter\"},{\"attributes\":{\"formatter\":{\"id\":\"2310\"},\"ticker\":{\"id\":\"2143\"},\"visible\":false},\"id\":\"2142\",\"type\":\"LinearAxis\"},{\"attributes\":{},\"id\":\"1979\",\"type\":\"Selection\"},{\"attributes\":{},\"id\":\"2032\",\"type\":\"UnionRenderers\"},{\"attributes\":{},\"id\":\"1751\",\"type\":\"LinearScale\"},{\"attributes\":{},\"id\":\"1881\",\"type\":\"BasicTicker\"},{\"attributes\":{},\"id\":\"2137\",\"type\":\"LinearScale\"},{\"attributes\":{\"axis\":{\"id\":\"1470\"},\"dimension\":1,\"grid_line_color\":null,\"ticker\":null},\"id\":\"1473\",\"type\":\"Grid\"},{\"attributes\":{\"axis_label\":\"y\",\"bounds\":\"auto\",\"formatter\":{\"id\":\"1906\"},\"major_label_orientation\":\"horizontal\",\"ticker\":{\"id\":\"1881\"},\"visible\":false},\"id\":\"1880\",\"type\":\"LinearAxis\"},{\"attributes\":{\"bottom_units\":\"screen\",\"fill_alpha\":0.5,\"fill_color\":\"lightgrey\",\"left_units\":\"screen\",\"level\":\"overlay\",\"line_alpha\":1.0,\"line_color\":\"black\",\"line_dash\":[4,4],\"line_width\":2,\"render_mode\":\"css\",\"right_units\":\"screen\",\"top_units\":\"screen\"},\"id\":\"1438\",\"type\":\"BoxAnnotation\"},{\"attributes\":{},\"id\":\"1754\",\"type\":\"BasicTicker\"},{\"attributes\":{},\"id\":\"1927\",\"type\":\"WheelZoomTool\"},{\"attributes\":{\"overlay\":{\"id\":\"1643\"}},\"id\":\"1641\",\"type\":\"BoxZoomTool\"},{\"attributes\":{\"axis_label\":\"x\",\"bounds\":\"auto\",\"formatter\":{\"id\":\"1494\"},\"major_label_orientation\":\"horizontal\",\"ticker\":{\"id\":\"1467\"},\"visible\":false},\"id\":\"1466\",\"type\":\"LinearAxis\"},{\"attributes\":{},\"id\":\"2143\",\"type\":\"BasicTicker\"},{\"attributes\":{\"fill_alpha\":{\"value\":0.2},\"fill_color\":{\"value\":\"Grey\"},\"line_alpha\":{\"value\":0.2},\"line_color\":{\"value\":\"Grey\"},\"x\":{\"field\":\"x\"},\"y\":{\"field\":\"y\"}},\"id\":\"1901\",\"type\":\"Scatter\"},{\"attributes\":{\"axis\":{\"id\":\"1466\"},\"grid_line_color\":null,\"ticker\":null},\"id\":\"1469\",\"type\":\"Grid\"},{\"attributes\":{\"overlay\":{\"id\":\"1930\"}},\"id\":\"1928\",\"type\":\"BoxZoomTool\"},{\"attributes\":{},\"id\":\"1790\",\"type\":\"LinearScale\"},{\"attributes\":{\"fill_alpha\":{\"value\":0.2},\"fill_color\":{\"value\":\"Grey\"},\"line_alpha\":{\"value\":0.2},\"line_color\":{\"value\":\"Grey\"},\"x\":{\"field\":\"x\"},\"y\":{\"field\":\"y\"}},\"id\":\"1942\",\"type\":\"Scatter\"},{\"attributes\":{\"text\":\"\",\"text_color\":{\"value\":\"black\"},\"text_font_size\":{\"value\":\"12pt\"}},\"id\":\"1376\",\"type\":\"Title\"},{\"attributes\":{\"data_source\":{\"id\":\"3248\"},\"glyph\":{\"id\":\"1899\"},\"hover_glyph\":null,\"muted_glyph\":{\"id\":\"1901\"},\"nonselection_glyph\":{\"id\":\"1900\"},\"selection_glyph\":null,\"view\":{\"id\":\"1903\"}},\"id\":\"1902\",\"type\":\"GlyphRenderer\"},{\"attributes\":{\"active_drag\":\"auto\",\"active_inspect\":\"auto\",\"active_multi\":null,\"active_scroll\":\"auto\",\"active_tap\":\"auto\",\"tools\":[{\"id\":\"1884\"},{\"id\":\"1885\"},{\"id\":\"1886\"},{\"id\":\"1887\"},{\"id\":\"1888\"}]},\"id\":\"1890\",\"type\":\"Toolbar\"},{\"attributes\":{\"fill_alpha\":{\"value\":0.2},\"fill_color\":{\"value\":\"Grey\"},\"line_alpha\":{\"value\":0.2},\"line_color\":{\"value\":\"Grey\"},\"x\":{\"field\":\"x\"},\"y\":{\"field\":\"y\"}},\"id\":\"1409\",\"type\":\"Scatter\"},{\"attributes\":{\"axis\":{\"id\":\"1917\"},\"grid_line_color\":null,\"ticker\":null},\"id\":\"1920\",\"type\":\"Grid\"},{\"attributes\":{\"fill_color\":{\"value\":\"Grey\"},\"line_color\":{\"value\":\"Grey\"},\"x\":{\"field\":\"x\"},\"y\":{\"field\":\"y\"}},\"id\":\"1899\",\"type\":\"Scatter\"},{\"attributes\":{},\"id\":\"1405\",\"type\":\"Selection\"},{\"attributes\":{},\"id\":\"1884\",\"type\":\"SaveTool\"},{\"attributes\":{\"source\":{\"id\":\"1404\"}},\"id\":\"1411\",\"type\":\"CDSView\"},{\"attributes\":{\"fill_alpha\":{\"value\":0.1},\"fill_color\":{\"value\":\"Grey\"},\"line_alpha\":{\"value\":0.1},\"line_color\":{\"value\":\"Grey\"},\"x\":{\"field\":\"x\"},\"y\":{\"field\":\"y\"}},\"id\":\"1572\",\"type\":\"Scatter\"},{\"attributes\":{},\"id\":\"1922\",\"type\":\"BasicTicker\"},{\"attributes\":{},\"id\":\"1885\",\"type\":\"PanTool\"},{\"attributes\":{\"align\":\"end\",\"below\":[{\"id\":\"1384\"}],\"center\":[{\"id\":\"1387\"},{\"id\":\"1391\"}],\"frame_height\":120,\"frame_width\":120,\"left\":[{\"id\":\"1388\"}],\"margin\":null,\"min_border_bottom\":3,\"min_border_left\":3,\"min_border_right\":3,\"min_border_top\":3,\"plot_height\":null,\"plot_width\":null,\"renderers\":[{\"id\":\"1410\"}],\"sizing_mode\":\"fixed\",\"title\":{\"id\":\"1376\"},\"toolbar\":{\"id\":\"1398\"},\"toolbar_location\":null,\"x_range\":{\"id\":\"1373\"},\"x_scale\":{\"id\":\"1380\"},\"y_range\":{\"id\":\"1374\"},\"y_scale\":{\"id\":\"1382\"}},\"id\":\"1375\",\"subtype\":\"Figure\",\"type\":\"Plot\"},{\"attributes\":{\"fill_alpha\":{\"value\":0.1},\"fill_color\":{\"value\":\"Grey\"},\"line_alpha\":{\"value\":0.1},\"line_color\":{\"value\":\"Grey\"},\"x\":{\"field\":\"x\"},\"y\":{\"field\":\"y\"}},\"id\":\"1654\",\"type\":\"Scatter\"},{\"attributes\":{\"axis_label\":\"y\",\"bounds\":\"auto\",\"formatter\":{\"id\":\"1947\"},\"major_label_orientation\":\"horizontal\",\"ticker\":{\"id\":\"1922\"},\"visible\":false},\"id\":\"1921\",\"type\":\"LinearAxis\"},{\"attributes\":{\"axis_label\":\"y\",\"bounds\":\"auto\",\"formatter\":{\"id\":\"1496\"},\"major_label_orientation\":\"horizontal\",\"ticker\":{\"id\":\"1471\"},\"visible\":false},\"id\":\"1470\",\"type\":\"LinearAxis\"},{\"attributes\":{},\"id\":\"1537\",\"type\":\"BasicTickFormatter\"},{\"attributes\":{},\"id\":\"1886\",\"type\":\"WheelZoomTool\"},{\"attributes\":{\"active_drag\":\"auto\",\"active_inspect\":\"auto\",\"active_multi\":null,\"active_scroll\":\"auto\",\"active_tap\":\"auto\",\"tools\":[{\"id\":\"1638\"},{\"id\":\"1639\"},{\"id\":\"1640\"},{\"id\":\"1641\"},{\"id\":\"1642\"}]},\"id\":\"1644\",\"type\":\"Toolbar\"},{\"attributes\":{\"data\":{\"x\":{\"__ndarray__\":\"\",\"dtype\":\"float64\",\"shape\":[0]},\"y\":{\"__ndarray__\":\"\",\"dtype\":\"float64\",\"shape\":[0]}},\"selected\":{\"id\":\"1405\"},\"selection_policy\":{\"id\":\"2086\"}},\"id\":\"1404\",\"type\":\"ColumnDataSource\"},{\"attributes\":{},\"id\":\"1535\",\"type\":\"BasicTickFormatter\"},{\"attributes\":{\"fill_alpha\":{\"value\":0.1},\"fill_color\":{\"value\":\"Grey\"},\"line_alpha\":{\"value\":0.1},\"line_color\":{\"value\":\"Grey\"},\"x\":{\"field\":\"x\"},\"y\":{\"field\":\"y\"}},\"id\":\"1408\",\"type\":\"Scatter\"},{\"attributes\":{\"overlay\":{\"id\":\"1889\"}},\"id\":\"1887\",\"type\":\"BoxZoomTool\"},{\"attributes\":{\"data_source\":{\"id\":\"1404\"},\"glyph\":{\"id\":\"1407\"},\"hover_glyph\":null,\"muted_glyph\":{\"id\":\"1409\"},\"nonselection_glyph\":{\"id\":\"1408\"},\"selection_glyph\":null,\"view\":{\"id\":\"1411\"}},\"id\":\"1410\",\"type\":\"GlyphRenderer\"},{\"attributes\":{\"axis\":{\"id\":\"1921\"},\"dimension\":1,\"grid_line_color\":null,\"ticker\":null},\"id\":\"1924\",\"type\":\"Grid\"},{\"attributes\":{\"bottom_units\":\"screen\",\"fill_alpha\":0.5,\"fill_color\":\"lightgrey\",\"left_units\":\"screen\",\"level\":\"overlay\",\"line_alpha\":1.0,\"line_color\":\"black\",\"line_dash\":[4,4],\"line_width\":2,\"render_mode\":\"css\",\"right_units\":\"screen\",\"top_units\":\"screen\"},\"id\":\"1848\",\"type\":\"BoxAnnotation\"},{\"attributes\":{\"fill_alpha\":{\"value\":0.1},\"fill_color\":{\"value\":\"Grey\"},\"line_alpha\":{\"value\":0.1},\"line_color\":{\"value\":\"Grey\"},\"x\":{\"field\":\"x\"},\"y\":{\"field\":\"y\"}},\"id\":\"1449\",\"type\":\"Scatter\"},{\"attributes\":{\"text\":\"\",\"text_color\":{\"value\":\"black\"},\"text_font_size\":{\"value\":\"12pt\"}},\"id\":\"1417\",\"type\":\"Title\"},{\"attributes\":{\"fill_color\":{\"value\":\"Grey\"},\"line_color\":{\"value\":\"Grey\"},\"x\":{\"field\":\"x\"},\"y\":{\"field\":\"y\"}},\"id\":\"1694\",\"type\":\"Scatter\"},{\"attributes\":{},\"id\":\"1558\",\"type\":\"WheelZoomTool\"},{\"attributes\":{\"axis\":{\"id\":\"1958\"},\"grid_line_color\":null,\"ticker\":null},\"id\":\"1961\",\"type\":\"Grid\"},{\"attributes\":{\"axis\":{\"id\":\"1671\"},\"grid_line_color\":null,\"ticker\":null},\"id\":\"1674\",\"type\":\"Grid\"},{\"attributes\":{\"args\":{\"range\":{\"id\":\"2129\"}},\"code\":\"range.setv({start: 0, end: range.factors.length})\"},\"id\":\"2131\",\"type\":\"CustomJS\"},{\"attributes\":{\"fill_color\":{\"value\":\"Grey\"},\"line_color\":{\"value\":\"Grey\"},\"x\":{\"field\":\"x\"},\"y\":{\"field\":\"y\"}},\"id\":\"1817\",\"type\":\"Scatter\"},{\"attributes\":{\"overlay\":{\"id\":\"1561\"}},\"id\":\"1559\",\"type\":\"BoxZoomTool\"},{\"attributes\":{\"factors\":[\"0\",\"1\",\"2\",\"3\",\"4\"],\"js_property_callbacks\":{\"change:start\":[{\"id\":\"2131\"}]}},\"id\":\"2129\",\"type\":\"FactorRange\"},{\"attributes\":{\"data_source\":{\"id\":\"3246\"},\"glyph\":{\"id\":\"1776\"},\"hover_glyph\":null,\"muted_glyph\":{\"id\":\"1778\"},\"nonselection_glyph\":{\"id\":\"1777\"},\"selection_glyph\":null,\"view\":{\"id\":\"1780\"}},\"id\":\"1779\",\"type\":\"GlyphRenderer\"},{\"attributes\":{\"axis_label\":\"i\",\"formatter\":{\"id\":\"2312\"},\"major_label_orientation\":0.0,\"major_label_text_baseline\":\"middle\",\"ticker\":{\"id\":\"2140\"}},\"id\":\"2139\",\"type\":\"CategoricalAxis\"},{\"attributes\":{\"align\":\"end\",\"below\":[{\"id\":\"1425\"}],\"center\":[{\"id\":\"1428\"},{\"id\":\"1432\"}],\"frame_height\":120,\"frame_width\":120,\"left\":[{\"id\":\"1429\"}],\"margin\":null,\"min_border_bottom\":3,\"min_border_left\":3,\"min_border_right\":3,\"min_border_top\":3,\"plot_height\":null,\"plot_width\":null,\"renderers\":[{\"id\":\"1451\"}],\"sizing_mode\":\"fixed\",\"title\":{\"id\":\"1417\"},\"toolbar\":{\"id\":\"1439\"},\"toolbar_location\":null,\"x_range\":{\"id\":\"1373\"},\"x_scale\":{\"id\":\"1421\"},\"y_range\":{\"id\":\"1374\"},\"y_scale\":{\"id\":\"1423\"}},\"id\":\"1416\",\"subtype\":\"Figure\",\"type\":\"Plot\"},{\"attributes\":{},\"id\":\"1560\",\"type\":\"ResetTool\"},{\"attributes\":{\"margin\":[5,5,5,5],\"name\":\"HSpacer05745\",\"sizing_mode\":\"stretch_width\"},\"id\":\"1372\",\"type\":\"Spacer\"},{\"attributes\":{\"align\":null,\"below\":[{\"id\":\"1589\"}],\"center\":[{\"id\":\"1592\"},{\"id\":\"1596\"}],\"frame_height\":120,\"frame_width\":120,\"left\":[{\"id\":\"1593\"}],\"margin\":null,\"min_border_bottom\":3,\"min_border_left\":3,\"min_border_right\":3,\"min_border_top\":3,\"plot_height\":null,\"plot_width\":null,\"renderers\":[{\"id\":\"1615\"}],\"sizing_mode\":\"fixed\",\"title\":{\"id\":\"1581\"},\"toolbar\":{\"id\":\"1603\"},\"toolbar_location\":null,\"x_range\":{\"id\":\"1373\"},\"x_scale\":{\"id\":\"1585\"},\"y_range\":{\"id\":\"1374\"},\"y_scale\":{\"id\":\"1587\"}},\"id\":\"1580\",\"subtype\":\"Figure\",\"type\":\"Plot\"},{\"attributes\":{},\"id\":\"1963\",\"type\":\"BasicTicker\"},{\"attributes\":{},\"id\":\"1720\",\"type\":\"SaveTool\"},{\"attributes\":{\"fill_alpha\":{\"value\":0.1},\"fill_color\":{\"value\":\"Grey\"},\"line_alpha\":{\"value\":0.1},\"line_color\":{\"value\":\"Grey\"},\"x\":{\"field\":\"x\"},\"y\":{\"field\":\"y\"}},\"id\":\"1695\",\"type\":\"Scatter\"},{\"attributes\":{},\"id\":\"1676\",\"type\":\"BasicTicker\"},{\"attributes\":{\"axis_label\":\"x\",\"bounds\":\"auto\",\"formatter\":{\"id\":\"1576\"},\"major_label_orientation\":\"horizontal\",\"ticker\":{\"id\":\"1549\"},\"visible\":false},\"id\":\"1548\",\"type\":\"LinearAxis\"},{\"attributes\":{},\"id\":\"1721\",\"type\":\"PanTool\"},{\"attributes\":{\"source\":{\"id\":\"3246\"}},\"id\":\"1780\",\"type\":\"CDSView\"},{\"attributes\":{\"axis\":{\"id\":\"2139\"},\"grid_line_alpha\":0,\"ticker\":null},\"id\":\"2141\",\"type\":\"Grid\"},{\"attributes\":{},\"id\":\"1722\",\"type\":\"WheelZoomTool\"},{\"attributes\":{\"text\":\"\",\"text_color\":{\"value\":\"black\"},\"text_font_size\":{\"value\":\"12pt\"}},\"id\":\"1581\",\"type\":\"Title\"},{\"attributes\":{\"fill_alpha\":{\"value\":0.1},\"fill_color\":{\"value\":\"Grey\"},\"line_alpha\":{\"value\":0.1},\"line_color\":{\"value\":\"Grey\"},\"x\":{\"field\":\"x\"},\"y\":{\"field\":\"y\"}},\"id\":\"1613\",\"type\":\"Scatter\"},{\"attributes\":{\"children\":[{\"id\":\"1372\"},{\"id\":\"2319\"},{\"id\":\"3365\"}],\"margin\":[0,0,0,0],\"name\":\"Row05741\"},\"id\":\"1371\",\"type\":\"Row\"},{\"attributes\":{},\"id\":\"1681\",\"type\":\"WheelZoomTool\"},{\"attributes\":{\"source\":{\"id\":\"3245\"}},\"id\":\"1575\",\"type\":\"CDSView\"},{\"attributes\":{\"overlay\":{\"id\":\"1725\"}},\"id\":\"1723\",\"type\":\"BoxZoomTool\"},{\"attributes\":{},\"id\":\"1970\",\"type\":\"ResetTool\"},{\"attributes\":{},\"id\":\"1546\",\"type\":\"LinearScale\"},{\"attributes\":{},\"id\":\"1724\",\"type\":\"ResetTool\"},{\"attributes\":{\"overlay\":{\"id\":\"1971\"}},\"id\":\"1969\",\"type\":\"BoxZoomTool\"},{\"attributes\":{\"active_drag\":\"auto\",\"active_inspect\":\"auto\",\"active_multi\":null,\"active_scroll\":\"auto\",\"active_tap\":\"auto\",\"tools\":[{\"id\":\"1966\"},{\"id\":\"1967\"},{\"id\":\"1968\"},{\"id\":\"1969\"},{\"id\":\"1970\"}]},\"id\":\"1972\",\"type\":\"Toolbar\"},{\"attributes\":{\"active_drag\":\"auto\",\"active_inspect\":\"auto\",\"active_multi\":null,\"active_scroll\":\"auto\",\"active_tap\":\"auto\",\"tools\":[{\"id\":\"1679\"},{\"id\":\"1680\"},{\"id\":\"1681\"},{\"id\":\"1682\"},{\"id\":\"1683\"}]},\"id\":\"1685\",\"type\":\"Toolbar\"},{\"attributes\":{\"factors\":[\"0\",\"1\",\"2\"],\"js_property_callbacks\":{\"change:start\":[{\"id\":\"2149\"}]}},\"id\":\"2147\",\"type\":\"FactorRange\"},{\"attributes\":{\"fill_color\":{\"value\":\"Grey\"},\"line_color\":{\"value\":\"Grey\"},\"x\":{\"field\":\"x\"},\"y\":{\"field\":\"y\"}},\"id\":\"1735\",\"type\":\"Scatter\"},{\"attributes\":{\"axis\":{\"id\":\"1552\"},\"dimension\":1,\"grid_line_color\":null,\"ticker\":null},\"id\":\"1555\",\"type\":\"Grid\"},{\"attributes\":{\"align\":null,\"below\":[{\"id\":\"1630\"}],\"center\":[{\"id\":\"1633\"},{\"id\":\"1637\"}],\"frame_height\":120,\"frame_width\":120,\"left\":[{\"id\":\"1634\"}],\"margin\":null,\"min_border_bottom\":3,\"min_border_left\":3,\"min_border_right\":3,\"min_border_top\":3,\"plot_height\":null,\"plot_width\":null,\"renderers\":[{\"id\":\"1656\"}],\"sizing_mode\":\"fixed\",\"title\":{\"id\":\"1622\"},\"toolbar\":{\"id\":\"1644\"},\"toolbar_location\":null,\"x_range\":{\"id\":\"1373\"},\"x_scale\":{\"id\":\"1626\"},\"y_range\":{\"id\":\"1374\"},\"y_scale\":{\"id\":\"1628\"}},\"id\":\"1621\",\"subtype\":\"Figure\",\"type\":\"Plot\"},{\"attributes\":{\"bottom_units\":\"screen\",\"fill_alpha\":0.5,\"fill_color\":\"lightgrey\",\"left_units\":\"screen\",\"level\":\"overlay\",\"line_alpha\":1.0,\"line_color\":\"black\",\"line_dash\":[4,4],\"line_width\":2,\"render_mode\":\"css\",\"right_units\":\"screen\",\"top_units\":\"screen\"},\"id\":\"1602\",\"type\":\"BoxAnnotation\"},{\"attributes\":{},\"id\":\"1578\",\"type\":\"BasicTickFormatter\"},{\"attributes\":{\"align\":\"end\",\"below\":[{\"id\":\"1466\"}],\"center\":[{\"id\":\"1469\"},{\"id\":\"1473\"}],\"frame_height\":120,\"frame_width\":120,\"left\":[{\"id\":\"1470\"}],\"margin\":null,\"min_border_bottom\":3,\"min_border_left\":3,\"min_border_right\":3,\"min_border_top\":3,\"plot_height\":null,\"plot_width\":null,\"renderers\":[{\"id\":\"1492\"}],\"sizing_mode\":\"fixed\",\"title\":{\"id\":\"1458\"},\"toolbar\":{\"id\":\"1480\"},\"toolbar_location\":null,\"x_range\":{\"id\":\"1373\"},\"x_scale\":{\"id\":\"1462\"},\"y_range\":{\"id\":\"1374\"},\"y_scale\":{\"id\":\"1464\"}},\"id\":\"1457\",\"subtype\":\"Figure\",\"type\":\"Plot\"},{\"attributes\":{\"axis_label\":\"y\",\"bounds\":\"auto\",\"formatter\":{\"id\":\"1783\"},\"major_label_orientation\":\"horizontal\",\"ticker\":{\"id\":\"1758\"},\"visible\":false},\"id\":\"1757\",\"type\":\"LinearAxis\"},{\"attributes\":{},\"id\":\"1544\",\"type\":\"LinearScale\"},{\"attributes\":{},\"id\":\"1967\",\"type\":\"PanTool\"},{\"attributes\":{\"axis_label\":\"x\",\"bounds\":\"auto\",\"formatter\":{\"id\":\"1699\"},\"major_label_orientation\":\"horizontal\",\"ticker\":{\"id\":\"1672\"},\"visible\":false},\"id\":\"1671\",\"type\":\"LinearAxis\"},{\"attributes\":{\"axis_label\":\"y\",\"bounds\":\"auto\",\"formatter\":{\"id\":\"1701\"},\"major_label_orientation\":\"horizontal\",\"ticker\":{\"id\":\"1676\"},\"visible\":false},\"id\":\"1675\",\"type\":\"LinearAxis\"},{\"attributes\":{\"fill_color\":{\"value\":\"Grey\"},\"line_color\":{\"value\":\"Grey\"},\"x\":{\"field\":\"x\"},\"y\":{\"field\":\"y\"}},\"id\":\"1653\",\"type\":\"Scatter\"},{\"attributes\":{\"bottom_units\":\"screen\",\"fill_alpha\":0.5,\"fill_color\":\"lightgrey\",\"left_units\":\"screen\",\"level\":\"overlay\",\"line_alpha\":1.0,\"line_color\":\"black\",\"line_dash\":[4,4],\"line_width\":2,\"render_mode\":\"css\",\"right_units\":\"screen\",\"top_units\":\"screen\"},\"id\":\"1561\",\"type\":\"BoxAnnotation\"},{\"attributes\":{},\"id\":\"1631\",\"type\":\"BasicTicker\"},{\"attributes\":{},\"id\":\"1679\",\"type\":\"SaveTool\"},{\"attributes\":{\"axis_label\":\"y\",\"bounds\":\"auto\",\"formatter\":{\"id\":\"1988\"},\"major_label_orientation\":\"horizontal\",\"ticker\":{\"id\":\"1963\"},\"visible\":false},\"id\":\"1962\",\"type\":\"LinearAxis\"},{\"attributes\":{\"axis_label\":\"x\",\"bounds\":\"auto\",\"formatter\":{\"id\":\"1453\"},\"major_label_orientation\":\"horizontal\",\"ticker\":{\"id\":\"1426\"},\"visible\":false},\"id\":\"1425\",\"type\":\"LinearAxis\"},{\"attributes\":{},\"id\":\"1792\",\"type\":\"LinearScale\"},{\"attributes\":{},\"id\":\"1576\",\"type\":\"BasicTickFormatter\"},{\"attributes\":{},\"id\":\"1672\",\"type\":\"BasicTicker\"},{\"attributes\":{},\"id\":\"1968\",\"type\":\"WheelZoomTool\"},{\"attributes\":{\"axis\":{\"id\":\"1630\"},\"grid_line_color\":null,\"ticker\":null},\"id\":\"1633\",\"type\":\"Grid\"},{\"attributes\":{},\"id\":\"1966\",\"type\":\"SaveTool\"},{\"attributes\":{},\"id\":\"1585\",\"type\":\"LinearScale\"},{\"attributes\":{},\"id\":\"1795\",\"type\":\"BasicTicker\"},{\"attributes\":{\"active_drag\":\"auto\",\"active_inspect\":\"auto\",\"active_multi\":null,\"active_scroll\":\"auto\",\"active_tap\":\"auto\",\"tools\":[{\"id\":\"1720\"},{\"id\":\"1721\"},{\"id\":\"1722\"},{\"id\":\"1723\"},{\"id\":\"1724\"}]},\"id\":\"1726\",\"type\":\"Toolbar\"},{\"attributes\":{\"align\":\"end\",\"below\":[{\"id\":\"2139\"}],\"center\":[{\"id\":\"2141\"},{\"id\":\"2145\"}],\"left\":[{\"id\":\"2142\"}],\"outline_line_alpha\":0,\"plot_height\":58,\"plot_width\":630,\"title\":{\"id\":\"2307\"},\"toolbar\":{\"id\":\"2146\"},\"toolbar_location\":null,\"x_range\":{\"id\":\"2129\"},\"x_scale\":{\"id\":\"2135\"},\"y_range\":{\"id\":\"2130\"},\"y_scale\":{\"id\":\"2137\"}},\"id\":\"2132\",\"subtype\":\"Figure\",\"type\":\"Plot\"},{\"attributes\":{\"axis_label\":\"y\",\"bounds\":\"auto\",\"formatter\":{\"id\":\"1865\"},\"major_label_orientation\":\"horizontal\",\"ticker\":{\"id\":\"1840\"},\"visible\":false},\"id\":\"1839\",\"type\":\"LinearAxis\"},{\"attributes\":{\"axis_label\":\"x\",\"bounds\":\"auto\",\"formatter\":{\"id\":\"1617\"},\"major_label_orientation\":\"horizontal\",\"ticker\":{\"id\":\"1590\"},\"visible\":false},\"id\":\"1589\",\"type\":\"LinearAxis\"},{\"attributes\":{\"fill_alpha\":{\"value\":0.1},\"fill_color\":{\"value\":\"Grey\"},\"line_alpha\":{\"value\":0.1},\"line_color\":{\"value\":\"Grey\"},\"x\":{\"field\":\"x\"},\"y\":{\"field\":\"y\"}},\"id\":\"1777\",\"type\":\"Scatter\"},{\"attributes\":{\"active_drag\":\"auto\",\"active_inspect\":\"auto\",\"active_multi\":null,\"active_scroll\":\"auto\",\"active_tap\":\"auto\",\"tools\":[{\"id\":\"1515\"},{\"id\":\"1516\"},{\"id\":\"1517\"},{\"id\":\"1518\"},{\"id\":\"1519\"}]},\"id\":\"1521\",\"type\":\"Toolbar\"},{\"attributes\":{\"bottom_units\":\"screen\",\"fill_alpha\":0.5,\"fill_color\":\"lightgrey\",\"left_units\":\"screen\",\"level\":\"overlay\",\"line_alpha\":1.0,\"line_color\":\"black\",\"line_dash\":[4,4],\"line_width\":2,\"render_mode\":\"css\",\"right_units\":\"screen\",\"top_units\":\"screen\"},\"id\":\"1725\",\"type\":\"BoxAnnotation\"},{\"attributes\":{},\"id\":\"1594\",\"type\":\"BasicTicker\"},{\"attributes\":{\"active_drag\":\"auto\",\"active_inspect\":\"auto\",\"active_multi\":null,\"active_scroll\":\"auto\",\"active_tap\":\"auto\",\"tools\":[{\"id\":\"1597\"},{\"id\":\"1598\"},{\"id\":\"1599\"},{\"id\":\"1600\"},{\"id\":\"1601\"}]},\"id\":\"1603\",\"type\":\"Toolbar\"},{\"attributes\":{\"text\":\"\",\"text_color\":{\"value\":\"black\"},\"text_font_size\":{\"value\":\"12pt\"}},\"id\":\"1786\",\"type\":\"Title\"},{\"attributes\":{\"bottom_units\":\"screen\",\"fill_alpha\":0.5,\"fill_color\":\"lightgrey\",\"left_units\":\"screen\",\"level\":\"overlay\",\"line_alpha\":1.0,\"line_color\":\"black\",\"line_dash\":[4,4],\"line_width\":2,\"render_mode\":\"css\",\"right_units\":\"screen\",\"top_units\":\"screen\"},\"id\":\"1520\",\"type\":\"BoxAnnotation\"},{\"attributes\":{},\"id\":\"1587\",\"type\":\"LinearScale\"},{\"attributes\":{},\"id\":\"1414\",\"type\":\"BasicTickFormatter\"},{\"attributes\":{\"axis\":{\"id\":\"1753\"},\"grid_line_color\":null,\"ticker\":null},\"id\":\"1756\",\"type\":\"Grid\"},{\"attributes\":{\"axis\":{\"id\":\"1839\"},\"dimension\":1,\"grid_line_color\":null,\"ticker\":null},\"id\":\"1842\",\"type\":\"Grid\"},{\"attributes\":{},\"id\":\"2140\",\"type\":\"CategoricalTicker\"},{\"attributes\":{},\"id\":\"1590\",\"type\":\"BasicTicker\"},{\"attributes\":{\"overlay\":{\"id\":\"1602\"}},\"id\":\"1600\",\"type\":\"BoxZoomTool\"},{\"attributes\":{},\"id\":\"1840\",\"type\":\"BasicTicker\"},{\"attributes\":{\"axis\":{\"id\":\"1757\"},\"dimension\":1,\"grid_line_color\":null,\"ticker\":null},\"id\":\"1760\",\"type\":\"Grid\"},{\"attributes\":{\"axis_label\":\"x\",\"bounds\":\"auto\",\"formatter\":{\"id\":\"1822\"},\"major_label_orientation\":\"horizontal\",\"ticker\":{\"id\":\"1795\"},\"visible\":false},\"id\":\"1794\",\"type\":\"LinearAxis\"},{\"attributes\":{\"active_drag\":\"auto\",\"active_inspect\":\"auto\",\"active_multi\":null,\"active_scroll\":\"auto\",\"active_tap\":\"auto\",\"tools\":[{\"id\":\"1761\"},{\"id\":\"1762\"},{\"id\":\"1763\"},{\"id\":\"1764\"},{\"id\":\"1765\"}]},\"id\":\"1767\",\"type\":\"Toolbar\"},{\"attributes\":{},\"id\":\"1799\",\"type\":\"BasicTicker\"},{\"attributes\":{\"data\":{\"x\":{\"__ndarray__\":\"\",\"dtype\":\"float64\",\"shape\":[0]},\"y\":{\"__ndarray__\":\"\",\"dtype\":\"float64\",\"shape\":[0]}},\"selected\":{\"id\":\"1979\"},\"selection_policy\":{\"id\":\"2032\"}},\"id\":\"1978\",\"type\":\"ColumnDataSource\"},{\"attributes\":{},\"id\":\"1426\",\"type\":\"BasicTicker\"},{\"attributes\":{\"axis\":{\"id\":\"1962\"},\"dimension\":1,\"grid_line_color\":null,\"ticker\":null},\"id\":\"1965\",\"type\":\"Grid\"},{\"attributes\":{},\"id\":\"1549\",\"type\":\"BasicTicker\"},{\"attributes\":{\"fill_color\":{\"value\":\"Grey\"},\"line_color\":{\"value\":\"Grey\"},\"x\":{\"field\":\"x\"},\"y\":{\"field\":\"y\"}},\"id\":\"1981\",\"type\":\"Scatter\"},{\"attributes\":{},\"id\":\"1959\",\"type\":\"BasicTicker\"},{\"attributes\":{\"axis_label\":\"y\",\"bounds\":\"auto\",\"formatter\":{\"id\":\"1660\"},\"major_label_orientation\":\"horizontal\",\"ticker\":{\"id\":\"1635\"},\"visible\":false},\"id\":\"1634\",\"type\":\"LinearAxis\"},{\"attributes\":{},\"id\":\"1519\",\"type\":\"ResetTool\"},{\"attributes\":{\"text\":\"\",\"text_color\":{\"value\":\"black\"},\"text_font_size\":{\"value\":\"12pt\"}},\"id\":\"1540\",\"type\":\"Title\"},{\"attributes\":{},\"id\":\"1762\",\"type\":\"PanTool\"},{\"attributes\":{},\"id\":\"1599\",\"type\":\"WheelZoomTool\"},{\"attributes\":{\"axis\":{\"id\":\"1794\"},\"grid_line_color\":null,\"ticker\":null},\"id\":\"1797\",\"type\":\"Grid\"},{\"attributes\":{},\"id\":\"1597\",\"type\":\"SaveTool\"},{\"attributes\":{\"axis\":{\"id\":\"1548\"},\"grid_line_color\":null,\"ticker\":null},\"id\":\"1551\",\"type\":\"Grid\"},{\"attributes\":{},\"id\":\"1763\",\"type\":\"WheelZoomTool\"},{\"attributes\":{},\"id\":\"1421\",\"type\":\"LinearScale\"},{\"attributes\":{},\"id\":\"1765\",\"type\":\"ResetTool\"},{\"attributes\":{},\"id\":\"3354\",\"type\":\"UnionRenderers\"},{\"attributes\":{},\"id\":\"1553\",\"type\":\"BasicTicker\"},{\"attributes\":{},\"id\":\"1423\",\"type\":\"LinearScale\"},{\"attributes\":{\"axis\":{\"id\":\"1675\"},\"dimension\":1,\"grid_line_color\":null,\"ticker\":null},\"id\":\"1678\",\"type\":\"Grid\"},{\"attributes\":{\"axis_label\":\"y\",\"bounds\":\"auto\",\"formatter\":{\"id\":\"1578\"},\"major_label_orientation\":\"horizontal\",\"ticker\":{\"id\":\"1553\"},\"visible\":false},\"id\":\"1552\",\"type\":\"LinearAxis\"},{\"attributes\":{\"overlay\":{\"id\":\"1684\"}},\"id\":\"1682\",\"type\":\"BoxZoomTool\"},{\"attributes\":{},\"id\":\"1601\",\"type\":\"ResetTool\"},{\"attributes\":{\"overlay\":{\"id\":\"1766\"}},\"id\":\"1764\",\"type\":\"BoxZoomTool\"},{\"attributes\":{\"data_source\":{\"id\":\"3245\"},\"glyph\":{\"id\":\"1571\"},\"hover_glyph\":null,\"muted_glyph\":{\"id\":\"1573\"},\"nonselection_glyph\":{\"id\":\"1572\"},\"selection_glyph\":null,\"view\":{\"id\":\"1575\"}},\"id\":\"1574\",\"type\":\"GlyphRenderer\"},{\"attributes\":{\"axis_label\":\"y\",\"bounds\":\"auto\",\"formatter\":{\"id\":\"1619\"},\"major_label_orientation\":\"horizontal\",\"ticker\":{\"id\":\"1594\"},\"visible\":false},\"id\":\"1593\",\"type\":\"LinearAxis\"},{\"attributes\":{},\"id\":\"1598\",\"type\":\"PanTool\"},{\"attributes\":{\"axis_label\":\"y\",\"bounds\":\"auto\",\"formatter\":{\"id\":\"1824\"},\"major_label_orientation\":\"horizontal\",\"ticker\":{\"id\":\"1799\"},\"visible\":false},\"id\":\"1798\",\"type\":\"LinearAxis\"},{\"attributes\":{},\"id\":\"3353\",\"type\":\"Selection\"},{\"attributes\":{},\"id\":\"1680\",\"type\":\"PanTool\"},{\"attributes\":{\"fill_alpha\":{\"value\":0.1},\"fill_color\":{\"value\":\"Grey\"},\"line_alpha\":{\"value\":0.1},\"line_color\":{\"value\":\"Grey\"},\"x\":{\"field\":\"x\"},\"y\":{\"field\":\"y\"}},\"id\":\"1531\",\"type\":\"Scatter\"},{\"attributes\":{\"fill_alpha\":{\"value\":0.2},\"fill_color\":{\"value\":\"Grey\"},\"line_alpha\":{\"value\":0.2},\"line_color\":{\"value\":\"Grey\"},\"x\":{\"field\":\"x\"},\"y\":{\"field\":\"y\"}},\"id\":\"1573\",\"type\":\"Scatter\"},{\"attributes\":{\"axis\":{\"id\":\"1798\"},\"dimension\":1,\"grid_line_color\":null,\"ticker\":null},\"id\":\"1801\",\"type\":\"Grid\"},{\"attributes\":{\"fill_alpha\":{\"value\":0.2},\"fill_color\":{\"value\":\"Grey\"},\"line_alpha\":{\"value\":0.2},\"line_color\":{\"value\":\"Grey\"},\"x\":{\"field\":\"x\"},\"y\":{\"field\":\"y\"}},\"id\":\"1778\",\"type\":\"Scatter\"},{\"attributes\":{\"active_drag\":\"auto\",\"active_inspect\":\"auto\",\"active_multi\":null,\"active_scroll\":\"auto\",\"active_tap\":\"auto\",\"tools\":[{\"id\":\"1556\"},{\"id\":\"1557\"},{\"id\":\"1558\"},{\"id\":\"1559\"},{\"id\":\"1560\"}]},\"id\":\"1562\",\"type\":\"Toolbar\"},{\"attributes\":{\"axis\":{\"id\":\"1593\"},\"dimension\":1,\"grid_line_color\":null,\"ticker\":null},\"id\":\"1596\",\"type\":\"Grid\"},{\"attributes\":{\"fill_color\":{\"value\":\"Grey\"},\"line_color\":{\"value\":\"Grey\"},\"x\":{\"field\":\"x\"},\"y\":{\"field\":\"y\"}},\"id\":\"1776\",\"type\":\"Scatter\"},{\"attributes\":{\"axis\":{\"id\":\"1589\"},\"grid_line_color\":null,\"ticker\":null},\"id\":\"1592\",\"type\":\"Grid\"},{\"attributes\":{\"fill_color\":{\"value\":\"Grey\"},\"line_color\":{\"value\":\"Grey\"},\"x\":{\"field\":\"x\"},\"y\":{\"field\":\"y\"}},\"id\":\"1571\",\"type\":\"Scatter\"},{\"attributes\":{},\"id\":\"1761\",\"type\":\"SaveTool\"},{\"attributes\":{},\"id\":\"1683\",\"type\":\"ResetTool\"},{\"attributes\":{},\"id\":\"1556\",\"type\":\"SaveTool\"},{\"attributes\":{},\"id\":\"1758\",\"type\":\"BasicTicker\"}],\"root_ids\":[\"1371\",\"3714\"]},\"title\":\"Bokeh Application\",\"version\":\"2.0.1\"}};\n",
       "  var render_items = [{\"docid\":\"89874ce6-1c30-4efe-bedf-60f5338c518d\",\"root_ids\":[\"1371\"],\"roots\":{\"1371\":\"643e8338-f215-45e5-b0b5-f5eee4768fa4\"}}];\n",
       "  root.Bokeh.embed.embed_items_notebook(docs_json, render_items);\n",
       "  }\n",
       "if (root.Bokeh !== undefined) {\n",
       "    embed_document(root);\n",
       "  } else {\n",
       "    var attempts = 0;\n",
       "    var timer = setInterval(function(root) {\n",
       "      if (root.Bokeh !== undefined) {\n",
       "        clearInterval(timer);\n",
       "        embed_document(root);\n",
       "      } else if (document.readyState == \"complete\") {\n",
       "        attempts++;\n",
       "        if (attempts > 100) {\n",
       "          clearInterval(timer);\n",
       "          console.log(\"Bokeh: ERROR: Unable to run BokehJS code because BokehJS library is missing\");\n",
       "        }\n",
       "      }\n",
       "    }, 10, root)\n",
       "  }\n",
       "})(window);</script>"
      ],
      "text/plain": [
       ":GridSpace   [i,j]\n",
       "   :DynamicMap   []\n",
       "      :Points   [x,y]"
      ]
     },
     "execution_count": 12,
     "metadata": {
      "application/vnd.holoviews_exec.v0+json": {
       "id": "1371"
      }
     },
     "output_type": "execute_result"
    }
   ],
   "source": [
    "gridspace, all_graphs = new_game_of_life_grid(small_game_size, plot_size, x_grid, y_grid, shrink_factor)\n",
    "gridspace"
   ]
  },
  {
   "cell_type": "code",
   "execution_count": 13,
   "metadata": {},
   "outputs": [
    {
     "name": "stdout",
     "output_type": "stream",
     "text": [
      "Total time for 15 games,    50 steps,     1 batch size: 21.042 seconds\n",
      "CPU times: user 15.5 s, sys: 386 ms, total: 15.9 s\n",
      "Wall time: 21 s\n"
     ]
    }
   ],
   "source": [
    "%time do_trial(all_graphs, num_games=x_grid*y_grid, steps=steps, batch_size=1, game_size_for_each=small_game_size, pause_between_batches=0.1)"
   ]
  },
  {
   "cell_type": "markdown",
   "metadata": {},
   "source": [
    "(If you can't see the plot in the previous cell output, click [here](../images/ConwaysGameOfLife-Grid-Snapshot.png).)\n",
    "\n",
    "How much time did it take?  You can perceive a \"wave\" across the graphs at each time step, because the games aren't running at the same time, then a bunch of update spurts happen periodically, etc. Not so great...\n",
    "\n",
    "There were the same `steps*0.1` seconds of sleep time between steps, not dependent on the number of games, so the rest is compute time."
   ]
  },
  {
   "cell_type": "markdown",
   "metadata": {},
   "source": [
    "Let's explore improving the performance with Ray."
   ]
  },
  {
   "cell_type": "code",
   "execution_count": 14,
   "metadata": {},
   "outputs": [
    {
     "name": "stderr",
     "output_type": "stream",
     "text": [
      "2020-04-23 12:08:33,704\tINFO resource_spec.py:212 -- Starting Ray with 4.2 GiB memory available for workers and up to 2.12 GiB for objects. You can adjust these settings with ray.init(memory=<bytes>, object_store_memory=<bytes>).\n",
      "2020-04-23 12:08:34,078\tINFO services.py:1148 -- View the Ray dashboard at \u001b[1m\u001b[32mlocalhost:8265\u001b[39m\u001b[22m\n"
     ]
    },
    {
     "data": {
      "text/plain": [
       "{'node_ip_address': '192.168.1.149',\n",
       " 'redis_address': '192.168.1.149:32896',\n",
       " 'object_store_address': '/tmp/ray/session_2020-04-23_12-08-33_694416_43518/sockets/plasma_store',\n",
       " 'raylet_socket_name': '/tmp/ray/session_2020-04-23_12-08-33_694416_43518/sockets/raylet',\n",
       " 'webui_url': 'localhost:8265',\n",
       " 'session_dir': '/tmp/ray/session_2020-04-23_12-08-33_694416_43518'}"
      ]
     },
     "execution_count": 14,
     "metadata": {},
     "output_type": "execute_result"
    }
   ],
   "source": [
    "ray.init(ignore_reinit_error=True)"
   ]
  },
  {
   "cell_type": "code",
   "execution_count": 15,
   "metadata": {},
   "outputs": [
    {
     "name": "stdout",
     "output_type": "stream",
     "text": [
      "New port? http://localhost:8265\n"
     ]
    }
   ],
   "source": [
    "print(f'New port? http://{ray.get_webui_url()}')"
   ]
  },
  {
   "cell_type": "markdown",
   "metadata": {},
   "source": [
    "## Actors - Ray's Tool for Distributed State\n",
    "\n",
    "Python is an object-oriented language. We often encapsulate bits of state in classes, like we did for `State` above. Ray leverages this familiar mechanism to manage distributed state.\n",
    "\n",
    "Recall that adding the `@ray.remote` annotation to a _function_ turned it into a _task_. If we use the same annotation on a Python _class_, we get an _actor_.\n",
    "\n",
    "### Why \"Actor\"\n",
    "\n",
    "The [Actor Model of Concurrency](https://en.wikipedia.org/wiki/Actor_model) is almost 50 years old! It's a _message-passing_ model, where autonomous blocks of code, the actors, receive messages from other actors asking them to perform work or return some results. Implementations provide thread safety while the messages are processed, one at a time. This means the user of an actor model implementation doesn't have to worry about writing thread-safe code. Because many messages might arrive while one is being processed, they are stored in a queue and processed one at a time, the order of arrival. \n",
    "\n",
    "There are many other implementations of the actor model, including [Erlang](https://www.erlang.org/), the first system to create a production-grade implementation, initially used for telecom switches, and [Akka](https://akka.io), a JVM implementation inspired by Erlang."
   ]
  },
  {
   "cell_type": "markdown",
   "metadata": {},
   "source": [
    "Let's start by simply making `Game` an actor. We'll just subclass it and add `@ray.remote` to the subclass.\n",
    "\n",
    "There's one other change we have to make; if we want to access the `state` and `rules` instances in an Actor, we can't just use `mygame.state`, for example, as you would normally do for Python instances. Instead, we have to add \"getter\" methods for them.\n",
    "\n",
    "Here's our Game actor definition."
   ]
  },
  {
   "cell_type": "code",
   "execution_count": 16,
   "metadata": {},
   "outputs": [],
   "source": [
    "@ray.remote\n",
    "class RayGame(Game):\n",
    "    def __init__(self, initial_state, rules):\n",
    "        super().__init__(initial_state, rules)\n",
    "        \n",
    "    def get_states(self):\n",
    "        return self.states\n",
    "            \n",
    "    def get_rules(self):\n",
    "        return self.rules"
   ]
  },
  {
   "cell_type": "markdown",
   "metadata": {},
   "source": [
    "To construct an instance and call methods, you use `.remote` as for tasks:"
   ]
  },
  {
   "cell_type": "code",
   "execution_count": 17,
   "metadata": {},
   "outputs": [],
   "source": [
    "def new_ray_game(game_size):\n",
    "    initial_state = State(size = game_size)\n",
    "    rules = ConwaysRules()\n",
    "    ray_game_actor = RayGame.remote(initial_state, rules)   # Note that .remote(...) is used to construct the instance.\n",
    "    return ray_game_actor"
   ]
  },
  {
   "cell_type": "markdown",
   "metadata": {},
   "source": [
    "We'll use the following function to try out the implementation, but then take the Ray actor out of scope when we're done. This is because actors remain pinned to a worker as long as the driver (this notebook) has a reference to them. We don't want that wasted space..."
   ]
  },
  {
   "cell_type": "code",
   "execution_count": 18,
   "metadata": {},
   "outputs": [
    {
     "name": "stdout",
     "output_type": "stream",
     "text": [
      "Actor for game: Actor(RayGame, 45b95b1c0100)\n",
      "Initial state:\n",
      "| *   * *   *   * * * * * * *               * * * * * *         *   |\n",
      "| *   *   *         * * * *   * *                 *         *       |\n",
      "|             * *     * * * *   *                 *   *   * *       |\n",
      "| *       *   *   *         * * *                       * *         |\n",
      "|           * *   * *                             *             * * |\n",
      "|           * *   *           *                 *     * *           |\n",
      "| *       * *     *       *   * * *               * * *             |\n",
      "| * * *                     * *   *   * *   * * * *   *             |\n",
      "| * *       *   *         *       * *       * *   * *               |\n",
      "| *   *     * * *         *               *       * *   *           |\n",
      "|           *             *                     * *   *             |\n",
      "| * * * *   *             *       *   *             * *           * |\n",
      "| *     *             * *       * * *             * * *         * * |\n",
      "| * *   * *       * *   * * *   *     *                         * * |\n",
      "| * * *       * *   * *     *     *             * * * *       *     |\n",
      "| *       * *   *   *         * *     * *       * * *         * * * |\n",
      "|           * *   *         * * *             *     *               |\n",
      "|           * * * *   *     *           *                 *     *   |\n",
      "|       *   * * * *     * *   *                               * *   |\n",
      "| * *     * *   *       * * * * *                   *   * *       * |\n",
      "|                   *       *                   *   *   * * *   * * |\n",
      "| *                     *     *                 *         * * * * * |\n",
      "|                                 *   *         * *             *   |\n",
      "|               *   *   *   * * * * *         *   *   *     *   * * |\n",
      "|     *             * *   * * * *                 * * *             |\n",
      "|         *               * *   *                   *     *         |\n",
      "|                   * *       * *                   *               |\n",
      "|       *   *       * * * *         *   *   *   *   *               |\n",
      "|         *     * *     * *   *   * *   * * *                 *     |\n",
      "|         *     *   * *   *         * *     * * *   *               |\n",
      "|           *     * *     *   *     * *             *               |\n",
      "| *     *       *         *   *       * *               *           |\n",
      "|       *   *   *                     *         * * * *         * * |\n",
      "State after step #1:\n",
      "| *   *     *   *           * *               *       *       * *   |\n",
      "|     *   * *                   *             *       * * * * *   * |\n",
      "|   *   *     * * *               *                 *       *       |\n",
      "|                 *   * *   *   *                   *   * * *     * |\n",
      "|         *       * *       *   *                     *   *       * |\n",
      "|                 *         * *                 *     * *         * |\n",
      "| *       * * * *                 * *                               |\n",
      "|     *   * * *           *   *       *   * *         *           * |\n",
      "|           *   *         *     * * * * *                         * |\n",
      "| *       * *   *       * * *               * *                     |\n",
      "|       *   *           * * *                   *       *         * |\n",
      "|   * * *                 *     * *             *       *       *   |\n",
      "|                   * *     * * *     *           *   *             |\n",
      "|       * *     * *         *   *               *             *     |\n",
      "|     *       * *       *   *     * * * *       *     *       *     |\n",
      "| *       *         * *           *           *               * * * |\n",
      "|                           *   *     * *       *   *         *     |\n",
      "|                       *       *                             * *   |\n",
      "| *                 * *         *                       * * * * *   |\n",
      "| *       * *   *     * *       *                 *     *           |\n",
      "|   *                 * *       *                                   |\n",
      "| *                                           * *       *           |\n",
      "| *                   *   * *     *           *   * *     *         |\n",
      "|                 * *   *           *                 *       * * * |\n",
      "|                 * * *                         * *   * *           |\n",
      "|                         *       *                                 |\n",
      "|         *         *         * * *                 * *             |\n",
      "|         *               *   *     *   *   * *   *                 |\n",
      "|       * * * * *                 *     *       *                   |\n",
      "|         * * * *     *   *     *           * *   *                 |\n",
      "|         *   * *   * *   *                   *   *   *             |\n",
      "|               *                       *                         * |\n",
      "| * *   *       *   * *               * *               *       *   |\n"
     ]
    }
   ],
   "source": [
    "def try_ray_game_actor():\n",
    "    ray_game_actor = new_ray_game(small_game_size)\n",
    "    print(f'Actor for game: {ray_game_actor}')\n",
    "    init_states = ray.get(ray_game_actor.step.remote())\n",
    "    print(f'Initial state:\\n{init_states[0]}')\n",
    "    new_states = ray.get(ray_game_actor.step.remote())\n",
    "    print(f'State after step #1:\\n{new_states[0]}')\n",
    "try_ray_game_actor()"
   ]
  },
  {
   "cell_type": "markdown",
   "metadata": {},
   "source": [
    "> **Key Points:** To summarize:\n",
    ">\n",
    "> 1. Declare an _actor_ by annotating a class with `@ray.remote`, just like declaring a _task_ from a function.\n",
    "> 2. Add \"getter\" methods for any data members that you need to access, because direct access, such as `my_game.state`, doesn't work for actors.\n",
    "> 3. Construct actor instances with `my_instance = MyClass.remote(...)`.\n",
    "> 4. Call methods with `my_instance.some_method.remote(...)`.\n",
    "> 5. Use `ray.get()` and `ray.wait()` to retrieve results, just like you do for task results.\n",
    "\n",
    "> **Tip:** If you start getting warnings about lots of Python processes running or you have too many actors scheduled. use `ray.kill(actor_id)` to remove the ones we no longer need. For example, to kill the just-created actor, `ray.kill(raygame_id)`. We'll see more examples later."
   ]
  },
  {
   "cell_type": "markdown",
   "metadata": {},
   "source": [
    "Okay, now let's repeat our grid experiment with a Ray-enabled Game of Life. Let's define a helper function, `do_ray_trail`, which is analogous to `do_trial` above. It encapsulates some of the steps, for the same reasons mentioned above; so that our actors go out of scope and the worker slots are reclaimed when the function call returns.\n",
    "\n",
    "We call a library function `run_ray_games` to run these games. It's somewhat complicated, because it uses `ray.wait()` to process updates as soon as they are available, and also has hooks for batch processing and running without graphing (see below).\n",
    "\n",
    "We'll create the graphs separately and pass them into `do_ray_trial`. "
   ]
  },
  {
   "cell_type": "code",
   "execution_count": 19,
   "metadata": {},
   "outputs": [],
   "source": [
    "def do_ray_trial(graphs, num_games=1, steps=steps, batch_size=1, game_size_for_each=game_size, pause_between_batches=0.0):\n",
    "    game_actors = [new_ray_game(game_size_for_each) for _ in range(num_games)]\n",
    "    run_ray_games(game_actors, graphs, steps, batch_size, pause_between_batches)"
   ]
  },
  {
   "cell_type": "code",
   "execution_count": 20,
   "metadata": {},
   "outputs": [
    {
     "data": {},
     "metadata": {},
     "output_type": "display_data"
    },
    {
     "data": {
      "application/vnd.holoviews_exec.v0+json": "",
      "text/html": [
       "<div id='7646'>\n",
       "\n",
       "\n",
       "\n",
       "\n",
       "\n",
       "  <div class=\"bk-root\" id=\"9ad20c47-f902-41da-8a8c-60f677c8b334\" data-root-id=\"7646\"></div>\n",
       "</div>\n",
       "<script type=\"application/javascript\">(function(root) {\n",
       "  function embed_document(root) {\n",
       "  var docs_json = {\"24194057-ec2b-4283-b2bb-05c820b46d2b\":{\"roots\":{\"references\":[{\"attributes\":{},\"id\":\"7901\",\"type\":\"LinearScale\"},{\"attributes\":{},\"id\":\"7999\",\"type\":\"ResetTool\"},{\"attributes\":{},\"id\":\"7680\",\"type\":\"Selection\"},{\"attributes\":{\"bottom_units\":\"screen\",\"fill_alpha\":0.5,\"fill_color\":\"lightgrey\",\"left_units\":\"screen\",\"level\":\"overlay\",\"line_alpha\":1.0,\"line_color\":\"black\",\"line_dash\":[4,4],\"line_width\":2,\"render_mode\":\"css\",\"right_units\":\"screen\",\"top_units\":\"screen\"},\"id\":\"8082\",\"type\":\"BoxAnnotation\"},{\"attributes\":{\"axis\":{\"id\":\"8032\"},\"dimension\":1,\"grid_line_color\":null,\"ticker\":null},\"id\":\"8035\",\"type\":\"Grid\"},{\"attributes\":{\"align\":\"end\",\"below\":[{\"id\":\"8414\"}],\"center\":[{\"id\":\"8416\"},{\"id\":\"8420\"}],\"left\":[{\"id\":\"8417\"}],\"outline_line_alpha\":0,\"plot_height\":58,\"plot_width\":630,\"title\":{\"id\":\"8582\"},\"toolbar\":{\"id\":\"8421\"},\"toolbar_location\":null,\"x_range\":{\"id\":\"8404\"},\"x_scale\":{\"id\":\"8410\"},\"y_range\":{\"id\":\"8405\"},\"y_scale\":{\"id\":\"8412\"}},\"id\":\"8407\",\"subtype\":\"Figure\",\"type\":\"Plot\"},{\"attributes\":{\"fill_alpha\":{\"value\":0.1},\"fill_color\":{\"value\":\"Grey\"},\"line_alpha\":{\"value\":0.1},\"line_color\":{\"value\":\"Grey\"},\"x\":{\"field\":\"x\"},\"y\":{\"field\":\"y\"}},\"id\":\"8011\",\"type\":\"Scatter\"},{\"attributes\":{\"fill_color\":{\"value\":\"Grey\"},\"line_color\":{\"value\":\"Grey\"},\"x\":{\"field\":\"x\"},\"y\":{\"field\":\"y\"}},\"id\":\"8174\",\"type\":\"Scatter\"},{\"attributes\":{\"bottom_units\":\"screen\",\"fill_alpha\":0.5,\"fill_color\":\"lightgrey\",\"left_units\":\"screen\",\"level\":\"overlay\",\"line_alpha\":1.0,\"line_color\":\"black\",\"line_dash\":[4,4],\"line_width\":2,\"render_mode\":\"css\",\"right_units\":\"screen\",\"top_units\":\"screen\"},\"id\":\"8000\",\"type\":\"BoxAnnotation\"},{\"attributes\":{\"align\":null,\"below\":[{\"id\":\"7782\"}],\"center\":[{\"id\":\"7785\"},{\"id\":\"7789\"}],\"frame_height\":120,\"frame_width\":120,\"left\":[{\"id\":\"7786\"}],\"margin\":null,\"min_border_bottom\":3,\"min_border_left\":3,\"min_border_right\":3,\"min_border_top\":3,\"plot_height\":null,\"plot_width\":null,\"renderers\":[{\"id\":\"7808\"}],\"sizing_mode\":\"fixed\",\"title\":{\"id\":\"7774\"},\"toolbar\":{\"id\":\"7796\"},\"toolbar_location\":null,\"x_range\":{\"id\":\"7648\"},\"x_scale\":{\"id\":\"7778\"},\"y_range\":{\"id\":\"7649\"},\"y_scale\":{\"id\":\"7780\"}},\"id\":\"7773\",\"subtype\":\"Figure\",\"type\":\"Plot\"},{\"attributes\":{\"bottom_units\":\"screen\",\"fill_alpha\":0.5,\"fill_color\":\"lightgrey\",\"left_units\":\"screen\",\"level\":\"overlay\",\"line_alpha\":1.0,\"line_color\":\"black\",\"line_dash\":[4,4],\"line_width\":2,\"render_mode\":\"css\",\"right_units\":\"screen\",\"top_units\":\"screen\"},\"id\":\"8164\",\"type\":\"BoxAnnotation\"},{\"attributes\":{\"active_drag\":\"auto\",\"active_inspect\":\"auto\",\"active_multi\":null,\"active_scroll\":\"auto\",\"active_tap\":\"auto\",\"tools\":[{\"id\":\"8077\"},{\"id\":\"8078\"},{\"id\":\"8079\"},{\"id\":\"8080\"},{\"id\":\"8081\"}]},\"id\":\"8083\",\"type\":\"Toolbar\"},{\"attributes\":{},\"id\":\"7894\",\"type\":\"BasicTickFormatter\"},{\"attributes\":{\"axis\":{\"id\":\"8028\"},\"grid_line_color\":null,\"ticker\":null},\"id\":\"8031\",\"type\":\"Grid\"},{\"attributes\":{\"args\":{\"range\":{\"id\":\"8422\"}},\"code\":\"range.setv({start: 0, end: range.factors.length})\"},\"id\":\"8424\",\"type\":\"CustomJS\"},{\"attributes\":{\"fill_alpha\":{\"value\":0.1},\"fill_color\":{\"value\":\"Grey\"},\"line_alpha\":{\"value\":0.1},\"line_color\":{\"value\":\"Grey\"},\"x\":{\"field\":\"x\"},\"y\":{\"field\":\"y\"}},\"id\":\"8175\",\"type\":\"Scatter\"},{\"attributes\":{\"source\":{\"id\":\"9522\"}},\"id\":\"7891\",\"type\":\"CDSView\"},{\"attributes\":{},\"id\":\"8428\",\"type\":\"LinearScale\"},{\"attributes\":{\"bottom_units\":\"screen\",\"fill_alpha\":0.5,\"fill_color\":\"lightgrey\",\"left_units\":\"screen\",\"level\":\"overlay\",\"line_alpha\":1.0,\"line_color\":\"black\",\"line_dash\":[4,4],\"line_width\":2,\"render_mode\":\"css\",\"right_units\":\"screen\",\"top_units\":\"screen\"},\"id\":\"7877\",\"type\":\"BoxAnnotation\"},{\"attributes\":{\"below\":[{\"id\":\"8432\"}],\"center\":[{\"id\":\"8435\"},{\"id\":\"8438\"}],\"left\":[{\"id\":\"8436\"}],\"outline_line_alpha\":0,\"plot_height\":378,\"plot_width\":66,\"title\":{\"id\":\"8440\"},\"toolbar\":{\"id\":\"8439\"},\"toolbar_location\":null,\"x_range\":{\"id\":\"8423\"},\"x_scale\":{\"id\":\"8428\"},\"y_range\":{\"id\":\"8422\"},\"y_scale\":{\"id\":\"8430\"}},\"id\":\"8425\",\"subtype\":\"Figure\",\"type\":\"Plot\"},{\"attributes\":{\"active_drag\":\"auto\",\"active_inspect\":\"auto\",\"active_multi\":null,\"active_scroll\":\"auto\",\"active_tap\":\"auto\",\"tools\":[{\"id\":\"8159\"},{\"id\":\"8160\"},{\"id\":\"8161\"},{\"id\":\"8162\"},{\"id\":\"8163\"}]},\"id\":\"8165\",\"type\":\"Toolbar\"},{\"attributes\":{\"fill_alpha\":{\"value\":0.2},\"fill_color\":{\"value\":\"Grey\"},\"line_alpha\":{\"value\":0.2},\"line_color\":{\"value\":\"Grey\"},\"x\":{\"field\":\"x\"},\"y\":{\"field\":\"y\"}},\"id\":\"7889\",\"type\":\"Scatter\"},{\"attributes\":{},\"id\":\"8079\",\"type\":\"WheelZoomTool\"},{\"attributes\":{\"bottom_units\":\"screen\",\"fill_alpha\":0.5,\"fill_color\":\"lightgrey\",\"left_units\":\"screen\",\"level\":\"overlay\",\"line_alpha\":1.0,\"line_color\":\"black\",\"line_dash\":[4,4],\"line_width\":2,\"render_mode\":\"css\",\"right_units\":\"screen\",\"top_units\":\"screen\"},\"id\":\"7959\",\"type\":\"BoxAnnotation\"},{\"attributes\":{\"data\":{\"x\":{\"__ndarray__\":\"\",\"dtype\":\"float64\",\"shape\":[0]},\"y\":{\"__ndarray__\":\"\",\"dtype\":\"float64\",\"shape\":[0]}},\"selected\":{\"id\":\"9630\"},\"selection_policy\":{\"id\":\"9631\"}},\"id\":\"9521\",\"type\":\"ColumnDataSource\"},{\"attributes\":{\"text\":\"\",\"text_color\":{\"value\":\"black\"},\"text_font_size\":{\"value\":\"12pt\"}},\"id\":\"7897\",\"type\":\"Title\"},{\"attributes\":{},\"id\":\"7810\",\"type\":\"BasicTickFormatter\"},{\"attributes\":{},\"id\":\"8160\",\"type\":\"PanTool\"},{\"attributes\":{\"formatter\":{\"id\":\"8445\"},\"ticker\":{\"id\":\"8433\"},\"visible\":false},\"id\":\"8432\",\"type\":\"LinearAxis\"},{\"attributes\":{},\"id\":\"7708\",\"type\":\"SaveTool\"},{\"attributes\":{},\"id\":\"8430\",\"type\":\"CategoricalScale\"},{\"attributes\":{\"bottom_units\":\"screen\",\"fill_alpha\":0.5,\"fill_color\":\"lightgrey\",\"left_units\":\"screen\",\"level\":\"overlay\",\"line_alpha\":1.0,\"line_color\":\"black\",\"line_dash\":[4,4],\"line_width\":2,\"render_mode\":\"css\",\"right_units\":\"screen\",\"top_units\":\"screen\"},\"id\":\"8123\",\"type\":\"BoxAnnotation\"},{\"attributes\":{},\"id\":\"7997\",\"type\":\"WheelZoomTool\"},{\"attributes\":{\"axis_label\":\"y\",\"bounds\":\"auto\",\"formatter\":{\"id\":\"8058\"},\"major_label_orientation\":\"horizontal\",\"ticker\":{\"id\":\"8033\"},\"visible\":false},\"id\":\"8032\",\"type\":\"LinearAxis\"},{\"attributes\":{},\"id\":\"8159\",\"type\":\"SaveTool\"},{\"attributes\":{\"fill_alpha\":{\"value\":0.2},\"fill_color\":{\"value\":\"Grey\"},\"line_alpha\":{\"value\":0.2},\"line_color\":{\"value\":\"Grey\"},\"x\":{\"field\":\"x\"},\"y\":{\"field\":\"y\"}},\"id\":\"8012\",\"type\":\"Scatter\"},{\"attributes\":{},\"id\":\"8202\",\"type\":\"WheelZoomTool\"},{\"attributes\":{},\"id\":\"8437\",\"type\":\"CategoricalTicker\"},{\"attributes\":{\"children\":[{\"id\":\"8400\"}]},\"id\":\"8403\",\"type\":\"Column\"},{\"attributes\":{},\"id\":\"7812\",\"type\":\"BasicTickFormatter\"},{\"attributes\":{\"toolbar\":{\"id\":\"8590\"},\"toolbar_location\":\"above\"},\"id\":\"8591\",\"type\":\"ToolbarBox\"},{\"attributes\":{},\"id\":\"8433\",\"type\":\"BasicTicker\"},{\"attributes\":{\"fill_alpha\":{\"value\":0.1},\"fill_color\":{\"value\":\"Grey\"},\"line_alpha\":{\"value\":0.1},\"line_color\":{\"value\":\"Grey\"},\"x\":{\"field\":\"x\"},\"y\":{\"field\":\"y\"}},\"id\":\"8216\",\"type\":\"Scatter\"},{\"attributes\":{\"axis\":{\"id\":\"8432\"},\"grid_line_alpha\":0,\"ticker\":null},\"id\":\"8435\",\"type\":\"Grid\"},{\"attributes\":{},\"id\":\"8033\",\"type\":\"BasicTicker\"},{\"attributes\":{\"active_drag\":\"auto\",\"active_inspect\":\"auto\",\"active_multi\":null,\"active_scroll\":\"auto\",\"active_tap\":\"auto\",\"tools\":[{\"id\":\"8200\"},{\"id\":\"8201\"},{\"id\":\"8202\"},{\"id\":\"8203\"},{\"id\":\"8204\"}]},\"id\":\"8206\",\"type\":\"Toolbar\"},{\"attributes\":{},\"id\":\"8078\",\"type\":\"PanTool\"},{\"attributes\":{\"axis\":{\"id\":\"8436\"},\"dimension\":1,\"grid_line_alpha\":0,\"ticker\":null},\"id\":\"8438\",\"type\":\"Grid\"},{\"attributes\":{\"overlay\":{\"id\":\"7713\"}},\"id\":\"7711\",\"type\":\"BoxZoomTool\"},{\"attributes\":{},\"id\":\"7851\",\"type\":\"BasicTickFormatter\"},{\"attributes\":{\"axis_label\":\"j\",\"formatter\":{\"id\":\"8443\"},\"major_label_orientation\":0.0,\"major_label_text_align\":\"right\",\"major_label_text_baseline\":\"middle\",\"ticker\":{\"id\":\"8437\"}},\"id\":\"8436\",\"type\":\"CategoricalAxis\"},{\"attributes\":{\"toolbars\":[{\"id\":\"8439\"},{\"id\":\"7796\"},{\"id\":\"8042\"},{\"id\":\"8124\"},{\"id\":\"8206\"},{\"id\":\"7878\"},{\"id\":\"8083\"},{\"id\":\"8247\"},{\"id\":\"7919\"},{\"id\":\"8001\"},{\"id\":\"8165\"},{\"id\":\"7714\"},{\"id\":\"7673\"},{\"id\":\"7755\"},{\"id\":\"7960\"},{\"id\":\"7837\"},{\"id\":\"8421\"}],\"tools\":[{\"id\":\"7790\"},{\"id\":\"7791\"},{\"id\":\"7792\"},{\"id\":\"7793\"},{\"id\":\"7794\"},{\"id\":\"8036\"},{\"id\":\"8037\"},{\"id\":\"8038\"},{\"id\":\"8039\"},{\"id\":\"8040\"},{\"id\":\"8118\"},{\"id\":\"8119\"},{\"id\":\"8120\"},{\"id\":\"8121\"},{\"id\":\"8122\"},{\"id\":\"8200\"},{\"id\":\"8201\"},{\"id\":\"8202\"},{\"id\":\"8203\"},{\"id\":\"8204\"},{\"id\":\"7872\"},{\"id\":\"7873\"},{\"id\":\"7874\"},{\"id\":\"7875\"},{\"id\":\"7876\"},{\"id\":\"8077\"},{\"id\":\"8078\"},{\"id\":\"8079\"},{\"id\":\"8080\"},{\"id\":\"8081\"},{\"id\":\"8241\"},{\"id\":\"8242\"},{\"id\":\"8243\"},{\"id\":\"8244\"},{\"id\":\"8245\"},{\"id\":\"7913\"},{\"id\":\"7914\"},{\"id\":\"7915\"},{\"id\":\"7916\"},{\"id\":\"7917\"},{\"id\":\"7995\"},{\"id\":\"7996\"},{\"id\":\"7997\"},{\"id\":\"7998\"},{\"id\":\"7999\"},{\"id\":\"8159\"},{\"id\":\"8160\"},{\"id\":\"8161\"},{\"id\":\"8162\"},{\"id\":\"8163\"},{\"id\":\"7708\"},{\"id\":\"7709\"},{\"id\":\"7710\"},{\"id\":\"7711\"},{\"id\":\"7712\"},{\"id\":\"7667\"},{\"id\":\"7668\"},{\"id\":\"7669\"},{\"id\":\"7670\"},{\"id\":\"7671\"},{\"id\":\"7749\"},{\"id\":\"7750\"},{\"id\":\"7751\"},{\"id\":\"7752\"},{\"id\":\"7753\"},{\"id\":\"7954\"},{\"id\":\"7955\"},{\"id\":\"7956\"},{\"id\":\"7957\"},{\"id\":\"7958\"},{\"id\":\"7831\"},{\"id\":\"7832\"},{\"id\":\"7833\"},{\"id\":\"7834\"},{\"id\":\"7835\"}]},\"id\":\"8590\",\"type\":\"ProxyToolbar\"},{\"attributes\":{\"active_drag\":\"auto\",\"active_inspect\":\"auto\",\"active_multi\":null,\"active_scroll\":\"auto\",\"active_tap\":\"auto\",\"tools\":[{\"id\":\"7995\"},{\"id\":\"7996\"},{\"id\":\"7997\"},{\"id\":\"7998\"},{\"id\":\"7999\"}]},\"id\":\"8001\",\"type\":\"Toolbar\"},{\"attributes\":{},\"id\":\"7853\",\"type\":\"BasicTickFormatter\"},{\"attributes\":{\"axis_label\":\"i\",\"formatter\":{\"id\":\"8587\"},\"major_label_orientation\":0.0,\"major_label_text_baseline\":\"middle\",\"ticker\":{\"id\":\"8415\"}},\"id\":\"8414\",\"type\":\"CategoricalAxis\"},{\"attributes\":{\"active_drag\":\"auto\",\"active_inspect\":\"auto\",\"active_multi\":null,\"active_scroll\":\"auto\",\"active_tap\":\"auto\",\"tools\":[{\"id\":\"7708\"},{\"id\":\"7709\"},{\"id\":\"7710\"},{\"id\":\"7711\"},{\"id\":\"7712\"}]},\"id\":\"7714\",\"type\":\"Toolbar\"},{\"attributes\":{\"active_drag\":\"auto\",\"active_inspect\":\"auto\",\"active_multi\":null,\"active_scroll\":\"auto\",\"active_tap\":\"auto\"},\"id\":\"8439\",\"type\":\"Toolbar\"},{\"attributes\":{},\"id\":\"8077\",\"type\":\"SaveTool\"},{\"attributes\":{},\"id\":\"8445\",\"type\":\"BasicTickFormatter\"},{\"attributes\":{\"text\":\"\",\"text_color\":{\"value\":\"black\"},\"text_font_size\":{\"value\":\"12pt\"}},\"id\":\"8225\",\"type\":\"Title\"},{\"attributes\":{},\"id\":\"7712\",\"type\":\"ResetTool\"},{\"attributes\":{},\"id\":\"8204\",\"type\":\"ResetTool\"},{\"attributes\":{\"axis_label\":\"y\",\"bounds\":\"auto\",\"formatter\":{\"id\":\"7689\"},\"major_label_orientation\":\"horizontal\",\"ticker\":{\"id\":\"7664\"},\"visible\":false},\"id\":\"7663\",\"type\":\"LinearAxis\"},{\"attributes\":{},\"id\":\"8081\",\"type\":\"ResetTool\"},{\"attributes\":{},\"id\":\"8163\",\"type\":\"ResetTool\"},{\"attributes\":{},\"id\":\"7709\",\"type\":\"PanTool\"},{\"attributes\":{\"axis\":{\"id\":\"7659\"},\"grid_line_color\":null,\"ticker\":null},\"id\":\"7662\",\"type\":\"Grid\"},{\"attributes\":{},\"id\":\"7903\",\"type\":\"LinearScale\"},{\"attributes\":{},\"id\":\"7730\",\"type\":\"BasicTickFormatter\"},{\"attributes\":{},\"id\":\"8229\",\"type\":\"LinearScale\"},{\"attributes\":{},\"id\":\"7996\",\"type\":\"PanTool\"},{\"attributes\":{\"fill_alpha\":{\"value\":0.2},\"fill_color\":{\"value\":\"Grey\"},\"line_alpha\":{\"value\":0.2},\"line_color\":{\"value\":\"Grey\"},\"x\":{\"field\":\"x\"},\"y\":{\"field\":\"y\"}},\"id\":\"8176\",\"type\":\"Scatter\"},{\"attributes\":{\"children\":[{\"id\":\"7647\"},{\"id\":\"8594\"},{\"id\":\"9640\"}],\"margin\":[0,0,0,0],\"name\":\"Row56650\"},\"id\":\"7646\",\"type\":\"Row\"},{\"attributes\":{\"overlay\":{\"id\":\"8000\"}},\"id\":\"7998\",\"type\":\"BoxZoomTool\"},{\"attributes\":{},\"id\":\"8161\",\"type\":\"WheelZoomTool\"},{\"attributes\":{\"data_source\":{\"id\":\"9522\"},\"glyph\":{\"id\":\"7887\"},\"hover_glyph\":null,\"muted_glyph\":{\"id\":\"7889\"},\"nonselection_glyph\":{\"id\":\"7888\"},\"selection_glyph\":null,\"view\":{\"id\":\"7891\"}},\"id\":\"7890\",\"type\":\"GlyphRenderer\"},{\"attributes\":{},\"id\":\"7995\",\"type\":\"SaveTool\"},{\"attributes\":{\"text\":\"\",\"text_color\":{\"value\":\"black\"},\"text_font_size\":{\"value\":\"12pt\"}},\"id\":\"8440\",\"type\":\"Title\"},{\"attributes\":{\"text\":\"\",\"text_color\":{\"value\":\"black\"},\"text_font_size\":{\"value\":\"12pt\"}},\"id\":\"7774\",\"type\":\"Title\"},{\"attributes\":{\"data_source\":{\"id\":\"9519\"},\"glyph\":{\"id\":\"7805\"},\"hover_glyph\":null,\"muted_glyph\":{\"id\":\"7807\"},\"nonselection_glyph\":{\"id\":\"7806\"},\"selection_glyph\":null,\"view\":{\"id\":\"7809\"}},\"id\":\"7808\",\"type\":\"GlyphRenderer\"},{\"attributes\":{\"overlay\":{\"id\":\"8164\"}},\"id\":\"8162\",\"type\":\"BoxZoomTool\"},{\"attributes\":{},\"id\":\"8587\",\"type\":\"CategoricalTickFormatter\"},{\"attributes\":{\"text\":\"\",\"text_color\":{\"value\":\"black\"},\"text_font_size\":{\"value\":\"12pt\"}},\"id\":\"8020\",\"type\":\"Title\"},{\"attributes\":{\"fill_alpha\":{\"value\":0.2},\"fill_color\":{\"value\":\"Grey\"},\"line_alpha\":{\"value\":0.2},\"line_color\":{\"value\":\"Grey\"},\"x\":{\"field\":\"x\"},\"y\":{\"field\":\"y\"}},\"id\":\"7807\",\"type\":\"Scatter\"},{\"attributes\":{\"fill_color\":{\"value\":\"Grey\"},\"line_color\":{\"value\":\"Grey\"},\"x\":{\"field\":\"x\"},\"y\":{\"field\":\"y\"}},\"id\":\"8010\",\"type\":\"Scatter\"},{\"attributes\":{\"client_comm_id\":\"5972acc812e8462bb5a21e6dbc13f2ef\",\"comm_id\":\"f614da34656a4acf80187ef370327920\",\"plot_id\":\"7646\"},\"id\":\"9989\",\"type\":\"panel.models.comm_manager.CommManager\"},{\"attributes\":{\"fill_alpha\":{\"value\":0.1},\"fill_color\":{\"value\":\"Grey\"},\"line_alpha\":{\"value\":0.1},\"line_color\":{\"value\":\"Grey\"},\"x\":{\"field\":\"x\"},\"y\":{\"field\":\"y\"}},\"id\":\"7806\",\"type\":\"Scatter\"},{\"attributes\":{\"margin\":[5,5,5,5],\"name\":\"HSpacer56654\",\"sizing_mode\":\"stretch_width\"},\"id\":\"7647\",\"type\":\"Spacer\"},{\"attributes\":{\"children\":[{\"id\":\"8591\"},{\"id\":\"8589\"}]},\"id\":\"8592\",\"type\":\"Column\"},{\"attributes\":{\"align\":null,\"below\":[{\"id\":\"7987\"}],\"center\":[{\"id\":\"7990\"},{\"id\":\"7994\"}],\"frame_height\":120,\"frame_width\":120,\"left\":[{\"id\":\"7991\"}],\"margin\":null,\"min_border_bottom\":3,\"min_border_left\":3,\"min_border_right\":3,\"min_border_top\":3,\"plot_height\":null,\"plot_width\":null,\"renderers\":[{\"id\":\"8013\"}],\"sizing_mode\":\"fixed\",\"title\":{\"id\":\"7979\"},\"toolbar\":{\"id\":\"8001\"},\"toolbar_location\":null,\"x_range\":{\"id\":\"7648\"},\"x_scale\":{\"id\":\"7983\"},\"y_range\":{\"id\":\"7649\"},\"y_scale\":{\"id\":\"7985\"}},\"id\":\"7978\",\"subtype\":\"Figure\",\"type\":\"Plot\"},{\"attributes\":{\"children\":[[{\"id\":\"8425\"},0,0],[{\"id\":\"8403\"},0,1],[{\"id\":\"8407\"},1,1]]},\"id\":\"8589\",\"type\":\"GridBox\"},{\"attributes\":{\"source\":{\"id\":\"9519\"}},\"id\":\"7809\",\"type\":\"CDSView\"},{\"attributes\":{},\"id\":\"8443\",\"type\":\"CategoricalTickFormatter\"},{\"attributes\":{\"children\":[[{\"id\":\"7732\"},0,0],[{\"id\":\"7855\"},0,1],[{\"id\":\"7978\"},0,2],[{\"id\":\"8101\"},0,3],[{\"id\":\"8224\"},0,4],[{\"id\":\"7691\"},1,0],[{\"id\":\"7814\"},1,1],[{\"id\":\"7937\"},1,2],[{\"id\":\"8060\"},1,3],[{\"id\":\"8183\"},1,4],[{\"id\":\"7650\"},2,0],[{\"id\":\"7773\"},2,1],[{\"id\":\"7896\"},2,2],[{\"id\":\"8019\"},2,3],[{\"id\":\"8142\"},2,4]]},\"id\":\"8400\",\"type\":\"GridBox\"},{\"attributes\":{\"fill_alpha\":{\"value\":0.1},\"fill_color\":{\"value\":\"Grey\"},\"line_alpha\":{\"value\":0.1},\"line_color\":{\"value\":\"Grey\"},\"x\":{\"field\":\"x\"},\"y\":{\"field\":\"y\"}},\"id\":\"8052\",\"type\":\"Scatter\"},{\"attributes\":{\"overlay\":{\"id\":\"8205\"}},\"id\":\"8203\",\"type\":\"BoxZoomTool\"},{\"attributes\":{},\"id\":\"7710\",\"type\":\"WheelZoomTool\"},{\"attributes\":{\"text\":\"\",\"text_color\":{\"value\":\"black\"},\"text_font_size\":{\"value\":\"12pt\"}},\"id\":\"8582\",\"type\":\"Title\"},{\"attributes\":{\"axis\":{\"id\":\"7987\"},\"grid_line_color\":null,\"ticker\":null},\"id\":\"7990\",\"type\":\"Grid\"},{\"attributes\":{\"axis\":{\"id\":\"8155\"},\"dimension\":1,\"grid_line_color\":null,\"ticker\":null},\"id\":\"8158\",\"type\":\"Grid\"},{\"attributes\":{\"fill_alpha\":{\"value\":0.1},\"fill_color\":{\"value\":\"Grey\"},\"line_alpha\":{\"value\":0.1},\"line_color\":{\"value\":\"Grey\"},\"x\":{\"field\":\"x\"},\"y\":{\"field\":\"y\"}},\"id\":\"8093\",\"type\":\"Scatter\"},{\"attributes\":{},\"id\":\"7992\",\"type\":\"BasicTicker\"},{\"attributes\":{},\"id\":\"8156\",\"type\":\"BasicTicker\"},{\"attributes\":{\"overlay\":{\"id\":\"8082\"}},\"id\":\"8080\",\"type\":\"BoxZoomTool\"},{\"attributes\":{},\"id\":\"7892\",\"type\":\"BasicTickFormatter\"},{\"attributes\":{},\"id\":\"8585\",\"type\":\"BasicTickFormatter\"},{\"attributes\":{\"axis\":{\"id\":\"7991\"},\"dimension\":1,\"grid_line_color\":null,\"ticker\":null},\"id\":\"7994\",\"type\":\"Grid\"},{\"attributes\":{\"align\":null,\"below\":[{\"id\":\"8028\"}],\"center\":[{\"id\":\"8031\"},{\"id\":\"8035\"}],\"frame_height\":120,\"frame_width\":120,\"left\":[{\"id\":\"8032\"}],\"margin\":null,\"min_border_bottom\":3,\"min_border_left\":3,\"min_border_right\":3,\"min_border_top\":3,\"plot_height\":null,\"plot_width\":null,\"renderers\":[{\"id\":\"8054\"}],\"sizing_mode\":\"fixed\",\"title\":{\"id\":\"8020\"},\"toolbar\":{\"id\":\"8042\"},\"toolbar_location\":null,\"x_range\":{\"id\":\"7648\"},\"x_scale\":{\"id\":\"8024\"},\"y_range\":{\"id\":\"7649\"},\"y_scale\":{\"id\":\"8026\"}},\"id\":\"8019\",\"subtype\":\"Figure\",\"type\":\"Plot\"},{\"attributes\":{\"axis_label\":\"y\",\"bounds\":\"auto\",\"formatter\":{\"id\":\"8181\"},\"major_label_orientation\":\"horizontal\",\"ticker\":{\"id\":\"8156\"},\"visible\":false},\"id\":\"8155\",\"type\":\"LinearAxis\"},{\"attributes\":{\"factors\":[\"0\",\"1\",\"2\"],\"js_property_callbacks\":{\"change:start\":[{\"id\":\"8424\"}]}},\"id\":\"8422\",\"type\":\"FactorRange\"},{\"attributes\":{\"align\":null,\"below\":[{\"id\":\"8151\"}],\"center\":[{\"id\":\"8154\"},{\"id\":\"8158\"}],\"frame_height\":120,\"frame_width\":120,\"left\":[{\"id\":\"8155\"}],\"margin\":null,\"min_border_bottom\":3,\"min_border_left\":3,\"min_border_right\":3,\"min_border_top\":3,\"plot_height\":null,\"plot_width\":null,\"renderers\":[{\"id\":\"8177\"}],\"sizing_mode\":\"fixed\",\"title\":{\"id\":\"8143\"},\"toolbar\":{\"id\":\"8165\"},\"toolbar_location\":null,\"x_range\":{\"id\":\"7648\"},\"x_scale\":{\"id\":\"8147\"},\"y_range\":{\"id\":\"7649\"},\"y_scale\":{\"id\":\"8149\"}},\"id\":\"8142\",\"subtype\":\"Figure\",\"type\":\"Plot\"},{\"attributes\":{\"fill_color\":{\"value\":\"Grey\"},\"line_color\":{\"value\":\"Grey\"},\"x\":{\"field\":\"x\"},\"y\":{\"field\":\"y\"}},\"id\":\"7805\",\"type\":\"Scatter\"},{\"attributes\":{\"axis_label\":\"y\",\"bounds\":\"auto\",\"formatter\":{\"id\":\"8017\"},\"major_label_orientation\":\"horizontal\",\"ticker\":{\"id\":\"7992\"},\"visible\":false},\"id\":\"7991\",\"type\":\"LinearAxis\"},{\"attributes\":{\"axis\":{\"id\":\"8151\"},\"grid_line_color\":null,\"ticker\":null},\"id\":\"8154\",\"type\":\"Grid\"},{\"attributes\":{},\"id\":\"8197\",\"type\":\"BasicTicker\"},{\"attributes\":{\"align\":null,\"below\":[{\"id\":\"8110\"}],\"center\":[{\"id\":\"8113\"},{\"id\":\"8117\"}],\"frame_height\":120,\"frame_width\":120,\"left\":[{\"id\":\"8114\"}],\"margin\":null,\"min_border_bottom\":3,\"min_border_left\":3,\"min_border_right\":3,\"min_border_top\":3,\"plot_height\":null,\"plot_width\":null,\"renderers\":[{\"id\":\"8136\"}],\"sizing_mode\":\"fixed\",\"title\":{\"id\":\"8102\"},\"toolbar\":{\"id\":\"8124\"},\"toolbar_location\":null,\"x_range\":{\"id\":\"7648\"},\"x_scale\":{\"id\":\"8106\"},\"y_range\":{\"id\":\"7649\"},\"y_scale\":{\"id\":\"8108\"}},\"id\":\"8101\",\"subtype\":\"Figure\",\"type\":\"Plot\"},{\"attributes\":{\"text\":\"\",\"text_color\":{\"value\":\"black\"},\"text_font_size\":{\"value\":\"12pt\"}},\"id\":\"8143\",\"type\":\"Title\"},{\"attributes\":{\"align\":\"end\",\"below\":[{\"id\":\"7700\"}],\"center\":[{\"id\":\"7703\"},{\"id\":\"7707\"}],\"frame_height\":120,\"frame_width\":120,\"left\":[{\"id\":\"7704\"}],\"margin\":null,\"min_border_bottom\":3,\"min_border_left\":3,\"min_border_right\":3,\"min_border_top\":3,\"plot_height\":null,\"plot_width\":null,\"renderers\":[{\"id\":\"7726\"}],\"sizing_mode\":\"fixed\",\"title\":{\"id\":\"7692\"},\"toolbar\":{\"id\":\"7714\"},\"toolbar_location\":null,\"x_range\":{\"id\":\"7648\"},\"x_scale\":{\"id\":\"7696\"},\"y_range\":{\"id\":\"7649\"},\"y_scale\":{\"id\":\"7698\"}},\"id\":\"7691\",\"subtype\":\"Figure\",\"type\":\"Plot\"},{\"attributes\":{\"text\":\"\",\"text_color\":{\"value\":\"black\"},\"text_font_size\":{\"value\":\"12pt\"}},\"id\":\"7979\",\"type\":\"Title\"},{\"attributes\":{},\"id\":\"7698\",\"type\":\"LinearScale\"},{\"attributes\":{},\"id\":\"8193\",\"type\":\"BasicTicker\"},{\"attributes\":{\"source\":{\"id\":\"9522\"}},\"id\":\"8055\",\"type\":\"CDSView\"},{\"attributes\":{},\"id\":\"8029\",\"type\":\"BasicTicker\"},{\"attributes\":{\"align\":null,\"below\":[{\"id\":\"8192\"}],\"center\":[{\"id\":\"8195\"},{\"id\":\"8199\"}],\"frame_height\":120,\"frame_width\":120,\"left\":[{\"id\":\"8196\"}],\"margin\":null,\"min_border_bottom\":3,\"min_border_left\":3,\"min_border_right\":3,\"min_border_top\":3,\"plot_height\":null,\"plot_width\":null,\"renderers\":[{\"id\":\"8218\"}],\"sizing_mode\":\"fixed\",\"title\":{\"id\":\"8184\"},\"toolbar\":{\"id\":\"8206\"},\"toolbar_location\":null,\"x_range\":{\"id\":\"7648\"},\"x_scale\":{\"id\":\"8188\"},\"y_range\":{\"id\":\"7649\"},\"y_scale\":{\"id\":\"8190\"}},\"id\":\"8183\",\"subtype\":\"Figure\",\"type\":\"Plot\"},{\"attributes\":{\"text\":\"\",\"text_color\":{\"value\":\"black\"},\"text_font_size\":{\"value\":\"12pt\"}},\"id\":\"8184\",\"type\":\"Title\"},{\"attributes\":{\"end\":33,\"reset_end\":33,\"reset_start\":0,\"tags\":[[[\"y\",\"y\",null]]]},\"id\":\"7649\",\"type\":\"Range1d\"},{\"attributes\":{\"fill_color\":{\"value\":\"Grey\"},\"line_color\":{\"value\":\"Grey\"},\"x\":{\"field\":\"x\"},\"y\":{\"field\":\"y\"}},\"id\":\"8215\",\"type\":\"Scatter\"},{\"attributes\":{},\"id\":\"7983\",\"type\":\"LinearScale\"},{\"attributes\":{\"data\":{\"x\":{\"__ndarray__\":\"\",\"dtype\":\"float64\",\"shape\":[0]},\"y\":{\"__ndarray__\":\"\",\"dtype\":\"float64\",\"shape\":[0]}},\"selected\":{\"id\":\"8254\"},\"selection_policy\":{\"id\":\"8307\"}},\"id\":\"8253\",\"type\":\"ColumnDataSource\"},{\"attributes\":{},\"id\":\"8415\",\"type\":\"CategoricalTicker\"},{\"attributes\":{},\"id\":\"8026\",\"type\":\"LinearScale\"},{\"attributes\":{\"axis_label\":\"x\",\"bounds\":\"auto\",\"formatter\":{\"id\":\"8015\"},\"major_label_orientation\":\"horizontal\",\"ticker\":{\"id\":\"7988\"},\"visible\":false},\"id\":\"7987\",\"type\":\"LinearAxis\"},{\"attributes\":{},\"id\":\"7696\",\"type\":\"LinearScale\"},{\"attributes\":{},\"id\":\"8056\",\"type\":\"BasicTickFormatter\"},{\"attributes\":{\"fill_color\":{\"value\":\"Grey\"},\"line_color\":{\"value\":\"Grey\"},\"x\":{\"field\":\"x\"},\"y\":{\"field\":\"y\"}},\"id\":\"7723\",\"type\":\"Scatter\"},{\"attributes\":{},\"id\":\"9631\",\"type\":\"UnionRenderers\"},{\"attributes\":{\"axis\":{\"id\":\"8414\"},\"grid_line_alpha\":0,\"ticker\":null},\"id\":\"8416\",\"type\":\"Grid\"},{\"attributes\":{},\"id\":\"7985\",\"type\":\"LinearScale\"},{\"attributes\":{\"data_source\":{\"id\":\"7679\"},\"glyph\":{\"id\":\"7682\"},\"hover_glyph\":null,\"muted_glyph\":{\"id\":\"7684\"},\"nonselection_glyph\":{\"id\":\"7683\"},\"selection_glyph\":null,\"view\":{\"id\":\"7686\"}},\"id\":\"7685\",\"type\":\"GlyphRenderer\"},{\"attributes\":{\"text\":\"\",\"text_color\":{\"value\":\"black\"},\"text_font_size\":{\"value\":\"12pt\"}},\"id\":\"7651\",\"type\":\"Title\"},{\"attributes\":{},\"id\":\"8147\",\"type\":\"LinearScale\"},{\"attributes\":{},\"id\":\"7988\",\"type\":\"BasicTicker\"},{\"attributes\":{},\"id\":\"9628\",\"type\":\"Selection\"},{\"attributes\":{},\"id\":\"8024\",\"type\":\"LinearScale\"},{\"attributes\":{\"axis_label\":\"x\",\"bounds\":\"auto\",\"formatter\":{\"id\":\"8179\"},\"major_label_orientation\":\"horizontal\",\"ticker\":{\"id\":\"8152\"},\"visible\":false},\"id\":\"8151\",\"type\":\"LinearAxis\"},{\"attributes\":{\"fill_alpha\":{\"value\":0.1},\"fill_color\":{\"value\":\"Grey\"},\"line_alpha\":{\"value\":0.1},\"line_color\":{\"value\":\"Grey\"},\"x\":{\"field\":\"x\"},\"y\":{\"field\":\"y\"}},\"id\":\"7724\",\"type\":\"Scatter\"},{\"attributes\":{},\"id\":\"9632\",\"type\":\"Selection\"},{\"attributes\":{},\"id\":\"9637\",\"type\":\"UnionRenderers\"},{\"attributes\":{\"axis_label\":\"x\",\"bounds\":\"auto\",\"formatter\":{\"id\":\"8220\"},\"major_label_orientation\":\"horizontal\",\"ticker\":{\"id\":\"8193\"},\"visible\":false},\"id\":\"8192\",\"type\":\"LinearAxis\"},{\"attributes\":{\"axis_label\":\"y\",\"bounds\":\"auto\",\"formatter\":{\"id\":\"8222\"},\"major_label_orientation\":\"horizontal\",\"ticker\":{\"id\":\"8197\"},\"visible\":false},\"id\":\"8196\",\"type\":\"LinearAxis\"},{\"attributes\":{},\"id\":\"8149\",\"type\":\"LinearScale\"},{\"attributes\":{},\"id\":\"9636\",\"type\":\"Selection\"},{\"attributes\":{\"bottom_units\":\"screen\",\"fill_alpha\":0.5,\"fill_color\":\"lightgrey\",\"left_units\":\"screen\",\"level\":\"overlay\",\"line_alpha\":1.0,\"line_color\":\"black\",\"line_dash\":[4,4],\"line_width\":2,\"render_mode\":\"css\",\"right_units\":\"screen\",\"top_units\":\"screen\"},\"id\":\"8246\",\"type\":\"BoxAnnotation\"},{\"attributes\":{\"end\":33,\"reset_end\":33,\"reset_start\":0,\"tags\":[[[\"x\",\"x\",null]]]},\"id\":\"7648\",\"type\":\"Range1d\"},{\"attributes\":{\"data_source\":{\"id\":\"9520\"},\"glyph\":{\"id\":\"7846\"},\"hover_glyph\":null,\"muted_glyph\":{\"id\":\"7848\"},\"nonselection_glyph\":{\"id\":\"7847\"},\"selection_glyph\":null,\"view\":{\"id\":\"7850\"}},\"id\":\"7849\",\"type\":\"GlyphRenderer\"},{\"attributes\":{\"axis\":{\"id\":\"7700\"},\"grid_line_color\":null,\"ticker\":null},\"id\":\"7703\",\"type\":\"Grid\"},{\"attributes\":{},\"id\":\"8152\",\"type\":\"BasicTicker\"},{\"attributes\":{},\"id\":\"7660\",\"type\":\"BasicTicker\"},{\"attributes\":{\"data_source\":{\"id\":\"9522\"},\"glyph\":{\"id\":\"8051\"},\"hover_glyph\":null,\"muted_glyph\":{\"id\":\"8053\"},\"nonselection_glyph\":{\"id\":\"8052\"},\"selection_glyph\":null,\"view\":{\"id\":\"8055\"}},\"id\":\"8054\",\"type\":\"GlyphRenderer\"},{\"attributes\":{\"axis_label\":\"x\",\"bounds\":\"auto\",\"formatter\":{\"id\":\"8056\"},\"major_label_orientation\":\"horizontal\",\"ticker\":{\"id\":\"8029\"},\"visible\":false},\"id\":\"8028\",\"type\":\"LinearAxis\"},{\"attributes\":{},\"id\":\"8188\",\"type\":\"LinearScale\"},{\"attributes\":{},\"id\":\"9627\",\"type\":\"UnionRenderers\"},{\"attributes\":{\"data_source\":{\"id\":\"8253\"},\"glyph\":{\"id\":\"8256\"},\"hover_glyph\":null,\"muted_glyph\":{\"id\":\"8258\"},\"nonselection_glyph\":{\"id\":\"8257\"},\"selection_glyph\":null,\"view\":{\"id\":\"8260\"}},\"id\":\"8259\",\"type\":\"GlyphRenderer\"},{\"attributes\":{},\"id\":\"7860\",\"type\":\"LinearScale\"},{\"attributes\":{\"fill_alpha\":{\"value\":0.1},\"fill_color\":{\"value\":\"Grey\"},\"line_alpha\":{\"value\":0.1},\"line_color\":{\"value\":\"Grey\"},\"x\":{\"field\":\"x\"},\"y\":{\"field\":\"y\"}},\"id\":\"7847\",\"type\":\"Scatter\"},{\"attributes\":{\"args\":{\"range\":{\"id\":\"8404\"}},\"code\":\"range.setv({start: 0, end: range.factors.length})\"},\"id\":\"8406\",\"type\":\"CustomJS\"},{\"attributes\":{},\"id\":\"8190\",\"type\":\"LinearScale\"},{\"attributes\":{},\"id\":\"9633\",\"type\":\"UnionRenderers\"},{\"attributes\":{},\"id\":\"8423\",\"type\":\"Range1d\"},{\"attributes\":{\"axis\":{\"id\":\"8196\"},\"dimension\":1,\"grid_line_color\":null,\"ticker\":null},\"id\":\"8199\",\"type\":\"Grid\"},{\"attributes\":{\"axis_label\":\"x\",\"bounds\":\"auto\",\"formatter\":{\"id\":\"7728\"},\"major_label_orientation\":\"horizontal\",\"ticker\":{\"id\":\"7701\"},\"visible\":false},\"id\":\"7700\",\"type\":\"LinearAxis\"},{\"attributes\":{},\"id\":\"7689\",\"type\":\"BasicTickFormatter\"},{\"attributes\":{\"fill_alpha\":{\"value\":0.2},\"fill_color\":{\"value\":\"Grey\"},\"line_alpha\":{\"value\":0.2},\"line_color\":{\"value\":\"Grey\"},\"x\":{\"field\":\"x\"},\"y\":{\"field\":\"y\"}},\"id\":\"8258\",\"type\":\"Scatter\"},{\"attributes\":{},\"id\":\"8261\",\"type\":\"BasicTickFormatter\"},{\"attributes\":{\"fill_alpha\":{\"value\":0.2},\"fill_color\":{\"value\":\"Grey\"},\"line_alpha\":{\"value\":0.2},\"line_color\":{\"value\":\"Grey\"},\"x\":{\"field\":\"x\"},\"y\":{\"field\":\"y\"}},\"id\":\"7848\",\"type\":\"Scatter\"},{\"attributes\":{\"fill_color\":{\"value\":\"Grey\"},\"line_color\":{\"value\":\"Grey\"},\"x\":{\"field\":\"x\"},\"y\":{\"field\":\"y\"}},\"id\":\"7682\",\"type\":\"Scatter\"},{\"attributes\":{},\"id\":\"9630\",\"type\":\"Selection\"},{\"attributes\":{},\"id\":\"8263\",\"type\":\"BasicTickFormatter\"},{\"attributes\":{},\"id\":\"7701\",\"type\":\"BasicTicker\"},{\"attributes\":{\"align\":\"end\",\"below\":[{\"id\":\"7659\"}],\"center\":[{\"id\":\"7662\"},{\"id\":\"7666\"}],\"frame_height\":120,\"frame_width\":120,\"left\":[{\"id\":\"7663\"}],\"margin\":null,\"min_border_bottom\":3,\"min_border_left\":3,\"min_border_right\":3,\"min_border_top\":3,\"plot_height\":null,\"plot_width\":null,\"renderers\":[{\"id\":\"7685\"}],\"sizing_mode\":\"fixed\",\"title\":{\"id\":\"7651\"},\"toolbar\":{\"id\":\"7673\"},\"toolbar_location\":null,\"x_range\":{\"id\":\"7648\"},\"x_scale\":{\"id\":\"7655\"},\"y_range\":{\"id\":\"7649\"},\"y_scale\":{\"id\":\"7657\"}},\"id\":\"7650\",\"subtype\":\"Figure\",\"type\":\"Plot\"},{\"attributes\":{\"data_source\":{\"id\":\"9519\"},\"glyph\":{\"id\":\"7723\"},\"hover_glyph\":null,\"muted_glyph\":{\"id\":\"7725\"},\"nonselection_glyph\":{\"id\":\"7724\"},\"selection_glyph\":null,\"view\":{\"id\":\"7727\"}},\"id\":\"7726\",\"type\":\"GlyphRenderer\"},{\"attributes\":{\"source\":{\"id\":\"8253\"}},\"id\":\"8260\",\"type\":\"CDSView\"},{\"attributes\":{},\"id\":\"9629\",\"type\":\"UnionRenderers\"},{\"attributes\":{\"axis_label\":\"x\",\"bounds\":\"auto\",\"formatter\":{\"id\":\"8097\"},\"major_label_orientation\":\"horizontal\",\"ticker\":{\"id\":\"8070\"},\"visible\":false},\"id\":\"8069\",\"type\":\"LinearAxis\"},{\"attributes\":{\"source\":{\"id\":\"9520\"}},\"id\":\"7850\",\"type\":\"CDSView\"},{\"attributes\":{\"fill_alpha\":{\"value\":0.2},\"fill_color\":{\"value\":\"Grey\"},\"line_alpha\":{\"value\":0.2},\"line_color\":{\"value\":\"Grey\"},\"x\":{\"field\":\"x\"},\"y\":{\"field\":\"y\"}},\"id\":\"7684\",\"type\":\"Scatter\"},{\"attributes\":{\"axis\":{\"id\":\"8192\"},\"grid_line_color\":null,\"ticker\":null},\"id\":\"8195\",\"type\":\"Grid\"},{\"attributes\":{\"axis_label\":\"y\",\"bounds\":\"auto\",\"formatter\":{\"id\":\"7730\"},\"major_label_orientation\":\"horizontal\",\"ticker\":{\"id\":\"7705\"},\"visible\":false},\"id\":\"7704\",\"type\":\"LinearAxis\"},{\"attributes\":{\"bottom_units\":\"screen\",\"fill_alpha\":0.5,\"fill_color\":\"lightgrey\",\"left_units\":\"screen\",\"level\":\"overlay\",\"line_alpha\":1.0,\"line_color\":\"black\",\"line_dash\":[4,4],\"line_width\":2,\"render_mode\":\"css\",\"right_units\":\"screen\",\"top_units\":\"screen\"},\"id\":\"7836\",\"type\":\"BoxAnnotation\"},{\"attributes\":{\"source\":{\"id\":\"9519\"}},\"id\":\"7727\",\"type\":\"CDSView\"},{\"attributes\":{\"active_drag\":\"auto\",\"active_inspect\":\"auto\",\"active_multi\":null,\"active_scroll\":\"auto\",\"active_tap\":\"auto\",\"tools\":[{\"id\":\"8036\"},{\"id\":\"8037\"},{\"id\":\"8038\"},{\"id\":\"8039\"},{\"id\":\"8040\"}]},\"id\":\"8042\",\"type\":\"Toolbar\"},{\"attributes\":{\"text\":\"\",\"text_color\":{\"value\":\"black\"},\"text_font_size\":{\"value\":\"12pt\"}},\"id\":\"7692\",\"type\":\"Title\"},{\"attributes\":{\"source\":{\"id\":\"7679\"}},\"id\":\"7686\",\"type\":\"CDSView\"},{\"attributes\":{},\"id\":\"7705\",\"type\":\"BasicTicker\"},{\"attributes\":{},\"id\":\"7687\",\"type\":\"BasicTickFormatter\"},{\"attributes\":{\"axis\":{\"id\":\"8114\"},\"dimension\":1,\"grid_line_color\":null,\"ticker\":null},\"id\":\"8117\",\"type\":\"Grid\"},{\"attributes\":{\"source\":{\"id\":\"9520\"}},\"id\":\"7768\",\"type\":\"CDSView\"},{\"attributes\":{},\"id\":\"7876\",\"type\":\"ResetTool\"},{\"attributes\":{\"text\":\"\",\"text_color\":{\"value\":\"black\"},\"text_font_size\":{\"value\":\"12pt\"}},\"id\":\"8061\",\"type\":\"Title\"},{\"attributes\":{},\"id\":\"7778\",\"type\":\"LinearScale\"},{\"attributes\":{\"source\":{\"id\":\"9523\"}},\"id\":\"8137\",\"type\":\"CDSView\"},{\"attributes\":{\"axis_label\":\"x\",\"bounds\":\"auto\",\"formatter\":{\"id\":\"8138\"},\"major_label_orientation\":\"horizontal\",\"ticker\":{\"id\":\"8111\"},\"visible\":false},\"id\":\"8110\",\"type\":\"LinearAxis\"},{\"attributes\":{\"axis\":{\"id\":\"7786\"},\"dimension\":1,\"grid_line_color\":null,\"ticker\":null},\"id\":\"7789\",\"type\":\"Grid\"},{\"attributes\":{\"fill_alpha\":{\"value\":0.1},\"fill_color\":{\"value\":\"Grey\"},\"line_alpha\":{\"value\":0.1},\"line_color\":{\"value\":\"Grey\"},\"x\":{\"field\":\"x\"},\"y\":{\"field\":\"y\"}},\"id\":\"7765\",\"type\":\"Scatter\"},{\"attributes\":{\"align\":null,\"below\":[{\"id\":\"7864\"}],\"center\":[{\"id\":\"7867\"},{\"id\":\"7871\"}],\"frame_height\":120,\"frame_width\":120,\"left\":[{\"id\":\"7868\"}],\"margin\":null,\"min_border_bottom\":3,\"min_border_left\":3,\"min_border_right\":3,\"min_border_top\":3,\"plot_height\":null,\"plot_width\":null,\"renderers\":[{\"id\":\"7890\"}],\"sizing_mode\":\"fixed\",\"title\":{\"id\":\"7856\"},\"toolbar\":{\"id\":\"7878\"},\"toolbar_location\":null,\"x_range\":{\"id\":\"7648\"},\"x_scale\":{\"id\":\"7860\"},\"y_range\":{\"id\":\"7649\"},\"y_scale\":{\"id\":\"7862\"}},\"id\":\"7855\",\"subtype\":\"Figure\",\"type\":\"Plot\"},{\"attributes\":{\"axis_label\":\"x\",\"bounds\":\"auto\",\"formatter\":{\"id\":\"7810\"},\"major_label_orientation\":\"horizontal\",\"ticker\":{\"id\":\"7783\"},\"visible\":false},\"id\":\"7782\",\"type\":\"LinearAxis\"},{\"attributes\":{},\"id\":\"8410\",\"type\":\"CategoricalScale\"},{\"attributes\":{\"fill_color\":{\"value\":\"Grey\"},\"line_color\":{\"value\":\"Grey\"},\"x\":{\"field\":\"x\"},\"y\":{\"field\":\"y\"}},\"id\":\"7969\",\"type\":\"Scatter\"},{\"attributes\":{\"data_source\":{\"id\":\"9520\"},\"glyph\":{\"id\":\"7764\"},\"hover_glyph\":null,\"muted_glyph\":{\"id\":\"7766\"},\"nonselection_glyph\":{\"id\":\"7765\"},\"selection_glyph\":null,\"view\":{\"id\":\"7768\"}},\"id\":\"7767\",\"type\":\"GlyphRenderer\"},{\"attributes\":{\"text\":\"\",\"text_color\":{\"value\":\"black\"},\"text_font_size\":{\"value\":\"12pt\"}},\"id\":\"8102\",\"type\":\"Title\"},{\"attributes\":{},\"id\":\"7913\",\"type\":\"SaveTool\"},{\"attributes\":{},\"id\":\"7780\",\"type\":\"LinearScale\"},{\"attributes\":{},\"id\":\"8138\",\"type\":\"BasicTickFormatter\"},{\"attributes\":{\"align\":\"end\",\"below\":[{\"id\":\"7741\"}],\"center\":[{\"id\":\"7744\"},{\"id\":\"7748\"}],\"frame_height\":120,\"frame_width\":120,\"left\":[{\"id\":\"7745\"}],\"margin\":null,\"min_border_bottom\":3,\"min_border_left\":3,\"min_border_right\":3,\"min_border_top\":3,\"plot_height\":null,\"plot_width\":null,\"renderers\":[{\"id\":\"7767\"}],\"sizing_mode\":\"fixed\",\"title\":{\"id\":\"7733\"},\"toolbar\":{\"id\":\"7755\"},\"toolbar_location\":null,\"x_range\":{\"id\":\"7648\"},\"x_scale\":{\"id\":\"7737\"},\"y_range\":{\"id\":\"7649\"},\"y_scale\":{\"id\":\"7739\"}},\"id\":\"7732\",\"subtype\":\"Figure\",\"type\":\"Plot\"},{\"attributes\":{\"bottom_units\":\"screen\",\"fill_alpha\":0.5,\"fill_color\":\"lightgrey\",\"left_units\":\"screen\",\"level\":\"overlay\",\"line_alpha\":1.0,\"line_color\":\"black\",\"line_dash\":[4,4],\"line_width\":2,\"render_mode\":\"css\",\"right_units\":\"screen\",\"top_units\":\"screen\"},\"id\":\"7754\",\"type\":\"BoxAnnotation\"},{\"attributes\":{\"source\":{\"id\":\"9521\"}},\"id\":\"8096\",\"type\":\"CDSView\"},{\"attributes\":{},\"id\":\"8106\",\"type\":\"LinearScale\"},{\"attributes\":{\"axis\":{\"id\":\"7905\"},\"grid_line_color\":null,\"ticker\":null},\"id\":\"7908\",\"type\":\"Grid\"},{\"attributes\":{},\"id\":\"7783\",\"type\":\"BasicTicker\"},{\"attributes\":{},\"id\":\"8238\",\"type\":\"BasicTicker\"},{\"attributes\":{\"factors\":[\"0\",\"1\",\"2\",\"3\",\"4\"],\"js_property_callbacks\":{\"change:start\":[{\"id\":\"8406\"}]}},\"id\":\"8404\",\"type\":\"FactorRange\"},{\"attributes\":{\"fill_alpha\":{\"value\":0.2},\"fill_color\":{\"value\":\"Grey\"},\"line_alpha\":{\"value\":0.2},\"line_color\":{\"value\":\"Grey\"},\"x\":{\"field\":\"x\"},\"y\":{\"field\":\"y\"}},\"id\":\"8094\",\"type\":\"Scatter\"},{\"attributes\":{\"overlay\":{\"id\":\"7754\"}},\"id\":\"7752\",\"type\":\"BoxZoomTool\"},{\"attributes\":{\"axis\":{\"id\":\"8069\"},\"grid_line_color\":null,\"ticker\":null},\"id\":\"8072\",\"type\":\"Grid\"},{\"attributes\":{\"axis\":{\"id\":\"7782\"},\"grid_line_color\":null,\"ticker\":null},\"id\":\"7785\",\"type\":\"Grid\"},{\"attributes\":{},\"id\":\"8140\",\"type\":\"BasicTickFormatter\"},{\"attributes\":{},\"id\":\"8201\",\"type\":\"PanTool\"},{\"attributes\":{\"axis\":{\"id\":\"8073\"},\"dimension\":1,\"grid_line_color\":null,\"ticker\":null},\"id\":\"8076\",\"type\":\"Grid\"},{\"attributes\":{},\"id\":\"7787\",\"type\":\"BasicTicker\"},{\"attributes\":{},\"id\":\"8231\",\"type\":\"LinearScale\"},{\"attributes\":{\"overlay\":{\"id\":\"8041\"}},\"id\":\"8039\",\"type\":\"BoxZoomTool\"},{\"attributes\":{\"axis_label\":\"y\",\"bounds\":\"auto\",\"formatter\":{\"id\":\"7812\"},\"major_label_orientation\":\"horizontal\",\"ticker\":{\"id\":\"7787\"},\"visible\":false},\"id\":\"7786\",\"type\":\"LinearAxis\"},{\"attributes\":{},\"id\":\"8245\",\"type\":\"ResetTool\"},{\"attributes\":{},\"id\":\"8200\",\"type\":\"SaveTool\"},{\"attributes\":{},\"id\":\"7873\",\"type\":\"PanTool\"},{\"attributes\":{},\"id\":\"7831\",\"type\":\"SaveTool\"},{\"attributes\":{\"active_drag\":\"auto\",\"active_inspect\":\"auto\",\"active_multi\":null,\"active_scroll\":\"auto\",\"active_tap\":\"auto\",\"tools\":[{\"id\":\"7749\"},{\"id\":\"7750\"},{\"id\":\"7751\"},{\"id\":\"7752\"},{\"id\":\"7753\"}]},\"id\":\"7755\",\"type\":\"Toolbar\"},{\"attributes\":{\"align\":null,\"below\":[{\"id\":\"7946\"}],\"center\":[{\"id\":\"7949\"},{\"id\":\"7953\"}],\"frame_height\":120,\"frame_width\":120,\"left\":[{\"id\":\"7950\"}],\"margin\":null,\"min_border_bottom\":3,\"min_border_left\":3,\"min_border_right\":3,\"min_border_top\":3,\"plot_height\":null,\"plot_width\":null,\"renderers\":[{\"id\":\"7972\"}],\"sizing_mode\":\"fixed\",\"title\":{\"id\":\"7938\"},\"toolbar\":{\"id\":\"7960\"},\"toolbar_location\":null,\"x_range\":{\"id\":\"7648\"},\"x_scale\":{\"id\":\"7942\"},\"y_range\":{\"id\":\"7649\"},\"y_scale\":{\"id\":\"7944\"}},\"id\":\"7937\",\"subtype\":\"Figure\",\"type\":\"Plot\"},{\"attributes\":{},\"id\":\"7874\",\"type\":\"WheelZoomTool\"},{\"attributes\":{},\"id\":\"7832\",\"type\":\"PanTool\"},{\"attributes\":{\"fill_color\":{\"value\":\"Grey\"},\"line_color\":{\"value\":\"Grey\"},\"x\":{\"field\":\"x\"},\"y\":{\"field\":\"y\"}},\"id\":\"8256\",\"type\":\"Scatter\"},{\"attributes\":{\"fill_alpha\":{\"value\":0.1},\"fill_color\":{\"value\":\"Grey\"},\"line_alpha\":{\"value\":0.1},\"line_color\":{\"value\":\"Grey\"},\"x\":{\"field\":\"x\"},\"y\":{\"field\":\"y\"}},\"id\":\"7970\",\"type\":\"Scatter\"},{\"attributes\":{\"axis_label\":\"y\",\"bounds\":\"auto\",\"formatter\":{\"id\":\"7894\"},\"major_label_orientation\":\"horizontal\",\"ticker\":{\"id\":\"7869\"},\"visible\":false},\"id\":\"7868\",\"type\":\"LinearAxis\"},{\"attributes\":{\"data_source\":{\"id\":\"9520\"},\"glyph\":{\"id\":\"7928\"},\"hover_glyph\":null,\"muted_glyph\":{\"id\":\"7930\"},\"nonselection_glyph\":{\"id\":\"7929\"},\"selection_glyph\":null,\"view\":{\"id\":\"7932\"}},\"id\":\"7931\",\"type\":\"GlyphRenderer\"},{\"attributes\":{\"fill_color\":{\"value\":\"Grey\"},\"line_color\":{\"value\":\"Grey\"},\"x\":{\"field\":\"x\"},\"y\":{\"field\":\"y\"}},\"id\":\"8051\",\"type\":\"Scatter\"},{\"attributes\":{\"axis\":{\"id\":\"7909\"},\"dimension\":1,\"grid_line_color\":null,\"ticker\":null},\"id\":\"7912\",\"type\":\"Grid\"},{\"attributes\":{},\"id\":\"7668\",\"type\":\"PanTool\"},{\"attributes\":{\"align\":null,\"below\":[{\"id\":\"8069\"}],\"center\":[{\"id\":\"8072\"},{\"id\":\"8076\"}],\"frame_height\":120,\"frame_width\":120,\"left\":[{\"id\":\"8073\"}],\"margin\":null,\"min_border_bottom\":3,\"min_border_left\":3,\"min_border_right\":3,\"min_border_top\":3,\"plot_height\":null,\"plot_width\":null,\"renderers\":[{\"id\":\"8095\"}],\"sizing_mode\":\"fixed\",\"title\":{\"id\":\"8061\"},\"toolbar\":{\"id\":\"8083\"},\"toolbar_location\":null,\"x_range\":{\"id\":\"7648\"},\"x_scale\":{\"id\":\"8065\"},\"y_range\":{\"id\":\"7649\"},\"y_scale\":{\"id\":\"8067\"}},\"id\":\"8060\",\"subtype\":\"Figure\",\"type\":\"Plot\"},{\"attributes\":{\"axis_label\":\"y\",\"bounds\":\"auto\",\"formatter\":{\"id\":\"7853\"},\"major_label_orientation\":\"horizontal\",\"ticker\":{\"id\":\"7828\"},\"visible\":false},\"id\":\"7827\",\"type\":\"LinearAxis\"},{\"attributes\":{\"data_source\":{\"id\":\"9521\"},\"glyph\":{\"id\":\"8092\"},\"hover_glyph\":null,\"muted_glyph\":{\"id\":\"8094\"},\"nonselection_glyph\":{\"id\":\"8093\"},\"selection_glyph\":null,\"view\":{\"id\":\"8096\"}},\"id\":\"8095\",\"type\":\"GlyphRenderer\"},{\"attributes\":{},\"id\":\"7833\",\"type\":\"WheelZoomTool\"},{\"attributes\":{\"active_drag\":\"auto\",\"active_inspect\":\"auto\",\"active_multi\":null,\"active_scroll\":\"auto\",\"active_tap\":\"auto\",\"tools\":[{\"id\":\"7872\"},{\"id\":\"7873\"},{\"id\":\"7874\"},{\"id\":\"7875\"},{\"id\":\"7876\"}]},\"id\":\"7878\",\"type\":\"Toolbar\"},{\"attributes\":{},\"id\":\"7933\",\"type\":\"BasicTickFormatter\"},{\"attributes\":{\"margin\":[5,5,5,5],\"name\":\"HSpacer56655\",\"sizing_mode\":\"stretch_width\"},\"id\":\"9640\",\"type\":\"Spacer\"},{\"attributes\":{},\"id\":\"7790\",\"type\":\"SaveTool\"},{\"attributes\":{},\"id\":\"8067\",\"type\":\"LinearScale\"},{\"attributes\":{},\"id\":\"8254\",\"type\":\"Selection\"},{\"attributes\":{},\"id\":\"7862\",\"type\":\"LinearScale\"},{\"attributes\":{\"axis\":{\"id\":\"7868\"},\"dimension\":1,\"grid_line_color\":null,\"ticker\":null},\"id\":\"7871\",\"type\":\"Grid\"},{\"attributes\":{},\"id\":\"7791\",\"type\":\"PanTool\"},{\"attributes\":{},\"id\":\"7865\",\"type\":\"BasicTicker\"},{\"attributes\":{\"source\":{\"id\":\"9520\"}},\"id\":\"7932\",\"type\":\"CDSView\"},{\"attributes\":{\"axis\":{\"id\":\"8237\"},\"dimension\":1,\"grid_line_color\":null,\"ticker\":null},\"id\":\"8240\",\"type\":\"Grid\"},{\"attributes\":{},\"id\":\"7792\",\"type\":\"WheelZoomTool\"},{\"attributes\":{\"fill_alpha\":{\"value\":0.1},\"fill_color\":{\"value\":\"Grey\"},\"line_alpha\":{\"value\":0.1},\"line_color\":{\"value\":\"Grey\"},\"x\":{\"field\":\"x\"},\"y\":{\"field\":\"y\"}},\"id\":\"7929\",\"type\":\"Scatter\"},{\"attributes\":{\"source\":{\"id\":\"9521\"}},\"id\":\"8178\",\"type\":\"CDSView\"},{\"attributes\":{\"active_drag\":\"auto\",\"active_inspect\":\"auto\",\"active_multi\":null,\"active_scroll\":\"auto\",\"active_tap\":\"auto\",\"tools\":[{\"id\":\"7913\"},{\"id\":\"7914\"},{\"id\":\"7915\"},{\"id\":\"7916\"},{\"id\":\"7917\"}]},\"id\":\"7919\",\"type\":\"Toolbar\"},{\"attributes\":{},\"id\":\"8097\",\"type\":\"BasicTickFormatter\"},{\"attributes\":{\"overlay\":{\"id\":\"7795\"}},\"id\":\"7793\",\"type\":\"BoxZoomTool\"},{\"attributes\":{},\"id\":\"8412\",\"type\":\"LinearScale\"},{\"attributes\":{\"fill_color\":{\"value\":\"Grey\"},\"line_color\":{\"value\":\"Grey\"},\"x\":{\"field\":\"x\"},\"y\":{\"field\":\"y\"}},\"id\":\"7887\",\"type\":\"Scatter\"},{\"attributes\":{},\"id\":\"7671\",\"type\":\"ResetTool\"},{\"attributes\":{},\"id\":\"7794\",\"type\":\"ResetTool\"},{\"attributes\":{},\"id\":\"7753\",\"type\":\"ResetTool\"},{\"attributes\":{\"align\":null,\"below\":[{\"id\":\"8233\"}],\"center\":[{\"id\":\"8236\"},{\"id\":\"8240\"}],\"frame_height\":120,\"frame_width\":120,\"left\":[{\"id\":\"8237\"}],\"margin\":null,\"min_border_bottom\":3,\"min_border_left\":3,\"min_border_right\":3,\"min_border_top\":3,\"plot_height\":null,\"plot_width\":null,\"renderers\":[{\"id\":\"8259\"}],\"sizing_mode\":\"fixed\",\"title\":{\"id\":\"8225\"},\"toolbar\":{\"id\":\"8247\"},\"toolbar_location\":null,\"x_range\":{\"id\":\"7648\"},\"x_scale\":{\"id\":\"8229\"},\"y_range\":{\"id\":\"7649\"},\"y_scale\":{\"id\":\"8231\"}},\"id\":\"8224\",\"subtype\":\"Figure\",\"type\":\"Plot\"},{\"attributes\":{},\"id\":\"8099\",\"type\":\"BasicTickFormatter\"},{\"attributes\":{},\"id\":\"7751\",\"type\":\"WheelZoomTool\"},{\"attributes\":{},\"id\":\"8070\",\"type\":\"BasicTicker\"},{\"attributes\":{},\"id\":\"8058\",\"type\":\"BasicTickFormatter\"},{\"attributes\":{\"axis\":{\"id\":\"7663\"},\"dimension\":1,\"grid_line_color\":null,\"ticker\":null},\"id\":\"7666\",\"type\":\"Grid\"},{\"attributes\":{},\"id\":\"8108\",\"type\":\"LinearScale\"},{\"attributes\":{},\"id\":\"7935\",\"type\":\"BasicTickFormatter\"},{\"attributes\":{\"overlay\":{\"id\":\"7918\"}},\"id\":\"7916\",\"type\":\"BoxZoomTool\"},{\"attributes\":{},\"id\":\"7906\",\"type\":\"BasicTicker\"},{\"attributes\":{\"axis_label\":\"y\",\"bounds\":\"auto\",\"formatter\":{\"id\":\"7935\"},\"major_label_orientation\":\"horizontal\",\"ticker\":{\"id\":\"7910\"},\"visible\":false},\"id\":\"7909\",\"type\":\"LinearAxis\"},{\"attributes\":{\"align\":null,\"below\":[{\"id\":\"7905\"}],\"center\":[{\"id\":\"7908\"},{\"id\":\"7912\"}],\"frame_height\":120,\"frame_width\":120,\"left\":[{\"id\":\"7909\"}],\"margin\":null,\"min_border_bottom\":3,\"min_border_left\":3,\"min_border_right\":3,\"min_border_top\":3,\"plot_height\":null,\"plot_width\":null,\"renderers\":[{\"id\":\"7931\"}],\"sizing_mode\":\"fixed\",\"title\":{\"id\":\"7897\"},\"toolbar\":{\"id\":\"7919\"},\"toolbar_location\":null,\"x_range\":{\"id\":\"7648\"},\"x_scale\":{\"id\":\"7901\"},\"y_range\":{\"id\":\"7649\"},\"y_scale\":{\"id\":\"7903\"}},\"id\":\"7896\",\"subtype\":\"Figure\",\"type\":\"Plot\"},{\"attributes\":{},\"id\":\"8111\",\"type\":\"BasicTicker\"},{\"attributes\":{\"axis\":{\"id\":\"7864\"},\"grid_line_color\":null,\"ticker\":null},\"id\":\"7867\",\"type\":\"Grid\"},{\"attributes\":{\"axis\":{\"id\":\"8233\"},\"grid_line_color\":null,\"ticker\":null},\"id\":\"8236\",\"type\":\"Grid\"},{\"attributes\":{},\"id\":\"8037\",\"type\":\"PanTool\"},{\"attributes\":{\"fill_color\":{\"value\":\"Grey\"},\"line_color\":{\"value\":\"Grey\"},\"x\":{\"field\":\"x\"},\"y\":{\"field\":\"y\"}},\"id\":\"8092\",\"type\":\"Scatter\"},{\"attributes\":{},\"id\":\"7750\",\"type\":\"PanTool\"},{\"attributes\":{\"bottom_units\":\"screen\",\"fill_alpha\":0.5,\"fill_color\":\"lightgrey\",\"left_units\":\"screen\",\"level\":\"overlay\",\"line_alpha\":1.0,\"line_color\":\"black\",\"line_dash\":[4,4],\"line_width\":2,\"render_mode\":\"css\",\"right_units\":\"screen\",\"top_units\":\"screen\"},\"id\":\"7713\",\"type\":\"BoxAnnotation\"},{\"attributes\":{\"axis\":{\"id\":\"8110\"},\"grid_line_color\":null,\"ticker\":null},\"id\":\"8113\",\"type\":\"Grid\"},{\"attributes\":{},\"id\":\"8242\",\"type\":\"PanTool\"},{\"attributes\":{\"axis_label\":\"x\",\"bounds\":\"auto\",\"formatter\":{\"id\":\"7892\"},\"major_label_orientation\":\"horizontal\",\"ticker\":{\"id\":\"7865\"},\"visible\":false},\"id\":\"7864\",\"type\":\"LinearAxis\"},{\"attributes\":{},\"id\":\"8241\",\"type\":\"SaveTool\"},{\"attributes\":{\"fill_alpha\":{\"value\":0.2},\"fill_color\":{\"value\":\"Grey\"},\"line_alpha\":{\"value\":0.2},\"line_color\":{\"value\":\"Grey\"},\"x\":{\"field\":\"x\"},\"y\":{\"field\":\"y\"}},\"id\":\"7766\",\"type\":\"Scatter\"},{\"attributes\":{},\"id\":\"8115\",\"type\":\"BasicTicker\"},{\"attributes\":{\"fill_alpha\":{\"value\":0.2},\"fill_color\":{\"value\":\"Grey\"},\"line_alpha\":{\"value\":0.2},\"line_color\":{\"value\":\"Grey\"},\"x\":{\"field\":\"x\"},\"y\":{\"field\":\"y\"}},\"id\":\"7930\",\"type\":\"Scatter\"},{\"attributes\":{\"axis_label\":\"y\",\"bounds\":\"auto\",\"formatter\":{\"id\":\"8263\"},\"major_label_orientation\":\"horizontal\",\"ticker\":{\"id\":\"8238\"},\"visible\":false},\"id\":\"8237\",\"type\":\"LinearAxis\"},{\"attributes\":{},\"id\":\"7749\",\"type\":\"SaveTool\"},{\"attributes\":{\"axis_label\":\"y\",\"bounds\":\"auto\",\"formatter\":{\"id\":\"8140\"},\"major_label_orientation\":\"horizontal\",\"ticker\":{\"id\":\"8115\"},\"visible\":false},\"id\":\"8114\",\"type\":\"LinearAxis\"},{\"attributes\":{},\"id\":\"7910\",\"type\":\"BasicTicker\"},{\"attributes\":{},\"id\":\"7728\",\"type\":\"BasicTickFormatter\"},{\"attributes\":{\"axis_label\":\"x\",\"bounds\":\"auto\",\"formatter\":{\"id\":\"7851\"},\"major_label_orientation\":\"horizontal\",\"ticker\":{\"id\":\"7824\"},\"visible\":false},\"id\":\"7823\",\"type\":\"LinearAxis\"},{\"attributes\":{},\"id\":\"7915\",\"type\":\"WheelZoomTool\"},{\"attributes\":{\"fill_alpha\":{\"value\":0.2},\"fill_color\":{\"value\":\"Grey\"},\"line_alpha\":{\"value\":0.2},\"line_color\":{\"value\":\"Grey\"},\"x\":{\"field\":\"x\"},\"y\":{\"field\":\"y\"}},\"id\":\"8135\",\"type\":\"Scatter\"},{\"attributes\":{},\"id\":\"8181\",\"type\":\"BasicTickFormatter\"},{\"attributes\":{},\"id\":\"8405\",\"type\":\"Range1d\"},{\"attributes\":{},\"id\":\"7819\",\"type\":\"LinearScale\"},{\"attributes\":{},\"id\":\"7914\",\"type\":\"PanTool\"},{\"attributes\":{\"data_source\":{\"id\":\"9521\"},\"glyph\":{\"id\":\"8174\"},\"hover_glyph\":null,\"muted_glyph\":{\"id\":\"8176\"},\"nonselection_glyph\":{\"id\":\"8175\"},\"selection_glyph\":null,\"view\":{\"id\":\"8178\"}},\"id\":\"8177\",\"type\":\"GlyphRenderer\"},{\"attributes\":{\"fill_alpha\":{\"value\":0.1},\"fill_color\":{\"value\":\"Grey\"},\"line_alpha\":{\"value\":0.1},\"line_color\":{\"value\":\"Grey\"},\"x\":{\"field\":\"x\"},\"y\":{\"field\":\"y\"}},\"id\":\"7888\",\"type\":\"Scatter\"},{\"attributes\":{\"fill_alpha\":{\"value\":0.1},\"fill_color\":{\"value\":\"Grey\"},\"line_alpha\":{\"value\":0.1},\"line_color\":{\"value\":\"Grey\"},\"x\":{\"field\":\"x\"},\"y\":{\"field\":\"y\"}},\"id\":\"8134\",\"type\":\"Scatter\"},{\"attributes\":{\"fill_color\":{\"value\":\"Grey\"},\"line_color\":{\"value\":\"Grey\"},\"x\":{\"field\":\"x\"},\"y\":{\"field\":\"y\"}},\"id\":\"7928\",\"type\":\"Scatter\"},{\"attributes\":{},\"id\":\"8243\",\"type\":\"WheelZoomTool\"},{\"attributes\":{\"data_source\":{\"id\":\"9523\"},\"glyph\":{\"id\":\"8133\"},\"hover_glyph\":null,\"muted_glyph\":{\"id\":\"8135\"},\"nonselection_glyph\":{\"id\":\"8134\"},\"selection_glyph\":null,\"view\":{\"id\":\"8137\"}},\"id\":\"8136\",\"type\":\"GlyphRenderer\"},{\"attributes\":{\"data\":{\"x\":{\"__ndarray__\":\"\",\"dtype\":\"float64\",\"shape\":[0]},\"y\":{\"__ndarray__\":\"\",\"dtype\":\"float64\",\"shape\":[0]}},\"selected\":{\"id\":\"7680\"},\"selection_policy\":{\"id\":\"8361\"}},\"id\":\"7679\",\"type\":\"ColumnDataSource\"},{\"attributes\":{\"fill_alpha\":{\"value\":0.2},\"fill_color\":{\"value\":\"Grey\"},\"line_alpha\":{\"value\":0.2},\"line_color\":{\"value\":\"Grey\"},\"x\":{\"field\":\"x\"},\"y\":{\"field\":\"y\"}},\"id\":\"7725\",\"type\":\"Scatter\"},{\"attributes\":{\"axis_label\":\"y\",\"bounds\":\"auto\",\"formatter\":{\"id\":\"8099\"},\"major_label_orientation\":\"horizontal\",\"ticker\":{\"id\":\"8074\"},\"visible\":false},\"id\":\"8073\",\"type\":\"LinearAxis\"},{\"attributes\":{\"fill_color\":{\"value\":\"Grey\"},\"line_color\":{\"value\":\"Grey\"},\"x\":{\"field\":\"x\"},\"y\":{\"field\":\"y\"}},\"id\":\"7764\",\"type\":\"Scatter\"},{\"attributes\":{},\"id\":\"8179\",\"type\":\"BasicTickFormatter\"},{\"attributes\":{\"axis_label\":\"x\",\"bounds\":\"auto\",\"formatter\":{\"id\":\"7933\"},\"major_label_orientation\":\"horizontal\",\"ticker\":{\"id\":\"7906\"},\"visible\":false},\"id\":\"7905\",\"type\":\"LinearAxis\"},{\"attributes\":{},\"id\":\"8118\",\"type\":\"SaveTool\"},{\"attributes\":{\"active_drag\":\"auto\",\"active_inspect\":\"auto\",\"active_multi\":null,\"active_scroll\":\"auto\",\"active_tap\":\"auto\",\"tools\":[{\"id\":\"7790\"},{\"id\":\"7791\"},{\"id\":\"7792\"},{\"id\":\"7793\"},{\"id\":\"7794\"}]},\"id\":\"7796\",\"type\":\"Toolbar\"},{\"attributes\":{},\"id\":\"9626\",\"type\":\"Selection\"},{\"attributes\":{},\"id\":\"8036\",\"type\":\"SaveTool\"},{\"attributes\":{},\"id\":\"8038\",\"type\":\"WheelZoomTool\"},{\"attributes\":{},\"id\":\"7872\",\"type\":\"SaveTool\"},{\"attributes\":{},\"id\":\"8119\",\"type\":\"PanTool\"},{\"attributes\":{\"bottom_units\":\"screen\",\"fill_alpha\":0.5,\"fill_color\":\"lightgrey\",\"left_units\":\"screen\",\"level\":\"overlay\",\"line_alpha\":1.0,\"line_color\":\"black\",\"line_dash\":[4,4],\"line_width\":2,\"render_mode\":\"css\",\"right_units\":\"screen\",\"top_units\":\"screen\"},\"id\":\"7795\",\"type\":\"BoxAnnotation\"},{\"attributes\":{\"bottom_units\":\"screen\",\"fill_alpha\":0.5,\"fill_color\":\"lightgrey\",\"left_units\":\"screen\",\"level\":\"overlay\",\"line_alpha\":1.0,\"line_color\":\"black\",\"line_dash\":[4,4],\"line_width\":2,\"render_mode\":\"css\",\"right_units\":\"screen\",\"top_units\":\"screen\"},\"id\":\"7918\",\"type\":\"BoxAnnotation\"},{\"attributes\":{},\"id\":\"8234\",\"type\":\"BasicTicker\"},{\"attributes\":{\"fill_alpha\":{\"value\":0.2},\"fill_color\":{\"value\":\"Grey\"},\"line_alpha\":{\"value\":0.2},\"line_color\":{\"value\":\"Grey\"},\"x\":{\"field\":\"x\"},\"y\":{\"field\":\"y\"}},\"id\":\"7971\",\"type\":\"Scatter\"},{\"attributes\":{},\"id\":\"8120\",\"type\":\"WheelZoomTool\"},{\"attributes\":{},\"id\":\"7869\",\"type\":\"BasicTicker\"},{\"attributes\":{},\"id\":\"7824\",\"type\":\"BasicTicker\"},{\"attributes\":{\"data_source\":{\"id\":\"9522\"},\"glyph\":{\"id\":\"7969\"},\"hover_glyph\":null,\"muted_glyph\":{\"id\":\"7971\"},\"nonselection_glyph\":{\"id\":\"7970\"},\"selection_glyph\":null,\"view\":{\"id\":\"7973\"}},\"id\":\"7972\",\"type\":\"GlyphRenderer\"},{\"attributes\":{},\"id\":\"8040\",\"type\":\"ResetTool\"},{\"attributes\":{\"active_drag\":\"auto\",\"active_inspect\":\"auto\",\"active_multi\":null,\"active_scroll\":\"auto\",\"active_tap\":\"auto\",\"tools\":[{\"id\":\"8118\"},{\"id\":\"8119\"},{\"id\":\"8120\"},{\"id\":\"8121\"},{\"id\":\"8122\"}]},\"id\":\"8124\",\"type\":\"Toolbar\"},{\"attributes\":{\"active_drag\":\"auto\",\"active_inspect\":\"auto\",\"active_multi\":null,\"active_scroll\":\"auto\",\"active_tap\":\"auto\",\"tools\":[{\"id\":\"7831\"},{\"id\":\"7832\"},{\"id\":\"7833\"},{\"id\":\"7834\"},{\"id\":\"7835\"}]},\"id\":\"7837\",\"type\":\"Toolbar\"},{\"attributes\":{\"overlay\":{\"id\":\"8123\"}},\"id\":\"8121\",\"type\":\"BoxZoomTool\"},{\"attributes\":{},\"id\":\"7974\",\"type\":\"BasicTickFormatter\"},{\"attributes\":{\"overlay\":{\"id\":\"7672\"}},\"id\":\"7670\",\"type\":\"BoxZoomTool\"},{\"attributes\":{\"fill_alpha\":{\"value\":0.1},\"fill_color\":{\"value\":\"Grey\"},\"line_alpha\":{\"value\":0.1},\"line_color\":{\"value\":\"Grey\"},\"x\":{\"field\":\"x\"},\"y\":{\"field\":\"y\"}},\"id\":\"8257\",\"type\":\"Scatter\"},{\"attributes\":{\"text\":\"\",\"text_color\":{\"value\":\"black\"},\"text_font_size\":{\"value\":\"12pt\"}},\"id\":\"7856\",\"type\":\"Title\"},{\"attributes\":{},\"id\":\"7669\",\"type\":\"WheelZoomTool\"},{\"attributes\":{\"axis_label\":\"x\",\"bounds\":\"auto\",\"formatter\":{\"id\":\"8261\"},\"major_label_orientation\":\"horizontal\",\"ticker\":{\"id\":\"8234\"},\"visible\":false},\"id\":\"8233\",\"type\":\"LinearAxis\"},{\"attributes\":{},\"id\":\"7655\",\"type\":\"LinearScale\"},{\"attributes\":{},\"id\":\"8122\",\"type\":\"ResetTool\"},{\"attributes\":{},\"id\":\"7917\",\"type\":\"ResetTool\"},{\"attributes\":{},\"id\":\"7828\",\"type\":\"BasicTicker\"},{\"attributes\":{},\"id\":\"7976\",\"type\":\"BasicTickFormatter\"},{\"attributes\":{\"axis\":{\"id\":\"7827\"},\"dimension\":1,\"grid_line_color\":null,\"ticker\":null},\"id\":\"7830\",\"type\":\"Grid\"},{\"attributes\":{},\"id\":\"7771\",\"type\":\"BasicTickFormatter\"},{\"attributes\":{},\"id\":\"7667\",\"type\":\"SaveTool\"},{\"attributes\":{\"active_drag\":\"auto\",\"active_inspect\":\"auto\",\"active_multi\":null,\"active_scroll\":\"auto\",\"active_tap\":\"auto\",\"tools\":[{\"id\":\"7667\"},{\"id\":\"7668\"},{\"id\":\"7669\"},{\"id\":\"7670\"},{\"id\":\"7671\"}]},\"id\":\"7673\",\"type\":\"Toolbar\"},{\"attributes\":{\"overlay\":{\"id\":\"7877\"}},\"id\":\"7875\",\"type\":\"BoxZoomTool\"},{\"attributes\":{},\"id\":\"7821\",\"type\":\"LinearScale\"},{\"attributes\":{\"fill_color\":{\"value\":\"Grey\"},\"line_color\":{\"value\":\"Grey\"},\"x\":{\"field\":\"x\"},\"y\":{\"field\":\"y\"}},\"id\":\"8133\",\"type\":\"Scatter\"},{\"attributes\":{\"source\":{\"id\":\"9522\"}},\"id\":\"7973\",\"type\":\"CDSView\"},{\"attributes\":{\"axis\":{\"id\":\"7823\"},\"grid_line_color\":null,\"ticker\":null},\"id\":\"7826\",\"type\":\"Grid\"},{\"attributes\":{},\"id\":\"8065\",\"type\":\"LinearScale\"},{\"attributes\":{},\"id\":\"7769\",\"type\":\"BasicTickFormatter\"},{\"attributes\":{\"active_drag\":\"auto\",\"active_inspect\":\"auto\",\"active_multi\":null,\"active_scroll\":\"auto\",\"active_tap\":\"auto\",\"tools\":[{\"id\":\"8241\"},{\"id\":\"8242\"},{\"id\":\"8243\"},{\"id\":\"8244\"},{\"id\":\"8245\"}]},\"id\":\"8247\",\"type\":\"Toolbar\"},{\"attributes\":{\"overlay\":{\"id\":\"8246\"}},\"id\":\"8244\",\"type\":\"BoxZoomTool\"},{\"attributes\":{},\"id\":\"7956\",\"type\":\"WheelZoomTool\"},{\"attributes\":{\"axis\":{\"id\":\"8417\"},\"dimension\":1,\"grid_line_alpha\":0,\"ticker\":null},\"id\":\"8420\",\"type\":\"Grid\"},{\"attributes\":{\"active_drag\":\"auto\",\"active_inspect\":\"auto\",\"active_multi\":null,\"active_scroll\":\"auto\",\"active_tap\":\"auto\",\"tools\":[{\"id\":\"7954\"},{\"id\":\"7955\"},{\"id\":\"7956\"},{\"id\":\"7957\"},{\"id\":\"7958\"}]},\"id\":\"7960\",\"type\":\"Toolbar\"},{\"attributes\":{\"axis_label\":\"x\",\"bounds\":\"auto\",\"formatter\":{\"id\":\"7769\"},\"major_label_orientation\":\"horizontal\",\"ticker\":{\"id\":\"7742\"},\"visible\":false},\"id\":\"7741\",\"type\":\"LinearAxis\"},{\"attributes\":{\"overlay\":{\"id\":\"7959\"}},\"id\":\"7957\",\"type\":\"BoxZoomTool\"},{\"attributes\":{},\"id\":\"7954\",\"type\":\"SaveTool\"},{\"attributes\":{\"bottom_units\":\"screen\",\"fill_alpha\":0.5,\"fill_color\":\"lightgrey\",\"left_units\":\"screen\",\"level\":\"overlay\",\"line_alpha\":1.0,\"line_color\":\"black\",\"line_dash\":[4,4],\"line_width\":2,\"render_mode\":\"css\",\"right_units\":\"screen\",\"top_units\":\"screen\"},\"id\":\"8041\",\"type\":\"BoxAnnotation\"},{\"attributes\":{},\"id\":\"7955\",\"type\":\"PanTool\"},{\"attributes\":{},\"id\":\"7742\",\"type\":\"BasicTicker\"},{\"attributes\":{\"axis\":{\"id\":\"7704\"},\"dimension\":1,\"grid_line_color\":null,\"ticker\":null},\"id\":\"7707\",\"type\":\"Grid\"},{\"attributes\":{\"bottom_units\":\"screen\",\"fill_alpha\":0.5,\"fill_color\":\"lightgrey\",\"left_units\":\"screen\",\"level\":\"overlay\",\"line_alpha\":1.0,\"line_color\":\"black\",\"line_dash\":[4,4],\"line_width\":2,\"render_mode\":\"css\",\"right_units\":\"screen\",\"top_units\":\"screen\"},\"id\":\"8205\",\"type\":\"BoxAnnotation\"},{\"attributes\":{\"fill_alpha\":{\"value\":0.2},\"fill_color\":{\"value\":\"Grey\"},\"line_alpha\":{\"value\":0.2},\"line_color\":{\"value\":\"Grey\"},\"x\":{\"field\":\"x\"},\"y\":{\"field\":\"y\"}},\"id\":\"8217\",\"type\":\"Scatter\"},{\"attributes\":{},\"id\":\"7835\",\"type\":\"ResetTool\"},{\"attributes\":{\"axis\":{\"id\":\"7946\"},\"grid_line_color\":null,\"ticker\":null},\"id\":\"7949\",\"type\":\"Grid\"},{\"attributes\":{\"fill_color\":{\"value\":\"Grey\"},\"line_color\":{\"value\":\"Grey\"},\"x\":{\"field\":\"x\"},\"y\":{\"field\":\"y\"}},\"id\":\"7846\",\"type\":\"Scatter\"},{\"attributes\":{},\"id\":\"7951\",\"type\":\"BasicTicker\"},{\"attributes\":{\"axis\":{\"id\":\"7950\"},\"dimension\":1,\"grid_line_color\":null,\"ticker\":null},\"id\":\"7953\",\"type\":\"Grid\"},{\"attributes\":{\"axis_label\":\"y\",\"bounds\":\"auto\",\"formatter\":{\"id\":\"7976\"},\"major_label_orientation\":\"horizontal\",\"ticker\":{\"id\":\"7951\"},\"visible\":false},\"id\":\"7950\",\"type\":\"LinearAxis\"},{\"attributes\":{},\"id\":\"8017\",\"type\":\"BasicTickFormatter\"},{\"attributes\":{\"align\":null,\"below\":[{\"id\":\"7823\"}],\"center\":[{\"id\":\"7826\"},{\"id\":\"7830\"}],\"frame_height\":120,\"frame_width\":120,\"left\":[{\"id\":\"7827\"}],\"margin\":null,\"min_border_bottom\":3,\"min_border_left\":3,\"min_border_right\":3,\"min_border_top\":3,\"plot_height\":null,\"plot_width\":null,\"renderers\":[{\"id\":\"7849\"}],\"sizing_mode\":\"fixed\",\"title\":{\"id\":\"7815\"},\"toolbar\":{\"id\":\"7837\"},\"toolbar_location\":null,\"x_range\":{\"id\":\"7648\"},\"x_scale\":{\"id\":\"7819\"},\"y_range\":{\"id\":\"7649\"},\"y_scale\":{\"id\":\"7821\"}},\"id\":\"7814\",\"subtype\":\"Figure\",\"type\":\"Plot\"},{\"attributes\":{\"data_source\":{\"id\":\"9523\"},\"glyph\":{\"id\":\"8215\"},\"hover_glyph\":null,\"muted_glyph\":{\"id\":\"8217\"},\"nonselection_glyph\":{\"id\":\"8216\"},\"selection_glyph\":null,\"view\":{\"id\":\"8219\"}},\"id\":\"8218\",\"type\":\"GlyphRenderer\"},{\"attributes\":{\"source\":{\"id\":\"9521\"}},\"id\":\"8014\",\"type\":\"CDSView\"},{\"attributes\":{\"fill_alpha\":{\"value\":0.2},\"fill_color\":{\"value\":\"Grey\"},\"line_alpha\":{\"value\":0.2},\"line_color\":{\"value\":\"Grey\"},\"x\":{\"field\":\"x\"},\"y\":{\"field\":\"y\"}},\"id\":\"8053\",\"type\":\"Scatter\"},{\"attributes\":{\"data\":{\"x\":{\"__ndarray__\":\"\",\"dtype\":\"float64\",\"shape\":[0]},\"y\":{\"__ndarray__\":\"\",\"dtype\":\"float64\",\"shape\":[0]}},\"selected\":{\"id\":\"9632\"},\"selection_policy\":{\"id\":\"9633\"}},\"id\":\"9523\",\"type\":\"ColumnDataSource\"},{\"attributes\":{},\"id\":\"8220\",\"type\":\"BasicTickFormatter\"},{\"attributes\":{\"formatter\":{\"id\":\"8585\"},\"ticker\":{\"id\":\"8418\"},\"visible\":false},\"id\":\"8417\",\"type\":\"LinearAxis\"},{\"attributes\":{\"text\":\"\",\"text_color\":{\"value\":\"black\"},\"text_font_size\":{\"value\":\"12pt\"}},\"id\":\"7815\",\"type\":\"Title\"},{\"attributes\":{},\"id\":\"8015\",\"type\":\"BasicTickFormatter\"},{\"attributes\":{},\"id\":\"7944\",\"type\":\"LinearScale\"},{\"attributes\":{\"text\":\"\",\"text_color\":{\"value\":\"black\"},\"text_font_size\":{\"value\":\"12pt\"}},\"id\":\"7938\",\"type\":\"Title\"},{\"attributes\":{\"active_drag\":\"auto\",\"active_inspect\":\"auto\",\"active_multi\":null,\"active_scroll\":\"auto\",\"active_tap\":\"auto\"},\"id\":\"8421\",\"type\":\"Toolbar\"},{\"attributes\":{\"overlay\":{\"id\":\"7836\"}},\"id\":\"7834\",\"type\":\"BoxZoomTool\"},{\"attributes\":{},\"id\":\"8418\",\"type\":\"BasicTicker\"},{\"attributes\":{\"fill_alpha\":{\"value\":0.1},\"fill_color\":{\"value\":\"Grey\"},\"line_alpha\":{\"value\":0.1},\"line_color\":{\"value\":\"Grey\"},\"x\":{\"field\":\"x\"},\"y\":{\"field\":\"y\"}},\"id\":\"7683\",\"type\":\"Scatter\"},{\"attributes\":{},\"id\":\"7746\",\"type\":\"BasicTicker\"},{\"attributes\":{},\"id\":\"7657\",\"type\":\"LinearScale\"},{\"attributes\":{},\"id\":\"7947\",\"type\":\"BasicTicker\"},{\"attributes\":{},\"id\":\"7739\",\"type\":\"LinearScale\"},{\"attributes\":{\"text\":\"\",\"text_color\":{\"value\":\"black\"},\"text_font_size\":{\"value\":\"12pt\"}},\"id\":\"7733\",\"type\":\"Title\"},{\"attributes\":{\"axis_label\":\"x\",\"bounds\":\"auto\",\"formatter\":{\"id\":\"7974\"},\"major_label_orientation\":\"horizontal\",\"ticker\":{\"id\":\"7947\"},\"visible\":false},\"id\":\"7946\",\"type\":\"LinearAxis\"},{\"attributes\":{},\"id\":\"7942\",\"type\":\"LinearScale\"},{\"attributes\":{\"axis_label\":\"y\",\"bounds\":\"auto\",\"formatter\":{\"id\":\"7771\"},\"major_label_orientation\":\"horizontal\",\"ticker\":{\"id\":\"7746\"},\"visible\":false},\"id\":\"7745\",\"type\":\"LinearAxis\"},{\"attributes\":{},\"id\":\"8307\",\"type\":\"UnionRenderers\"},{\"attributes\":{\"data_source\":{\"id\":\"9521\"},\"glyph\":{\"id\":\"8010\"},\"hover_glyph\":null,\"muted_glyph\":{\"id\":\"8012\"},\"nonselection_glyph\":{\"id\":\"8011\"},\"selection_glyph\":null,\"view\":{\"id\":\"8014\"}},\"id\":\"8013\",\"type\":\"GlyphRenderer\"},{\"attributes\":{},\"id\":\"7737\",\"type\":\"LinearScale\"},{\"attributes\":{\"axis_label\":\"x\",\"bounds\":\"auto\",\"formatter\":{\"id\":\"7687\"},\"major_label_orientation\":\"horizontal\",\"ticker\":{\"id\":\"7660\"},\"visible\":false},\"id\":\"7659\",\"type\":\"LinearAxis\"},{\"attributes\":{\"style\":{\"white-space\":\"nowrap\"},\"text\":\"<span style=\\\"color:black;font-family:Arial;font-style:bold;font-weight:bold;font-size:16pt\\\">Games</span>\",\"width\":450},\"id\":\"8593\",\"type\":\"Div\"},{\"attributes\":{},\"id\":\"8361\",\"type\":\"UnionRenderers\"},{\"attributes\":{},\"id\":\"7664\",\"type\":\"BasicTicker\"},{\"attributes\":{\"axis\":{\"id\":\"7741\"},\"grid_line_color\":null,\"ticker\":null},\"id\":\"7744\",\"type\":\"Grid\"},{\"attributes\":{},\"id\":\"8222\",\"type\":\"BasicTickFormatter\"},{\"attributes\":{},\"id\":\"7958\",\"type\":\"ResetTool\"},{\"attributes\":{\"data\":{\"x\":{\"__ndarray__\":\"\",\"dtype\":\"float64\",\"shape\":[0]},\"y\":{\"__ndarray__\":\"\",\"dtype\":\"float64\",\"shape\":[0]}},\"selected\":{\"id\":\"9628\"},\"selection_policy\":{\"id\":\"9629\"}},\"id\":\"9522\",\"type\":\"ColumnDataSource\"},{\"attributes\":{\"children\":[{\"id\":\"8593\"},{\"id\":\"8592\"}]},\"id\":\"8594\",\"type\":\"Column\"},{\"attributes\":{\"source\":{\"id\":\"9523\"}},\"id\":\"8219\",\"type\":\"CDSView\"},{\"attributes\":{\"axis\":{\"id\":\"7745\"},\"dimension\":1,\"grid_line_color\":null,\"ticker\":null},\"id\":\"7748\",\"type\":\"Grid\"},{\"attributes\":{\"data\":{\"x\":{\"__ndarray__\":\"\",\"dtype\":\"float64\",\"shape\":[0]},\"y\":{\"__ndarray__\":\"\",\"dtype\":\"float64\",\"shape\":[0]}},\"selected\":{\"id\":\"9626\"},\"selection_policy\":{\"id\":\"9627\"}},\"id\":\"9520\",\"type\":\"ColumnDataSource\"},{\"attributes\":{},\"id\":\"8074\",\"type\":\"BasicTicker\"},{\"attributes\":{\"data\":{\"x\":{\"__ndarray__\":\"\",\"dtype\":\"float64\",\"shape\":[0]},\"y\":{\"__ndarray__\":\"\",\"dtype\":\"float64\",\"shape\":[0]}},\"selected\":{\"id\":\"9636\"},\"selection_policy\":{\"id\":\"9637\"}},\"id\":\"9519\",\"type\":\"ColumnDataSource\"},{\"attributes\":{\"bottom_units\":\"screen\",\"fill_alpha\":0.5,\"fill_color\":\"lightgrey\",\"left_units\":\"screen\",\"level\":\"overlay\",\"line_alpha\":1.0,\"line_color\":\"black\",\"line_dash\":[4,4],\"line_width\":2,\"render_mode\":\"css\",\"right_units\":\"screen\",\"top_units\":\"screen\"},\"id\":\"7672\",\"type\":\"BoxAnnotation\"}],\"root_ids\":[\"7646\",\"9989\"]},\"title\":\"Bokeh Application\",\"version\":\"2.0.1\"}};\n",
       "  var render_items = [{\"docid\":\"24194057-ec2b-4283-b2bb-05c820b46d2b\",\"root_ids\":[\"7646\"],\"roots\":{\"7646\":\"9ad20c47-f902-41da-8a8c-60f677c8b334\"}}];\n",
       "  root.Bokeh.embed.embed_items_notebook(docs_json, render_items);\n",
       "  }\n",
       "if (root.Bokeh !== undefined) {\n",
       "    embed_document(root);\n",
       "  } else {\n",
       "    var attempts = 0;\n",
       "    var timer = setInterval(function(root) {\n",
       "      if (root.Bokeh !== undefined) {\n",
       "        clearInterval(timer);\n",
       "        embed_document(root);\n",
       "      } else if (document.readyState == \"complete\") {\n",
       "        attempts++;\n",
       "        if (attempts > 100) {\n",
       "          clearInterval(timer);\n",
       "          console.log(\"Bokeh: ERROR: Unable to run BokehJS code because BokehJS library is missing\");\n",
       "        }\n",
       "      }\n",
       "    }, 10, root)\n",
       "  }\n",
       "})(window);</script>"
      ],
      "text/plain": [
       ":GridSpace   [i,j]\n",
       "   :DynamicMap   []\n",
       "      :Points   [x,y]"
      ]
     },
     "execution_count": 20,
     "metadata": {
      "application/vnd.holoviews_exec.v0+json": {
       "id": "7646"
      }
     },
     "output_type": "execute_result"
    }
   ],
   "source": [
    "ray_gridspace, ray_graphs = new_game_of_life_grid(small_game_size, plot_size, x_grid, y_grid, shrink_factor)\n",
    "ray_gridspace"
   ]
  },
  {
   "cell_type": "code",
   "execution_count": null,
   "metadata": {},
   "outputs": [
    {
     "name": "stderr",
     "output_type": "stream",
     "text": [
      "2020-04-23 12:33:30,164\tWARNING worker.py:1072 -- A worker died or was killed while executing task ffffffffffffffffd7e9a6920100.\n"
     ]
    },
    {
     "name": "stdout",
     "output_type": "stream",
     "text": [
      "\u001b[2m\u001b[36m(pid=44126)\u001b[0m *** Aborted at 1587670410 (unix time) try \"date -d @1587670410\" if you are using GNU date ***\n",
      "\u001b[2m\u001b[36m(pid=44126)\u001b[0m PC: @                0x0 (unknown)\n",
      "\u001b[2m\u001b[36m(pid=44126)\u001b[0m *** SIGSEGV (@0x80) received by PID 44126 (TID 0x700007848000) stack trace: ***\n",
      "\u001b[2m\u001b[36m(pid=44126)\u001b[0m     @     0x7fff67a9442d _sigtramp\n",
      "\u001b[2m\u001b[36m(pid=44126)\u001b[0m     @                0x0 (unknown)\n",
      "\u001b[2m\u001b[36m(pid=44126)\u001b[0m     @        0x10909a819 ray::TaskManager::NumPendingTasks()\n",
      "\u001b[2m\u001b[36m(pid=44126)\u001b[0m     @        0x109035b06 ray::CoreWorker::HandleGetCoreWorkerStats()\n",
      "\u001b[2m\u001b[36m(pid=44126)\u001b[0m     @        0x1090516a2 ray::rpc::ServerCallImpl<>::HandleRequestImpl()\n",
      "\u001b[2m\u001b[36m(pid=44126)\u001b[0m     @        0x1090515e4 _ZN5boost4asio6detail18completion_handlerIZN3ray3rpc14ServerCallImplINS4_24CoreWorkerServiceHandlerENS4_25GetCoreWorkerStatsRequestENS4_23GetCoreWorkerStatsReplyEE13HandleRequestEvEUlvE_E11do_completeEPvPNS1_19scheduler_operationERKNS_6system10error_codeEm\n",
      "\u001b[2m\u001b[36m(pid=44126)\u001b[0m     @        0x109607ea3 boost::asio::detail::scheduler::do_run_one()\n",
      "\u001b[2m\u001b[36m(pid=44126)\u001b[0m     @        0x1095fbce2 boost::asio::detail::scheduler::run()\n",
      "\u001b[2m\u001b[36m(pid=44126)\u001b[0m     @        0x1095fbb7b boost::asio::io_context::run()\n",
      "\u001b[2m\u001b[36m(pid=44126)\u001b[0m     @        0x10902824f ray::CoreWorker::RunIOService()\n",
      "\u001b[2m\u001b[36m(pid=44126)\u001b[0m     @        0x10906c29e std::__1::__thread_proxy<>()\n",
      "\u001b[2m\u001b[36m(pid=44126)\u001b[0m     @     0x7fff67a9fe65 _pthread_start\n",
      "\u001b[2m\u001b[36m(pid=44126)\u001b[0m     @     0x7fff67a9b83b thread_start\n",
      "\u001b[2m\u001b[33m(pid=raylet)\u001b[0m E0423 12:33:30.160630 399236544 node_manager.cc:3368] Failed to send get core worker stats request: IOError: 14: Socket closed\n"
     ]
    }
   ],
   "source": [
    "%time do_ray_trial(ray_graphs, num_games=x_grid*y_grid, steps=steps, batch_size=1, game_size_for_each=small_game_size, pause_between_batches=0.1)"
   ]
  },
  {
   "cell_type": "markdown",
   "metadata": {},
   "source": [
    "How did your times compare? On a MacBook Pro 13\", late 2019 model, this run took roughly 19 seconds vs. 21 seconds for the previous run without Ray, which isn't a huge improvement. \n",
    "\n",
    "In fact, updating the graphs causes enough overhead to remove most of the speed advantage of using Ray. However, it's much nicer having smoother graph updates (at least after a few seconds).\n",
    "\n",
    "So, if we want to study more performance optimizations, we should remove the graphing overhead, which we'll do for the rest of this lesson."
   ]
  },
  {
   "cell_type": "markdown",
   "metadata": {},
   "source": [
    "Let's run the two trials without graphs and compare the performance. We'll use no pauses between \"batches\" and run the same number of games as the number of CPU (cores) Ray says we have. This is actually the number of workers Ray started for us and 2x the number of actual cores:"
   ]
  },
  {
   "cell_type": "code",
   "execution_count": 34,
   "metadata": {},
   "outputs": [
    {
     "data": {
      "text/plain": [
       "8.0"
      ]
     },
     "execution_count": 34,
     "metadata": {},
     "output_type": "execute_result"
    }
   ],
   "source": [
    "num_cpus_float = ray.cluster_resources()['CPU']\n",
    "num_cpus_float"
   ]
  },
  {
   "cell_type": "markdown",
   "metadata": {},
   "source": [
    "As soon as you start the next two cell, switch to the Ray Dashboard and watch the CPU utilization. You'll see the Ray workers are idle, but the total CPU utilization will be about 20-25%, for a four-core machine. We're running completely in the Python process for this notebook, which only utilizes one core."
   ]
  },
  {
   "cell_type": "code",
   "execution_count": 36,
   "metadata": {},
   "outputs": [
    {
     "name": "stdout",
     "output_type": "stream",
     "text": [
      "Total time for 8 games,    50 steps,     1 batch size: 25.414 seconds\n",
      "CPU times: user 24.8 s, sys: 457 ms, total: 25.2 s\n",
      "Wall time: 25.4 s\n"
     ]
    }
   ],
   "source": [
    "%time do_trial(None, num_games=round(num_cpus_float), steps=steps, batch_size=1, game_size_for_each=game_size, pause_between_batches=0.0)"
   ]
  },
  {
   "cell_type": "markdown",
   "metadata": {},
   "source": [
    "Similarly, as soon as you start the next two cell, switch to the Ray Dashboard and watch the CPU utilization. Now, the Ray workers will be utilized (but not 100%) and the total CPU utilization will be about 70%. Now we're running on all cores."
   ]
  },
  {
   "cell_type": "code",
   "execution_count": 37,
   "metadata": {},
   "outputs": [
    {
     "name": "stdout",
     "output_type": "stream",
     "text": [
      "Total time for 8 games,    50 steps,     1 batch size: 10.531 seconds\n",
      "CPU times: user 2.78 s, sys: 139 ms, total: 2.92 s\n",
      "Wall time: 10.5 s\n"
     ]
    }
   ],
   "source": [
    "%time do_ray_trial(None, num_games=round(num_cpus_float), steps=steps, batch_size=1, game_size_for_each=game_size, pause_between_batches=0.0)"
   ]
  },
  {
   "cell_type": "markdown",
   "metadata": {},
   "source": [
    "So, running parallel games does benefit from Ray. The performance boost is about 2x, which isn't especially large running on a laptop, because the computation is CPU intensive for each game with frequent memory access. We would see much more impressive improvements on a cluster when running a massive number of games.\n",
    "\n",
    "Notice the times for `user` and `total` times for each case. These lines are the outputs of the `%time` \"magic\" and they are only measuring the time for the notebook Python process (i.e., our \"driver\" program.) Without Ray, all the work is done in this process, so the times roughtly equal the wall clock time. However, for Ray, these times are very low; the notebook is mostly idle, while the work is done in the worker processes."
   ]
  },
  {
   "cell_type": "markdown",
   "metadata": {},
   "source": [
    "## More about Actors\n",
    "\n",
    "Let's finish with a discussion of additional important information about actors. Some of the points were mentioned above.\n",
    "\n",
    "### Actor Scheduling and Lifetimes\n",
    "\n",
    "For the most part, when Ray runs actor code, it uses the same _task_ mechanisms we discussed in _Task Parallelism, Parts 1 and 2_. Actor constructor and method invocations work just like task invocations. However, there are a few notable differences:\n",
    "\n",
    "* However, once a task finishes, it is removed from the worker that executed it, while an actor is _pinned_ to the worker until all Python references to it are out of scope. That is, the usual garbage collection mechanism in Python determines when an actor is removed from a worker. The reason the actor must remain in memory is because it holds state that might be needed, whereas tasks are stateless.\n",
    "* Currently, each actor instance uses tens of MB of memory overhead. Hence, just as you should avoid having too many fine-grained tasks, you should avoid too many actor instances. (Reducing the overhead per actor is an ongoing improvement project.)"
   ]
  },
  {
   "cell_type": "markdown",
   "metadata": {},
   "source": [
    "### Durability of Actor State\n",
    "\n",
    "At this time, Ray provides no built-in mechanism for persisting actor state. Hence, if a worker or whole server goes down with actor instances, their state is lost. \n",
    "\n",
    "Actor state is stored in the object store, just like the results of task executions. Even if a worker goes down but the object store is healthy, the reference to the object is lost.\n",
    "\n",
    "This is an area where Ray will evolve and improve in the future. For now, an important design consideration is to decide when you need to _checkpoint_ state and to use an appropriate mechanism for this purpose. Some of the Ray APIs explored in other tutorials have built-in checkpoint features, such as for saving snapshots of trained models to a file system."
   ]
  },
  {
   "cell_type": "markdown",
   "metadata": {},
   "source": [
    "## Extra - Does It Help to Run with Larger Batch Sizes?"
   ]
  },
  {
   "cell_type": "markdown",
   "metadata": {},
   "source": [
    "You'll notice that we defined `run_games` and `do_trial`, as well as `run_ray_games` and `do_ray_trial` to take an optional `batch_size` that defaults to `1`. The idea is that maybe running game steps in batches, rather than one step at a time, will improve performance (but look less pleasing in the graphs). \n",
    "\n",
    "This concept works in some contexts, such as minimizing the number of messages sent in networks (that is, fewer, but larger payloads), but it actually doesn't help a lot here, because each game is played in a single process, whether using Ray or not (at least as currently implemented...). Batching reduces the number of method invocations, but it's not an important amount of overhead in our case.\n",
    "\n",
    "Let's confirm our suspicion about batching, that it doesn't help a lot."
   ]
  },
  {
   "cell_type": "markdown",
   "metadata": {},
   "source": [
    "Let's time several batch sizes without and with Ray. We'll run several times with each batch size to get an informal sense of the variation possible:"
   ]
  },
  {
   "cell_type": "code",
   "execution_count": 35,
   "metadata": {},
   "outputs": [
    {
     "name": "stdout",
     "output_type": "stream",
     "text": [
      "Total time for 1 games,    50 steps,     1 batch size:  3.171 seconds\n",
      "Total time for 1 games,    50 steps,     1 batch size:  3.218 seconds\n",
      "Total time for 1 games,    50 steps,    10 batch size:  3.516 seconds\n",
      "Total time for 1 games,    50 steps,    10 batch size:  3.146 seconds\n",
      "Total time for 1 games,    50 steps,    25 batch size:  3.174 seconds\n",
      "Total time for 1 games,    50 steps,    25 batch size:  3.224 seconds\n",
      "Total time for 1 games,    50 steps,    50 batch size:  3.203 seconds\n",
      "Total time for 1 games,    50 steps,    50 batch size:  3.198 seconds\n"
     ]
    }
   ],
   "source": [
    "for batch in [1, 10, 25, 50]:\n",
    "    for run in [0, 1]:\n",
    "        do_trial(graphs = None, num_games=1, steps=steps, batch_size=batch, game_size_for_each=game_size, pause_between_batches=0.0)"
   ]
  },
  {
   "cell_type": "markdown",
   "metadata": {},
   "source": [
    "There isn't a significant difference based on batch size.\n",
    "\n",
    "What about Ray? If we're running just one game, the results should be about the same."
   ]
  },
  {
   "cell_type": "code",
   "execution_count": 41,
   "metadata": {},
   "outputs": [
    {
     "name": "stderr",
     "output_type": "stream",
     "text": [
      "2020-04-23 11:52:58,079\tWARNING worker.py:1072 -- The actor or task with ID ffffffffffffffff714ae4f70100 is pending and cannot currently be scheduled. It requires {} for execution and {CPU: 1.000000} for placement, but this node only has remaining {CPU: 8.000000}, {object_store_memory: 1.513672 GiB}, {node:192.168.1.149: 1.000000}, {memory: 4.443359 GiB}. In total there are 0 pending tasks and 1 pending actors on this node. This is likely due to all cluster resources being claimed by actors. To resolve the issue, consider creating fewer actors or increase the resources available to this Ray cluster. You can ignore this message if this Ray cluster is expected to auto-scale.\n"
     ]
    },
    {
     "name": "stdout",
     "output_type": "stream",
     "text": [
      "Total time for 1 games,    50 steps,     1 batch size:  3.445 seconds\n",
      "Total time for 1 games,    50 steps,     1 batch size:  3.310 seconds\n",
      "Total time for 1 games,    50 steps,    10 batch size:  3.245 seconds\n",
      "Total time for 1 games,    50 steps,    10 batch size:  3.256 seconds\n",
      "Total time for 1 games,    50 steps,    25 batch size:  3.161 seconds\n",
      "Total time for 1 games,    50 steps,    25 batch size:  3.271 seconds\n",
      "Total time for 1 games,    50 steps,    50 batch size:  3.198 seconds\n",
      "Total time for 1 games,    50 steps,    50 batch size:  3.216 seconds\n"
     ]
    }
   ],
   "source": [
    "for batch in [1, 10, 25, 50]:\n",
    "    for run in [0, 1]:\n",
    "        do_ray_trial(graphs = None, num_games=1, steps=steps, batch_size=batch, game_size_for_each=game_size, pause_between_batches=0.0)"
   ]
  },
  {
   "cell_type": "markdown",
   "metadata": {},
   "source": [
    "With Ray's background activity, there is likely to be a little more variation in the numbers, but the conclusion is the same; the batch size doesn't matter because no additional exploitation of asynchronous computing is used."
   ]
  }
 ],
 "metadata": {
  "kernelspec": {
   "display_name": "Python 3",
   "language": "python",
   "name": "python3"
  },
  "language_info": {
   "codemirror_mode": {
    "name": "ipython",
    "version": 3
   },
   "file_extension": ".py",
   "mimetype": "text/x-python",
   "name": "python",
   "nbconvert_exporter": "python",
   "pygments_lexer": "ipython3",
   "version": "3.7.6"
  },
  "toc": {
   "base_numbering": 1,
   "nav_menu": {},
   "number_sections": false,
   "sideBar": true,
   "skip_h1_title": false,
   "title_cell": "Table of Contents",
   "title_sidebar": "Contents",
   "toc_cell": false,
   "toc_position": {
    "height": "calc(100% - 180px)",
    "left": "10px",
    "top": "150px",
    "width": "382.391px"
   },
   "toc_section_display": true,
   "toc_window_display": true
  }
 },
 "nbformat": 4,
 "nbformat_minor": 4
}
