{
 "cells": [
  {
   "cell_type": "markdown",
   "metadata": {},
   "source": [
    "# Advanced Ray Tutorial - Exercise Solutions"
   ]
  },
  {
   "cell_type": "markdown",
   "metadata": {},
   "source": [
    "First, import everything we'll need and start Ray:"
   ]
  },
  {
   "cell_type": "code",
   "execution_count": 1,
   "metadata": {},
   "outputs": [],
   "source": [
    "import ray, time, sys\n",
    "import numpy as np\n",
    "sys.path.append(\"../..\")\n",
    "from util.printing import pd, pnd  # convenience methods for printing results."
   ]
  },
  {
   "cell_type": "code",
   "execution_count": 2,
   "metadata": {},
   "outputs": [
    {
     "name": "stdout",
     "output_type": "stream",
     "text": [
      "\n",
      "Ray already running or successfully started\n"
     ]
    }
   ],
   "source": [
    "!../../tools/start-ray.sh"
   ]
  },
  {
   "cell_type": "code",
   "execution_count": 3,
   "metadata": {},
   "outputs": [
    {
     "name": "stderr",
     "output_type": "stream",
     "text": [
      "2020-05-24 14:32:44,456\tWARNING worker.py:809 -- When connecting to an existing cluster, _internal_config must match the cluster's _internal_config.\n"
     ]
    },
    {
     "data": {
      "text/plain": [
       "{'node_ip_address': '192.168.1.149',\n",
       " 'raylet_ip_address': '192.168.1.149',\n",
       " 'redis_address': '192.168.1.149:55312',\n",
       " 'object_store_address': '/tmp/ray/session_2020-05-24_11-24-33_071372_73030/sockets/plasma_store',\n",
       " 'raylet_socket_name': '/tmp/ray/session_2020-05-24_11-24-33_071372_73030/sockets/raylet',\n",
       " 'webui_url': 'localhost:8265',\n",
       " 'session_dir': '/tmp/ray/session_2020-05-24_11-24-33_071372_73030'}"
      ]
     },
     "execution_count": 3,
     "metadata": {},
     "output_type": "execute_result"
    }
   ],
   "source": [
    "ray.init(address='auto', ignore_reinit_error=True)"
   ]
  },
  {
   "cell_type": "markdown",
   "metadata": {},
   "source": [
    "## Exercise 1 in 01: Ray Tasks Revisited\n",
    "\n",
    "You were asked to convert the regular Python code to Ray code. Here are the three cells appropriately modified.\n",
    "\n",
    "First, we need the appropriate imports and `ray.init()`."
   ]
  },
  {
   "cell_type": "code",
   "execution_count": 5,
   "metadata": {},
   "outputs": [],
   "source": [
    "@ray.remote\n",
    "def slow_square(n):\n",
    "    time.sleep(n)\n",
    "    return n*n"
   ]
  },
  {
   "cell_type": "code",
   "execution_count": 6,
   "metadata": {},
   "outputs": [],
   "source": [
    "start = time.time()\n",
    "ids = [slow_square.remote(n) for n in range(4)]\n",
    "squares = ray.get(ids)\n",
    "duration = time.time() - start"
   ]
  },
  {
   "cell_type": "code",
   "execution_count": 7,
   "metadata": {},
   "outputs": [],
   "source": [
    "assert squares == [0, 1, 4, 9]\n",
    "# should fail until the code modifications are made:\n",
    "assert duration < 4.1, f'duration = {duration}' "
   ]
  },
  {
   "cell_type": "markdown",
   "metadata": {},
   "source": [
    "## Exercise 2 in 01: Ray Tasks Revisited\n",
    "\n",
    "You were asked to use `ray.wait()` with a shorter timeout, `2.5` seconds. First we need to redefine in this notebook the remote functions we used in that lesson:"
   ]
  },
  {
   "cell_type": "code",
   "execution_count": 8,
   "metadata": {},
   "outputs": [],
   "source": [
    "@ray.remote\n",
    "def make_array(n):\n",
    "    time.sleep(n/10.0)\n",
    "    return np.random.standard_normal(n)\n",
    "\n",
    "@ray.remote\n",
    "def add_arrays(a1, a2):\n",
    "    time.sleep(a1.size/10.0)\n",
    "    return np.add(a1, a2)"
   ]
  },
  {
   "cell_type": "code",
   "execution_count": 9,
   "metadata": {},
   "outputs": [
    {
     "name": "stdout",
     "output_type": "stream",
     "text": [
      "Returned   2 completed tasks. (elapsed time:  2.017)\n",
      "0: []\n",
      "10: [ 4.32737218  1.84041995 -3.65869664 -1.18314247  1.17692894 -6.50627178\n",
      " -2.56290478 -0.65746464  2.29855075  1.44218294]\n",
      "Returned   1 completed tasks. (elapsed time:  5.530)\n",
      "20: [ 1.12572964 -0.1775737  -2.65607606 -2.03323559 -0.90437758  0.25937131\n",
      " -2.73127879  0.62081916 -2.23769877  0.41473947  2.8628821  -0.29769767\n",
      "  1.60093991 -2.80766646 -0.24939007  1.91890681 -1.51658634 -1.7927651\n",
      " -0.48840102 -0.07738982]\n",
      "Returned   2 completed tasks. (elapsed time:  8.535)\n",
      "30: [-0.52096067 -0.97949442 -0.76375359 -0.12431216 -0.35839995  0.54821904\n",
      " -0.36848895  1.32915568 -2.01199297  1.73866514  1.06718706 -4.11578144\n",
      "  0.46970735 -0.16417912  3.99567667  0.51468331 -0.02258815  3.13481553\n",
      "  5.07946479 -2.68242857  0.30758541 -0.68127055  0.84779553 -0.7720236\n",
      " -2.59236206 -2.15657653  1.76079816  0.92234692  0.76478132 -1.30454804]\n",
      "40: [ 3.39830416  0.21360206 -2.50844728 -2.46589293 -2.79462406 -2.17230112\n",
      "  0.06005292 -1.3697768   1.41266691 -2.47107171  0.4437492   1.64107474\n",
      "  0.62407591 -0.15093651  0.04069597  1.17439607 -2.26393226 -0.89548036\n",
      " -1.05586752  0.46104626  2.13640321  1.9423409   0.57410286  1.37747167\n",
      " -1.1506983  -3.79712647  0.75408513  2.08915342 -0.61862281  2.76843994\n",
      " -2.98165049 -4.01724973 -1.01786389 -2.77884406  2.44244499 -2.16552587\n",
      "  0.52598168  2.03491369 -2.6938132  -0.17236436]\n",
      "\n",
      "all arrays: [array([], dtype=float64), array([ 4.32737218,  1.84041995, -3.65869664, -1.18314247,  1.17692894,\n",
      "       -6.50627178, -2.56290478, -0.65746464,  2.29855075,  1.44218294]), array([ 1.12572964, -0.1775737 , -2.65607606, -2.03323559, -0.90437758,\n",
      "        0.25937131, -2.73127879,  0.62081916, -2.23769877,  0.41473947,\n",
      "        2.8628821 , -0.29769767,  1.60093991, -2.80766646, -0.24939007,\n",
      "        1.91890681, -1.51658634, -1.7927651 , -0.48840102, -0.07738982]), array([-0.52096067, -0.97949442, -0.76375359, -0.12431216, -0.35839995,\n",
      "        0.54821904, -0.36848895,  1.32915568, -2.01199297,  1.73866514,\n",
      "        1.06718706, -4.11578144,  0.46970735, -0.16417912,  3.99567667,\n",
      "        0.51468331, -0.02258815,  3.13481553,  5.07946479, -2.68242857,\n",
      "        0.30758541, -0.68127055,  0.84779553, -0.7720236 , -2.59236206,\n",
      "       -2.15657653,  1.76079816,  0.92234692,  0.76478132, -1.30454804]), array([ 3.39830416,  0.21360206, -2.50844728, -2.46589293, -2.79462406,\n",
      "       -2.17230112,  0.06005292, -1.3697768 ,  1.41266691, -2.47107171,\n",
      "        0.4437492 ,  1.64107474,  0.62407591, -0.15093651,  0.04069597,\n",
      "        1.17439607, -2.26393226, -0.89548036, -1.05586752,  0.46104626,\n",
      "        2.13640321,  1.9423409 ,  0.57410286,  1.37747167, -1.1506983 ,\n",
      "       -3.79712647,  0.75408513,  2.08915342, -0.61862281,  2.76843994,\n",
      "       -2.98165049, -4.01724973, -1.01786389, -2.77884406,  2.44244499,\n",
      "       -2.16552587,  0.52598168,  2.03491369, -2.6938132 , -0.17236436])]\n",
      "Total time: duration:  8.539 seconds\n"
     ]
    }
   ],
   "source": [
    "start = time.time()\n",
    "array_ids = [make_array.remote(n*10) for n in range(5)]\n",
    "added_array_ids = [add_arrays.remote(id, id) for id in array_ids]\n",
    "\n",
    "arrays = []\n",
    "waiting_ids = list(added_array_ids)        # Assign a working list to the full list of ids\n",
    "while len(waiting_ids) > 0:                # Loop until all tasks have completed\n",
    "    # Call ray.wait with:\n",
    "    #   1. the list of ids we're still waiting to complete,\n",
    "    #   2. tell it to return immediately as soon as TWO of them complete,\n",
    "    #   3. tell it wait up to 10 seconds before timing out.\n",
    "    return_n = 2 if len(waiting_ids) > 1 else 1\n",
    "    ready_ids, remaining_ids = ray.wait(waiting_ids, num_returns=return_n, timeout=2.5)\n",
    "    print('Returned {:3d} completed tasks. (elapsed time: {:6.3f})'.format(len(ready_ids), time.time() - start))\n",
    "    new_arrays = ray.get(ready_ids)\n",
    "    arrays.extend(new_arrays)\n",
    "    for array in new_arrays:\n",
    "        print(f'{array.size}: {array}')\n",
    "    waiting_ids = remaining_ids  # Reset this list; don't include the completed ids in the list again!\n",
    "    \n",
    "print(f\"\\nall arrays: {arrays}\")\n",
    "pd(time.time() - start, prefix=\"Total time:\")"
   ]
  },
  {
   "cell_type": "markdown",
   "metadata": {},
   "source": [
    "For a timeout of `2.5` seconds, the second call to `ray.wait()` times out before two tasks finish, so it only returns one completed task. Why did the third and last iteration not time out? (That is, they both successfully returned two items.) It's because all the tasks were running in parallel so they had time to finish. If you use a shorter timeout, you'll see more time outs, where zero or one items are returned. \n",
    "\n",
    "Try `1.5` seconds, where all but one iteration times out and returns one item. The first iteration returns two items.\n",
    "Try `0.5` seconds, where you'll get several iterations that time out and return zero items, while all the other iterations time out and return one item."
   ]
  },
  {
   "cell_type": "markdown",
   "metadata": {},
   "source": [
    "## Exercise 3 in 01: Ray Tasks Revisited\n",
    "\n",
    "You were asked to convert the code to use Ray, especially `ray.wait()`."
   ]
  },
  {
   "cell_type": "code",
   "execution_count": 10,
   "metadata": {},
   "outputs": [],
   "source": [
    "@ray.remote\n",
    "def slow_square(n):\n",
    "    time.sleep(n)\n",
    "    return n*n\n",
    "\n",
    "start = time.time()\n",
    "ids = [slow_square.remote(n) for n in range(4)]\n",
    "squares = []\n",
    "waiting_ids = ids\n",
    "while len(waiting_ids) > 0:\n",
    "    finished_ids, waiting_ids = ray.wait(waiting_ids)  # We just assign the second list to waiting_ids...\n",
    "    squares.extend(ray.get(finished_ids))\n",
    "duration = time.time() - start"
   ]
  },
  {
   "cell_type": "code",
   "execution_count": 11,
   "metadata": {},
   "outputs": [],
   "source": [
    "assert squares == [0, 1, 4, 9]\n",
    "assert duration < 4.1, f'duration = {duration}' "
   ]
  },
  {
   "cell_type": "markdown",
   "metadata": {},
   "source": [
    "## Exercise - \"Homework\" - in 02: Ray Actors Revisited\n",
    "\n",
    "Since profiling shows that `live_neighbors` is the bottleneck, what could be done to reduce its execution time? The new implementation  solution shown here reduces its overhead by about 40%. Not bad. \n",
    "\n",
    "The solution also implements parallel invocations grid updates, rather doing the whole grid in sequential steps.\n",
    "\n",
    "As discussed in lesson 4, these kinds of optimizations make sense when you _really_ have a compelling reason to squeeze optimal performance out of the code. Hence, this optimization exercise will mostly appeal to those of you with such requirements or who low-level performance optimizations like this. \n",
    "\n",
    "This solution for optimizing `live_neighbors` was developed using [micro-perf-tests.py](micro-perf-tests.py). The changes to the game code can be found in [game-of-life-2-exercise.py](game-of-life-2-exercise.py) rather than repeating them in cells here. Both scripts run standalone and both have a `--help` flag for more information.\n",
    "\n",
    "If you tried the \"easier experiments\" suggested, such as enhancing `RayConwaysRules.step()` to accept a `num_steps` argument, you probably found that they didn't improve performance. As for the non-Ray game, this change only moves processing around but doesn't parallelize it more than before, so performance is about the same."
   ]
  },
  {
   "cell_type": "code",
   "execution_count": 4,
   "metadata": {},
   "outputs": [],
   "source": [
    "from game_of_life_2_exercise import RayGame, apply_rules_block, time_ray_games"
   ]
  },
  {
   "cell_type": "markdown",
   "metadata": {},
   "source": [
    "For comparison, one set of test runs with the exercise code before improvements took about 25 seconds.\n",
    "\n",
    "If you look at `RayGame2.step`, it calls `RayConwaysRules.step` one step at a time, using remote calls. This seems like a good place for improvement. Let's extend `RayConwaysRules.step` to do more than one step, just like `RayGame2.step` already supports.\n",
    "\n",
    "Changes are indicated with comments."
   ]
  },
  {
   "cell_type": "code",
   "execution_count": 14,
   "metadata": {},
   "outputs": [
    {
     "name": "stdout",
     "output_type": "stream",
     "text": [
      "rules_ids:\n",
      "[Actor(RayConwaysRules, b2e2e8931600)]\n",
      "game_ids:\n",
      "[Actor(RayGame, e717d8171600)]\n",
      "Total time for 1 games (max_steps = 400, batch_size = 1) duration: 15.606 seconds\n"
     ]
    }
   ],
   "source": [
    "time_ray_games(\n",
    "    num_games = 1, \n",
    "    max_steps = 400, \n",
    "    batch_size = 1, \n",
    "    grid_dimensions = (100,100), \n",
    "    use_block_updates = False)"
   ]
  },
  {
   "cell_type": "markdown",
   "metadata": {},
   "source": [
    "In a test run, this ran in about 15.5 seconds, about 9.5 seconds faster than the first version! Hence, as expected, optimizing `live_neighbors` provided significant improvement.\n",
    "\n",
    "What about using block updates? Let's try a bigger grid, but fewer steps. First, without the block updates:"
   ]
  },
  {
   "cell_type": "code",
   "execution_count": 5,
   "metadata": {},
   "outputs": [
    {
     "name": "stdout",
     "output_type": "stream",
     "text": [
      "rules_ids:\n",
      "[Actor(RayConwaysRules, 5e95ba1b1800)]\n",
      "game_ids:\n",
      "[Actor(RayGame, 6a5ad72e1800)]\n",
      "Total time for 1 games (max_steps = 100, batch_size = 1) duration: 15.319 seconds\n"
     ]
    }
   ],
   "source": [
    "time_ray_games(\n",
    "    num_games = 1, \n",
    "    max_steps = 100, \n",
    "    batch_size = 1, \n",
    "    grid_dimensions = (200,200), \n",
    "    use_block_updates = False)"
   ]
  },
  {
   "cell_type": "code",
   "execution_count": 6,
   "metadata": {},
   "outputs": [
    {
     "name": "stdout",
     "output_type": "stream",
     "text": [
      "rules_ids:\n",
      "[Actor(RayConwaysRulesBlocks, f4f7ce371800)]\n",
      "game_ids:\n",
      "[Actor(RayGame, d2ae23331800)]\n",
      "Total time for 1 games (max_steps = 100, batch_size = 1) duration:  8.000 seconds\n"
     ]
    }
   ],
   "source": [
    "time_ray_games(\n",
    "    num_games = 1, \n",
    "    max_steps = 100, \n",
    "    batch_size = 1, \n",
    "    grid_dimensions = (200,200), \n",
    "    use_block_updates = True,\n",
    "    block_size = 50)  # The default block size is -1, so no blocks are used!"
   ]
  },
  {
   "cell_type": "markdown",
   "metadata": {},
   "source": [
    "In a test run, this performed about twice as fast! So block processing definitely helps."
   ]
  },
  {
   "cell_type": "markdown",
   "metadata": {},
   "source": [
    "Finally, does batching help? We'll use fewer steps and the original 100x100 grid. First without batching and then with batching:"
   ]
  },
  {
   "cell_type": "code",
   "execution_count": 7,
   "metadata": {},
   "outputs": [
    {
     "name": "stdout",
     "output_type": "stream",
     "text": [
      "rules_ids:\n",
      "[Actor(RayConwaysRules, f90511ea1800)]\n",
      "game_ids:\n",
      "[Actor(RayGame, 1520a0b51800)]\n",
      "Total time for 1 games (max_steps = 100, batch_size = 1) duration:  3.901 seconds\n",
      "CPU times: user 83.7 ms, sys: 35.4 ms, total: 119 ms\n",
      "Wall time: 3.91 s\n"
     ]
    }
   ],
   "source": [
    "%time time_ray_games(num_games = 1, max_steps = 100, batch_size = 1, grid_dimensions = (100,100), use_block_updates=False)"
   ]
  },
  {
   "cell_type": "code",
   "execution_count": 8,
   "metadata": {},
   "outputs": [
    {
     "name": "stdout",
     "output_type": "stream",
     "text": [
      "rules_ids:\n",
      "[Actor(RayConwaysRules, 13cf5f101800)]\n",
      "game_ids:\n",
      "[Actor(RayGame, 0d0441cf1800)]\n",
      "Total time for 1 games (max_steps = 100, batch_size = 50) duration:  3.817 seconds\n",
      "CPU times: user 59.7 ms, sys: 23.2 ms, total: 82.9 ms\n",
      "Wall time: 3.82 s\n"
     ]
    }
   ],
   "source": [
    "%time time_ray_games(num_games = 1, max_steps = 100, batch_size = 50, grid_dimensions = (100,100), use_block_updates=False)"
   ]
  },
  {
   "cell_type": "markdown",
   "metadata": {},
   "source": [
    "Batching doesn't make much difference and in fact, we don't expect to matter, because it doesn't change the parallelism, like blocking does, and it doesn't make the algorithm more efficient, like the new `live_neighbors` does.\n",
    "\n",
    "To conclude, the new implementation of `live_neighbors` has a noticable benefit. Batching doesn't make much difference, but using parallel blocks helps a lot."
   ]
  }
 ],
 "metadata": {
  "kernelspec": {
   "display_name": "Python 3",
   "language": "python",
   "name": "python3"
  },
  "language_info": {
   "codemirror_mode": {
    "name": "ipython",
    "version": 3
   },
   "file_extension": ".py",
   "mimetype": "text/x-python",
   "name": "python",
   "nbconvert_exporter": "python",
   "pygments_lexer": "ipython3",
   "version": "3.7.6"
  }
 },
 "nbformat": 4,
 "nbformat_minor": 4
}
