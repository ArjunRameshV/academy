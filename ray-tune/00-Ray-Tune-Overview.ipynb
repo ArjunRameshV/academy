{
 "cells": [
  {
   "cell_type": "markdown",
   "metadata": {},
   "source": [
    "# Ray Tune - Overview\n",
    "\n",
    "© 2019-2020, Anyscale. All Rights Reserved\n",
    "\n",
    "![Anyscale Academy](../images/AnyscaleAcademy_Logo_clearbanner_141x100.png)\n",
    "\n",
    "> **NOTE:** This tutorial is under development. This overview is a placeholder.\n",
    "\n",
    "This tutorial, part of [Anyscale Academy](https://anyscale.com/academy), introduces _hyperparameter tuning_, often called _hyperparameter optimization_ for which we'll use the acronym _HPO_ (since \"hyperparameter\" is often spelled \"hyper parameter\"). In particular this tutorial introduces [Ray Tune](http://tune.io), Ray's comprehensive HPO library.\n",
    "\n",
    "See the instructions in the [README](../README.md) for setting up your environment to use this tutorial.\n",
    "\n",
    "Go [here](../Overview.ipynb) for an overview of all tutorials."
   ]
  },
  {
   "cell_type": "markdown",
   "metadata": {},
   "source": [
    "|     | Lesson | Description |\n",
    "| :-- | :----- | :---------- |\n",
    "| 00  | [Ray Tune Overview](00-Ray-Tune-Overview.ipynb) | Overview of this tutorial. |\n",
    "| 01  | [Understanding Hyperparameter Tuning](01-Understanding-Hyperparameter-Tuning.ipynb) | An explanation of hyperparameters vs. parameters and a non-trivial example of hyperparameter tuning/optimization with Tune. |\n",
    "|     | [Hyperparameter Tuning References](References-Hyperparameter-Tuning.ipynb) | Overview of this tutorial. |\n",
    "\n",
    "In addition, exercise solutions for this tutorial can be found [here](solutions/Ray-Tune-Solutions.ipynb).\n",
    "\n",
    "For other, earlier tutorials that use Tune, see [github.com/ray-project/tutorial](https://github.com/ray-project/tutorial)."
   ]
  },
  {
   "cell_type": "markdown",
   "metadata": {},
   "source": [
    "## Getting Help\n",
    "\n",
    "* The [#tutorial channel](https://ray-distributed.slack.com/archives/C011ML23W5B) on the [Ray Slack](https://ray-distributed.slack.com)\n",
    "* [Email](mailto:academy@anyscale.com)\n",
    "\n",
    "Find an issue? Please report it!\n",
    "\n",
    "* [GitHub issues](https://github.com/anyscale/academy/issues)"
   ]
  }
 ],
 "metadata": {
  "kernelspec": {
   "display_name": "Python 3",
   "language": "python",
   "name": "python3"
  },
  "language_info": {
   "codemirror_mode": {
    "name": "ipython",
    "version": 3
   },
   "file_extension": ".py",
   "mimetype": "text/x-python",
   "name": "python",
   "nbconvert_exporter": "python",
   "pygments_lexer": "ipython3",
   "version": "3.7.6"
  }
 },
 "nbformat": 4,
 "nbformat_minor": 4
}
