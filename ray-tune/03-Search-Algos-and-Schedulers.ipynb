{
 "cells": [
  {
   "cell_type": "markdown",
   "metadata": {},
   "source": [
    "# Ray Tune - Search Algorithms and Schedulers\n",
    "\n",
    "© 2019-2020, Anyscale. All Rights Reserved\n",
    "\n",
    "![Anyscale Academy](../images/AnyscaleAcademy_Logo_clearbanner_141x100.png)\n",
    "\n",
    "This notebook introduces the concepts of search algorithms and schedulers which help optimize HPO. We'll see an example that combines the use of one search algorithm and one schedulers.\n",
    "\n",
    "The full set of search algorithms provided by Tune is documented [here](https://docs.ray.io/en/latest/tune/api_docs/suggestion.html), along with information about implementing your own. The full set of schedulers provided is documented [here](https://docs.ray.io/en/latest/tune/api_docs/schedulers.html)."
   ]
  },
  {
   "cell_type": "markdown",
   "metadata": {},
   "source": [
    "We need to install a few libraries. We'll explain what they are below."
   ]
  },
  {
   "cell_type": "code",
   "execution_count": null,
   "metadata": {},
   "outputs": [],
   "source": [
    "!pip install hpbandster ConfigSpace"
   ]
  },
  {
   "cell_type": "code",
   "execution_count": 1,
   "metadata": {},
   "outputs": [
    {
     "name": "stdout",
     "output_type": "stream",
     "text": [
      "Python 3.7.6\n"
     ]
    }
   ],
   "source": [
    "!python --version"
   ]
  },
  {
   "cell_type": "markdown",
   "metadata": {},
   "source": [
    "> **NOTE:** If you are see **Python 3.6** in the output from the previous cell, run remove the `#` in the following cell and run it. This will fix a dependency bug needed for this notebook.\n",
    "> \n",
    "> Afterwards, **restart the kernel for this notebook**, using the circular error in the tool bar. After that, proceed with the rest of the notebook. \n",
    "> \n",
    "> If you have **Python 3.7** or later, skip these steps."
   ]
  },
  {
   "cell_type": "code",
   "execution_count": 2,
   "metadata": {},
   "outputs": [],
   "source": [
    "#!pip install statsmodels -U --pre"
   ]
  },
  {
   "cell_type": "markdown",
   "metadata": {},
   "source": [
    "## About Search Algorithms\n",
    "\n",
    "Tune integrates many [open source optimization libraries](https://docs.ray.io/en/latest/tune/api_docs/suggestion.html), each of which defines the parameter search space in its own way. Hence, you should read the corresponding documentation for an algorithm to understand the particular details of using it.\n",
    "\n",
    "Some of the search algorithms supported include the following:\n",
    "\n",
    "* [Bayesian Optimization](https://github.com/fmfn/BayesianOptimization): This constrained global optimization process builds upon bayesian inference and gaussian processes. It attempts to find the maximum value of an unknown function in as few iterations as possible. This is a good technique for optimization of high cost functions.\n",
    "* [BOHB (Bayesian Optimization HyperBand](https://github.com/automl/HpBandSter): An algorithm that both terminates bad trials and also uses Bayesian Optimization to improve the hyperparameter search. It is backed by the [HpBandSter](https://docs.ray.io/en/latest/tune/api_docs/schedulers.html#tune-scheduler-bohb) library. BOHB is intended to be paired with a specific scheduler class: [HyperBandForBOHB](https://docs.ray.io/en/latest/tune/api_docs/schedulers.html#tune-scheduler-bohb).\n",
    "* [HyperOpt](http://hyperopt.github.io/hyperopt): A Python library for serial and parallel optimization over awkward search spaces, which may include real-valued, discrete, and conditional dimensions.\n",
    "* [Nevergrad](https://github.com/facebookresearch/nevergrad): HPO without computing gradients.\n",
    "\n",
    "These and other algorithms are described in the [documentation](https://docs.ray.io/en/latest/tune/api_docs/suggestion.html).\n",
    "\n",
    "A limitation of search algorithms used by themselves is they can't affect or stop training processes, for example early stopping of trail that are performing poorly. The schedulers can do this, so it's common to use a compatible search algorithm with a scheduler, as we'll show in the first example."
   ]
  },
  {
   "cell_type": "markdown",
   "metadata": {},
   "source": [
    "## About Schedulers\n",
    "\n",
    "Tune includes distributed implementations of several early-stopping algorithms, including the following:\n",
    "\n",
    "* [Median Stopping Rule](https://research.google.com/pubs/pub46180.html): It applies the simple rule that a trial is aborted if the results are trending below the median of the previous trials.\n",
    "* [HyperBand](https://arxiv.org/abs/1603.06560): It structures search as an _infinite-armed, stochastic, exploration-only, multi-armed bandit_. See the [Multi-Armed Bandits lessons](../ray-rllib/multi-armed-bandits/00-Multi-Armed-Bandits-Overview.ipynb) for information on these concepts. The infinite arms correspond to the tunable parameters. Trying values stochastically ensures quick exploration of the parameter space. Exploration-only is desirable because for HPO, we aren't interested in _exploiting_ parameter combinations we've already tried (the usual case when using MABs where rewards are the goal). Intead, we need to explore as many new parameter combinations as possible.\n",
    "* [ASHA](https://openreview.net/forum?id=S1Y7OOlRZ). This is an aynchronous version of HyperBand that improves on the latter. Hence it is recommended over the original HyperBand implementation. \n",
    "\n",
    "Tune also includes a distributed implementation of [Population Based Training (PBT)](https://deepmind.com/blog/population-based-training-neural-networks). When the PBT scheduler is enabled, each trial variant is treated as a member of the _population_. Periodically, top-performing trials are checkpointed, which means your [`tune.Trainable`](https://docs.ray.io/en/latest/tune/api_docs/trainable.html#tune-trainable) object (e.g., the `TrainMNist` class we used in the previous exercise) has to support save and restore. \n",
    "\n",
    "Low-performing trials clone the checkpoints of top performers and perturb the configurations in the hope of discovering an even better variation. PBT trains a group of models (or RLlib agents) in parallel. So, unlike other hyperparameter search algorithms, PBT mutates hyperparameters during training time. This enables very fast hyperparameter discovery and also automatically discovers good [annealing](https://en.wikipedia.org/wiki/Simulated_annealing) schedules.\n",
    "\n",
    "See the [Tune schedulers](https://docs.ray.io/en/latest/tune/api_docs/schedulers.html) for a complete list and descriptions."
   ]
  },
  {
   "cell_type": "markdown",
   "metadata": {},
   "source": [
    "## Examples\n",
    "\n",
    "Let's initialize Ray as before:"
   ]
  },
  {
   "cell_type": "code",
   "execution_count": 3,
   "metadata": {},
   "outputs": [
    {
     "name": "stdout",
     "output_type": "stream",
     "text": [
      "../tools/start-ray.sh: line 118: 19661 Abort trap: 6           $NOOP ray stat > /dev/null 2>&1\n",
      "\n",
      "INFO: Ray is not running. Run ../tools/start-ray.sh with no options in a terminal window to start Ray.\n",
      "INFO: (You can start a terminal in Jupyter. Click the + under the Edit menu.)\n",
      "\n"
     ]
    }
   ],
   "source": [
    "!../tools/start-ray.sh --check --verbose"
   ]
  },
  {
   "cell_type": "code",
   "execution_count": 1,
   "metadata": {},
   "outputs": [],
   "source": [
    "import ray\n",
    "from ray import tune"
   ]
  },
  {
   "cell_type": "code",
   "execution_count": 4,
   "metadata": {},
   "outputs": [
    {
     "data": {
      "text/plain": [
       "{'node_ip_address': '192.168.1.149',\n",
       " 'raylet_ip_address': '192.168.1.149',\n",
       " 'redis_address': '192.168.1.149:6379',\n",
       " 'object_store_address': '/tmp/ray/session_2020-07-22_11-06-55_105752_20044/sockets/plasma_store',\n",
       " 'raylet_socket_name': '/tmp/ray/session_2020-07-22_11-06-55_105752_20044/sockets/raylet',\n",
       " 'webui_url': 'localhost:8265',\n",
       " 'session_dir': '/tmp/ray/session_2020-07-22_11-06-55_105752_20044'}"
      ]
     },
     "execution_count": 4,
     "metadata": {},
     "output_type": "execute_result"
    }
   ],
   "source": [
    "ray.init(address='auto', ignore_reinit_error=True)"
   ]
  },
  {
   "cell_type": "markdown",
   "metadata": {},
   "source": [
    "### BOHB\n",
    "\n",
    "BOHB (Bayesian Optimization HyperBand) is an algorithm that both terminates bad trials and also uses Bayesian Optimization to improve the hyperparameter search. The [Tune implementation](https://docs.ray.io/en/latest/tune/api_docs/suggestion.html#bohb-tune-suggest-bohb-tunebohb) is backed by the [HpBandSter library](https://github.com/automl/HpBandSter), which we must install, along with [ConfigSpace](https://automl.github.io/HpBandSter/build/html/quickstart.html#searchspace), which is used to define the search space specification:"
   ]
  },
  {
   "cell_type": "code",
   "execution_count": 5,
   "metadata": {
    "scrolled": true
   },
   "outputs": [
    {
     "name": "stdout",
     "output_type": "stream",
     "text": [
      "Requirement already satisfied: hpbandster in /Users/deanwampler/anaconda3/envs/anyscale-academy/lib/python3.7/site-packages (0.7.4)\n",
      "Requirement already satisfied: ConfigSpace in /Users/deanwampler/anaconda3/envs/anyscale-academy/lib/python3.7/site-packages (0.4.13)\n",
      "Requirement already satisfied: Pyro4 in /Users/deanwampler/anaconda3/envs/anyscale-academy/lib/python3.7/site-packages (from hpbandster) (4.80)\n",
      "Requirement already satisfied: numpy in /Users/deanwampler/anaconda3/envs/anyscale-academy/lib/python3.7/site-packages (from hpbandster) (1.18.1)\n",
      "Requirement already satisfied: serpent in /Users/deanwampler/anaconda3/envs/anyscale-academy/lib/python3.7/site-packages (from hpbandster) (1.30.2)\n",
      "Requirement already satisfied: netifaces in /Users/deanwampler/anaconda3/envs/anyscale-academy/lib/python3.7/site-packages (from hpbandster) (0.10.9)\n",
      "Requirement already satisfied: scipy in /Users/deanwampler/anaconda3/envs/anyscale-academy/lib/python3.7/site-packages (from hpbandster) (1.4.1)\n",
      "Requirement already satisfied: statsmodels in /Users/deanwampler/anaconda3/envs/anyscale-academy/lib/python3.7/site-packages (from hpbandster) (0.11.1)\n",
      "Requirement already satisfied: cython in /Users/deanwampler/anaconda3/envs/anyscale-academy/lib/python3.7/site-packages (from ConfigSpace) (0.29.21)\n",
      "Requirement already satisfied: pyparsing in /Users/deanwampler/anaconda3/envs/anyscale-academy/lib/python3.7/site-packages (from ConfigSpace) (2.4.7)\n",
      "Requirement already satisfied: pandas>=0.21 in /Users/deanwampler/anaconda3/envs/anyscale-academy/lib/python3.7/site-packages (from statsmodels->hpbandster) (1.0.3)\n",
      "Requirement already satisfied: patsy>=0.5 in /Users/deanwampler/anaconda3/envs/anyscale-academy/lib/python3.7/site-packages (from statsmodels->hpbandster) (0.5.1)\n",
      "Requirement already satisfied: pytz>=2017.2 in /Users/deanwampler/anaconda3/envs/anyscale-academy/lib/python3.7/site-packages (from pandas>=0.21->statsmodels->hpbandster) (2019.3)\n",
      "Requirement already satisfied: python-dateutil>=2.6.1 in /Users/deanwampler/anaconda3/envs/anyscale-academy/lib/python3.7/site-packages (from pandas>=0.21->statsmodels->hpbandster) (2.8.1)\n",
      "Requirement already satisfied: six in /Users/deanwampler/anaconda3/envs/anyscale-academy/lib/python3.7/site-packages (from patsy>=0.5->statsmodels->hpbandster) (1.14.0)\n"
     ]
    }
   ],
   "source": []
  },
  {
   "cell_type": "markdown",
   "metadata": {},
   "source": [
    "We use BOHB with the scheduler [HyperBandForBOHB](https://docs.ray.io/en/latest/tune/api_docs/schedulers.html#bohb-tune-schedulers-hyperbandforbohb)."
   ]
  },
  {
   "cell_type": "markdown",
   "metadata": {},
   "source": [
    "Let's try it. We'll use the same MNIST example from the previous lesson, but this time, we'll import the code from a file in this directory, `mnist.py`. Note that the implementation of `TrainMNIST` in the file has enhancements not present in the previous lesson, such as methods to support saving and restoring checkpoints, which are required to be used here. See the code comments for details."
   ]
  },
  {
   "cell_type": "code",
   "execution_count": 6,
   "metadata": {},
   "outputs": [],
   "source": [
    "from mnist import ConvNet, TrainMNIST, EPOCH_SIZE, TEST_SIZE, DATA_ROOT"
   ]
  },
  {
   "cell_type": "markdown",
   "metadata": {},
   "source": [
    "Import and configure the `ConfigSpace` object we need for the search algorithm."
   ]
  },
  {
   "cell_type": "code",
   "execution_count": 7,
   "metadata": {},
   "outputs": [],
   "source": [
    "import ConfigSpace as CS\n",
    "from ray.tune.schedulers.hb_bohb import HyperBandForBOHB\n",
    "from ray.tune.suggest.bohb import TuneBOHB"
   ]
  },
  {
   "cell_type": "code",
   "execution_count": 8,
   "metadata": {},
   "outputs": [
    {
     "data": {
      "text/plain": [
       "Configuration space object:\n",
       "  Hyperparameters:\n",
       "    lr, Type: Categorical, Choices: {0.001, 0.01, 0.1}, Default: 0.001\n",
       "    momentum, Type: Categorical, Choices: {0.001, 0.01, 0.1, 0.9}, Default: 0.001"
      ]
     },
     "execution_count": 8,
     "metadata": {},
     "output_type": "execute_result"
    }
   ],
   "source": [
    "config_space = CS.ConfigurationSpace()\n",
    "\n",
    "# There are also UniformIntegerHyperparameter and UniformFloatHyperparameter\n",
    "# objects for defining integer and float ranges, respectively. For example:\n",
    "# config_space.add_hyperparameter(\n",
    "#     CS.UniformIntegerHyperparameter('foo', lower=0, upper=100))\n",
    "\n",
    "config_space.add_hyperparameter(\n",
    "    CS.CategoricalHyperparameter('lr', choices=[0.001, 0.01, 0.1]))\n",
    "config_space.add_hyperparameter(\n",
    "    CS.CategoricalHyperparameter('momentum', choices=[0.001, 0.01, 0.1, 0.9]))\n",
    "\n",
    "config_space"
   ]
  },
  {
   "cell_type": "code",
   "execution_count": 9,
   "metadata": {},
   "outputs": [],
   "source": [
    "experiment_metrics = dict(metric=\"mean_accuracy\", mode=\"max\")\n",
    "\n",
    "search_algorithm = TuneBOHB(config_space, max_concurrent=4, **experiment_metrics)\n",
    "\n",
    "scheduler = HyperBandForBOHB(\n",
    "    time_attr='training_iteration',\n",
    "    reduction_factor=4,\n",
    "    max_t=200,\n",
    "    **experiment_metrics)"
   ]
  },
  {
   "cell_type": "markdown",
   "metadata": {},
   "source": [
    "Through experimentation, we determined that `max_t=200` is necessary to get good results. For the smallest learning rate and momentum values, it takes longer for training to converge."
   ]
  },
  {
   "cell_type": "code",
   "execution_count": 10,
   "metadata": {
    "scrolled": true
   },
   "outputs": [
    {
     "data": {
      "text/html": [
       "== Status ==<br>Memory usage on this node: 10.3/16.0 GiB<br>Using HyperBand: num_stopped=10 total_brackets=2\n",
       "Round #0:\n",
       "  None\n",
       "  Bracket(Max Size (n)=2, Milestone (r)=152, completed=100.0%): {TERMINATED: 12} <br>Resources requested: 0/8 CPUs, 0/0 GPUs, 0.0/4.64 GiB heap, 0.0/1.56 GiB objects<br>Result logdir: /Users/deanwampler/ray_results/TrainMNIST<br>Number of trials: 12 (12 TERMINATED)<br><table>\n",
       "<thead>\n",
       "<tr><th>Trial name         </th><th>status    </th><th>loc  </th><th style=\"text-align: right;\">   lr</th><th style=\"text-align: right;\">  momentum</th><th style=\"text-align: right;\">     acc</th><th style=\"text-align: right;\">  iter</th><th style=\"text-align: right;\">  total time (s)</th></tr>\n",
       "</thead>\n",
       "<tbody>\n",
       "<tr><td>TrainMNIST_2d839100</td><td>TERMINATED</td><td>     </td><td style=\"text-align: right;\">0.1  </td><td style=\"text-align: right;\">     0.001</td><td style=\"text-align: right;\">0.940625</td><td style=\"text-align: right;\">    48</td><td style=\"text-align: right;\">        22.5779 </td></tr>\n",
       "<tr><td>TrainMNIST_2d8413a0</td><td>TERMINATED</td><td>     </td><td style=\"text-align: right;\">0.1  </td><td style=\"text-align: right;\">     0.01 </td><td style=\"text-align: right;\">0.928125</td><td style=\"text-align: right;\">    48</td><td style=\"text-align: right;\">        23.0732 </td></tr>\n",
       "<tr><td>TrainMNIST_2d84ec3a</td><td>TERMINATED</td><td>     </td><td style=\"text-align: right;\">0.001</td><td style=\"text-align: right;\">     0.1  </td><td style=\"text-align: right;\">0.221875</td><td style=\"text-align: right;\">    12</td><td style=\"text-align: right;\">         9.01179</td></tr>\n",
       "<tr><td>TrainMNIST_2d85964e</td><td>TERMINATED</td><td>     </td><td style=\"text-align: right;\">0.1  </td><td style=\"text-align: right;\">     0.01 </td><td style=\"text-align: right;\">0.809375</td><td style=\"text-align: right;\">    12</td><td style=\"text-align: right;\">         8.28744</td></tr>\n",
       "<tr><td>TrainMNIST_312a3282</td><td>TERMINATED</td><td>     </td><td style=\"text-align: right;\">0.01 </td><td style=\"text-align: right;\">     0.1  </td><td style=\"text-align: right;\">0.24375 </td><td style=\"text-align: right;\">    12</td><td style=\"text-align: right;\">         7.43025</td></tr>\n",
       "<tr><td>TrainMNIST_31330bfa</td><td>TERMINATED</td><td>     </td><td style=\"text-align: right;\">0.1  </td><td style=\"text-align: right;\">     0.1  </td><td style=\"text-align: right;\">0.8125  </td><td style=\"text-align: right;\">    12</td><td style=\"text-align: right;\">         7.67244</td></tr>\n",
       "<tr><td>TrainMNIST_314c11b8</td><td>TERMINATED</td><td>     </td><td style=\"text-align: right;\">0.1  </td><td style=\"text-align: right;\">     0.9  </td><td style=\"text-align: right;\">0.790625</td><td style=\"text-align: right;\">    12</td><td style=\"text-align: right;\">         7.51811</td></tr>\n",
       "<tr><td>TrainMNIST_31726f84</td><td>TERMINATED</td><td>     </td><td style=\"text-align: right;\">0.1  </td><td style=\"text-align: right;\">     0.001</td><td style=\"text-align: right;\">0.90625 </td><td style=\"text-align: right;\">    48</td><td style=\"text-align: right;\">        22.5777 </td></tr>\n",
       "<tr><td>TrainMNIST_34e85020</td><td>TERMINATED</td><td>     </td><td style=\"text-align: right;\">0.001</td><td style=\"text-align: right;\">     0.01 </td><td style=\"text-align: right;\">0.1375  </td><td style=\"text-align: right;\">    12</td><td style=\"text-align: right;\">         4.94504</td></tr>\n",
       "<tr><td>TrainMNIST_34f645c2</td><td>TERMINATED</td><td>     </td><td style=\"text-align: right;\">0.1  </td><td style=\"text-align: right;\">     0.01 </td><td style=\"text-align: right;\">0.846875</td><td style=\"text-align: right;\">    12</td><td style=\"text-align: right;\">         4.9538 </td></tr>\n",
       "<tr><td>TrainMNIST_350d0a32</td><td>TERMINATED</td><td>     </td><td style=\"text-align: right;\">0.1  </td><td style=\"text-align: right;\">     0.01 </td><td style=\"text-align: right;\">0.953125</td><td style=\"text-align: right;\">   152</td><td style=\"text-align: right;\">        47.7074 </td></tr>\n",
       "<tr><td>TrainMNIST_352d04ea</td><td>TERMINATED</td><td>     </td><td style=\"text-align: right;\">0.1  </td><td style=\"text-align: right;\">     0.001</td><td style=\"text-align: right;\">0.934375</td><td style=\"text-align: right;\">   152</td><td style=\"text-align: right;\">        48.0565 </td></tr>\n",
       "</tbody>\n",
       "</table><br><br>"
      ],
      "text/plain": [
       "<IPython.core.display.HTML object>"
      ]
     },
     "metadata": {},
     "output_type": "display_data"
    }
   ],
   "source": [
    "analysis = tune.run(TrainMNIST, \n",
    "    scheduler=scheduler, \n",
    "    search_alg=search_algorithm, \n",
    "    num_samples=12,                           # Force it try all 12 combinations\n",
    "    verbose=1\n",
    ")"
   ]
  },
  {
   "cell_type": "code",
   "execution_count": 11,
   "metadata": {},
   "outputs": [
    {
     "name": "stdout",
     "output_type": "stream",
     "text": [
      "  85.34 seconds,    1.42 minutes\n"
     ]
    }
   ],
   "source": [
    "stats = analysis.stats()\n",
    "secs = stats[\"timestamp\"] - stats[\"start_time\"]\n",
    "print(f'{secs:7.2f} seconds, {secs/60.0:7.2f} minutes')"
   ]
  },
  {
   "cell_type": "code",
   "execution_count": 12,
   "metadata": {},
   "outputs": [
    {
     "name": "stdout",
     "output_type": "stream",
     "text": [
      "Best config:  {'lr': 0.1, 'momentum': 0.01}\n"
     ]
    }
   ],
   "source": [
    "print(\"Best config: \", analysis.get_best_config(metric=\"mean_accuracy\"))"
   ]
  },
  {
   "cell_type": "code",
   "execution_count": 13,
   "metadata": {},
   "outputs": [
    {
     "data": {
      "text/html": [
       "<div>\n",
       "<style scoped>\n",
       "    .dataframe tbody tr th:only-of-type {\n",
       "        vertical-align: middle;\n",
       "    }\n",
       "\n",
       "    .dataframe tbody tr th {\n",
       "        vertical-align: top;\n",
       "    }\n",
       "\n",
       "    .dataframe thead th {\n",
       "        text-align: right;\n",
       "    }\n",
       "</style>\n",
       "<table border=\"1\" class=\"dataframe\">\n",
       "  <thead>\n",
       "    <tr style=\"text-align: right;\">\n",
       "      <th></th>\n",
       "      <th>mean_accuracy</th>\n",
       "      <th>done</th>\n",
       "      <th>timesteps_total</th>\n",
       "      <th>episodes_total</th>\n",
       "      <th>training_iteration</th>\n",
       "      <th>experiment_id</th>\n",
       "      <th>date</th>\n",
       "      <th>timestamp</th>\n",
       "      <th>time_this_iter_s</th>\n",
       "      <th>time_total_s</th>\n",
       "      <th>...</th>\n",
       "      <th>hostname</th>\n",
       "      <th>node_ip</th>\n",
       "      <th>time_since_restore</th>\n",
       "      <th>timesteps_since_restore</th>\n",
       "      <th>iterations_since_restore</th>\n",
       "      <th>trial_id</th>\n",
       "      <th>experiment_tag</th>\n",
       "      <th>config/lr</th>\n",
       "      <th>config/momentum</th>\n",
       "      <th>logdir</th>\n",
       "    </tr>\n",
       "  </thead>\n",
       "  <tbody>\n",
       "    <tr>\n",
       "      <th>10</th>\n",
       "      <td>0.953125</td>\n",
       "      <td>False</td>\n",
       "      <td>NaN</td>\n",
       "      <td>NaN</td>\n",
       "      <td>152</td>\n",
       "      <td>59879bcc54d649f19dc37e3c6d2c5013</td>\n",
       "      <td>2020-07-22_11-08-42</td>\n",
       "      <td>1595441322</td>\n",
       "      <td>0.282310</td>\n",
       "      <td>47.707444</td>\n",
       "      <td>...</td>\n",
       "      <td>DWAnyscaleMBP.local</td>\n",
       "      <td>192.168.1.149</td>\n",
       "      <td>28.228995</td>\n",
       "      <td>0</td>\n",
       "      <td>104</td>\n",
       "      <td>350d0a32</td>\n",
       "      <td>11_lr=0.1,momentum=0.01</td>\n",
       "      <td>0.1</td>\n",
       "      <td>0.010</td>\n",
       "      <td>/Users/deanwampler/ray_results/TrainMNIST/Trai...</td>\n",
       "    </tr>\n",
       "    <tr>\n",
       "      <th>0</th>\n",
       "      <td>0.940625</td>\n",
       "      <td>False</td>\n",
       "      <td>NaN</td>\n",
       "      <td>NaN</td>\n",
       "      <td>48</td>\n",
       "      <td>1fe2cc811b634aa1bb41443e797e667b</td>\n",
       "      <td>2020-07-22_11-08-11</td>\n",
       "      <td>1595441291</td>\n",
       "      <td>0.390680</td>\n",
       "      <td>22.577943</td>\n",
       "      <td>...</td>\n",
       "      <td>DWAnyscaleMBP.local</td>\n",
       "      <td>192.168.1.149</td>\n",
       "      <td>14.280070</td>\n",
       "      <td>0</td>\n",
       "      <td>36</td>\n",
       "      <td>2d839100</td>\n",
       "      <td>1_lr=0.1,momentum=0.001</td>\n",
       "      <td>0.1</td>\n",
       "      <td>0.001</td>\n",
       "      <td>/Users/deanwampler/ray_results/TrainMNIST/Trai...</td>\n",
       "    </tr>\n",
       "    <tr>\n",
       "      <th>11</th>\n",
       "      <td>0.934375</td>\n",
       "      <td>True</td>\n",
       "      <td>NaN</td>\n",
       "      <td>NaN</td>\n",
       "      <td>152</td>\n",
       "      <td>c3c6037f2dda486baffea1bfd824ccab</td>\n",
       "      <td>2020-07-22_11-08-42</td>\n",
       "      <td>1595441322</td>\n",
       "      <td>0.287843</td>\n",
       "      <td>48.056502</td>\n",
       "      <td>...</td>\n",
       "      <td>DWAnyscaleMBP.local</td>\n",
       "      <td>192.168.1.149</td>\n",
       "      <td>28.549460</td>\n",
       "      <td>0</td>\n",
       "      <td>104</td>\n",
       "      <td>352d04ea</td>\n",
       "      <td>12_lr=0.1,momentum=0.001</td>\n",
       "      <td>0.1</td>\n",
       "      <td>0.001</td>\n",
       "      <td>/Users/deanwampler/ray_results/TrainMNIST/Trai...</td>\n",
       "    </tr>\n",
       "    <tr>\n",
       "      <th>1</th>\n",
       "      <td>0.928125</td>\n",
       "      <td>True</td>\n",
       "      <td>NaN</td>\n",
       "      <td>NaN</td>\n",
       "      <td>48</td>\n",
       "      <td>36dd716e34a34fdca0a5d53eeba3b774</td>\n",
       "      <td>2020-07-22_11-08-11</td>\n",
       "      <td>1595441291</td>\n",
       "      <td>0.368011</td>\n",
       "      <td>23.073215</td>\n",
       "      <td>...</td>\n",
       "      <td>DWAnyscaleMBP.local</td>\n",
       "      <td>192.168.1.149</td>\n",
       "      <td>14.546131</td>\n",
       "      <td>0</td>\n",
       "      <td>36</td>\n",
       "      <td>2d8413a0</td>\n",
       "      <td>2_lr=0.1,momentum=0.01</td>\n",
       "      <td>0.1</td>\n",
       "      <td>0.010</td>\n",
       "      <td>/Users/deanwampler/ray_results/TrainMNIST/Trai...</td>\n",
       "    </tr>\n",
       "    <tr>\n",
       "      <th>7</th>\n",
       "      <td>0.906250</td>\n",
       "      <td>False</td>\n",
       "      <td>NaN</td>\n",
       "      <td>NaN</td>\n",
       "      <td>48</td>\n",
       "      <td>925f377c7a7c44728c4057c05a7bd61b</td>\n",
       "      <td>2020-07-22_11-08-11</td>\n",
       "      <td>1595441291</td>\n",
       "      <td>0.377046</td>\n",
       "      <td>22.577711</td>\n",
       "      <td>...</td>\n",
       "      <td>DWAnyscaleMBP.local</td>\n",
       "      <td>192.168.1.149</td>\n",
       "      <td>14.617559</td>\n",
       "      <td>0</td>\n",
       "      <td>36</td>\n",
       "      <td>31726f84</td>\n",
       "      <td>8_lr=0.1,momentum=0.001</td>\n",
       "      <td>0.1</td>\n",
       "      <td>0.001</td>\n",
       "      <td>/Users/deanwampler/ray_results/TrainMNIST/Trai...</td>\n",
       "    </tr>\n",
       "  </tbody>\n",
       "</table>\n",
       "<p>5 rows × 21 columns</p>\n",
       "</div>"
      ],
      "text/plain": [
       "    mean_accuracy   done  timesteps_total  episodes_total  training_iteration  \\\n",
       "10       0.953125  False              NaN             NaN                 152   \n",
       "0        0.940625  False              NaN             NaN                  48   \n",
       "11       0.934375   True              NaN             NaN                 152   \n",
       "1        0.928125   True              NaN             NaN                  48   \n",
       "7        0.906250  False              NaN             NaN                  48   \n",
       "\n",
       "                       experiment_id                 date   timestamp  \\\n",
       "10  59879bcc54d649f19dc37e3c6d2c5013  2020-07-22_11-08-42  1595441322   \n",
       "0   1fe2cc811b634aa1bb41443e797e667b  2020-07-22_11-08-11  1595441291   \n",
       "11  c3c6037f2dda486baffea1bfd824ccab  2020-07-22_11-08-42  1595441322   \n",
       "1   36dd716e34a34fdca0a5d53eeba3b774  2020-07-22_11-08-11  1595441291   \n",
       "7   925f377c7a7c44728c4057c05a7bd61b  2020-07-22_11-08-11  1595441291   \n",
       "\n",
       "    time_this_iter_s  time_total_s  ...             hostname        node_ip  \\\n",
       "10          0.282310     47.707444  ...  DWAnyscaleMBP.local  192.168.1.149   \n",
       "0           0.390680     22.577943  ...  DWAnyscaleMBP.local  192.168.1.149   \n",
       "11          0.287843     48.056502  ...  DWAnyscaleMBP.local  192.168.1.149   \n",
       "1           0.368011     23.073215  ...  DWAnyscaleMBP.local  192.168.1.149   \n",
       "7           0.377046     22.577711  ...  DWAnyscaleMBP.local  192.168.1.149   \n",
       "\n",
       "   time_since_restore  timesteps_since_restore  iterations_since_restore  \\\n",
       "10          28.228995                        0                       104   \n",
       "0           14.280070                        0                        36   \n",
       "11          28.549460                        0                       104   \n",
       "1           14.546131                        0                        36   \n",
       "7           14.617559                        0                        36   \n",
       "\n",
       "    trial_id            experiment_tag config/lr  config/momentum  \\\n",
       "10  350d0a32   11_lr=0.1,momentum=0.01       0.1            0.010   \n",
       "0   2d839100   1_lr=0.1,momentum=0.001       0.1            0.001   \n",
       "11  352d04ea  12_lr=0.1,momentum=0.001       0.1            0.001   \n",
       "1   2d8413a0    2_lr=0.1,momentum=0.01       0.1            0.010   \n",
       "7   31726f84   8_lr=0.1,momentum=0.001       0.1            0.001   \n",
       "\n",
       "                                               logdir  \n",
       "10  /Users/deanwampler/ray_results/TrainMNIST/Trai...  \n",
       "0   /Users/deanwampler/ray_results/TrainMNIST/Trai...  \n",
       "11  /Users/deanwampler/ray_results/TrainMNIST/Trai...  \n",
       "1   /Users/deanwampler/ray_results/TrainMNIST/Trai...  \n",
       "7   /Users/deanwampler/ray_results/TrainMNIST/Trai...  \n",
       "\n",
       "[5 rows x 21 columns]"
      ]
     },
     "execution_count": 13,
     "metadata": {},
     "output_type": "execute_result"
    }
   ],
   "source": [
    "analysis.dataframe().sort_values('mean_accuracy', ascending=False).head()"
   ]
  },
  {
   "cell_type": "code",
   "execution_count": 14,
   "metadata": {},
   "outputs": [
    {
     "data": {
      "text/html": [
       "<div>\n",
       "<style scoped>\n",
       "    .dataframe tbody tr th:only-of-type {\n",
       "        vertical-align: middle;\n",
       "    }\n",
       "\n",
       "    .dataframe tbody tr th {\n",
       "        vertical-align: top;\n",
       "    }\n",
       "\n",
       "    .dataframe thead th {\n",
       "        text-align: right;\n",
       "    }\n",
       "</style>\n",
       "<table border=\"1\" class=\"dataframe\">\n",
       "  <thead>\n",
       "    <tr style=\"text-align: right;\">\n",
       "      <th></th>\n",
       "      <th>mean_accuracy</th>\n",
       "      <th>config/lr</th>\n",
       "      <th>config/momentum</th>\n",
       "    </tr>\n",
       "  </thead>\n",
       "  <tbody>\n",
       "    <tr>\n",
       "      <th>10</th>\n",
       "      <td>0.953125</td>\n",
       "      <td>0.100</td>\n",
       "      <td>0.010</td>\n",
       "    </tr>\n",
       "    <tr>\n",
       "      <th>0</th>\n",
       "      <td>0.940625</td>\n",
       "      <td>0.100</td>\n",
       "      <td>0.001</td>\n",
       "    </tr>\n",
       "    <tr>\n",
       "      <th>11</th>\n",
       "      <td>0.934375</td>\n",
       "      <td>0.100</td>\n",
       "      <td>0.001</td>\n",
       "    </tr>\n",
       "    <tr>\n",
       "      <th>1</th>\n",
       "      <td>0.928125</td>\n",
       "      <td>0.100</td>\n",
       "      <td>0.010</td>\n",
       "    </tr>\n",
       "    <tr>\n",
       "      <th>7</th>\n",
       "      <td>0.906250</td>\n",
       "      <td>0.100</td>\n",
       "      <td>0.001</td>\n",
       "    </tr>\n",
       "    <tr>\n",
       "      <th>9</th>\n",
       "      <td>0.846875</td>\n",
       "      <td>0.100</td>\n",
       "      <td>0.010</td>\n",
       "    </tr>\n",
       "    <tr>\n",
       "      <th>5</th>\n",
       "      <td>0.812500</td>\n",
       "      <td>0.100</td>\n",
       "      <td>0.100</td>\n",
       "    </tr>\n",
       "    <tr>\n",
       "      <th>3</th>\n",
       "      <td>0.809375</td>\n",
       "      <td>0.100</td>\n",
       "      <td>0.010</td>\n",
       "    </tr>\n",
       "    <tr>\n",
       "      <th>6</th>\n",
       "      <td>0.790625</td>\n",
       "      <td>0.100</td>\n",
       "      <td>0.900</td>\n",
       "    </tr>\n",
       "    <tr>\n",
       "      <th>4</th>\n",
       "      <td>0.243750</td>\n",
       "      <td>0.010</td>\n",
       "      <td>0.100</td>\n",
       "    </tr>\n",
       "    <tr>\n",
       "      <th>2</th>\n",
       "      <td>0.221875</td>\n",
       "      <td>0.001</td>\n",
       "      <td>0.100</td>\n",
       "    </tr>\n",
       "    <tr>\n",
       "      <th>8</th>\n",
       "      <td>0.137500</td>\n",
       "      <td>0.001</td>\n",
       "      <td>0.010</td>\n",
       "    </tr>\n",
       "  </tbody>\n",
       "</table>\n",
       "</div>"
      ],
      "text/plain": [
       "    mean_accuracy  config/lr  config/momentum\n",
       "10       0.953125      0.100            0.010\n",
       "0        0.940625      0.100            0.001\n",
       "11       0.934375      0.100            0.001\n",
       "1        0.928125      0.100            0.010\n",
       "7        0.906250      0.100            0.001\n",
       "9        0.846875      0.100            0.010\n",
       "5        0.812500      0.100            0.100\n",
       "3        0.809375      0.100            0.010\n",
       "6        0.790625      0.100            0.900\n",
       "4        0.243750      0.010            0.100\n",
       "2        0.221875      0.001            0.100\n",
       "8        0.137500      0.001            0.010"
      ]
     },
     "execution_count": 14,
     "metadata": {},
     "output_type": "execute_result"
    }
   ],
   "source": [
    "analysis.dataframe()[['mean_accuracy', 'config/lr', 'config/momentum']].sort_values('mean_accuracy', ascending=False)"
   ]
  },
  {
   "cell_type": "markdown",
   "metadata": {},
   "source": [
    "The runs in the previous lesson, for the class-based and the function-based Tune APIs, took between 12 and 20 seconds (on my machine), but we only trained for 20 iterations, where as here we went for 100 iterations. That also accounts for the different results, notably that a much smaller momentum value `0.01` and `0.1` perform best here, while for the the previous lesson `0.9` performed best. This is because a smaller momentum value will result in longer training times required, but more fine-tuned iterating to the optimal result, so more training iterations will favor a smaller momentum value. Still, the mean accuracies among the top three or four combinations are quite close."
   ]
  },
  {
   "cell_type": "markdown",
   "metadata": {},
   "source": [
    "## Exercise - Population Base Training\n",
    "\n",
    "Read the [documentation]() on _population based training_ to understand what it is doing. The next cell configures a PBT scheduler and defines other things you'll need. \n",
    "\n",
    "See also the discussion for the results [here](solutions/03/Search-Algos-and-Schedulers-Solutions.ipynb).\n",
    "\n",
    "> **NOTE:** For a more complete example using MNIST and PyTorch, see [this example code](https://github.com/ray-project/ray/blob/master/python/ray/tune/examples/mnist_pytorch_lightning.py)."
   ]
  },
  {
   "cell_type": "code",
   "execution_count": 15,
   "metadata": {},
   "outputs": [],
   "source": [
    "from ray.tune.schedulers import PopulationBasedTraining\n",
    "\n",
    "pbt_scheduler = PopulationBasedTraining(\n",
    "        time_attr='training_iteration',\n",
    "        perturbation_interval=10,  # Every N time_attr units, \"perturb\" the parameters.\n",
    "        hyperparam_mutations={\n",
    "            \"lr\": [0.001, 0.01, 0.1],\n",
    "            \"momentum\": [0.001, 0.01, 0.1, 0.9]\n",
    "        },\n",
    "        **experiment_metrics)\n",
    "\n",
    "# Note: This appears to be needed to avoid a \"key error\", but in fact these values won't change\n",
    "# in the analysis.dataframe() object, even though they will be tuned by the PBT scheduler.\n",
    "# So when you look at the analysis.dataframe(), look at the `experiment_tag` to see the actual values!\n",
    "config = {\n",
    "    \"lr\": 0.001,            # Use the lowest values from the previous definition\n",
    "    \"momentum\": 0.001\n",
    "}"
   ]
  },
  {
   "cell_type": "markdown",
   "metadata": {},
   "source": [
    "Now run the the following cell, modified from above, which makes these changes:\n",
    "1. Uses the new scheduler.\n",
    "2. Removes the search_alg argument.\n",
    "3. Adds the `config` argument.\n",
    "4. Don't allow it to keep going past `0.97` accuracy for `600` iterations.\n",
    "5. Use `1` for the `verbose` argument to reduce the \"noise\".\n",
    "\n",
    "Then run it. \n",
    "\n",
    "> **WARNING:** This will run for a few minutes."
   ]
  },
  {
   "cell_type": "code",
   "execution_count": null,
   "metadata": {},
   "outputs": [
    {
     "data": {
      "text/html": [
       "== Status ==<br>Memory usage on this node: 10.8/16.0 GiB<br>PopulationBasedTraining: 28 checkpoints, 13 perturbs<br>Resources requested: 8/8 CPUs, 0/0 GPUs, 0.0/4.64 GiB heap, 0.0/1.56 GiB objects<br>Result logdir: /Users/deanwampler/ray_results/TrainMNIST<br>Number of trials: 8 (8 RUNNING)<br><table>\n",
       "<thead>\n",
       "<tr><th>Trial name            </th><th>status  </th><th>loc                </th><th style=\"text-align: right;\">     acc</th><th style=\"text-align: right;\">  iter</th><th style=\"text-align: right;\">  total time (s)</th></tr>\n",
       "</thead>\n",
       "<tbody>\n",
       "<tr><td>TrainMNIST_9188f_00000</td><td>RUNNING </td><td>192.168.1.149:20283</td><td style=\"text-align: right;\">0.784375</td><td style=\"text-align: right;\">   120</td><td style=\"text-align: right;\">         60.8609</td></tr>\n",
       "<tr><td>TrainMNIST_9188f_00001</td><td>RUNNING </td><td>192.168.1.149:20346</td><td style=\"text-align: right;\">0.909375</td><td style=\"text-align: right;\">    91</td><td style=\"text-align: right;\">         46.5615</td></tr>\n",
       "<tr><td>TrainMNIST_9188f_00002</td><td>RUNNING </td><td>192.168.1.149:20287</td><td style=\"text-align: right;\">0.909375</td><td style=\"text-align: right;\">   109</td><td style=\"text-align: right;\">         55.1125</td></tr>\n",
       "<tr><td>TrainMNIST_9188f_00003</td><td>RUNNING </td><td>192.168.1.149:20353</td><td style=\"text-align: right;\">0.784375</td><td style=\"text-align: right;\">    76</td><td style=\"text-align: right;\">         40.3442</td></tr>\n",
       "<tr><td>TrainMNIST_9188f_00004</td><td>RUNNING </td><td>192.168.1.149:20288</td><td style=\"text-align: right;\">0.909375</td><td style=\"text-align: right;\">   115</td><td style=\"text-align: right;\">         56.3124</td></tr>\n",
       "<tr><td>TrainMNIST_9188f_00005</td><td>RUNNING </td><td>192.168.1.149:20284</td><td style=\"text-align: right;\">0.94375 </td><td style=\"text-align: right;\">   100</td><td style=\"text-align: right;\">         51.3084</td></tr>\n",
       "<tr><td>TrainMNIST_9188f_00006</td><td>RUNNING </td><td>192.168.1.149:20343</td><td style=\"text-align: right;\">0.921875</td><td style=\"text-align: right;\">    87</td><td style=\"text-align: right;\">         45.4162</td></tr>\n",
       "<tr><td>TrainMNIST_9188f_00007</td><td>RUNNING </td><td>192.168.1.149:20347</td><td style=\"text-align: right;\">0.896875</td><td style=\"text-align: right;\">    84</td><td style=\"text-align: right;\">         43.9667</td></tr>\n",
       "</tbody>\n",
       "</table><br><br>"
      ],
      "text/plain": [
       "<IPython.core.display.HTML object>"
      ]
     },
     "metadata": {},
     "output_type": "display_data"
    }
   ],
   "source": [
    "analysis = tune.run(TrainMNIST, \n",
    "    scheduler=pbt_scheduler, \n",
    "    config=config,\n",
    "    stop={\"mean_accuracy\": 0.97, \"training_iteration\": 600},\n",
    "    num_samples=8,\n",
    "    verbose=1\n",
    ")\n",
    "\n",
    "stats = analysis.stats()\n",
    "secs = stats[\"timestamp\"] - stats[\"start_time\"]\n",
    "print(f'{secs:7.2f} seconds, {secs/60.0:7.2f} minutes')"
   ]
  },
  {
   "cell_type": "markdown",
   "metadata": {},
   "source": [
    "Look at the `analysis` data of interest, as done previously. (You might want to focus on other columns in the dataframe.) How well does PBT work?"
   ]
  },
  {
   "cell_type": "markdown",
   "metadata": {},
   "source": [
    "The final lesson in this tutorial discusses the new Ray SGD library."
   ]
  }
 ],
 "metadata": {
  "kernelspec": {
   "display_name": "Python 3",
   "language": "python",
   "name": "python3"
  },
  "language_info": {
   "codemirror_mode": {
    "name": "ipython",
    "version": 3
   },
   "file_extension": ".py",
   "mimetype": "text/x-python",
   "name": "python",
   "nbconvert_exporter": "python",
   "pygments_lexer": "ipython3",
   "version": "3.7.6"
  }
 },
 "nbformat": 4,
 "nbformat_minor": 4
}
