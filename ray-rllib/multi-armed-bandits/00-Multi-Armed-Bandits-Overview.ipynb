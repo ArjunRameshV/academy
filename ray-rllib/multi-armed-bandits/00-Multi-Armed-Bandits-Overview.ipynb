{
 "cells": [
  {
   "cell_type": "markdown",
   "metadata": {},
   "source": [
    "# Ray RLlib - Multi-Armed Bandits - Overview\n",
    "\n",
    "© 2019-2020, Anyscale. All Rights Reserved\n",
    "\n",
    "![Anyscale Academy](../../images/AnyscaleAcademy_Logo_clearbanner_141x100.png)\n",
    "\n",
    "This part of the [RLlib tutorial](../00-Ray-RLlib-Overview.ipynb) tutorial introduces _multi-armed bandits_ a popular approach that is very similar to \"classic\" reinforcement learning (RL), but with some differences, which we'll cover in the [first lesson](01-Introduction-to-Multi-Armed-Bandits.ipynb). [RLlib](https://ray.readthedocs.io/en/latest/rllib.html) provides several bandit algorithms:\n",
    "\n",
    "* [Linear Upper Confidence Bound (contrib/LinUCB)](https://docs.ray.io/en/latest/rllib-algorithms.html#linear-upper-confidence-bound-contrib-linucb)\n",
    "* [Linear Thompson Sampling (contrib/LinTS)](https://docs.ray.io/en/latest/rllib-algorithms.html#linear-thompson-sampling-contrib-lints)\n",
    "\n",
    "The lessons in this tutorial use different environments from [OpenAI Gym](https://gym.openai.com/) to illustrate how to train policies."
   ]
  },
  {
   "cell_type": "markdown",
   "metadata": {},
   "source": [
    "Here are the lessons. Note that the `04a-04c` lessons can be studied in any order.\n",
    "\n",
    "|     | Lesson | Description |\n",
    "| :-- | :----- | :---------- |\n",
    "| 00  | [Multi-Armed-Bandits Overview](00-Multi-Armed-Bandits-Overview.iypnb) | Overview of this set of lessons. |\n",
    "| 01  | [Introduction to Multi-Armed Bandits](01-Introduction-to-Multi-Armed-Bandits.ipynb) | A quick introduction to the concepts of multi-armeed bandits (MABs) and how they fit in the spectrum of RL algorithms. |\n",
    "| 02  | [Simple Multi-Armed Bandit](02-Simple-Multi-Armed-Bandit.ipynb) | A simple example of a multi-armed bandit to illustrate the core ideas. |\n",
    "\n",
    "In addition, exercise solutions for this tutorial can be found [here](solutions/Multi-Armed-Bandits-Solutions.ipynb)."
   ]
  },
  {
   "cell_type": "markdown",
   "metadata": {},
   "source": [
    "## Getting Help\n",
    "\n",
    "* The [#tutorial channel](https://ray-distributed.slack.com/archives/C011ML23W5B) on the [Ray Slack](https://ray-distributed.slack.com)\n",
    "* [Email](mailto:academy@anyscale.com)\n",
    "\n",
    "Find an issue? Please report it!\n",
    "\n",
    "* [GitHub issues](https://github.com/anyscale/academy/issues)"
   ]
  },
  {
   "cell_type": "code",
   "execution_count": null,
   "metadata": {},
   "outputs": [],
   "source": []
  }
 ],
 "metadata": {
  "kernelspec": {
   "display_name": "Python 3",
   "language": "python",
   "name": "python3"
  },
  "language_info": {
   "codemirror_mode": {
    "name": "ipython",
    "version": 3
   },
   "file_extension": ".py",
   "mimetype": "text/x-python",
   "name": "python",
   "nbconvert_exporter": "python",
   "pygments_lexer": "ipython3",
   "version": "3.7.6"
  }
 },
 "nbformat": 4,
 "nbformat_minor": 4
}
