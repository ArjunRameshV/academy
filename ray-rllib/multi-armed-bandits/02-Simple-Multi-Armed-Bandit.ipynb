{
 "cells": [
  {
   "cell_type": "markdown",
   "metadata": {},
   "source": [
    "# Ray RLlib - Simple Multi-Armed Bandits Example\n",
    "\n",
    "© 2019-2020, Anyscale. All Rights Reserved\n",
    "\n",
    "![Anyscale Academy](../../images/AnyscaleAcademy_Logo_clearbanner_141x100.png)\n",
    "\n"
   ]
  },
  {
   "cell_type": "markdown",
   "metadata": {},
   "source": [
    "A very simple contextual bandit example with 3 arms"
   ]
  },
  {
   "cell_type": "code",
   "execution_count": 1,
   "metadata": {},
   "outputs": [],
   "source": [
    "import gym\n",
    "from gym.spaces import Discrete, Box\n",
    "import numpy as np\n",
    "import random\n",
    "from ray import tune\n",
    "import time"
   ]
  },
  {
   "cell_type": "code",
   "execution_count": 2,
   "metadata": {},
   "outputs": [],
   "source": [
    "class SimpleContextualBandit (gym.Env):\n",
    "    def __init__ (self, config=None):\n",
    "        self.action_space = Discrete(3)\n",
    "        self.observation_space = Box(low=-1., high=1., shape=(2, ), dtype=np.float64)\n",
    "        self.cur_context = None\n",
    "\n",
    "    def reset (self):\n",
    "        self.cur_context = random.choice([-1., 1.])\n",
    "        return np.array([self.cur_context, -self.cur_context])\n",
    "\n",
    "    def step (self, action):\n",
    "        rewards_for_context = {\n",
    "            -1.: [-10, 0, 10],\n",
    "            1.: [10, 0, -10],\n",
    "        }\n",
    "        \n",
    "        reward = rewards_for_context[self.cur_context][action]\n",
    "        \n",
    "        return (np.array([-self.cur_context, self.cur_context]), reward, True,\n",
    "                {\n",
    "                    \"regret\": 10 - reward\n",
    "                })"
   ]
  },
  {
   "cell_type": "code",
   "execution_count": 7,
   "metadata": {},
   "outputs": [
    {
     "data": {
      "text/plain": [
       "array([-1.,  1.])"
      ]
     },
     "execution_count": 7,
     "metadata": {},
     "output_type": "execute_result"
    }
   ],
   "source": [
    "bandit = SimpleContextualBandit()\n",
    "bandit.reset()"
   ]
  },
  {
   "cell_type": "code",
   "execution_count": 8,
   "metadata": {},
   "outputs": [
    {
     "name": "stdout",
     "output_type": "stream",
     "text": [
      "(array([ 1., -1.]), -10, True, {'regret': 20})\n",
      "(array([ 1., -1.]), 0, True, {'regret': 10})\n",
      "(array([ 1., -1.]), 0, True, {'regret': 10})\n",
      "(array([ 1., -1.]), 10, True, {'regret': 0})\n",
      "(array([ 1., -1.]), -10, True, {'regret': 20})\n",
      "(array([ 1., -1.]), 10, True, {'regret': 0})\n",
      "(array([ 1., -1.]), -10, True, {'regret': 20})\n",
      "(array([ 1., -1.]), 10, True, {'regret': 0})\n",
      "(array([ 1., -1.]), 10, True, {'regret': 0})\n",
      "(array([ 1., -1.]), -10, True, {'regret': 20})\n"
     ]
    }
   ],
   "source": [
    "for i in range(10):\n",
    "    obs = bandit.step(bandit.action_space.sample())\n",
    "    print(obs)"
   ]
  },
  {
   "cell_type": "code",
   "execution_count": 9,
   "metadata": {},
   "outputs": [],
   "source": [
    "stop = {\n",
    "    \"training_iteration\": 200,\n",
    "    \"timesteps_total\": 100000,\n",
    "    \"episode_reward_mean\": 10.0,\n",
    "}\n",
    "\n",
    "config = {\n",
    "    \"env\": SimpleContextualBandit,\n",
    "}"
   ]
  },
  {
   "cell_type": "code",
   "execution_count": null,
   "metadata": {},
   "outputs": [],
   "source": [
    "start_time = time.time()\n",
    "\n",
    "analysis = tune.run(\"contrib/LinUCB\", config=config, stop=stop)\n",
    "\n",
    "print(\"The trials took\", time.time() - start_time, \"seconds\\n\")"
   ]
  },
  {
   "cell_type": "code",
   "execution_count": null,
   "metadata": {},
   "outputs": [],
   "source": []
  }
 ],
 "metadata": {
  "kernelspec": {
   "display_name": "Python 3",
   "language": "python",
   "name": "python3"
  },
  "language_info": {
   "codemirror_mode": {
    "name": "ipython",
    "version": 3
   },
   "file_extension": ".py",
   "mimetype": "text/x-python",
   "name": "python",
   "nbconvert_exporter": "python",
   "pygments_lexer": "ipython3",
   "version": "3.7.6"
  }
 },
 "nbformat": 4,
 "nbformat_minor": 4
}
