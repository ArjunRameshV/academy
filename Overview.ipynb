{
 "cells": [
  {
   "cell_type": "markdown",
   "metadata": {},
   "source": [
    "# Anyscale Academy - Ray Tutorials"
   ]
  },
  {
   "cell_type": "code",
   "execution_count": 2,
   "metadata": {
    "jupyter": {
     "source_hidden": true
    }
   },
   "outputs": [
    {
     "data": {
      "text/html": [
       "<style>\n",
       "table {margin-left: 0 !important;}\n",
       "</style>\n"
      ],
      "text/plain": [
       "<IPython.core.display.HTML object>"
      ]
     },
     "metadata": {},
     "output_type": "display_data"
    }
   ],
   "source": [
    "%%html\n",
    "<style>\n",
    "table {margin-left: 0 !important;}\n",
    "</style>"
   ]
  },
  {
   "cell_type": "markdown",
   "metadata": {},
   "source": [
    "© 2019-2020, Anyscale. All Rights Reserved\n",
    "\n",
    "Welcome to the [Anyscale Academy](https://anyscale.com/academy) tutorials on [Ray](https://ray.io), the system for scaling your applications from a laptop to a cluster.\n",
    "\n",
    "This notebook provides an overview of the tutorials available here. To set up the required version of Python and the libraries you need, see the instructions in the [README](./README.md)."
   ]
  },
  {
   "cell_type": "markdown",
   "metadata": {},
   "source": [
    "## Getting Help and a Request\n",
    "\n",
    "This is an early release of these tutorials. Please report any issues!\n",
    "\n",
    "* [GitHub issues](https://github.com/anyscale/academy/issues)\n",
    "* The [#tutorial channel](https://ray-distributed.slack.com/archives/C011ML23W5B) on the [Ray Slack](https://ray-distributed.slack.com)\n",
    "* [Email](mailto:academy@anyscale.com)\n",
    "\n",
    "Troubleshooting tips are offered in known areas where you might encounter issues. All are summarized in [lesson 6](ray-core/06-RecapTipsTricks.ipynb) in the _Ray Core_ tutorial."
   ]
  },
  {
   "cell_type": "markdown",
   "metadata": {},
   "source": [
    "## Tutorial Guide\n",
    "\n",
    "This directory contains files for setting up your environment (`README.md`, `environment.yml`, and `requirements.txt`), and the Apache license file (`LICENSE`).\n",
    "\n",
    "The `util` directory contains library code used in the notebooks and the `images` directory contains images used in the notebooks.\n",
    "\n",
    "Each tutorial _module_ is contained in a dedicated directory. Each  [Jupyter](https://jupyterlab.readthedocs.io/en/stable/) notebook in a module is a _lesson_. The notebooks follow the naming convention `NN-name.ipynb`, where `NN` is a number that indicates the ordering of lessons. \n",
    "\n",
    "> **Note:** If two or more notebooks have the same `NN` number, it indicates they can be studied an arbitrary order.\n",
    "\n",
    "Let's discuss the modules in this tutorial, which are organized in subdirectories."
   ]
  },
  {
   "cell_type": "markdown",
   "metadata": {},
   "source": [
    "### Crash Course\n",
    "\n",
    "Directory: `crash-course`\n",
    "\n",
    "Start here if you want the quickest introduction to the Ray API. The notebooks in this folder walk through non-trivial examples of Ray _tasks_ and _actors_, which make it painless to scale applications from a laptop to a cluster.\n",
    "\n",
    "| Lesson                                                       | Description                                      |\n",
    "| :----------------------------------------------------------- | :----------------------------------------------- |\n",
    "| [00 Overview](crash-course/00-Overview.ipynb)                | Introduction to this tutorial.                   |\n",
    "| [01 Ray Tasks](crash-course/01-RayCrashCourse-Tasks.ipynb)   | Accelerating _stateless_ work with Ray _tasks_.  |\n",
    "| [02 Ray Actors](crash-course/02-RayCrashCourse-Actors.ipynb) | Intuitive distributed _state_ with Ray _actors_. |\n",
    "\n",
    "After going through these notebooks, proceed to any of the following tutorials:\n",
    "\n",
    "| Module                                                   | Description                                         |\n",
    "| :------------------------------------------------------- | :-------------------------------------------------- |\n",
    "| [Ray Core - A Deeper Dive](ray-core/00-Overview.ipynb)   | More about the Ray API and how it works internally. |\n",
    "| [Ray RLlib](ray-rllib/00-Overview.ipynb)                 | Reinforcement Learning library built on Ray.        |\n",
    "| [Ray Tune](ray-tune/00-Overview.ipynb)                   | Hyperparameter Tuning library built on Ray.         |\n",
    "| [Ray Serve](ray-serve/00-Overview.ipynb)                 | Model Serving library built on Ray.                 |\n",
    "\n",
    "More tutorials will be added soon."
   ]
  },
  {
   "cell_type": "markdown",
   "metadata": {},
   "source": [
    "### Ray Core - A Deeper Dive\n",
    "\n",
    "Directory: `ray-core`\n",
    "\n",
    "This tutorial provides a deeper introduction to Ray's core API. It also explores why Ray was created, what problems it is designed to solve, and how it works behind the scenes.\n",
    "\n",
    "This tutorial assumes you've gone through the Once you've completed the Ray core material, you can explore the rest of the modules in any order.\n",
    "\n",
    "| Lesson | Description |\n",
    "| :----- | :---------- |\n",
    "| [00 Overview](ray-core/00-Overview.ipynb) | Introduction to this tutorial. |\n",
    "| [01 Why Ray?](ray-core/01-WhyRay.ipynb)   | Why was Ray created? What problems does it solve? |\n",
    "| [02 Task Parallelism - Part1](ray-core/02-TaskParallelism-Part1.ipynb) | Part 1 of the introduction to several of the Ray API calls and how to use them to turn synchronous python _functions_ into asynchronous Ray _tasks_. |\n",
    "| [03 Task Parallelism - Part2](ray-core/03-TaskParallelism-Part2.ipynb) | Part 2 of the exploration of Ray _tasks_. |\n",
    "| [04 Distributed State with Actors](ray-core/04-DistributedStateWithActors.ipynb) | Ray _actors_ are the asynchronous analog of Python classes, used to extend the concept of a _task_ to support management of distributed state. |\n",
    "| [05 Exploring Ray API Calls](ray-core/05-ExploringRayAPICalls.ipynb) | The Ray API has other API calls for more advanced scenarios, which are surveyed in this optional module. We'll also look at options you can pass to the API calls we've already learned. |\n",
    "| [06-Recap Tips and Tricks](ray-core/06-RecapAndTipsTricks.ipynb) | The final lesson recaps what we've learned and summarizes the tips and tricks we've covered, plus adds a few more. |\n"
   ]
  },
  {
   "cell_type": "markdown",
   "metadata": {},
   "source": [
    "### Ray RLlib\n",
    "\n",
    "Directory: `ray-rllib`\n",
    "\n",
    "_Ray RLlib_ is Ray's system for _reinforcement learning_. This module begins with a \"crash course\" in RL concepts. It then explores several of the commonly-used algorithms and approaches for different applications.\n",
    "\n",
    "This module will be released soon."
   ]
  },
  {
   "cell_type": "markdown",
   "metadata": {},
   "source": [
    "### Ray Tune and Ray SGD\n",
    "\n",
    "Directory: `ray-tune`\n",
    "\n",
    "_Ray Tune_ is Ray's system for _hyperparameter tuning_. This module starts with an explanation of what hyperparameter tuning is for and the performances challenges doing it for many applications. Then the module explores how to use _Tune_, how it integrates with several popular ML frameworks, and the algorithms supported in _Tune_. The new _Ray SGD_ module is also covered.\n",
    "\n",
    "This module will be released soon."
   ]
  },
  {
   "cell_type": "markdown",
   "metadata": {},
   "source": [
    "### Ray Serve\n",
    "\n",
    "Directory: `ray-serve`\n",
    "\n",
    "_Ray Serve_ is Ray's system for scalable _model serving_, with capabilities that also make it suitable for other web server applications. This module starts with an explanation of what's required in model serving, followed by a tour of the API with examples.\n",
    "\n",
    "This module will be released soon."
   ]
  },
  {
   "cell_type": "markdown",
   "metadata": {},
   "source": [
    "## Troubleshooting\n",
    "\n",
    "When you first start Ray in the very first lesson (i.e., use `ray.init()`), you may run into a few issues:\n",
    "\n",
    "1. If you get an error like `... INFO services.py:... -- Failed to connect to the redis server, retrying.`, it probably means you are running a VPN on your machine. [At this time](https://github.com/ray-project/ray/issues/6573), you can't use `ray.init()` with a VPN running. You'll have to stop your VPN for now.\n",
    "\n",
    "2. If `ray.init()` worked (for example, you see a message like _View the Ray dashboard at localhost:8265_) and you're using a Mac, you may get several annoying dialogs asking you if you want to allow incoming connections for Python and/or Redis. Click \"Accept\" for each one and they shouldn't appear again during this tutorial. MacOS is trying to verify if these executables have been properly signed. Ray uses Redis. If you installed Python using Anaconda or other mechanism, then it probably isn't properly signed from the point of view of MacOS. To permanently fix this problem, [see this StackExchange post](https://apple.stackexchange.com/questions/3271/how-to-get-rid-of-firewall-accept-incoming-connections-dialog). "
   ]
  }
 ],
 "metadata": {
  "kernelspec": {
   "display_name": "Python 3",
   "language": "python",
   "name": "python3"
  },
  "language_info": {
   "codemirror_mode": {
    "name": "ipython",
    "version": 3
   },
   "file_extension": ".py",
   "mimetype": "text/x-python",
   "name": "python",
   "nbconvert_exporter": "python",
   "pygments_lexer": "ipython3",
   "version": "3.7.6"
  }
 },
 "nbformat": 4,
 "nbformat_minor": 4
}
