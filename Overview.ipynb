{
 "cells": [
  {
   "cell_type": "markdown",
   "metadata": {},
   "source": [
    "# Anyscale Academy - Ray Tutorials"
   ]
  },
  {
   "cell_type": "markdown",
   "metadata": {},
   "source": [
    "© 2019-2020, Anyscale. All Rights Reserved\n",
    "\n",
    "Welcome to the [Anyscale Academy](https://anyscale.com/academy) tutorials on [Ray](https://ray.io), the system for scaling your applications from a laptop to a cluster.\n",
    "\n",
    "This notebook provides an overview of the tutorials available here. To set up the required version of Python and the libraries you need, see the instructions in the [README](./README.md)."
   ]
  },
  {
   "cell_type": "markdown",
   "metadata": {},
   "source": [
    "## Getting Help\n",
    "\n",
    "This is an early release of these tutorials. Please report any issues!\n",
    "\n",
    "* [GitHub issues](https://github.com/anyscale/academy/issues)\n",
    "* The [#tutorial channel](https://ray-distributed.slack.com/archives/C011ML23W5B) on the [Ray Slack](https://ray-distributed.slack.com)\n",
    "* [Email](mailto:academy@anyscale.com)\n",
    "\n",
    "Troubleshooting tips are offered in known areas where you might encounter issues. All are summarized in the [_Troubleshooting, Tips, and Tricks notebook_](reference/Troubleshooting-Tips-Tricks.ipynb). For the details of the Ray API and the ML libraries, see the [Ray Docs](https://docs.ray.io/en/latest/).\n",
    "\n",
    "If you are new to Jupyter Lab and Jupyter Notebooks, see _Help > JupyterLab Reference_. The _Help_ menu also has references for Python and various libraries."
   ]
  },
  {
   "cell_type": "markdown",
   "metadata": {},
   "source": [
    "## Which Tutorials Are Right for Me?\n",
    "\n",
    "Here is a recommended reading list, based on your interests:\n",
    "\n",
    "If you are a developer who is new to Ray, start with [_Ray Crash Course_](#user-content-ray-crash-course), then [_Advanced Ray_](#user-content-advanced-ray).\n",
    "\n",
    "If you are a developer who is experienced with Ray, go straight to [_Advanced Ray_](#user-content-advanced-ray).\n",
    "\n",
    "If you are either a developer or a data scientist interested in one of the following topics:\n",
    "\n",
    "* Reinforcement Learning: see [_Ray RLlib_](#user-content-ray-rllib)\n",
    "* Hyperparameter Tuning: see [_Ray Tune_](#user-content-ray-tune)\n",
    "* Accelerated model training with PyTorch: see [_Ray SGD_](#user-content-ray-sgd)\n",
    "* Model serving: see [_Ray Serve_](#user-content-ray-serve)\n",
    "\n",
    "> **Note:** Older Ray tutorials can be found in the [this repo](https://github.com/ray-project/tutorial). They cover topics not yet available here."
   ]
  },
  {
   "cell_type": "markdown",
   "metadata": {},
   "source": [
    "## Tutorial Descriptions\n",
    "\n",
    "Let's explore each tutorial.\n",
    "\n",
    "### This Directory\n",
    "\n",
    "First, the root directory contains files for setting up your environment (`README.md` - this file, `environment.yml`, and `requirements.txt`), as discussed previoiusly, and the Apache license file (`LICENSE`). The `util` and the `images` directories contain library code and images used in the notebooks, respectively. (Each tutorial directory discussed below may also have supporting code files.) There is also a `reference` directory with notebooks and other materials you might find useful.\n",
    "\n",
    "Each tutorial is contained in a dedicated directory. Each [Jupyter](https://jupyterlab.readthedocs.io/en/stable/) notebook is a _lesson_. The notebooks follow the naming convention `NN-name.ipynb`, where `NN` is a number that indicates the ordering of the lessons.\n",
    "\n",
    "> **Note:** If two or more notebooks have the same `NN` number, it indicates they can be studied in arbitrary order.\n",
    "\n",
    "The tutorials are organized in subdirectories."
   ]
  },
  {
   "cell_type": "markdown",
   "metadata": {},
   "source": [
    "## Tutorial Descriptions\n",
    "\n",
    "The rest of this notebook describes each tutorial in more depth, with links to all the lesson notebooks."
   ]
  },
  {
   "cell_type": "markdown",
   "metadata": {},
   "source": [
    "### Reference\n",
    "\n",
    "**Directory:** `reference`\n",
    "\n",
    "The notebooks here provide reference material, like general tips and tricks, how to get help, and troubleshooting issues.\n",
    "\n",
    "* [Troubleshooting, Tips, and Tricks](reference/Troubleshooting-Tips-Tricks.ipynb): How to troubleshoot common problems and other useful tips and tricks."
   ]
  },
  {
   "cell_type": "markdown",
   "metadata": {},
   "source": [
    "### Ray Crash Course\n",
    "\n",
    "**Directory:** `ray-crash-course`\n",
    "\n",
    "**Audience:** You are a developer who wants a fast introduction to the core Ray API. The first two lessons cover the essential parts of the Ray API for _tasks_ and _actors_. The rest of the lessons explore the origin and goals for Ray, Ray replacement versions of several popular multiprocessing APIs, a Ray _parallel iterator_ API, and working with Ray clusters using the `ray` command-line interface (CLI).\n",
    "\n",
    "Experienced developers should go to [_Advanced Ray_](#user-content-advanced-ray). Data scientists may wish to skip to [_Ray RLlib_](#user-content-ray-rllib), [_Ray Tune_](#user-content-ray-tune), [_Ray SGD_](#user-content-ray-sgd), or [_Ray Serve_](#user-content-ray-serve).\n",
    "\n",
    "This is the place to start if you are new to Ray and you plan to use it to scale Python applications to a cluster. Data scientists working with Ray-based toolkits, like _RLlib_, don't need this knowledge to get started.\n",
    "\n",
    "The _crash course_ is intended to focus on learning the core API as quickly as possible, but using nontrivial examples. In contrast, the [_Advanced Ray_](#user-content-advanced-ray) tutorial begins with an explanation of why Ray was created, what problems it solves, and then dives into more advanced API usage, profiling and debugging applications, and how Ray works behind the scenes.\n",
    "\n",
    "| #  | Lesson (Notebook)                                         | Description                                               |\n",
    "| :- | :-------------------------------------------------------- | :-------------------------------------------------------- |\n",
    "| 00 | [Overview](00-Ray-Crash-Course-Overview.ipynb)            | A _table of contents_ for this tutorial.                  |\n",
    "| 01 | [Ray Tasks](01-Ray-Crash-Course-Tasks.ipynb)              | Understanding how Ray converts normal Python functions into distributed _stateless tasks_. |\n",
    "| 02 | [Ray Actors](02-Ray-Crash-Course-Actors.ipynb)            | Understanding how Ray converts normal Python classes into distributed, _stateful actors_.  |\n",
    "| 03 | [Why Ray?](03-Why-Ray.ipynb)                              | Now that you've seen Ray in action, take a step back and explore the origin and motivations for Ray, and the Ray growing ecosystem of libraries and tools.  |\n",
    "| 04 | [Ray Multiprocessing](04-Ray-Multiprocessing.ipynb)       | Ray drop-in replacements for common parallelism APIs and integration with `asyncio`. |\n",
    "| 05 | [Ray Parallel Iterators](05-Ray-Parallel-Iterators.ipynb) | A _parallel iterator_ API for simple data ingest and processing. It can be thought of as syntactic sugar around Ray actors and `ray.wait` loops. |\n",
    "| 06 | [Running Ray Clusters](06-Running-Ray-Clusters.ipynb)     | A brief look at the Ray CLI commands for running and stopping Ray clusters. |\n",
    "\n",
    "In addition, exercise solutions for this tutorial can be found [here](advanced-ray/solutions/Ray-Crash-Course-Solutions.ipynb).\n",
    "\n",
    "Once you've completed this tutorial, go through [_Advanced Ray_](#user-content-advanced-ray) or explore one of the ML-related library tutorials, in any order."
   ]
  },
  {
   "cell_type": "markdown",
   "metadata": {},
   "source": [
    "### Advanced Ray\n",
    "\n",
    "Directory: `advanced-ray`\n",
    "\n",
    "> **Note:** This is a draft tutorial, subject to significant change.\n",
    "\n",
    "Go through the [_Crash Course_](#ray-crash-course) first if you are new to Ray. This tutorial provides a deeper dive into Ray tasks and actors, such as profiling and debugging applications. It also surveys the rest of the core API.\n",
    "\n",
    "| #  | Lesson | Description |\n",
    "| :- | :----- | :---------- |\n",
    "| 00 | [Overview](advanced-ray/00-Overview.ipynb) | A _table of contents_ for this tutorial. |\n",
    "| 01 | [Ray Tasks Revisited](advanced-ray/01-Ray-Tasks-Revisited.ipynb) | More exploration of `ray.wait()` usage patterns, task dependencies and their management, and task profiling techniques. |\n",
    "| 02 | [Ray Actors Revisited](advanced-ray/02-Ray-Actors-Revisited.ipynb) | A more in-depth look at actor characteristis and profiling actor performance using the _Ray Dashboard_. |\n",
    "| 03 | [Ray Internals](advanced-ray/03-Ray-Internals.ipynb) | Explores the architecture of Ray, task scheduling, the Object Store, etc. |\n",
    "| 04 | [Exploring Ray API Calls](advanced-ray/04-Exploring-Ray-API-Calls.ipynb) | The Ray API has other API calls for more advanced scenarios, which are surveyed in this optional lesson. Options you can pass to the API calls already learned are explored. |\n",
    "\n",
    "In addition, exercise solutions for this tutorial can be found [here](advanced-ray/solutions/Advanced-Ray-Solutions.ipynb)."
   ]
  },
  {
   "cell_type": "markdown",
   "metadata": {},
   "source": [
    "### Ray RLlib\n",
    "\n",
    "Directory: `ray-rllib`\n",
    "\n",
    "> **Note:** This is a draft tutorial, subject to significant change.\n",
    "\n",
    "_Ray RLlib_ is Ray's system for _reinforcement learning_. This tutorial begins with a \"crash course\" in RL concepts. It then explores several of the commonly-used algorithms and approaches for different applications.\n",
    "\n",
    "Note that the `04a-04c` lessons can be studied in any order.\n",
    "\n",
    "|     | Lesson | Description |\n",
    "| :-- | :----- | :---------- |\n",
    "| 00  | [Ray RLlib Overview](rllib/00-Ray-RLlib-Overview.iypnb) | Overview of this tutorial. |\n",
    "| 01  | [Introduction to Reinforcement Learning](rllib/01-Introduction-to-Reinforcement-Learning.ipynb) | A quick introduction to the concepts of reinforcement learning,  by @edoakes. You can skim or skip this lesson if you already understand RL concepts. |\n",
    "| 02  | [About RLlib](rllib/02-About-RLlib.ipynb) | An introduction to RLlib, its goals and the capabilities it provides. |\n",
    "| 03  | [Application: Cart Pole](rllib/03-Application-Cart-Pole.ipynb) | The best starting place for learning how to use RL, in this case to train a moving car to balance a vertical pole. Based on the `CartPole-v0` environment from OpenAI Gym, combined with RLlib. |\n",
    "| 04a | [Application: Mountain Car](rllib/04a-Application-Mountain-Car.ipynb) | Based on the `MountainCar-v0` environment from OpenAI Gym. |\n",
    "| 04b | [Application: Taxi](rllib/04b-Application-Taxi.ipynb) | Based on the `Taxi-v3` environment from OpenAI Gym. |\n",
    "| 04c | [Application: Frozen Lake](rllib/04c-Application-Frozen-Lake.ipynb) | Based on the `FrozenLake-v0` environment from OpenAI Gym. |\n",
    "\n",
    "In addition, exercise solutions for this tutorial can be found [here](rllib/solutions/Ray-RLlib-Solutions.ipynb).\n",
    "\n",
    "For earlier versions of some of these tutorials, see [`rllib_exercises`](https://github.com/ray-project/tutorial/blob/master/rllib_exercises/rllib_colab.ipynb) in the original [github.com/ray-project/tutorial](https://github.com/ray-project/tutorial) project."
   ]
  },
  {
   "cell_type": "markdown",
   "metadata": {},
   "source": [
    "### Ray Tune\n",
    "\n",
    "Directory: `ray-tune`\n",
    "\n",
    "_Ray Tune_ is Ray's system for _hyperparameter tuning_. This tutorial starts with an explanation of what hyperparameter tuning is for and the performances challenges doing it for many applications. Then the tutorial explores how to use _Tune_, how it integrates with several popular ML frameworks, and the algorithms supported in _Tune_.\n",
    "\n",
    "> **Note:** This tutorial will be released soon."
   ]
  },
  {
   "cell_type": "markdown",
   "metadata": {},
   "source": [
    "### Ray SGD\n",
    "\n",
    "Directory: `ray-sgd`\n",
    "\n",
    "_Ray SGD_ is a tool to more easily exploit a cluster to perform training with _Stochastic Gradient Descent_ using PyTorch (TensorFlow support forthcoming).\n",
    "\n",
    "> **Note:** This tutorial will be released soon."
   ]
  },
  {
   "cell_type": "markdown",
   "metadata": {},
   "source": [
    "### Ray Serve\n",
    "\n",
    "Directory: `ray-serve`\n",
    "\n",
    "_Ray Serve_ is Ray's system for scalable _model serving_, with capabilities that also make it suitable for other web server applications. This tutorial starts with an explanation of what's required in model serving, followed by a tour of the API with examples.\n",
    "\n",
    "> **Note:** This tutorial will be released soon."
   ]
  }
 ],
 "metadata": {
  "kernelspec": {
   "display_name": "Python 3",
   "language": "python",
   "name": "python3"
  },
  "language_info": {
   "codemirror_mode": {
    "name": "ipython",
    "version": 3
   },
   "file_extension": ".py",
   "mimetype": "text/x-python",
   "name": "python",
   "nbconvert_exporter": "python",
   "pygments_lexer": "ipython3",
   "version": "3.7.6"
  }
 },
 "nbformat": 4,
 "nbformat_minor": 4
}
