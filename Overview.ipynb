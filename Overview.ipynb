{
 "cells": [
  {
   "cell_type": "markdown",
   "metadata": {},
   "source": [
    "# Anyscale Academy - Ray Tutorials"
   ]
  },
  {
   "cell_type": "code",
   "execution_count": 3,
   "metadata": {},
   "outputs": [
    {
     "data": {
      "text/html": [
       "<style>\n",
       "    table {margin-left: 0 !important;}\n",
       "</style>\n"
      ],
      "text/plain": [
       "<IPython.core.display.HTML object>"
      ]
     },
     "metadata": {},
     "output_type": "display_data"
    }
   ],
   "source": [
    "%%html \n",
    "<style>\n",
    "    table {margin-left: 0 !important;}\n",
    "</style>"
   ]
  },
  {
   "cell_type": "markdown",
   "metadata": {},
   "source": [
    "© 2019-2020, Anyscale. All Rights Reserved\n",
    "\n",
    "Welcome to the [Anyscale Academy](https://anyscale.com/academy) tutorials on [Ray](https://ray.io), the system for scaling your applications from a laptop to a cluster.\n",
    "\n",
    "This notebook provides an overview of the tutorials available here. To set up the required version of Python and the libraries you need, see the instructions in the [README](./README.md)."
   ]
  },
  {
   "cell_type": "markdown",
   "metadata": {},
   "source": [
    "## Getting Help and a Request\n",
    "\n",
    "This is an early release of these tutorials. Please report any issues!\n",
    "\n",
    "* [GitHub issues](https://github.com/anyscale/academy/issues)\n",
    "* The [#tutorial channel](https://ray-distributed.slack.com/archives/C011ML23W5B) on the [Ray Slack](https://ray-distributed.slack.com)\n",
    "* [Email](mailto:academy@anyscale.com)\n",
    "\n",
    "Troubleshooting tips are offered in known areas where you might encounter issues. All are summarized in the [_Troubleshooting, Tips, and Tricks notebook_](reference/Troubleshooting-Tips-Tricks.ipynb). For the details of the Ray API and the ML libraries, see the [Ray Docs](https://docs.ray.io/en/latest/)."
   ]
  },
  {
   "cell_type": "markdown",
   "metadata": {},
   "source": [
    "## Which Tutorials Are Right for Me?\n",
    "\n",
    "Here is a recommended reading list, based on your interests:\n",
    "\n",
    "| You Are... | Best Tutorials |\n",
    "| :--------- | :------------- |\n",
    "| A developer who is new to Ray | First, [_Ray Crash Course_](#user-content-ray-crash-course), then [_Ray Core - Advanced_](#user-content-ray-core---advanced) |\n",
    "| A developer who is experienced with Ray | [_Ray Core - Advanced_](#user-content-ray-core---advanced) |\n",
    "| A developer or data scientist interested in Reinforcement Learning | [_Ray RLlib_](#user-content-ray-rllib) |\n",
    "| A developer or data scientist interested in Hyperparameter Tuning  | [_Ray Tune_](#user-content-ray-tune) |\n",
    "| A developer or data scientist interested in accelerated model training with PyTorch  | [_Ray SGD_](#user-content-ray-sgd) |\n",
    "| A developer or data scientist interested in model serving | [_Ray Serve_](#user-content-ray-serve) |\n",
    "\n",
    "> **Note:** Older Ray tutorials can be found in the [this repo](https://github.com/ray-project/tutorial). They cover topics not yet covered by the Anyscale Academy."
   ]
  },
  {
   "cell_type": "markdown",
   "metadata": {},
   "source": [
    "## Tutorial Descriptions\n",
    "\n",
    "Let's explore each tutorial.\n",
    "\n",
    "### This Directory\n",
    "\n",
    "First, the root directory contains files for setting up your environment (`README.md` - this file, `environment.yml`, and `requirements.txt`), as discussed previoiusly, and the Apache license file (`LICENSE`). The `util` and the `images` directories contain library code and images used in the notebooks, respectively. (Each tutorial directory discussed below may also have supporting code files.) There is also a `reference` directory with notebooks and other materials you might find useful.\n",
    "\n",
    "Each tutorial is contained in a dedicated directory. Each [Jupyter](https://jupyterlab.readthedocs.io/en/stable/) notebook is a _lesson_. The notebooks follow the naming convention `NN-name.ipynb`, where `NN` is a number that indicates the ordering of the lessons.\n",
    "\n",
    "> **Note:** If two or more notebooks have the same `NN` number, it indicates they can be studied in arbitrary order.\n",
    "\n",
    "The tutorials are organized in subdirectories."
   ]
  },
  {
   "cell_type": "markdown",
   "metadata": {},
   "source": [
    "## Tutorial Descriptions\n",
    "\n",
    "The rest of this notebook describes each tutorial in more depth, with links to all the lesson notebooks."
   ]
  },
  {
   "cell_type": "markdown",
   "metadata": {},
   "source": [
    "### Reference\n",
    "\n",
    "Directory: `reference`\n",
    "\n",
    "The notebooks here provide reference material, like general tips and tricks, how to get help, and troubleshooting issues.\n",
    "\n",
    "| Lesson (Notebook)                                            | Description                                               |\n",
    "| :----------------------------------------------------------- | :-------------------------------------------------------- |\n",
    "| [Troubleshooting, Tips, and Tricks](reference/Troubleshooting-Tips-Tricks.ipynb) | How to troubleshoot common problems and other useful tips and tricks. |"
   ]
  },
  {
   "cell_type": "markdown",
   "metadata": {},
   "source": [
    "### Ray Crash Course\n",
    "\n",
    "| About | Details |\n",
    "| :----- | :------------ |\n",
    "| _Directory:_ | `ray-crash-course` |\n",
    "| _Audience:_ | You are a developer who wants a fast introduction to the core Ray API. Experienced developers should go to [_Ray Core - Advanced_](#user-content-ray-core---advanced). Data scientists may wish to skip to [_Ray RLlib_](#user-content-ray-rllib), [_Ray Tune_](#user-content-ray-tune), [_Ray SGD_](#user-content-ray-sgd), or [_Ray Serve_](#user-content-ray-serve). |\n",
    "\n",
    "\n",
    "This is the place to start if you are new to Ray and you plan to use it to scale Python applications to a cluster. Data scientists working with Ray-based toolkits, like _RLlib_, don't need this knowledge to get started.\n",
    "\n",
    "The _crash course_ is intended to focus on learning the core API as quickly as possible, but using nontrivial examples. In contrast, the [_Ray Core - Advanced_](#user-content-ray-core---advanced) tutorial begins with an explanation of why Ray was created, what problems it solves, and then dives into more advanced API usage, profiling and debugging applications, and how Ray works behind the scenes.\n",
    "\n",
    "| #  | Lesson | Description |\n",
    "| :- | :----- | :---------- |\n",
    "| 00 | [Overview](ray-crash-course/00-Ray-Crash-Course-Overview.ipynb) | A _table of contents_ for this tutorial. |\n",
    "| 01 | [Ray Crash Course: Tasks](ray-crash-course/01-Ray-Crash-Course-Tasks.ipynb) | Understanding how Ray converts normal Python functions into distributed _stateless tasks_. |\n",
    "| 02 | [Ray Crash Course: Actors](ray-crash-course/02-Ray-Crash-Course-Actors.ipynb) | Understanding how Ray converts normal Python classes into distributed, _stateful actors_. |\n",
    "| 03 | [Adopting Ray](03-Adopting-Ray.ipynb)             | Ray drop-in replacements for common parallelism APIs, about the Ray community, etc. |\n",
    "| 04 | [Running Ray Clusters](04-Running-Ray-Clusters.ipynb) | How to run Ray in a clustered environment, submit your work to it, and integrate with your local development process. |\n",
    "\n",
    "Once you've completed this tutorial, go through [_Ray Core - Advanced_](#user-content-ray-core---advanced) or explore one of the ML-related library tutorials, in any order."
   ]
  },
  {
   "cell_type": "markdown",
   "metadata": {},
   "source": [
    "### Advanced Ray\n",
    "\n",
    "Directory: `advanced-ray`\n",
    "\n",
    "Go through the [_Crash Course_](#ray-crash-course) first if you are new to Ray. Then return to this tutorial, which begins with an explanation of why Ray was created, what problems it solves, and then dives into more advanced API usage, profiling and debugging applications, and how Ray works behind the scenes.\n",
    "\n",
    "This is the place to start. This tutorial introduces you to Ray, why it was created, what problems it solves, how to use it, and how it works behind the scenes.\n",
    "\n",
    "\n",
    "| #  | Lesson | Description |\n",
    "| :- | :----- | :---------- |\n",
    "| 00 | [Overview](advanced-ray/00-Overview.ipynb) | A _table of contents_ for this tutorial. |\n",
    "| 01 | [Why Ray?](advanced-ray/01-Why-Ray.ipynb) | Start in this notebook if you want an explanation of the origin and motivations for Ray. |\n",
    "| 02 | [Ray Tasks Revisited](advanced-ray/02-Ray-Tasks-Revisited.ipynb) | More exploration of `ray.wait()` usage patterns, task dependencies and their management, task profiling techniques, and task scheduling. |\n",
    "| 03 | [Ray Actors Revisited](advanced-ray/03-Ray-Actors-Revisited.ipynb) | A more in-depth look at Actor scheduling under the hood and profiling performance using the _Ray Dashboard_. |\n",
    "| 04 | [Exploring Ray API Calls](advanced-ray/04-Exploring-Ray-API-Calls.ipynb) | The Ray API has other API calls for more advanced scenarios, which are surveyed in this optional lesson. Options you can pass to the API calls already learned are explored. |"
   ]
  },
  {
   "cell_type": "markdown",
   "metadata": {},
   "source": [
    "### Ray RLlib\n",
    "\n",
    "Directory: `ray-rllib`\n",
    "\n",
    "_Ray RLlib_ is Ray's system for _reinforcement learning_. This tutorial begins with a \"crash course\" in RL concepts. It then explores several of the commonly-used algorithms and approaches for different applications.\n",
    "\n",
    "This tutorial will be released soon."
   ]
  },
  {
   "cell_type": "markdown",
   "metadata": {},
   "source": [
    "### Ray Tune\n",
    "\n",
    "Directory: `ray-tune`\n",
    "\n",
    "_Ray Tune_ is Ray's system for _hyperparameter tuning_. This tutorial starts with an explanation of what hyperparameter tuning is for and the performances challenges doing it for many applications. Then the tutorial explores how to use _Tune_, how it integrates with several popular ML frameworks, and the algorithms supported in _Tune_.\n",
    "\n",
    "This tutorial will be released soon."
   ]
  },
  {
   "cell_type": "markdown",
   "metadata": {},
   "source": [
    "### Ray SGD\n",
    "\n",
    "Directory: `ray-sgd`\n",
    "\n",
    "_Ray SGD_ is a tool to more easily exploit a cluster to perform training with _Stochastic Gradient Descent_ using PyTorch (TensorFlow support forthcoming).\n",
    "\n",
    "This tutorial will be released soon."
   ]
  },
  {
   "cell_type": "markdown",
   "metadata": {},
   "source": [
    "### Ray Serve\n",
    "\n",
    "Directory: `ray-serve`\n",
    "\n",
    "_Ray Serve_ is Ray's system for scalable _model serving_, with capabilities that also make it suitable for other web server applications. This tutorial starts with an explanation of what's required in model serving, followed by a tour of the API with examples.\n",
    "\n",
    "This tutorial will be released soon."
   ]
  },
  {
   "cell_type": "code",
   "execution_count": null,
   "metadata": {},
   "outputs": [],
   "source": []
  }
 ],
 "metadata": {
  "kernelspec": {
   "display_name": "Python 3",
   "language": "python",
   "name": "python3"
  },
  "language_info": {
   "codemirror_mode": {
    "name": "ipython",
    "version": 3
   },
   "file_extension": ".py",
   "mimetype": "text/x-python",
   "name": "python",
   "nbconvert_exporter": "python",
   "pygments_lexer": "ipython3",
   "version": "3.7.6"
  }
 },
 "nbformat": 4,
 "nbformat_minor": 4
}
