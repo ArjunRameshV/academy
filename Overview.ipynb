{
 "cells": [
  {
   "cell_type": "markdown",
   "metadata": {},
   "source": [
    "# Anyscale Academy - Ray Tutorials"
   ]
  },
  {
   "cell_type": "code",
   "execution_count": 2,
   "metadata": {
    "jupyter": {
     "source_hidden": true
    }
   },
   "outputs": [
    {
     "data": {
      "text/html": [
       "<style>\n",
       "table {margin-left: 0 !important;}\n",
       "</style>\n"
      ],
      "text/plain": [
       "<IPython.core.display.HTML object>"
      ]
     },
     "metadata": {},
     "output_type": "display_data"
    }
   ],
   "source": [
    "%%html\n",
    "<style>\n",
    "table {margin-left: 0 !important;}\n",
    "</style>"
   ]
  },
  {
   "cell_type": "markdown",
   "metadata": {},
   "source": [
    "© 2019-2020, Anyscale. All Rights Reserved\n",
    "\n",
    "Welcome to the [Anyscale Academy](https://anyscale.com/academy) tutorials on [Ray](https://ray.io), the system for scaling your applications from a laptop to a cluster.\n",
    "\n",
    "This notebook provides an overview of the tutorials available here. To set up the required version of Python and the libraries you need, see the instructions in the [README](./README.md)."
   ]
  },
  {
   "cell_type": "markdown",
   "metadata": {},
   "source": [
    "## Getting Help and a Request\n",
    "\n",
    "This is an early release of these tutorials. Please report any issues!\n",
    "\n",
    "* [GitHub issues](https://github.com/anyscale/academy/issues)\n",
    "* The [#tutorial channel](https://ray-distributed.slack.com/archives/C011ML23W5B) on the [Ray Slack](https://ray-distributed.slack.com)\n",
    "* [Email](mailto:academy@anyscale.com)\n",
    "\n",
    "Troubleshooting tips are offered in known areas where you might encounter issues. All are summarized in [lesson 6](ray-core/06-RecapTipsTricks.ipynb) in the _Ray Core_ tutorial."
   ]
  },
  {
   "cell_type": "markdown",
   "metadata": {},
   "source": [
    "## About These Directories and Files...\n",
    "\n",
    "This directory contains files for setting up your environment (`README.md`, `environment.yml`, and `requirements.txt`), and the Apache license file (`LICENSE`).\n",
    "\n",
    "The `util` directory contains library code used in the notebooks and the `images` directory contains images used in the notebooks.\n",
    "\n",
    "The `reference` directory contains reference materials, like notebooks with tips, tricks, and troubleshooting information.\n",
    "\n",
    "Each tutorial is contained in a dedicated directory. Each [Jupyter](https://jupyterlab.readthedocs.io/en/stable/) notebook in a module is a _lesson_. The notebooks follow the naming convention `NN-name.ipynb`, where `NN` is a number that indicates the ordering of lessons. \n",
    "\n",
    "> **Note:** If two or more notebooks have the same `NN` number or no numbers, it indicates they can be studied an arbitrary order.\n",
    "\n",
    "Let's discuss how to decide which tutorials and lessons are right for you, then provide more details on each tutorial."
   ]
  },
  {
   "cell_type": "markdown",
   "metadata": {},
   "source": [
    "## How to Use These Tutorials\n",
    "\n",
    "TODO - a concise navigation guide."
   ]
  },
  {
   "cell_type": "markdown",
   "metadata": {},
   "source": [
    "## Tutorial Descriptions\n",
    "\n",
    "The rest of this notebook describes each tutorial in more depth, with links to all the lesson notebooks."
   ]
  },
  {
   "cell_type": "markdown",
   "metadata": {},
   "source": [
    "### Reference\n",
    "\n",
    "Directory: `reference`\n",
    "\n",
    "The notebooks here provide reference material, like general tips and tricks, how to get help, and troubleshooting issues.\n",
    "\n",
    "| Lesson (Notebook)                                            | Description                                               |\n",
    "| :----------------------------------------------------------- | :-------------------------------------------------------- |\n",
    "| [Troubleshooting, Tips, and Tricks](reference/Troubleshooting-Tips-Tricks.ipynb) | How to troubleshoot common problems and other useful tips and tricks. |"
   ]
  },
  {
   "cell_type": "markdown",
   "metadata": {},
   "source": [
    "### Crash Course\n",
    "\n",
    "Directory: `crash-course`\n",
    "\n",
    "Start here if you want the quickest introduction to the Ray API. The notebooks in this folder walk through non-trivial examples of Ray _tasks_ and _actors_, which make it painless to scale applications from a laptop to a cluster.\n",
    "\n",
    "| Lesson (Notebook)                                              | Description                                               |\n",
    "| :------------------------------------------------------------- | :-------------------------------------------------------- |\n",
    "| [00 Overview](crash-course/00-Ray-Crash-Course-Overview.ipynb) | Introduction to this tutorial.                            |\n",
    "| [01 Ray Tasks](crash-course/01-Ray-Crash-Course-Tasks.ipynb)   | Scaling _stateless_ work using Ray _tasks_.               |\n",
    "| [02 Ray Actors](crash-course/02-Ray-Crash-Course-Actors.ipynb) | Scaling work with distributed _state_ using Ray _actors_. |\n",
    "\n",
    "After going through these notebooks, proceed to any of the following tutorials:\n",
    "\n",
    "| Module                                                          | Description                                         |\n",
    "| :-------------------------------------------------------------- | :-------------------------------------------------- |\n",
    "| [Ray Core - A Deeper Dive](ray-core/00-Ray-Core-Overview.ipynb) | More about the Ray API and how it works internally. |\n",
    "| [Ray RLlib](ray-rllib/00-Ray-RLlib-Overview.ipynb)              | Reinforcement Learning library built on Ray.        |\n",
    "| [Ray Tune](ray-tune/00-Ray-Tune-Overview.ipynb)                 | Hyperparameter Tuning library built on Ray.         |\n",
    "| [Ray Serve](ray-serve/00-Ray-Serve-Overview.ipynb)              | Model Serving library built on Ray.                 |\n",
    "\n",
    "More tutorials will be added soon."
   ]
  },
  {
   "cell_type": "markdown",
   "metadata": {},
   "source": [
    "### Ray Core - A Deeper Dive\n",
    "\n",
    "Directory: `ray-core`\n",
    "\n",
    "This tutorial provides a deeper introduction to Ray's core API. It also explores why Ray was created, what problems it is designed to solve, and how it works behind the scenes.\n",
    "\n",
    "This tutorial assumes you've gone through the Once you've completed the Ray core material, you can explore the rest of the modules in any order.\n",
    "\n",
    "| Lesson | Description |\n",
    "| :----- | :---------- |\n",
    "| [00 Overview](ray-core/00-Ray-Core-Overview.ipynb) | Introduction to this tutorial. |\n",
    "| [01 Why Ray?](ray-core/01-Why-Ray.ipynb)  | Why was Ray created? What problems does it solve? |\n",
    "| [02 Task Parallelism - Part1](ray-core/02-Task-Parallelism-Part1.ipynb) | Part 1 of the introduction to several of the Ray API calls and how to use them to turn synchronous python _functions_ into asynchronous Ray _tasks_. |\n",
    "| [03 Task Parallelism - Part2](ray-core/03-Task-Parallelism-Part2.ipynb) | Part 2 of the exploration of Ray _tasks_. |\n",
    "| [04 Distributed State with Actors](ray-core/04-Distributed-State-With-Actors.ipynb) | Ray _actors_ are the asynchronous analog of Python classes, used to extend the concept of a _task_ to support management of distributed state. |\n",
    "| [05 Exploring Ray API Calls](ray-core/05-Exploring-Ray-API-Calls.ipynb) | The Ray API has other API calls for more advanced scenarios, which are surveyed in this optional module. We'll also look at options you can pass to the API calls we've already learned. |"
   ]
  },
  {
   "cell_type": "markdown",
   "metadata": {},
   "source": [
    "### Ray RLlib\n",
    "\n",
    "Directory: `ray-rllib`\n",
    "\n",
    "_Ray RLlib_ is Ray's system for _reinforcement learning_. This module begins with a \"crash course\" in RL concepts. It then explores several of the commonly-used algorithms and approaches for different applications.\n",
    "\n",
    "This module will be released soon."
   ]
  },
  {
   "cell_type": "markdown",
   "metadata": {},
   "source": [
    "### Ray Tune and Ray SGD\n",
    "\n",
    "Directory: `ray-tune`\n",
    "\n",
    "_Ray Tune_ is Ray's system for _hyperparameter tuning_. This module starts with an explanation of what hyperparameter tuning is for and the performances challenges doing it for many applications. Then the module explores how to use _Tune_, how it integrates with several popular ML frameworks, and the algorithms supported in _Tune_. The new _Ray SGD_ module is also covered.\n",
    "\n",
    "This module will be released soon."
   ]
  },
  {
   "cell_type": "markdown",
   "metadata": {},
   "source": [
    "### Ray Serve\n",
    "\n",
    "Directory: `ray-serve`\n",
    "\n",
    "_Ray Serve_ is Ray's system for scalable _model serving_, with capabilities that also make it suitable for other web server applications. This module starts with an explanation of what's required in model serving, followed by a tour of the API with examples.\n",
    "\n",
    "This module will be released soon."
   ]
  }
 ],
 "metadata": {
  "kernelspec": {
   "display_name": "Python 3",
   "language": "python",
   "name": "python3"
  },
  "language_info": {
   "codemirror_mode": {
    "name": "ipython",
    "version": 3
   },
   "file_extension": ".py",
   "mimetype": "text/x-python",
   "name": "python",
   "nbconvert_exporter": "python",
   "pygments_lexer": "ipython3",
   "version": "3.7.6"
  }
 },
 "nbformat": 4,
 "nbformat_minor": 4
}
