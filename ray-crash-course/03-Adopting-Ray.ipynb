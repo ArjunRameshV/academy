{
 "cells": [
  {
   "cell_type": "markdown",
   "metadata": {},
   "source": [
    "# Adopting Ray\n",
    "\n",
    "This lesson in the _crash course_ discusses how to adopt Ray, focusing on these aspects:\n",
    "\n",
    "* Drop in replacements for popular single-node, multiprocessing libraries.\n",
    "* The Ray ecosystem, including the community of users and developers, popular Ray-based projects, and resources.\n",
    "\n",
    "This information is useful to know before the last lesson on [Running Ray Clusters](04-Running-Ray-Clusters.ipynb)."
   ]
  },
  {
   "cell_type": "markdown",
   "metadata": {},
   "source": [
    "## Drop-in Replacements for Popular Single-node, Multiprocessing Libraries\n",
    "\n",
    "The Python community has three popular libraries for breaking out of Python's _global interpreter lock_ to enable better multiprocessing and concurrency. Ray now offers drop-in replacements for three of them, which allow apps using them to scale beyond a single-node boundary to a cluster.\n",
    "\n",
    "More details TBD:\n",
    "\n",
    "* asyncio\n",
    "* joblib\n",
    "* multiprocessing.Pool"
   ]
  },
  {
   "cell_type": "markdown",
   "metadata": {},
   "source": [
    "TBD: Examples of Each"
   ]
  },
  {
   "cell_type": "code",
   "execution_count": 2,
   "metadata": {},
   "outputs": [],
   "source": [
    "import ray, time, sys, os\n",
    "import numpy as np\n",
    "import os\n",
    "sys.path.append(\"..\")         # For library helper functions\n",
    "from util.printing import pd  # Printing results helper function"
   ]
  },
  {
   "cell_type": "markdown",
   "metadata": {},
   "source": [
    "From this:\n",
    "\n",
    "```python\n",
    "from multiprocessing.pool import Pool\n",
    "```\n",
    "\n",
    "To this:\n",
    "\n",
    "```python\n",
    "from ray.util.multiprocessing.pool import Pool\n",
    "```"
   ]
  },
  {
   "cell_type": "markdown",
   "metadata": {},
   "source": [
    "# The Ray Ecosystem\n",
    "\n",
    "* [ray.io](https://ray.io)\n",
    "* [Ray documentation](https://ray.readthedocs.io/en/latest/)\n",
    "* [Ray GitHub Repo](https://github.com/ray-project/ray.git)\n",
    "* See also the [Troubleshooting, Tips, and Tricks](reference/Troubleshooting-Tips-Tricks.ipynb) notebook\n",
    "\n",
    "Need help?\n",
    "\n",
    "* [Ray Slack](https://ray-distributed.slack.com) - Sign up [here](https://forms.gle/9TSdDYUgxYs8SA9e8)\n",
    "* [ray-dev Google group](https://groups.google.com/forum/?nomobile=true#!forum/ray-dev) - Not widely used\n",
    "\n",
    "For updates on Ray:\n",
    "\n",
    "* [Ray Slack](https://ray-distributed.slack.com) - Sign up [here](https://forms.gle/9TSdDYUgxYs8SA9e8)\n",
    "* [Twitter](https://twitter.com/raydistributed)\n",
    "\n",
    "TBD more content..."
   ]
  },
  {
   "cell_type": "code",
   "execution_count": null,
   "metadata": {},
   "outputs": [],
   "source": []
  }
 ],
 "metadata": {
  "kernelspec": {
   "display_name": "Python 3",
   "language": "python",
   "name": "python3"
  },
  "language_info": {
   "codemirror_mode": {
    "name": "ipython",
    "version": 3
   },
   "file_extension": ".py",
   "mimetype": "text/x-python",
   "name": "python",
   "nbconvert_exporter": "python",
   "pygments_lexer": "ipython3",
   "version": "3.7.6"
  },
  "toc": {
   "base_numbering": 1,
   "nav_menu": {},
   "number_sections": false,
   "sideBar": true,
   "skip_h1_title": false,
   "title_cell": "Table of Contents",
   "title_sidebar": "Contents",
   "toc_cell": false,
   "toc_position": {
    "height": "calc(100% - 180px)",
    "left": "10px",
    "top": "150px",
    "width": "382.391px"
   },
   "toc_section_display": true,
   "toc_window_display": true
  }
 },
 "nbformat": 4,
 "nbformat_minor": 4
}
