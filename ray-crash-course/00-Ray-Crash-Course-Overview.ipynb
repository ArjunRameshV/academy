{
 "cells": [
  {
   "cell_type": "markdown",
   "metadata": {},
   "source": [
    "# Ray \"Crash Course\" Overview"
   ]
  },
  {
   "cell_type": "markdown",
   "metadata": {},
   "source": [
    "© 2019-2020, Anyscale. All Rights Reserved\n",
    "\n",
    "This tutorial, part of [Anyscale Academy](https://anyscale.com/academy), provides a \"just the facts\" introduction to [Ray](https://ray.io), the system for scaling your applications from a laptop to a cluster. Here, we start with a hands on exploration of the core Ray API for distributed work loads:\n",
    "\n",
    "* Ray _tasks_: Distributed execution of _stateless_ Python functions.\n",
    "* Ray _actors_: Distributed execution of _stateful_ Python classes.\n",
    "\n",
    "Subsequent lessons explore the origin and goals for Ray, Ray replacement versions of several popular multiprocessing APIs, a Ray _parallel iterator_ API, and working with Ray clusters using the `ray` command-line interface (CLI).\n",
    "\n",
    "> **Tips:**\n",
    ">\n",
    "> 1. See the instructions in the [README](../README.md) for setting up your environment to use this tutorial\n",
    "> 2. Having problems? See [Troubleshooting, Tips, and Tricks](../reference/Troubleshooting-Tips-Tricks.ipynb)\n",
    "> 3. Go [here](../Overview.ipynb) for an overview of all tutorials."
   ]
  },
  {
   "cell_type": "markdown",
   "metadata": {},
   "source": [
    "## \"Crash Course\" Tutorial Guide\n",
    "\n",
    "| #  | Lesson (Notebook)                                         | Description                                               |\n",
    "| :- | :-------------------------------------------------------- | :-------------------------------------------------------- |\n",
    "| 00 | [Overview](00-Ray-Crash-Course-Overview.ipynb)            | A _table of contents_ for this tutorial.                  |\n",
    "| 01 | [Ray Tasks](01-Ray-Crash-Course-Tasks.ipynb)              | Understanding how Ray converts normal Python functions into distributed _stateless tasks_. |\n",
    "| 02 | [Ray Actors](02-Ray-Crash-Course-Actors.ipynb)            | Understanding how Ray converts normal Python classes into distributed, _stateful actors_.  |\n",
    "| 03 | [Why Ray?](03-Why-Ray.ipynb)                              | Now that you've seen Ray in action, take a step back and explore the origin and motivations for Ray, and the Ray growing ecosystem of libraries and tools.  |\n",
    "| 04 | [Ray Multiprocessing](04-Ray-Multiprocessing.ipynb)       | Ray drop-in replacements for common parallelism APIs and integration with `asyncio`. |\n",
    "| 05 | [Ray Parallel Iterators](05-Ray-Parallel-Iterators.ipynb) | A _parallel iterator_ API for simple data ingest and processing. It can be thought of as syntactic sugar around Ray actors and `ray.wait` loops. |\n",
    "| 06 | [Running Ray Clusters](06-Running-Ray-Clusters.ipynb)     | A brief look at the Ray CLI commands for running and stopping Ray clusters. |\n"
   ]
  },
  {
   "cell_type": "markdown",
   "metadata": {},
   "source": [
    "In addition, exercise solutions for this tutorial can be found [here](solutions/Ray-Crash-Course-Solutions.ipynb)."
   ]
  },
  {
   "cell_type": "code",
   "execution_count": null,
   "metadata": {},
   "outputs": [],
   "source": []
  }
 ],
 "metadata": {
  "kernelspec": {
   "display_name": "Python 3",
   "language": "python",
   "name": "python3"
  },
  "language_info": {
   "codemirror_mode": {
    "name": "ipython",
    "version": 3
   },
   "file_extension": ".py",
   "mimetype": "text/x-python",
   "name": "python",
   "nbconvert_exporter": "python",
   "pygments_lexer": "ipython3",
   "version": "3.7.6"
  }
 },
 "nbformat": 4,
 "nbformat_minor": 4
}
