{
 "cells": [
  {
   "cell_type": "markdown",
   "metadata": {},
   "source": [
    "# Ray \"Crash Course\" Overview"
   ]
  },
  {
   "cell_type": "markdown",
   "metadata": {},
   "source": [
    "© 2019-2020, Anyscale. All Rights Reserved\n",
    "\n",
    "This tutorial, part of [Anyscale Academy](https://anyscale.com/academy), provides a \"just the facts\" introduction to [Ray](https://ray.io), the system for scaling your applications from a laptop to a cluster. Here we focus on the core Ray API for distributed work loads:\n",
    "\n",
    "* Ray _tasks_: Distributed execution of _stateless_ Python functions.\n",
    "* Ray _actors_: Distributed execution of _stateful_ Python classes.\n",
    "\n",
    "> **Tips:**\n",
    ">\n",
    "> 1. See the instructions in the [README](../README.md) for setting up your environment to use this tutorial\n",
    "> 2. Having problems? See [Troubleshooting, Tips, and Tricks](../reference/Troubleshooting-Tips-Tricks.ipynb)\n",
    "> 3. Go [here](../Overview.ipynb) for an overview of all tutorials."
   ]
  },
  {
   "cell_type": "markdown",
   "metadata": {},
   "source": [
    "## \"Crash Course\" Tutorial Guide\n",
    "\n",
    "| #  | Lesson (Notebook)                                 | Description                                               |\n",
    "| :- | :------------------------------------------------ | :-------------------------------------------------------- |\n",
    "| 00 | [Overview](00-Ray-Crash-Course-Overview.ipynb)    | This notebook.                                            |\n",
    "| 01 | [Ray Tasks](01-Ray-Crash-Course-Tasks.ipynb)      | Scaling _stateless_ work using Ray _tasks_.               |\n",
    "| 02 | [Ray Actors](02-Ray-Crash-Course-Actors.ipynb)    | Scaling work with distributed _state_ using Ray _actors_. |\n",
    "| 03 | [Adopting Ray](03-Adopting-Ray.ipynb)             | Ray drop-in replacements for common parallelism APIs, about the Ray community, etc. |\n",
    "| 04 | [Running Ray Clusters](04-Running-Ray-Clusters.ipynb) | How to run Ray in a clustered environment, submit your work to it, and integrate with your local development process. |"
   ]
  },
  {
   "cell_type": "markdown",
   "metadata": {},
   "source": [
    "In addition, exercise solutions for this tutorial can be found [here](solutions/solutions.ipynb)."
   ]
  }
 ],
 "metadata": {
  "kernelspec": {
   "display_name": "Python 3",
   "language": "python",
   "name": "python3"
  },
  "language_info": {
   "codemirror_mode": {
    "name": "ipython",
    "version": 3
   },
   "file_extension": ".py",
   "mimetype": "text/x-python",
   "name": "python",
   "nbconvert_exporter": "python",
   "pygments_lexer": "ipython3",
   "version": "3.7.6"
  }
 },
 "nbformat": 4,
 "nbformat_minor": 4
}
